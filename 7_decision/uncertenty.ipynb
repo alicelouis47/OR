{
 "cells": [
  {
   "cell_type": "markdown",
   "id": "de63494a",
   "metadata": {},
   "source": [
    "ค่าคาดหวัง"
   ]
  },
  {
   "cell_type": "code",
   "execution_count": 1,
   "id": "a31082ef",
   "metadata": {},
   "outputs": [
    {
     "name": "stdout",
     "output_type": "stream",
     "text": [
      "Demand\\Stock3    4    5    6    7    8    \n",
      "---------------------------------------------\n",
      "3           9    3    -3   -9   -15  -21  \n",
      "4           9    12   6    0    -6   -12  \n",
      "5           9    12   15   9    3    -3   \n",
      "6           9    12   15   18   12   6    \n",
      "7           9    12   15   18   21   15   \n",
      "8           9    12   15   18   21   24   \n"
     ]
    }
   ],
   "source": [
    "# --- ค่าคงที่จากโจทย์ ---\n",
    "PROFIT_PER_ITEM = 3\n",
    "LOSS_PER_UNSOLD_ITEM = 6\n",
    "\n",
    "# --- กำหนดช่วงของแถวและคอลัมน์ ---\n",
    "demand_levels = range(3, 9)  # แถว: ความต้องการสินค้า (3 ถึง 8)\n",
    "stock_levels = range(3, 9)   # คอลัมน์: การตัดสินใจสั่งซื้อ (3 ถึง 8)\n",
    "\n",
    "# --- พิมพ์ส่วนหัวของตาราง (Header) ---\n",
    "# พิมพ์เว้นว่างสำหรับมุมซ้ายบน\n",
    "print(f\"{'Demand\\\\Stock':<12}\", end=\"\") \n",
    "for stock in stock_levels:\n",
    "    print(f\"{stock:<5}\", end=\"\")\n",
    "print(\"\\n\" + \"-\" * 45) # พิมพ์เส้นคั่น\n",
    "\n",
    "# --- วนลูปเพื่อสร้างตาราง (Rows and Columns) ---\n",
    "for demand in demand_levels:\n",
    "    print(f\"{demand:<12}\", end=\"\") # พิมพ์หัวแถว (Demand)\n",
    "    \n",
    "    # วนลูปในแต่ละคอลัมน์ (Stock) เพื่อคำนวณ Payoff\n",
    "    for stock in stock_levels:\n",
    "        \n",
    "        # ตรรกะสำคัญในการคำนวณ Payoff\n",
    "        sold_normal = min(demand, stock)\n",
    "        sold_reduced = max(0, stock - demand)\n",
    "        \n",
    "        payoff = (sold_normal * PROFIT_PER_ITEM) - (sold_reduced * LOSS_PER_UNSOLD_ITEM)\n",
    "        \n",
    "        print(f\"{payoff:<5}\", end=\"\") # พิมพ์ค่า Payoff\n",
    "    \n",
    "    print() # ขึ้นบรรทัดใหม่เมื่อจบแถว"
   ]
  },
  {
   "cell_type": "code",
   "execution_count": 2,
   "id": "8e9cca2d",
   "metadata": {},
   "outputs": [
    {
     "name": "stdout",
     "output_type": "stream",
     "text": [
      "การตัดสินใจสั่งซื้อ (Stock)  3   4   5   6   7   8\n",
      "ความต้องการสินค้า (Demand)                        \n",
      "3                            9   3  -3  -9 -15 -21\n",
      "4                            9  12   6   0  -6 -12\n",
      "5                            9  12  15   9   3  -3\n",
      "6                            9  12  15  18  12   6\n",
      "7                            9  12  15  18  21  15\n",
      "8                            9  12  15  18  21  24\n"
     ]
    }
   ],
   "source": [
    "import pandas as pd\n",
    "\n",
    "# --- ค่าคงที่ ---\n",
    "PROFIT_PER_ITEM = 3\n",
    "LOSS_PER_UNSOLD_ITEM = 6\n",
    "\n",
    "# --- กำหนดช่วงของแถวและคอลัมน์ ---\n",
    "demand_levels = list(range(3, 9))  # 3, 4, 5, 6, 7, 8\n",
    "stock_levels = list(range(3, 9))   # 3, 4, 5, 6, 7, 8\n",
    "\n",
    "# --- สร้างข้อมูลสำหรับตาราง (List of Lists) ---\n",
    "payoff_data = []\n",
    "for demand in demand_levels:\n",
    "    row = []\n",
    "    for stock in stock_levels:\n",
    "        # ตรรกะเดียวกัน\n",
    "        sold_normal = min(demand, stock)\n",
    "        sold_reduced = max(0, stock - demand)\n",
    "        payoff = (sold_normal * PROFIT_PER_ITEM) - (sold_reduced * LOSS_PER_UNSOLD_ITEM)\n",
    "        row.append(payoff)\n",
    "    payoff_data.append(row)\n",
    "\n",
    "# --- สร้าง DataFrame ด้วย pandas ---\n",
    "# index คือชื่อแถว, columns คือชื่อคอลัมน์\n",
    "df = pd.DataFrame(payoff_data, index=demand_levels, columns=stock_levels)\n",
    "\n",
    "# --- ตั้งชื่อแกน (Axis Names) ---\n",
    "df.index.name = \"ความต้องการสินค้า (Demand)\"\n",
    "df.columns.name = \"การตัดสินใจสั่งซื้อ (Stock)\"\n",
    "\n",
    "# --- พิมพ์ตาราง ---\n",
    "print(df)"
   ]
  },
  {
   "cell_type": "markdown",
   "id": "aa1715eb",
   "metadata": {},
   "source": [
    "ค่าเสียโอกาส"
   ]
  },
  {
   "cell_type": "code",
   "execution_count": 3,
   "id": "e6604d53",
   "metadata": {},
   "outputs": [
    {
     "name": "stdout",
     "output_type": "stream",
     "text": [
      "Demand\\Stock3    4    5    6    7    8    \n",
      "---------------------------------------------\n",
      "3           0    6    12   18   24   30   \n",
      "4           3    0    6    12   18   24   \n",
      "5           6    3    0    6    12   18   \n",
      "6           9    6    3    0    6    12   \n",
      "7           12   9    6    3    0    6    \n",
      "8           15   12   9    6    3    0    \n"
     ]
    }
   ],
   "source": [
    "# --- ค่าคงที่จากโจทย์ ---\n",
    "PROFIT_PER_ITEM = 3  # ค่าเสียโอกาส เมื่อของขาด (Understock)\n",
    "LOSS_PER_UNSOLD_ITEM = 6 # ค่าเสียโอกาส เมื่อของเหลือ (Overstock)\n",
    "\n",
    "# --- กำหนดช่วงของแถวและคอลัมน์ ---\n",
    "demand_levels = range(3, 9)  # แถว: ความต้องการสินค้า (3 ถึง 8)\n",
    "stock_levels = range(3, 9)   # คอลัมน์: การตัดสินใจสั่งซื้อ (3 ถึง 8)\n",
    "\n",
    "# --- พิมพ์ส่วนหัวของตาราง (Header) ---\n",
    "print(f\"{'Demand\\\\Stock':<12}\", end=\"\") \n",
    "for stock in stock_levels:\n",
    "    print(f\"{stock:<5}\", end=\"\")\n",
    "print(\"\\n\" + \"-\" * 45) # พิมพ์เส้นคั่น\n",
    "\n",
    "# --- วนลูปเพื่อสร้างตาราง ---\n",
    "for demand in demand_levels:\n",
    "    print(f\"{demand:<12}\", end=\"\") # พิมพ์หัวแถว (Demand)\n",
    "    \n",
    "    # วนลูปในแต่ละคอลัมน์ (Stock) เพื่อคำนวณ OL\n",
    "    for stock in stock_levels:\n",
    "        \n",
    "        opportunity_loss = 0\n",
    "        if demand > stock:\n",
    "            # กรณีที่ 1: สั่งน้อยไป (Understock) -> เสียโอกาสกำไร\n",
    "            opportunity_loss = (demand - stock) * PROFIT_PER_ITEM\n",
    "        elif stock > demand:\n",
    "            # กรณีที่ 2: สั่งมากไป (Overstock) -> เกิดต้นทุนจม (ขาดทุน)\n",
    "            opportunity_loss = (stock - demand) * LOSS_PER_UNSOLD_ITEM\n",
    "        # else: (กรณีที่ stock == demand) opportunity_loss = 0 (ตามค่าเริ่มต้น)\n",
    "            \n",
    "        print(f\"{opportunity_loss:<5}\", end=\"\") # พิมพ์ค่า OL\n",
    "    \n",
    "    print() # ขึ้นบรรทัดใหม่เมื่อจบแถว"
   ]
  },
  {
   "cell_type": "code",
   "execution_count": 4,
   "id": "107c5edc",
   "metadata": {},
   "outputs": [
    {
     "name": "stdout",
     "output_type": "stream",
     "text": [
      "การตัดสินใจสั่งซื้อ (Stock)   3   4   5   6   7   8\n",
      "ความต้องการสินค้า (Demand)                         \n",
      "3                             0   6  12  18  24  30\n",
      "4                             3   0   6  12  18  24\n",
      "5                             6   3   0   6  12  18\n",
      "6                             9   6   3   0   6  12\n",
      "7                            12   9   6   3   0   6\n",
      "8                            15  12   9   6   3   0\n"
     ]
    }
   ],
   "source": [
    "import pandas as pd\n",
    "\n",
    "# --- ค่าคงที่ ---\n",
    "PROFIT_PER_ITEM = 3\n",
    "LOSS_PER_UNSOLD_ITEM = 6\n",
    "\n",
    "# --- กำหนดช่วงของแถวและคอลัมน์ ---\n",
    "demand_levels = list(range(3, 9))  # 3, 4, 5, 6, 7, 8\n",
    "stock_levels = list(range(3, 9))   # 3, 4, 5, 6, 7, 8\n",
    "\n",
    "# --- สร้างข้อมูลสำหรับตาราง (List of Lists) ---\n",
    "loss_data = []\n",
    "for demand in demand_levels:\n",
    "    row = []\n",
    "    for stock in stock_levels:\n",
    "        \n",
    "        opportunity_loss = 0\n",
    "        if demand > stock:\n",
    "            # กรณีที่ 1: สั่งน้อยไป (Understock)\n",
    "            opportunity_loss = (demand - stock) * PROFIT_PER_ITEM\n",
    "        elif stock > demand:\n",
    "            # กรณีที่ 2: สั่งมากไป (Overstock)\n",
    "            opportunity_loss = (stock - demand) * LOSS_PER_UNSOLD_ITEM\n",
    "            \n",
    "        row.append(opportunity_loss)\n",
    "    loss_data.append(row)\n",
    "\n",
    "# --- สร้าง DataFrame ด้วย pandas ---\n",
    "df_loss = pd.DataFrame(loss_data, index=demand_levels, columns=stock_levels)\n",
    "\n",
    "# --- ตั้งชื่อแกน (Axis Names) ---\n",
    "df_loss.index.name = \"ความต้องการสินค้า (Demand)\"\n",
    "df_loss.columns.name = \"การตัดสินใจสั่งซื้อ (Stock)\"\n",
    "\n",
    "# --- พิมพ์ตาราง ---\n",
    "print(df_loss)"
   ]
  },
  {
   "cell_type": "markdown",
   "id": "c09e4c92",
   "metadata": {},
   "source": [
    "เครื่องจักร"
   ]
  },
  {
   "cell_type": "code",
   "execution_count": 1,
   "id": "697a98d4",
   "metadata": {},
   "outputs": [
    {
     "name": "stdout",
     "output_type": "stream",
     "text": [
      "--- 1. ความน่าจะเป็นของความต้องการรวม 2 สัปดาห์ ---\n",
      "P(Demand=2) = 0.36\n",
      "P(Demand=3) = 0.48\n",
      "P(Demand=4) = 0.16\n",
      "\n",
      "--- 2. ตารางผลตอบแทน (Payoff Table) และ EMV ---\n",
      "\n",
      "[ทางเลือก: สั่ง Q = 2, ต้นทุน = 120,000 บาท]\n",
      "  ถ้าความต้องการ D_T = 2 (P=0.36): กำไร = 80,000 บาท\n",
      "  ถ้าความต้องการ D_T = 3 (P=0.48): กำไร = 80,000 บาท\n",
      "  ถ้าความต้องการ D_T = 4 (P=0.16): กำไร = 80,000 บาท\n",
      "  ==> ค่าคาดหวัง (EMV) = 80,000.00 บาท\n",
      "\n",
      "[ทางเลือก: สั่ง Q = 3, ต้นทุน = 170,000 บาท]\n",
      "  ถ้าความต้องการ D_T = 2 (P=0.36): กำไร = 30,000 บาท\n",
      "  ถ้าความต้องการ D_T = 3 (P=0.48): กำไร = 130,000 บาท\n",
      "  ถ้าความต้องการ D_T = 4 (P=0.16): กำไร = 130,000 บาท\n",
      "  ==> ค่าคาดหวัง (EMV) = 94,000.00 บาท\n",
      "\n",
      "[ทางเลือก: สั่ง Q = 4, ต้นทุน = 190,000 บาท]\n",
      "  ถ้าความต้องการ D_T = 2 (P=0.36): กำไร = 10,000 บาท\n",
      "  ถ้าความต้องการ D_T = 3 (P=0.48): กำไร = 110,000 บาท\n",
      "  ถ้าความต้องการ D_T = 4 (P=0.16): กำไร = 210,000 บาท\n",
      "  ==> ค่าคาดหวัง (EMV) = 90,000.00 บาท\n",
      "\n",
      "========================================\n",
      "สรุปคำตอบข้อ 1: บริษัทควรสั่งเครื่องจักรกี่เครื่อง\n",
      "EMV สูงสุดคือ 94,000.00 บาท\n",
      "ดังนั้น บริษัทควรสั่งเครื่องจักร 3 เครื่อง\n",
      "========================================\n",
      "\n",
      "--- 3. การคำนวณค่าของข้อมูลข่าวสารสมบูรณ์ (EVPI) ---\n",
      "...กำลังคำนวณ EPPI (กำไรคาดหวังเมื่อมีข้อมูลสมบูรณ์)...\n",
      "  ถ้ารู้ว่า Demand=2 (P=0.36): กำไรดีที่สุด = 80,000\n",
      "  ถ้ารู้ว่า Demand=3 (P=0.48): กำไรดีที่สุด = 130,000\n",
      "  ถ้ารู้ว่า Demand=4 (P=0.16): กำไรดีที่สุด = 210,000\n",
      "\n",
      "EPPI (กำไรคาดหวังเมื่อมีข้อมูลสมบูรณ์) = 124,800.00 บาท\n",
      "EMV max (กำไรคาดหวังที่ไม่มีข้อมูล) = 94,000.00 บาท\n",
      "\n",
      "========================================\n",
      "สรุปคำตอบข้อ 2: ค่าของข้อมูลข่าวสารสมบูรณ์ (EVPI)\n",
      "EVPI = EPPI - EMV_max\n",
      "EVPI = 124,800.00 - 94,000.00 = 30,800.00 บาท\n",
      "========================================\n"
     ]
    }
   ],
   "source": [
    "import numpy as np\n",
    "\n",
    "# --- 1. ตั้งค่าพารามิเตอร์ (Set Parameters) ---\n",
    "selling_price = 100000\n",
    "\n",
    "# โครงสร้างต้นทุน C(Q)\n",
    "# (ตั้งสมมติฐานว่า C(2) = 2 * 60,000)\n",
    "costs = {\n",
    "    1: 60000,\n",
    "    2: 120000, \n",
    "    3: 170000,\n",
    "    4: 190000\n",
    "}\n",
    "\n",
    "# ความน่าจะเป็นของความต้องการใน 1 สัปดาห์\n",
    "p_demand_1_week = 0.6\n",
    "p_demand_2_week = 0.4\n",
    "\n",
    "# --- 2. คำนวณความน่าจะเป็นของความต้องการรวม 2 สัปดาห์ (Total Demand Probabilities) ---\n",
    "\n",
    "# D_T = 2 (1+1)\n",
    "p_total_2 = p_demand_1_week * p_demand_1_week\n",
    "# D_T = 3 (1+2 or 2+1)\n",
    "p_total_3 = (p_demand_1_week * p_demand_2_week) + (p_demand_2_week * p_demand_1_week)\n",
    "# D_T = 4 (2+2)\n",
    "p_total_4 = p_demand_2_week * p_demand_2_week\n",
    "\n",
    "# จัดเก็บใน Dictionary\n",
    "demand_probs = {\n",
    "    2: p_total_2, # 0.36\n",
    "    3: p_total_3, # 0.48\n",
    "    4: p_total_4  # 0.16\n",
    "}\n",
    "\n",
    "print(\"--- 1. ความน่าจะเป็นของความต้องการรวม 2 สัปดาห์ ---\")\n",
    "for demand, prob in demand_probs.items():\n",
    "    print(f\"P(Demand={demand}) = {prob:.2f}\")\n",
    "\n",
    "# --- 3. สร้างตาราง Payoff และคำนวณ EMV ---\n",
    "\n",
    "# ทางเลือกที่จะประเมิน (Actions to evaluate: Q)\n",
    "actions_Q = [2, 3, 4] \n",
    "# สถานการณ์ที่จะเกิด (States of nature: D_T)\n",
    "states_D_T = [2, 3, 4]\n",
    "\n",
    "payoff_table = {}\n",
    "emv_results = {}\n",
    "\n",
    "print(\"\\n--- 2. ตารางผลตอบแทน (Payoff Table) และ EMV ---\")\n",
    "\n",
    "for Q in actions_Q:\n",
    "    payoff_table[Q] = {}\n",
    "    emv = 0\n",
    "    print(f\"\\n[ทางเลือก: สั่ง Q = {Q}, ต้นทุน = {costs[Q]:,d} บาท]\")\n",
    "    \n",
    "    for D_T in states_D_T:\n",
    "        prob = demand_probs[D_T]\n",
    "        order_cost = costs[Q]\n",
    "        \n",
    "        # คำนวณกำไร: Profit = (Revenue) - (Cost)\n",
    "        sales_units = min(Q, D_T)\n",
    "        revenue = sales_units * selling_price\n",
    "        profit = revenue - order_cost\n",
    "        \n",
    "        # บันทึกกำไรลงตาราง\n",
    "        payoff_table[Q][D_T] = profit\n",
    "        \n",
    "        # สะสมค่า EMV\n",
    "        emv += profit * prob\n",
    "        \n",
    "        print(f\"  ถ้าความต้องการ D_T = {D_T} (P={prob:.2f}): กำไร = {profit:,.0f} บาท\")\n",
    "        \n",
    "    emv_results[Q] = emv\n",
    "    print(f\"  ==> ค่าคาดหวัง (EMV) = {emv:,.2f} บาท\")\n",
    "\n",
    "# --- 4. สรุปคำตอบข้อ 1 ---\n",
    "best_action = max(emv_results, key=emv_results.get)\n",
    "max_emv = emv_results[best_action]\n",
    "\n",
    "print(\"\\n\" + \"=\"*40)\n",
    "print(f\"สรุปคำตอบข้อ 1: บริษัทควรสั่งเครื่องจักรกี่เครื่อง\")\n",
    "print(f\"EMV สูงสุดคือ {max_emv:,.2f} บาท\")\n",
    "print(f\"ดังนั้น บริษัทควรสั่งเครื่องจักร {best_action} เครื่อง\")\n",
    "print(\"=\"*40)\n",
    "\n",
    "# --- 5. คำนวณ EVPI (ค่าของข้อมูลสมบูรณ์) ---\n",
    "\n",
    "eppi = 0 # Expected Profit with Perfect Information\n",
    "\n",
    "print(\"\\n--- 3. การคำนวณค่าของข้อมูลข่าวสารสมบูรณ์ (EVPI) ---\")\n",
    "print(\"...กำลังคำนวณ EPPI (กำไรคาดหวังเมื่อมีข้อมูลสมบูรณ์)...\")\n",
    "\n",
    "for D_T in states_D_T:\n",
    "    prob = demand_probs[D_T]\n",
    "    \n",
    "    # หากำไรที่ดีที่สุดสำหรับ Demand นั้นๆ\n",
    "    # (โดยการเช็คว่าถ้าเรารู้ D_T ล่วงหน้า เราจะเลือก Q ไหน)\n",
    "    best_profit_for_this_demand = -float('inf')\n",
    "    for Q in actions_Q:\n",
    "        profit = payoff_table[Q][D_T]\n",
    "        if profit > best_profit_for_this_demand:\n",
    "            best_profit_for_this_demand = profit\n",
    "            \n",
    "    print(f\"  ถ้ารู้ว่า Demand={D_T} (P={prob:.2f}): กำไรดีที่สุด = {best_profit_for_this_demand:,.0f}\")\n",
    "    \n",
    "    # สะสมค่า EPPI\n",
    "    eppi += best_profit_for_this_demand * prob\n",
    "\n",
    "print(f\"\\nEPPI (กำไรคาดหวังเมื่อมีข้อมูลสมบูรณ์) = {eppi:,.2f} บาท\")\n",
    "print(f\"EMV max (กำไรคาดหวังที่ไม่มีข้อมูล) = {max_emv:,.2f} บาท\")\n",
    "\n",
    "# EVPI = EPPI - max_EMV\n",
    "evpi = eppi - max_emv\n",
    "\n",
    "print(\"\\n\" + \"=\"*40)\n",
    "print(f\"สรุปคำตอบข้อ 2: ค่าของข้อมูลข่าวสารสมบูรณ์ (EVPI)\")\n",
    "print(f\"EVPI = EPPI - EMV_max\")\n",
    "print(f\"EVPI = {eppi:,.2f} - {max_emv:,.2f} = {evpi:,.2f} บาท\")\n",
    "print(\"=\"*40)"
   ]
  },
  {
   "cell_type": "markdown",
   "id": "97b0eb06",
   "metadata": {},
   "source": [
    "Decision Tree"
   ]
  },
  {
   "cell_type": "code",
   "execution_count": 3,
   "id": "6ab8be7b",
   "metadata": {},
   "outputs": [
    {
     "name": "stdout",
     "output_type": "stream",
     "text": [
      "Collecting graphviz\n",
      "  Downloading graphviz-0.21-py3-none-any.whl.metadata (12 kB)\n",
      "Downloading graphviz-0.21-py3-none-any.whl (47 kB)\n",
      "Installing collected packages: graphviz\n",
      "Successfully installed graphviz-0.21\n"
     ]
    },
    {
     "name": "stderr",
     "output_type": "stream",
     "text": [
      "\n",
      "[notice] A new release of pip is available: 25.1.1 -> 25.3\n",
      "[notice] To update, run: python.exe -m pip install --upgrade pip\n"
     ]
    }
   ],
   "source": [
    "!pip install graphviz"
   ]
  },
  {
   "cell_type": "code",
   "execution_count": 2,
   "id": "e19e5e15",
   "metadata": {},
   "outputs": [
    {
     "name": "stdout",
     "output_type": "stream",
     "text": [
      "EMV (A1: ผลิต 25 ชิ้น) = 3200\n",
      "EMV (A2: ผลิต 75 ชิ้น) = 4000\n",
      "สรุป: เลือก A2 เพราะมี EMV สูงกว่า (4000)\n"
     ]
    }
   ],
   "source": [
    "# ข้อมูลจากตาราง\n",
    "prob_hd = 0.6\n",
    "prob_ld = 0.4\n",
    "\n",
    "payoff_a1_hd = 4000\n",
    "payoff_a1_ld = 2000\n",
    "\n",
    "payoff_a2_hd = 10000\n",
    "payoff_a2_ld = -5000\n",
    "\n",
    "# คำนวณ EMV สำหรับ A1\n",
    "emv_a1 = (payoff_a1_hd * prob_hd) + (payoff_a1_ld * prob_ld)\n",
    "\n",
    "# คำนวณ EMV สำหรับ A2\n",
    "emv_a2 = (payoff_a2_hd * prob_hd) + (payoff_a2_ld * prob_ld)\n",
    "\n",
    "print(f\"EMV (A1: ผลิต 25 ชิ้น) = {emv_a1:.0f}\")\n",
    "print(f\"EMV (A2: ผลิต 75 ชิ้น) = {emv_a2:.0f}\")\n",
    "\n",
    "if emv_a2 > emv_a1:\n",
    "    print(f\"สรุป: เลือก A2 เพราะมี EMV สูงกว่า ({emv_a2:.0f})\")\n",
    "else:\n",
    "    print(f\"สรุป: เลือก A1 เพราะมี EMV สูงกว่า ({emv_a1:.0f})\")"
   ]
  },
  {
   "cell_type": "code",
   "execution_count": 1,
   "id": "be8cc412",
   "metadata": {},
   "outputs": [],
   "source": [
    "import pandas as pd\n",
    "import numpy as np\n",
    "\n",
    "# ตั้งค่าการแสดงผลของ pandas ให้สวยงาม (ทศนิยม 2 ตำแหน่ง)\n",
    "pd.set_option('display.precision', 2)"
   ]
  },
  {
   "cell_type": "code",
   "execution_count": 13,
   "id": "ab551522",
   "metadata": {},
   "outputs": [
    {
     "name": "stdout",
     "output_type": "stream",
     "text": [
      "ตารางผลตอบแทน (Payoff Matrix):\n"
     ]
    },
    {
     "data": {
      "text/html": [
       "<div>\n",
       "<style scoped>\n",
       "    .dataframe tbody tr th:only-of-type {\n",
       "        vertical-align: middle;\n",
       "    }\n",
       "\n",
       "    .dataframe tbody tr th {\n",
       "        vertical-align: top;\n",
       "    }\n",
       "\n",
       "    .dataframe thead th {\n",
       "        text-align: right;\n",
       "    }\n",
       "</style>\n",
       "<table border=\"1\" class=\"dataframe\">\n",
       "  <thead>\n",
       "    <tr style=\"text-align: right;\">\n",
       "      <th></th>\n",
       "      <th>S1</th>\n",
       "      <th>S2</th>\n",
       "      <th>S3</th>\n",
       "    </tr>\n",
       "  </thead>\n",
       "  <tbody>\n",
       "    <tr>\n",
       "      <th>A1</th>\n",
       "      <td>3</td>\n",
       "      <td>3</td>\n",
       "      <td>3</td>\n",
       "    </tr>\n",
       "    <tr>\n",
       "      <th>A2</th>\n",
       "      <td>1</td>\n",
       "      <td>6</td>\n",
       "      <td>6</td>\n",
       "    </tr>\n",
       "    <tr>\n",
       "      <th>A3</th>\n",
       "      <td>-1</td>\n",
       "      <td>4</td>\n",
       "      <td>9</td>\n",
       "    </tr>\n",
       "  </tbody>\n",
       "</table>\n",
       "</div>"
      ],
      "text/plain": [
       "    S1  S2  S3\n",
       "A1   3   3   3\n",
       "A2   1   6   6\n",
       "A3  -1   4   9"
      ]
     },
     "execution_count": 13,
     "metadata": {},
     "output_type": "execute_result"
    }
   ],
   "source": [
    "# สร้างข้อมูลดิบ (ตัวเลขสมมติ)\n",
    "data = {\n",
    "    'S1': [3, \n",
    "           1, \n",
    "           -1],  # ผลตอบแทนเมื่อเกิดสภาวะ S1\n",
    "    'S2': [3, \n",
    "           6, \n",
    "           4],  # ผลตอบแทนเมื่อเกิดสภาวะ S2\n",
    "    'S3': [3, \n",
    "           6, \n",
    "           9] # ผลตอบแทนเมื่อเกิดสภาวะ S3\n",
    "}\n",
    "\n",
    "# สร้าง DataFrame โดยมี Index เป็นทางเลือก\n",
    "alternatives = ['A1', 'A2', 'A3']\n",
    "payoff_df = pd.DataFrame(data, index=alternatives)\n",
    "\n",
    "# แสดงตารางผลตอบแทน\n",
    "print(\"ตารางผลตอบแทน (Payoff Matrix):\")\n",
    "payoff_df"
   ]
  },
  {
   "cell_type": "markdown",
   "id": "00b88315",
   "metadata": {},
   "source": [
    "# เกณฑ์แมกซิแมกซ์ (Maximax Criterion)"
   ]
  },
  {
   "cell_type": "code",
   "execution_count": 14,
   "id": "da6d2cf1",
   "metadata": {},
   "outputs": [
    {
     "name": "stdout",
     "output_type": "stream",
     "text": [
      "--- 1. เกณฑ์ Maximax ---\n",
      "ค่าสูงสุดของแต่ละทางเลือก:\n",
      "A1    3\n",
      "A2    6\n",
      "A3    9\n",
      "dtype: int64\n",
      "\n",
      "\n",
      "ค่า Maximax (ดีที่สุดของที่ดีที่สุด): 9\n",
      "✅ ตัดสินใจเลือก: A3\n"
     ]
    }
   ],
   "source": [
    "print(\"--- 1. เกณฑ์ Maximax ---\")\n",
    "\n",
    "# 1. หาค่าสูงสุดของแต่ละทางเลือก (แต่ละแถว)\n",
    "max_per_alternative = payoff_df.max(axis=1) # axis=1 คือการดำเนินการตามแนวนอน (แถว)\n",
    "print(\"ค่าสูงสุดของแต่ละทางเลือก:\")\n",
    "print(max_per_alternative)\n",
    "print(\"\\n\")\n",
    "\n",
    "# 2. หาค่าสูงสุดจากค่าที่ได้\n",
    "maximax_value = max_per_alternative.max()\n",
    "maximax_decision = max_per_alternative.idxmax() # idxmax() ใช้หา index (ชื่อแถว) ที่มีค่าสูงสุด\n",
    "\n",
    "print(f\"ค่า Maximax (ดีที่สุดของที่ดีที่สุด): {maximax_value}\")\n",
    "print(f\"✅ ตัดสินใจเลือก: {maximax_decision}\")"
   ]
  },
  {
   "cell_type": "markdown",
   "id": "b64b67d3",
   "metadata": {},
   "source": [
    "# เกณฑ์แมกซิมิน (Maximin Criterion)"
   ]
  },
  {
   "cell_type": "code",
   "execution_count": 15,
   "id": "6809022c",
   "metadata": {},
   "outputs": [
    {
     "name": "stdout",
     "output_type": "stream",
     "text": [
      "--- 2. เกณฑ์ Maximin ---\n",
      "ค่าต่ำสุด (แย่ที่สุด) ของแต่ละทางเลือก:\n",
      "A1    3\n",
      "A2    1\n",
      "A3   -1\n",
      "dtype: int64\n",
      "\n",
      "\n",
      "ค่า Maximin (ดีที่สุดของที่แย่ที่สุด): 3\n",
      "✅ ตัดสินใจเลือก: A1\n"
     ]
    }
   ],
   "source": [
    "print(\"--- 2. เกณฑ์ Maximin ---\")\n",
    "\n",
    "# 1. หาค่าต่ำสุดของแต่ละทางเลือก (แต่ละแถว)\n",
    "min_per_alternative = payoff_df.min(axis=1)\n",
    "print(\"ค่าต่ำสุด (แย่ที่สุด) ของแต่ละทางเลือก:\")\n",
    "print(min_per_alternative)\n",
    "print(\"\\n\")\n",
    "\n",
    "# 2. หาค่าสูงสุดจากค่าที่ได้\n",
    "maximin_value = min_per_alternative.max()\n",
    "maximin_decision = min_per_alternative.idxmax()\n",
    "\n",
    "print(f\"ค่า Maximin (ดีที่สุดของที่แย่ที่สุด): {maximin_value}\")\n",
    "print(f\"✅ ตัดสินใจเลือก: {maximin_decision}\")"
   ]
  },
  {
   "cell_type": "markdown",
   "id": "fddd0dd2",
   "metadata": {},
   "source": [
    "# เกณฑ์มินิแมกซ์รีกเรท (Minimax Regret Criterion)"
   ]
  },
  {
   "cell_type": "code",
   "execution_count": 16,
   "id": "a67b9382",
   "metadata": {},
   "outputs": [
    {
     "name": "stdout",
     "output_type": "stream",
     "text": [
      "--- 3. เกณฑ์ Minimax Regret ---\n",
      "ค่าสูงสุดของแต่ละสภาวะ (S1, S2, S3):\n",
      "S1    3\n",
      "S2    6\n",
      "S3    9\n",
      "dtype: int64\n",
      "\n",
      "\n",
      "ตารางความเสียดาย (Regret Matrix):\n",
      "    S1  S2  S3\n",
      "A1   0   3   6\n",
      "A2   2   0   3\n",
      "A3   4   2   0\n",
      "\n",
      "\n",
      "ค่าความเสียดายสูงสุดของแต่ละทางเลือก:\n",
      "A1    6\n",
      "A2    3\n",
      "A3    4\n",
      "dtype: int64\n",
      "\n",
      "\n",
      "ค่า Minimax Regret (ค่าเสียดายที่น้อยที่สุด): 3\n",
      "✅ ตัดสินใจเลือก: A2\n"
     ]
    }
   ],
   "source": [
    "print(\"--- 3. เกณฑ์ Minimax Regret ---\")\n",
    "\n",
    "# 1. สร้างตารางความเสียดาย (Regret Matrix)\n",
    "# 1.1 หาค่าสูงสุดของแต่ละสภาวะ (แต่ละคอลัมน์)\n",
    "max_per_state = payoff_df.max(axis=0) # axis=0 คือการดำเนินการตามแนวตั้ง (คอลัมน์)\n",
    "print(\"ค่าสูงสุดของแต่ละสภาวะ (S1, S2, S3):\")\n",
    "print(max_per_state)\n",
    "print(\"\\n\")\n",
    "\n",
    "# 1.2 สร้างตาราง Regret โดยเอา (ค่าสูงสุดของคอลัมน์ - ค่าในตารางเดิม)\n",
    "regret_df = max_per_state - payoff_df\n",
    "print(\"ตารางความเสียดาย (Regret Matrix):\")\n",
    "print(regret_df)\n",
    "print(\"\\n\")\n",
    "\n",
    "# 2. หาค่าความเสียดายสูงสุด (Max Regret) ของแต่ละทางเลือก\n",
    "max_regret_per_alternative = regret_df.max(axis=1)\n",
    "print(\"ค่าความเสียดายสูงสุดของแต่ละทางเลือก:\")\n",
    "print(max_regret_per_alternative)\n",
    "print(\"\\n\")\n",
    "\n",
    "# 3. หาค่าต่ำสุดจากค่าที่ได้\n",
    "minimax_regret_value = max_regret_per_alternative.min()\n",
    "minimax_regret_decision = max_regret_per_alternative.idxmin() # idxmin() ใช้หา index ที่มีค่าต่ำสุด\n",
    "\n",
    "print(f\"ค่า Minimax Regret (ค่าเสียดายที่น้อยที่สุด): {minimax_regret_value}\")\n",
    "print(f\"✅ ตัดสินใจเลือก: {minimax_regret_decision}\")"
   ]
  },
  {
   "cell_type": "markdown",
   "id": "28583738",
   "metadata": {},
   "source": [
    "# เกณฑ์เฮอร์วิกซ์ (Hurwicz Criterion)"
   ]
  },
  {
   "cell_type": "code",
   "execution_count": 17,
   "id": "4e53dff5",
   "metadata": {},
   "outputs": [
    {
     "name": "stdout",
     "output_type": "stream",
     "text": [
      "--- 4. เกณฑ์ Hurwicz ---\n",
      "กำหนดค่า Alpha (α) = 0.7\n",
      "ดังนั้น 1 - α = 0.30\n",
      "\n",
      "\n",
      "ค่าถ่วงน้ำหนัก Hurwicz ของแต่ละทางเลือก:\n",
      "A1    3.0\n",
      "A2    4.5\n",
      "A3    6.0\n",
      "dtype: float64\n",
      "\n",
      "\n",
      "ค่า Hurwicz สูงสุด: 6.00\n",
      "✅ ตัดสินใจเลือก: A3\n"
     ]
    }
   ],
   "source": [
    "print(\"--- 4. เกณฑ์ Hurwicz ---\")\n",
    "\n",
    "# 1. กำหนดค่า alpha (สัมประสิทธิ์การมองโลกในแง่ดี)\n",
    "# คุณสามารถเปลี่ยนค่านี้ได้ (ต้องอยู่ระหว่าง 0.0 ถึง 1.0)\n",
    "alpha = 0.7\n",
    "print(f\"กำหนดค่า Alpha (α) = {alpha}\")\n",
    "print(f\"ดังนั้น 1 - α = {1-alpha:.2f}\")\n",
    "print(\"\\n\")\n",
    "\n",
    "# 2. หาค่า Max และ Min ของแต่ละทางเลือก\n",
    "max_values = payoff_df.max(axis=1)\n",
    "min_values = payoff_df.min(axis=1)\n",
    "\n",
    "# 3. คำนวณค่า Hurwicz\n",
    "hurwicz_values = (max_values * alpha) + (min_values * (1 - alpha))\n",
    "print(\"ค่าถ่วงน้ำหนัก Hurwicz ของแต่ละทางเลือก:\")\n",
    "print(hurwicz_values)\n",
    "print(\"\\n\")\n",
    "\n",
    "# 4. หาค่าสูงสุดจากค่าที่ได้\n",
    "hurwicz_value = hurwicz_values.max()\n",
    "hurwicz_decision = hurwicz_values.idxmax()\n",
    "\n",
    "print(f\"ค่า Hurwicz สูงสุด: {hurwicz_value:.2f}\")\n",
    "print(f\"✅ ตัดสินใจเลือก: {hurwicz_decision}\")"
   ]
  },
  {
   "cell_type": "markdown",
   "id": "a0dacbaa",
   "metadata": {},
   "source": [
    "# เกณฑ์ลาปลาซ (Laplace Criterion)"
   ]
  },
  {
   "cell_type": "code",
   "execution_count": 18,
   "id": "674768a4",
   "metadata": {},
   "outputs": [
    {
     "name": "stdout",
     "output_type": "stream",
     "text": [
      "--- 5. เกณฑ์ Laplace ---\n",
      "ค่าเฉลี่ยของแต่ละทางเลือก:\n",
      "A1    3.00\n",
      "A2    4.33\n",
      "A3    4.00\n",
      "dtype: float64\n",
      "\n",
      "\n",
      "ค่า Laplace (ค่าเฉลี่ยสูงสุด): 4.33\n",
      "✅ ตัดสินใจเลือก: A2\n"
     ]
    }
   ],
   "source": [
    "print(\"--- 5. เกณฑ์ Laplace ---\")\n",
    "\n",
    "# 1. คำนวณค่าเฉลี่ยของแต่ละทางเลือก (แต่ละแถว)\n",
    "laplace_values = payoff_df.mean(axis=1)\n",
    "print(\"ค่าเฉลี่ยของแต่ละทางเลือก:\")\n",
    "print(laplace_values)\n",
    "print(\"\\n\")\n",
    "\n",
    "# 2. หาค่าเฉลี่ยสูงสุด\n",
    "laplace_value = laplace_values.max()\n",
    "laplace_decision = laplace_values.idxmax()\n",
    "\n",
    "print(f\"ค่า Laplace (ค่าเฉลี่ยสูงสุด): {laplace_value:.2f}\")\n",
    "print(f\"✅ ตัดสินใจเลือก: {laplace_decision}\")"
   ]
  }
 ],
 "metadata": {
  "kernelspec": {
   "display_name": "Python 3",
   "language": "python",
   "name": "python3"
  },
  "language_info": {
   "codemirror_mode": {
    "name": "ipython",
    "version": 3
   },
   "file_extension": ".py",
   "mimetype": "text/x-python",
   "name": "python",
   "nbconvert_exporter": "python",
   "pygments_lexer": "ipython3",
   "version": "3.13.5"
  }
 },
 "nbformat": 4,
 "nbformat_minor": 5
}
