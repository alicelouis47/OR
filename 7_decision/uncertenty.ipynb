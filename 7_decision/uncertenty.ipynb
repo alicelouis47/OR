{
 "cells": [
  {
   "cell_type": "code",
   "execution_count": 1,
   "id": "be8cc412",
   "metadata": {},
   "outputs": [],
   "source": [
    "import pandas as pd\n",
    "import numpy as np\n",
    "\n",
    "# ตั้งค่าการแสดงผลของ pandas ให้สวยงาม (ทศนิยม 2 ตำแหน่ง)\n",
    "pd.set_option('display.precision', 2)"
   ]
  },
  {
   "cell_type": "code",
   "execution_count": 13,
   "id": "ab551522",
   "metadata": {},
   "outputs": [
    {
     "name": "stdout",
     "output_type": "stream",
     "text": [
      "ตารางผลตอบแทน (Payoff Matrix):\n"
     ]
    },
    {
     "data": {
      "text/html": [
       "<div>\n",
       "<style scoped>\n",
       "    .dataframe tbody tr th:only-of-type {\n",
       "        vertical-align: middle;\n",
       "    }\n",
       "\n",
       "    .dataframe tbody tr th {\n",
       "        vertical-align: top;\n",
       "    }\n",
       "\n",
       "    .dataframe thead th {\n",
       "        text-align: right;\n",
       "    }\n",
       "</style>\n",
       "<table border=\"1\" class=\"dataframe\">\n",
       "  <thead>\n",
       "    <tr style=\"text-align: right;\">\n",
       "      <th></th>\n",
       "      <th>S1</th>\n",
       "      <th>S2</th>\n",
       "      <th>S3</th>\n",
       "    </tr>\n",
       "  </thead>\n",
       "  <tbody>\n",
       "    <tr>\n",
       "      <th>A1</th>\n",
       "      <td>3</td>\n",
       "      <td>3</td>\n",
       "      <td>3</td>\n",
       "    </tr>\n",
       "    <tr>\n",
       "      <th>A2</th>\n",
       "      <td>1</td>\n",
       "      <td>6</td>\n",
       "      <td>6</td>\n",
       "    </tr>\n",
       "    <tr>\n",
       "      <th>A3</th>\n",
       "      <td>-1</td>\n",
       "      <td>4</td>\n",
       "      <td>9</td>\n",
       "    </tr>\n",
       "  </tbody>\n",
       "</table>\n",
       "</div>"
      ],
      "text/plain": [
       "    S1  S2  S3\n",
       "A1   3   3   3\n",
       "A2   1   6   6\n",
       "A3  -1   4   9"
      ]
     },
     "execution_count": 13,
     "metadata": {},
     "output_type": "execute_result"
    }
   ],
   "source": [
    "# สร้างข้อมูลดิบ (ตัวเลขสมมติ)\n",
    "data = {\n",
    "    'S1': [3, \n",
    "           1, \n",
    "           -1],  # ผลตอบแทนเมื่อเกิดสภาวะ S1\n",
    "    'S2': [3, \n",
    "           6, \n",
    "           4],  # ผลตอบแทนเมื่อเกิดสภาวะ S2\n",
    "    'S3': [3, \n",
    "           6, \n",
    "           9] # ผลตอบแทนเมื่อเกิดสภาวะ S3\n",
    "}\n",
    "\n",
    "# สร้าง DataFrame โดยมี Index เป็นทางเลือก\n",
    "alternatives = ['A1', 'A2', 'A3']\n",
    "payoff_df = pd.DataFrame(data, index=alternatives)\n",
    "\n",
    "# แสดงตารางผลตอบแทน\n",
    "print(\"ตารางผลตอบแทน (Payoff Matrix):\")\n",
    "payoff_df"
   ]
  },
  {
   "cell_type": "markdown",
   "id": "00b88315",
   "metadata": {},
   "source": [
    "# เกณฑ์แมกซิแมกซ์ (Maximax Criterion)"
   ]
  },
  {
   "cell_type": "code",
   "execution_count": 14,
   "id": "da6d2cf1",
   "metadata": {},
   "outputs": [
    {
     "name": "stdout",
     "output_type": "stream",
     "text": [
      "--- 1. เกณฑ์ Maximax ---\n",
      "ค่าสูงสุดของแต่ละทางเลือก:\n",
      "A1    3\n",
      "A2    6\n",
      "A3    9\n",
      "dtype: int64\n",
      "\n",
      "\n",
      "ค่า Maximax (ดีที่สุดของที่ดีที่สุด): 9\n",
      "✅ ตัดสินใจเลือก: A3\n"
     ]
    }
   ],
   "source": [
    "print(\"--- 1. เกณฑ์ Maximax ---\")\n",
    "\n",
    "# 1. หาค่าสูงสุดของแต่ละทางเลือก (แต่ละแถว)\n",
    "max_per_alternative = payoff_df.max(axis=1) # axis=1 คือการดำเนินการตามแนวนอน (แถว)\n",
    "print(\"ค่าสูงสุดของแต่ละทางเลือก:\")\n",
    "print(max_per_alternative)\n",
    "print(\"\\n\")\n",
    "\n",
    "# 2. หาค่าสูงสุดจากค่าที่ได้\n",
    "maximax_value = max_per_alternative.max()\n",
    "maximax_decision = max_per_alternative.idxmax() # idxmax() ใช้หา index (ชื่อแถว) ที่มีค่าสูงสุด\n",
    "\n",
    "print(f\"ค่า Maximax (ดีที่สุดของที่ดีที่สุด): {maximax_value}\")\n",
    "print(f\"✅ ตัดสินใจเลือก: {maximax_decision}\")"
   ]
  },
  {
   "cell_type": "markdown",
   "id": "b64b67d3",
   "metadata": {},
   "source": [
    "# เกณฑ์แมกซิมิน (Maximin Criterion)"
   ]
  },
  {
   "cell_type": "code",
   "execution_count": 15,
   "id": "6809022c",
   "metadata": {},
   "outputs": [
    {
     "name": "stdout",
     "output_type": "stream",
     "text": [
      "--- 2. เกณฑ์ Maximin ---\n",
      "ค่าต่ำสุด (แย่ที่สุด) ของแต่ละทางเลือก:\n",
      "A1    3\n",
      "A2    1\n",
      "A3   -1\n",
      "dtype: int64\n",
      "\n",
      "\n",
      "ค่า Maximin (ดีที่สุดของที่แย่ที่สุด): 3\n",
      "✅ ตัดสินใจเลือก: A1\n"
     ]
    }
   ],
   "source": [
    "print(\"--- 2. เกณฑ์ Maximin ---\")\n",
    "\n",
    "# 1. หาค่าต่ำสุดของแต่ละทางเลือก (แต่ละแถว)\n",
    "min_per_alternative = payoff_df.min(axis=1)\n",
    "print(\"ค่าต่ำสุด (แย่ที่สุด) ของแต่ละทางเลือก:\")\n",
    "print(min_per_alternative)\n",
    "print(\"\\n\")\n",
    "\n",
    "# 2. หาค่าสูงสุดจากค่าที่ได้\n",
    "maximin_value = min_per_alternative.max()\n",
    "maximin_decision = min_per_alternative.idxmax()\n",
    "\n",
    "print(f\"ค่า Maximin (ดีที่สุดของที่แย่ที่สุด): {maximin_value}\")\n",
    "print(f\"✅ ตัดสินใจเลือก: {maximin_decision}\")"
   ]
  },
  {
   "cell_type": "markdown",
   "id": "fddd0dd2",
   "metadata": {},
   "source": [
    "# เกณฑ์มินิแมกซ์รีกเรท (Minimax Regret Criterion)"
   ]
  },
  {
   "cell_type": "code",
   "execution_count": 16,
   "id": "a67b9382",
   "metadata": {},
   "outputs": [
    {
     "name": "stdout",
     "output_type": "stream",
     "text": [
      "--- 3. เกณฑ์ Minimax Regret ---\n",
      "ค่าสูงสุดของแต่ละสภาวะ (S1, S2, S3):\n",
      "S1    3\n",
      "S2    6\n",
      "S3    9\n",
      "dtype: int64\n",
      "\n",
      "\n",
      "ตารางความเสียดาย (Regret Matrix):\n",
      "    S1  S2  S3\n",
      "A1   0   3   6\n",
      "A2   2   0   3\n",
      "A3   4   2   0\n",
      "\n",
      "\n",
      "ค่าความเสียดายสูงสุดของแต่ละทางเลือก:\n",
      "A1    6\n",
      "A2    3\n",
      "A3    4\n",
      "dtype: int64\n",
      "\n",
      "\n",
      "ค่า Minimax Regret (ค่าเสียดายที่น้อยที่สุด): 3\n",
      "✅ ตัดสินใจเลือก: A2\n"
     ]
    }
   ],
   "source": [
    "print(\"--- 3. เกณฑ์ Minimax Regret ---\")\n",
    "\n",
    "# 1. สร้างตารางความเสียดาย (Regret Matrix)\n",
    "# 1.1 หาค่าสูงสุดของแต่ละสภาวะ (แต่ละคอลัมน์)\n",
    "max_per_state = payoff_df.max(axis=0) # axis=0 คือการดำเนินการตามแนวตั้ง (คอลัมน์)\n",
    "print(\"ค่าสูงสุดของแต่ละสภาวะ (S1, S2, S3):\")\n",
    "print(max_per_state)\n",
    "print(\"\\n\")\n",
    "\n",
    "# 1.2 สร้างตาราง Regret โดยเอา (ค่าสูงสุดของคอลัมน์ - ค่าในตารางเดิม)\n",
    "regret_df = max_per_state - payoff_df\n",
    "print(\"ตารางความเสียดาย (Regret Matrix):\")\n",
    "print(regret_df)\n",
    "print(\"\\n\")\n",
    "\n",
    "# 2. หาค่าความเสียดายสูงสุด (Max Regret) ของแต่ละทางเลือก\n",
    "max_regret_per_alternative = regret_df.max(axis=1)\n",
    "print(\"ค่าความเสียดายสูงสุดของแต่ละทางเลือก:\")\n",
    "print(max_regret_per_alternative)\n",
    "print(\"\\n\")\n",
    "\n",
    "# 3. หาค่าต่ำสุดจากค่าที่ได้\n",
    "minimax_regret_value = max_regret_per_alternative.min()\n",
    "minimax_regret_decision = max_regret_per_alternative.idxmin() # idxmin() ใช้หา index ที่มีค่าต่ำสุด\n",
    "\n",
    "print(f\"ค่า Minimax Regret (ค่าเสียดายที่น้อยที่สุด): {minimax_regret_value}\")\n",
    "print(f\"✅ ตัดสินใจเลือก: {minimax_regret_decision}\")"
   ]
  },
  {
   "cell_type": "markdown",
   "id": "28583738",
   "metadata": {},
   "source": [
    "# เกณฑ์เฮอร์วิกซ์ (Hurwicz Criterion)"
   ]
  },
  {
   "cell_type": "code",
   "execution_count": 17,
   "id": "4e53dff5",
   "metadata": {},
   "outputs": [
    {
     "name": "stdout",
     "output_type": "stream",
     "text": [
      "--- 4. เกณฑ์ Hurwicz ---\n",
      "กำหนดค่า Alpha (α) = 0.7\n",
      "ดังนั้น 1 - α = 0.30\n",
      "\n",
      "\n",
      "ค่าถ่วงน้ำหนัก Hurwicz ของแต่ละทางเลือก:\n",
      "A1    3.0\n",
      "A2    4.5\n",
      "A3    6.0\n",
      "dtype: float64\n",
      "\n",
      "\n",
      "ค่า Hurwicz สูงสุด: 6.00\n",
      "✅ ตัดสินใจเลือก: A3\n"
     ]
    }
   ],
   "source": [
    "print(\"--- 4. เกณฑ์ Hurwicz ---\")\n",
    "\n",
    "# 1. กำหนดค่า alpha (สัมประสิทธิ์การมองโลกในแง่ดี)\n",
    "# คุณสามารถเปลี่ยนค่านี้ได้ (ต้องอยู่ระหว่าง 0.0 ถึง 1.0)\n",
    "alpha = 0.7\n",
    "print(f\"กำหนดค่า Alpha (α) = {alpha}\")\n",
    "print(f\"ดังนั้น 1 - α = {1-alpha:.2f}\")\n",
    "print(\"\\n\")\n",
    "\n",
    "# 2. หาค่า Max และ Min ของแต่ละทางเลือก\n",
    "max_values = payoff_df.max(axis=1)\n",
    "min_values = payoff_df.min(axis=1)\n",
    "\n",
    "# 3. คำนวณค่า Hurwicz\n",
    "hurwicz_values = (max_values * alpha) + (min_values * (1 - alpha))\n",
    "print(\"ค่าถ่วงน้ำหนัก Hurwicz ของแต่ละทางเลือก:\")\n",
    "print(hurwicz_values)\n",
    "print(\"\\n\")\n",
    "\n",
    "# 4. หาค่าสูงสุดจากค่าที่ได้\n",
    "hurwicz_value = hurwicz_values.max()\n",
    "hurwicz_decision = hurwicz_values.idxmax()\n",
    "\n",
    "print(f\"ค่า Hurwicz สูงสุด: {hurwicz_value:.2f}\")\n",
    "print(f\"✅ ตัดสินใจเลือก: {hurwicz_decision}\")"
   ]
  },
  {
   "cell_type": "markdown",
   "id": "a0dacbaa",
   "metadata": {},
   "source": [
    "# เกณฑ์ลาปลาซ (Laplace Criterion)"
   ]
  },
  {
   "cell_type": "code",
   "execution_count": 18,
   "id": "674768a4",
   "metadata": {},
   "outputs": [
    {
     "name": "stdout",
     "output_type": "stream",
     "text": [
      "--- 5. เกณฑ์ Laplace ---\n",
      "ค่าเฉลี่ยของแต่ละทางเลือก:\n",
      "A1    3.00\n",
      "A2    4.33\n",
      "A3    4.00\n",
      "dtype: float64\n",
      "\n",
      "\n",
      "ค่า Laplace (ค่าเฉลี่ยสูงสุด): 4.33\n",
      "✅ ตัดสินใจเลือก: A2\n"
     ]
    }
   ],
   "source": [
    "print(\"--- 5. เกณฑ์ Laplace ---\")\n",
    "\n",
    "# 1. คำนวณค่าเฉลี่ยของแต่ละทางเลือก (แต่ละแถว)\n",
    "laplace_values = payoff_df.mean(axis=1)\n",
    "print(\"ค่าเฉลี่ยของแต่ละทางเลือก:\")\n",
    "print(laplace_values)\n",
    "print(\"\\n\")\n",
    "\n",
    "# 2. หาค่าเฉลี่ยสูงสุด\n",
    "laplace_value = laplace_values.max()\n",
    "laplace_decision = laplace_values.idxmax()\n",
    "\n",
    "print(f\"ค่า Laplace (ค่าเฉลี่ยสูงสุด): {laplace_value:.2f}\")\n",
    "print(f\"✅ ตัดสินใจเลือก: {laplace_decision}\")"
   ]
  }
 ],
 "metadata": {
  "kernelspec": {
   "display_name": "Python 3",
   "language": "python",
   "name": "python3"
  },
  "language_info": {
   "codemirror_mode": {
    "name": "ipython",
    "version": 3
   },
   "file_extension": ".py",
   "mimetype": "text/x-python",
   "name": "python",
   "nbconvert_exporter": "python",
   "pygments_lexer": "ipython3",
   "version": "3.13.5"
  }
 },
 "nbformat": 4,
 "nbformat_minor": 5
}
