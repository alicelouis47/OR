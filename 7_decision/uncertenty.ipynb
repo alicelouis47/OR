{
 "cells": [
  {
   "cell_type": "markdown",
   "id": "de63494a",
   "metadata": {},
   "source": [
    "ค่าคาดหวัง"
   ]
  },
  {
   "cell_type": "code",
   "execution_count": 1,
   "id": "a31082ef",
   "metadata": {},
   "outputs": [
    {
     "name": "stdout",
     "output_type": "stream",
     "text": [
      "Demand\\Stock3    4    5    6    7    8    \n",
      "---------------------------------------------\n",
      "3           9    3    -3   -9   -15  -21  \n",
      "4           9    12   6    0    -6   -12  \n",
      "5           9    12   15   9    3    -3   \n",
      "6           9    12   15   18   12   6    \n",
      "7           9    12   15   18   21   15   \n",
      "8           9    12   15   18   21   24   \n"
     ]
    }
   ],
   "source": [
    "# --- ค่าคงที่จากโจทย์ ---\n",
    "PROFIT_PER_ITEM = 3\n",
    "LOSS_PER_UNSOLD_ITEM = 6\n",
    "\n",
    "# --- กำหนดช่วงของแถวและคอลัมน์ ---\n",
    "demand_levels = range(3, 9)  # แถว: ความต้องการสินค้า (3 ถึง 8)\n",
    "stock_levels = range(3, 9)   # คอลัมน์: การตัดสินใจสั่งซื้อ (3 ถึง 8)\n",
    "\n",
    "# --- พิมพ์ส่วนหัวของตาราง (Header) ---\n",
    "# พิมพ์เว้นว่างสำหรับมุมซ้ายบน\n",
    "print(f\"{'Demand\\\\Stock':<12}\", end=\"\") \n",
    "for stock in stock_levels:\n",
    "    print(f\"{stock:<5}\", end=\"\")\n",
    "print(\"\\n\" + \"-\" * 45) # พิมพ์เส้นคั่น\n",
    "\n",
    "# --- วนลูปเพื่อสร้างตาราง (Rows and Columns) ---\n",
    "for demand in demand_levels:\n",
    "    print(f\"{demand:<12}\", end=\"\") # พิมพ์หัวแถว (Demand)\n",
    "    \n",
    "    # วนลูปในแต่ละคอลัมน์ (Stock) เพื่อคำนวณ Payoff\n",
    "    for stock in stock_levels:\n",
    "        \n",
    "        # ตรรกะสำคัญในการคำนวณ Payoff\n",
    "        sold_normal = min(demand, stock)\n",
    "        sold_reduced = max(0, stock - demand)\n",
    "        \n",
    "        payoff = (sold_normal * PROFIT_PER_ITEM) - (sold_reduced * LOSS_PER_UNSOLD_ITEM)\n",
    "        \n",
    "        print(f\"{payoff:<5}\", end=\"\") # พิมพ์ค่า Payoff\n",
    "    \n",
    "    print() # ขึ้นบรรทัดใหม่เมื่อจบแถว"
   ]
  },
  {
   "cell_type": "code",
   "execution_count": 2,
   "id": "8e9cca2d",
   "metadata": {},
   "outputs": [
    {
     "name": "stdout",
     "output_type": "stream",
     "text": [
      "การตัดสินใจสั่งซื้อ (Stock)  3   4   5   6   7   8\n",
      "ความต้องการสินค้า (Demand)                        \n",
      "3                            9   3  -3  -9 -15 -21\n",
      "4                            9  12   6   0  -6 -12\n",
      "5                            9  12  15   9   3  -3\n",
      "6                            9  12  15  18  12   6\n",
      "7                            9  12  15  18  21  15\n",
      "8                            9  12  15  18  21  24\n"
     ]
    }
   ],
   "source": [
    "import pandas as pd\n",
    "\n",
    "# --- ค่าคงที่ ---\n",
    "PROFIT_PER_ITEM = 3\n",
    "LOSS_PER_UNSOLD_ITEM = 6\n",
    "\n",
    "# --- กำหนดช่วงของแถวและคอลัมน์ ---\n",
    "demand_levels = list(range(3, 9))  # 3, 4, 5, 6, 7, 8\n",
    "stock_levels = list(range(3, 9))   # 3, 4, 5, 6, 7, 8\n",
    "\n",
    "# --- สร้างข้อมูลสำหรับตาราง (List of Lists) ---\n",
    "payoff_data = []\n",
    "for demand in demand_levels:\n",
    "    row = []\n",
    "    for stock in stock_levels:\n",
    "        # ตรรกะเดียวกัน\n",
    "        sold_normal = min(demand, stock)\n",
    "        sold_reduced = max(0, stock - demand)\n",
    "        payoff = (sold_normal * PROFIT_PER_ITEM) - (sold_reduced * LOSS_PER_UNSOLD_ITEM)\n",
    "        row.append(payoff)\n",
    "    payoff_data.append(row)\n",
    "\n",
    "# --- สร้าง DataFrame ด้วย pandas ---\n",
    "# index คือชื่อแถว, columns คือชื่อคอลัมน์\n",
    "df = pd.DataFrame(payoff_data, index=demand_levels, columns=stock_levels)\n",
    "\n",
    "# --- ตั้งชื่อแกน (Axis Names) ---\n",
    "df.index.name = \"ความต้องการสินค้า (Demand)\"\n",
    "df.columns.name = \"การตัดสินใจสั่งซื้อ (Stock)\"\n",
    "\n",
    "# --- พิมพ์ตาราง ---\n",
    "print(df)"
   ]
  },
  {
   "cell_type": "markdown",
   "id": "aa1715eb",
   "metadata": {},
   "source": [
    "ค่าเสียโอกาส"
   ]
  },
  {
   "cell_type": "code",
   "execution_count": 3,
   "id": "e6604d53",
   "metadata": {},
   "outputs": [
    {
     "name": "stdout",
     "output_type": "stream",
     "text": [
      "Demand\\Stock3    4    5    6    7    8    \n",
      "---------------------------------------------\n",
      "3           0    6    12   18   24   30   \n",
      "4           3    0    6    12   18   24   \n",
      "5           6    3    0    6    12   18   \n",
      "6           9    6    3    0    6    12   \n",
      "7           12   9    6    3    0    6    \n",
      "8           15   12   9    6    3    0    \n"
     ]
    }
   ],
   "source": [
    "# --- ค่าคงที่จากโจทย์ ---\n",
    "PROFIT_PER_ITEM = 3  # ค่าเสียโอกาส เมื่อของขาด (Understock)\n",
    "LOSS_PER_UNSOLD_ITEM = 6 # ค่าเสียโอกาส เมื่อของเหลือ (Overstock)\n",
    "\n",
    "# --- กำหนดช่วงของแถวและคอลัมน์ ---\n",
    "demand_levels = range(3, 9)  # แถว: ความต้องการสินค้า (3 ถึง 8)\n",
    "stock_levels = range(3, 9)   # คอลัมน์: การตัดสินใจสั่งซื้อ (3 ถึง 8)\n",
    "\n",
    "# --- พิมพ์ส่วนหัวของตาราง (Header) ---\n",
    "print(f\"{'Demand\\\\Stock':<12}\", end=\"\") \n",
    "for stock in stock_levels:\n",
    "    print(f\"{stock:<5}\", end=\"\")\n",
    "print(\"\\n\" + \"-\" * 45) # พิมพ์เส้นคั่น\n",
    "\n",
    "# --- วนลูปเพื่อสร้างตาราง ---\n",
    "for demand in demand_levels:\n",
    "    print(f\"{demand:<12}\", end=\"\") # พิมพ์หัวแถว (Demand)\n",
    "    \n",
    "    # วนลูปในแต่ละคอลัมน์ (Stock) เพื่อคำนวณ OL\n",
    "    for stock in stock_levels:\n",
    "        \n",
    "        opportunity_loss = 0\n",
    "        if demand > stock:\n",
    "            # กรณีที่ 1: สั่งน้อยไป (Understock) -> เสียโอกาสกำไร\n",
    "            opportunity_loss = (demand - stock) * PROFIT_PER_ITEM\n",
    "        elif stock > demand:\n",
    "            # กรณีที่ 2: สั่งมากไป (Overstock) -> เกิดต้นทุนจม (ขาดทุน)\n",
    "            opportunity_loss = (stock - demand) * LOSS_PER_UNSOLD_ITEM\n",
    "        # else: (กรณีที่ stock == demand) opportunity_loss = 0 (ตามค่าเริ่มต้น)\n",
    "            \n",
    "        print(f\"{opportunity_loss:<5}\", end=\"\") # พิมพ์ค่า OL\n",
    "    \n",
    "    print() # ขึ้นบรรทัดใหม่เมื่อจบแถว"
   ]
  },
  {
   "cell_type": "code",
   "execution_count": 4,
   "id": "107c5edc",
   "metadata": {},
   "outputs": [
    {
     "name": "stdout",
     "output_type": "stream",
     "text": [
      "การตัดสินใจสั่งซื้อ (Stock)   3   4   5   6   7   8\n",
      "ความต้องการสินค้า (Demand)                         \n",
      "3                             0   6  12  18  24  30\n",
      "4                             3   0   6  12  18  24\n",
      "5                             6   3   0   6  12  18\n",
      "6                             9   6   3   0   6  12\n",
      "7                            12   9   6   3   0   6\n",
      "8                            15  12   9   6   3   0\n"
     ]
    }
   ],
   "source": [
    "import pandas as pd\n",
    "\n",
    "# --- ค่าคงที่ ---\n",
    "PROFIT_PER_ITEM = 3\n",
    "LOSS_PER_UNSOLD_ITEM = 6\n",
    "\n",
    "# --- กำหนดช่วงของแถวและคอลัมน์ ---\n",
    "demand_levels = list(range(3, 9))  # 3, 4, 5, 6, 7, 8\n",
    "stock_levels = list(range(3, 9))   # 3, 4, 5, 6, 7, 8\n",
    "\n",
    "# --- สร้างข้อมูลสำหรับตาราง (List of Lists) ---\n",
    "loss_data = []\n",
    "for demand in demand_levels:\n",
    "    row = []\n",
    "    for stock in stock_levels:\n",
    "        \n",
    "        opportunity_loss = 0\n",
    "        if demand > stock:\n",
    "            # กรณีที่ 1: สั่งน้อยไป (Understock)\n",
    "            opportunity_loss = (demand - stock) * PROFIT_PER_ITEM\n",
    "        elif stock > demand:\n",
    "            # กรณีที่ 2: สั่งมากไป (Overstock)\n",
    "            opportunity_loss = (stock - demand) * LOSS_PER_UNSOLD_ITEM\n",
    "            \n",
    "        row.append(opportunity_loss)\n",
    "    loss_data.append(row)\n",
    "\n",
    "# --- สร้าง DataFrame ด้วย pandas ---\n",
    "df_loss = pd.DataFrame(loss_data, index=demand_levels, columns=stock_levels)\n",
    "\n",
    "# --- ตั้งชื่อแกน (Axis Names) ---\n",
    "df_loss.index.name = \"ความต้องการสินค้า (Demand)\"\n",
    "df_loss.columns.name = \"การตัดสินใจสั่งซื้อ (Stock)\"\n",
    "\n",
    "# --- พิมพ์ตาราง ---\n",
    "print(df_loss)"
   ]
  },
  {
   "cell_type": "code",
   "execution_count": 1,
   "id": "be8cc412",
   "metadata": {},
   "outputs": [],
   "source": [
    "import pandas as pd\n",
    "import numpy as np\n",
    "\n",
    "# ตั้งค่าการแสดงผลของ pandas ให้สวยงาม (ทศนิยม 2 ตำแหน่ง)\n",
    "pd.set_option('display.precision', 2)"
   ]
  },
  {
   "cell_type": "code",
   "execution_count": 13,
   "id": "ab551522",
   "metadata": {},
   "outputs": [
    {
     "name": "stdout",
     "output_type": "stream",
     "text": [
      "ตารางผลตอบแทน (Payoff Matrix):\n"
     ]
    },
    {
     "data": {
      "text/html": [
       "<div>\n",
       "<style scoped>\n",
       "    .dataframe tbody tr th:only-of-type {\n",
       "        vertical-align: middle;\n",
       "    }\n",
       "\n",
       "    .dataframe tbody tr th {\n",
       "        vertical-align: top;\n",
       "    }\n",
       "\n",
       "    .dataframe thead th {\n",
       "        text-align: right;\n",
       "    }\n",
       "</style>\n",
       "<table border=\"1\" class=\"dataframe\">\n",
       "  <thead>\n",
       "    <tr style=\"text-align: right;\">\n",
       "      <th></th>\n",
       "      <th>S1</th>\n",
       "      <th>S2</th>\n",
       "      <th>S3</th>\n",
       "    </tr>\n",
       "  </thead>\n",
       "  <tbody>\n",
       "    <tr>\n",
       "      <th>A1</th>\n",
       "      <td>3</td>\n",
       "      <td>3</td>\n",
       "      <td>3</td>\n",
       "    </tr>\n",
       "    <tr>\n",
       "      <th>A2</th>\n",
       "      <td>1</td>\n",
       "      <td>6</td>\n",
       "      <td>6</td>\n",
       "    </tr>\n",
       "    <tr>\n",
       "      <th>A3</th>\n",
       "      <td>-1</td>\n",
       "      <td>4</td>\n",
       "      <td>9</td>\n",
       "    </tr>\n",
       "  </tbody>\n",
       "</table>\n",
       "</div>"
      ],
      "text/plain": [
       "    S1  S2  S3\n",
       "A1   3   3   3\n",
       "A2   1   6   6\n",
       "A3  -1   4   9"
      ]
     },
     "execution_count": 13,
     "metadata": {},
     "output_type": "execute_result"
    }
   ],
   "source": [
    "# สร้างข้อมูลดิบ (ตัวเลขสมมติ)\n",
    "data = {\n",
    "    'S1': [3, \n",
    "           1, \n",
    "           -1],  # ผลตอบแทนเมื่อเกิดสภาวะ S1\n",
    "    'S2': [3, \n",
    "           6, \n",
    "           4],  # ผลตอบแทนเมื่อเกิดสภาวะ S2\n",
    "    'S3': [3, \n",
    "           6, \n",
    "           9] # ผลตอบแทนเมื่อเกิดสภาวะ S3\n",
    "}\n",
    "\n",
    "# สร้าง DataFrame โดยมี Index เป็นทางเลือก\n",
    "alternatives = ['A1', 'A2', 'A3']\n",
    "payoff_df = pd.DataFrame(data, index=alternatives)\n",
    "\n",
    "# แสดงตารางผลตอบแทน\n",
    "print(\"ตารางผลตอบแทน (Payoff Matrix):\")\n",
    "payoff_df"
   ]
  },
  {
   "cell_type": "markdown",
   "id": "00b88315",
   "metadata": {},
   "source": [
    "# เกณฑ์แมกซิแมกซ์ (Maximax Criterion)"
   ]
  },
  {
   "cell_type": "code",
   "execution_count": 14,
   "id": "da6d2cf1",
   "metadata": {},
   "outputs": [
    {
     "name": "stdout",
     "output_type": "stream",
     "text": [
      "--- 1. เกณฑ์ Maximax ---\n",
      "ค่าสูงสุดของแต่ละทางเลือก:\n",
      "A1    3\n",
      "A2    6\n",
      "A3    9\n",
      "dtype: int64\n",
      "\n",
      "\n",
      "ค่า Maximax (ดีที่สุดของที่ดีที่สุด): 9\n",
      "✅ ตัดสินใจเลือก: A3\n"
     ]
    }
   ],
   "source": [
    "print(\"--- 1. เกณฑ์ Maximax ---\")\n",
    "\n",
    "# 1. หาค่าสูงสุดของแต่ละทางเลือก (แต่ละแถว)\n",
    "max_per_alternative = payoff_df.max(axis=1) # axis=1 คือการดำเนินการตามแนวนอน (แถว)\n",
    "print(\"ค่าสูงสุดของแต่ละทางเลือก:\")\n",
    "print(max_per_alternative)\n",
    "print(\"\\n\")\n",
    "\n",
    "# 2. หาค่าสูงสุดจากค่าที่ได้\n",
    "maximax_value = max_per_alternative.max()\n",
    "maximax_decision = max_per_alternative.idxmax() # idxmax() ใช้หา index (ชื่อแถว) ที่มีค่าสูงสุด\n",
    "\n",
    "print(f\"ค่า Maximax (ดีที่สุดของที่ดีที่สุด): {maximax_value}\")\n",
    "print(f\"✅ ตัดสินใจเลือก: {maximax_decision}\")"
   ]
  },
  {
   "cell_type": "markdown",
   "id": "b64b67d3",
   "metadata": {},
   "source": [
    "# เกณฑ์แมกซิมิน (Maximin Criterion)"
   ]
  },
  {
   "cell_type": "code",
   "execution_count": 15,
   "id": "6809022c",
   "metadata": {},
   "outputs": [
    {
     "name": "stdout",
     "output_type": "stream",
     "text": [
      "--- 2. เกณฑ์ Maximin ---\n",
      "ค่าต่ำสุด (แย่ที่สุด) ของแต่ละทางเลือก:\n",
      "A1    3\n",
      "A2    1\n",
      "A3   -1\n",
      "dtype: int64\n",
      "\n",
      "\n",
      "ค่า Maximin (ดีที่สุดของที่แย่ที่สุด): 3\n",
      "✅ ตัดสินใจเลือก: A1\n"
     ]
    }
   ],
   "source": [
    "print(\"--- 2. เกณฑ์ Maximin ---\")\n",
    "\n",
    "# 1. หาค่าต่ำสุดของแต่ละทางเลือก (แต่ละแถว)\n",
    "min_per_alternative = payoff_df.min(axis=1)\n",
    "print(\"ค่าต่ำสุด (แย่ที่สุด) ของแต่ละทางเลือก:\")\n",
    "print(min_per_alternative)\n",
    "print(\"\\n\")\n",
    "\n",
    "# 2. หาค่าสูงสุดจากค่าที่ได้\n",
    "maximin_value = min_per_alternative.max()\n",
    "maximin_decision = min_per_alternative.idxmax()\n",
    "\n",
    "print(f\"ค่า Maximin (ดีที่สุดของที่แย่ที่สุด): {maximin_value}\")\n",
    "print(f\"✅ ตัดสินใจเลือก: {maximin_decision}\")"
   ]
  },
  {
   "cell_type": "markdown",
   "id": "fddd0dd2",
   "metadata": {},
   "source": [
    "# เกณฑ์มินิแมกซ์รีกเรท (Minimax Regret Criterion)"
   ]
  },
  {
   "cell_type": "code",
   "execution_count": 16,
   "id": "a67b9382",
   "metadata": {},
   "outputs": [
    {
     "name": "stdout",
     "output_type": "stream",
     "text": [
      "--- 3. เกณฑ์ Minimax Regret ---\n",
      "ค่าสูงสุดของแต่ละสภาวะ (S1, S2, S3):\n",
      "S1    3\n",
      "S2    6\n",
      "S3    9\n",
      "dtype: int64\n",
      "\n",
      "\n",
      "ตารางความเสียดาย (Regret Matrix):\n",
      "    S1  S2  S3\n",
      "A1   0   3   6\n",
      "A2   2   0   3\n",
      "A3   4   2   0\n",
      "\n",
      "\n",
      "ค่าความเสียดายสูงสุดของแต่ละทางเลือก:\n",
      "A1    6\n",
      "A2    3\n",
      "A3    4\n",
      "dtype: int64\n",
      "\n",
      "\n",
      "ค่า Minimax Regret (ค่าเสียดายที่น้อยที่สุด): 3\n",
      "✅ ตัดสินใจเลือก: A2\n"
     ]
    }
   ],
   "source": [
    "print(\"--- 3. เกณฑ์ Minimax Regret ---\")\n",
    "\n",
    "# 1. สร้างตารางความเสียดาย (Regret Matrix)\n",
    "# 1.1 หาค่าสูงสุดของแต่ละสภาวะ (แต่ละคอลัมน์)\n",
    "max_per_state = payoff_df.max(axis=0) # axis=0 คือการดำเนินการตามแนวตั้ง (คอลัมน์)\n",
    "print(\"ค่าสูงสุดของแต่ละสภาวะ (S1, S2, S3):\")\n",
    "print(max_per_state)\n",
    "print(\"\\n\")\n",
    "\n",
    "# 1.2 สร้างตาราง Regret โดยเอา (ค่าสูงสุดของคอลัมน์ - ค่าในตารางเดิม)\n",
    "regret_df = max_per_state - payoff_df\n",
    "print(\"ตารางความเสียดาย (Regret Matrix):\")\n",
    "print(regret_df)\n",
    "print(\"\\n\")\n",
    "\n",
    "# 2. หาค่าความเสียดายสูงสุด (Max Regret) ของแต่ละทางเลือก\n",
    "max_regret_per_alternative = regret_df.max(axis=1)\n",
    "print(\"ค่าความเสียดายสูงสุดของแต่ละทางเลือก:\")\n",
    "print(max_regret_per_alternative)\n",
    "print(\"\\n\")\n",
    "\n",
    "# 3. หาค่าต่ำสุดจากค่าที่ได้\n",
    "minimax_regret_value = max_regret_per_alternative.min()\n",
    "minimax_regret_decision = max_regret_per_alternative.idxmin() # idxmin() ใช้หา index ที่มีค่าต่ำสุด\n",
    "\n",
    "print(f\"ค่า Minimax Regret (ค่าเสียดายที่น้อยที่สุด): {minimax_regret_value}\")\n",
    "print(f\"✅ ตัดสินใจเลือก: {minimax_regret_decision}\")"
   ]
  },
  {
   "cell_type": "markdown",
   "id": "28583738",
   "metadata": {},
   "source": [
    "# เกณฑ์เฮอร์วิกซ์ (Hurwicz Criterion)"
   ]
  },
  {
   "cell_type": "code",
   "execution_count": 17,
   "id": "4e53dff5",
   "metadata": {},
   "outputs": [
    {
     "name": "stdout",
     "output_type": "stream",
     "text": [
      "--- 4. เกณฑ์ Hurwicz ---\n",
      "กำหนดค่า Alpha (α) = 0.7\n",
      "ดังนั้น 1 - α = 0.30\n",
      "\n",
      "\n",
      "ค่าถ่วงน้ำหนัก Hurwicz ของแต่ละทางเลือก:\n",
      "A1    3.0\n",
      "A2    4.5\n",
      "A3    6.0\n",
      "dtype: float64\n",
      "\n",
      "\n",
      "ค่า Hurwicz สูงสุด: 6.00\n",
      "✅ ตัดสินใจเลือก: A3\n"
     ]
    }
   ],
   "source": [
    "print(\"--- 4. เกณฑ์ Hurwicz ---\")\n",
    "\n",
    "# 1. กำหนดค่า alpha (สัมประสิทธิ์การมองโลกในแง่ดี)\n",
    "# คุณสามารถเปลี่ยนค่านี้ได้ (ต้องอยู่ระหว่าง 0.0 ถึง 1.0)\n",
    "alpha = 0.7\n",
    "print(f\"กำหนดค่า Alpha (α) = {alpha}\")\n",
    "print(f\"ดังนั้น 1 - α = {1-alpha:.2f}\")\n",
    "print(\"\\n\")\n",
    "\n",
    "# 2. หาค่า Max และ Min ของแต่ละทางเลือก\n",
    "max_values = payoff_df.max(axis=1)\n",
    "min_values = payoff_df.min(axis=1)\n",
    "\n",
    "# 3. คำนวณค่า Hurwicz\n",
    "hurwicz_values = (max_values * alpha) + (min_values * (1 - alpha))\n",
    "print(\"ค่าถ่วงน้ำหนัก Hurwicz ของแต่ละทางเลือก:\")\n",
    "print(hurwicz_values)\n",
    "print(\"\\n\")\n",
    "\n",
    "# 4. หาค่าสูงสุดจากค่าที่ได้\n",
    "hurwicz_value = hurwicz_values.max()\n",
    "hurwicz_decision = hurwicz_values.idxmax()\n",
    "\n",
    "print(f\"ค่า Hurwicz สูงสุด: {hurwicz_value:.2f}\")\n",
    "print(f\"✅ ตัดสินใจเลือก: {hurwicz_decision}\")"
   ]
  },
  {
   "cell_type": "markdown",
   "id": "a0dacbaa",
   "metadata": {},
   "source": [
    "# เกณฑ์ลาปลาซ (Laplace Criterion)"
   ]
  },
  {
   "cell_type": "code",
   "execution_count": 18,
   "id": "674768a4",
   "metadata": {},
   "outputs": [
    {
     "name": "stdout",
     "output_type": "stream",
     "text": [
      "--- 5. เกณฑ์ Laplace ---\n",
      "ค่าเฉลี่ยของแต่ละทางเลือก:\n",
      "A1    3.00\n",
      "A2    4.33\n",
      "A3    4.00\n",
      "dtype: float64\n",
      "\n",
      "\n",
      "ค่า Laplace (ค่าเฉลี่ยสูงสุด): 4.33\n",
      "✅ ตัดสินใจเลือก: A2\n"
     ]
    }
   ],
   "source": [
    "print(\"--- 5. เกณฑ์ Laplace ---\")\n",
    "\n",
    "# 1. คำนวณค่าเฉลี่ยของแต่ละทางเลือก (แต่ละแถว)\n",
    "laplace_values = payoff_df.mean(axis=1)\n",
    "print(\"ค่าเฉลี่ยของแต่ละทางเลือก:\")\n",
    "print(laplace_values)\n",
    "print(\"\\n\")\n",
    "\n",
    "# 2. หาค่าเฉลี่ยสูงสุด\n",
    "laplace_value = laplace_values.max()\n",
    "laplace_decision = laplace_values.idxmax()\n",
    "\n",
    "print(f\"ค่า Laplace (ค่าเฉลี่ยสูงสุด): {laplace_value:.2f}\")\n",
    "print(f\"✅ ตัดสินใจเลือก: {laplace_decision}\")"
   ]
  }
 ],
 "metadata": {
  "kernelspec": {
   "display_name": "Python 3",
   "language": "python",
   "name": "python3"
  },
  "language_info": {
   "codemirror_mode": {
    "name": "ipython",
    "version": 3
   },
   "file_extension": ".py",
   "mimetype": "text/x-python",
   "name": "python",
   "nbconvert_exporter": "python",
   "pygments_lexer": "ipython3",
   "version": "3.13.5"
  }
 },
 "nbformat": 4,
 "nbformat_minor": 5
}
