{
 "cells": [
  {
   "cell_type": "markdown",
   "id": "9b43685b",
   "metadata": {},
   "source": [
    "# RUN THIS CODE BEFORE USE SIMPLEX"
   ]
  },
  {
   "cell_type": "code",
   "execution_count": 25,
   "id": "96234e0c",
   "metadata": {},
   "outputs": [],
   "source": [
    "\n",
    "from typing import List, Dict, Tuple, Optional\n",
    "import numpy as np\n",
    "import pandas as pd\n",
    "\n",
    "np.set_printoptions(suppress=True)\n",
    "\n",
    "class SimplexResult:\n",
    "    def __init__(self, status: str, objective: float, solution: Dict[str, float], iterations: int, steps: List[str]):\n",
    "        self.status = status              # 'optimal', 'unbounded', 'infeasible'\n",
    "        self.objective = objective        # optimal objective (if any)\n",
    "        self.solution = solution          # variable -> value at termination\n",
    "        self.iterations = iterations      # number of pivots performed\n",
    "        self.steps = steps                # textual log of steps\n",
    "\n",
    "def _format_df(tableau: np.ndarray, row_names: List[str], col_names: List[str]) -> pd.DataFrame:\n",
    "    df = pd.DataFrame(tableau, columns=col_names, index=row_names)\n",
    "    # round for readability\n",
    "    return df.round(6)\n",
    "\n",
    "class TwoPhaseSimplex:\n",
    "    def __init__(self, sense: str, c: List[float], A: List[List[float]], b: List[float], cons: List[str], tol: float=1e-9, bland: bool=True):\n",
    "        \"\"\"\n",
    "        sense: 'max' or 'min'\n",
    "        c: objective coefficients (length n)\n",
    "        A: constraint matrix (m x n)\n",
    "        b: RHS (length m)\n",
    "        cons: constraint sense for each row: '<=', '>=', or '='\n",
    "        tol: tolerance for numerical comparisons\n",
    "        bland: use Bland's rule to avoid cycling (tie-breaking by lowest-index variable)\n",
    "        \"\"\"\n",
    "        self.sense = sense.lower()\n",
    "        assert self.sense in ('max', 'min')\n",
    "        self.c = np.array(c, dtype=float)\n",
    "        self.A = np.array(A, dtype=float)\n",
    "        self.b = np.array(b, dtype=float)\n",
    "        self.cons = cons\n",
    "        self.tol = float(tol)\n",
    "        self.bland = bland\n",
    "\n",
    "        m, n = self.A.shape\n",
    "        assert len(self.c) == n, \"c and A have incompatible sizes\"\n",
    "        assert len(self.b) == m and len(self.cons) == m, \"b/cons length must match number of constraints\"\n",
    "\n",
    "        # If minimization, convert to maximization by negating c.\n",
    "        self.orig_c = self.c.copy()\n",
    "        if self.sense == 'min':\n",
    "            self.c = -self.c\n",
    "            self.sense = 'max'  # internal: always treat as maximization\n",
    "\n",
    "        # Normalize constraints so that b >= 0 by multiplying by -1 if needed\n",
    "        self.An = self.A.copy()\n",
    "        self.bn = self.b.copy()\n",
    "        self.cons_norm = list(self.cons)\n",
    "        for i in range(m):\n",
    "            if self.bn[i] < -self.tol:\n",
    "                # multiply row by -1 and flip sense\n",
    "                self.An[i, :] *= -1\n",
    "                self.bn[i] *= -1\n",
    "                if self.cons_norm[i] == '<=':\n",
    "                    self.cons_norm[i] = '>='\n",
    "                elif self.cons_norm[i] == '>=':\n",
    "                    self.cons_norm[i] = '<='\n",
    "                # '=' stays '='\n",
    "\n",
    "        self.m = m\n",
    "        self.n = n\n",
    "\n",
    "        # Build full column structure: [x vars] + [slacks/surplus] + [artificials]\n",
    "        self.var_names: List[str] = [f\"x{j+1}\" for j in range(n)]\n",
    "        self.slack_idx = []\n",
    "        self.surplus_idx = []\n",
    "        self.artificial_idx = []\n",
    "        self.basic_vars = [-1]*m     # column index of basic variable in each row\n",
    "\n",
    "        cols = []\n",
    "        # start with original variables\n",
    "        cols.extend([self.An[:, j] for j in range(n)])\n",
    "\n",
    "        # Add slack/surplus/artificials per row\n",
    "        for i in range(m):\n",
    "            sense = self.cons_norm[i]\n",
    "            col_slack = np.zeros(m)\n",
    "            col_surplus = np.zeros(m)\n",
    "            col_art = np.zeros(m)\n",
    "            if sense == '<=':\n",
    "                # add slack +1\n",
    "                col_slack[i] = 1.0\n",
    "                self.slack_idx.append(len(self.var_names))\n",
    "                self.var_names.append(f\"s{i+1}\")\n",
    "                cols.append(col_slack)\n",
    "                # slack is initial basic var\n",
    "                self.basic_vars[i] = self.var_names.index(f\"s{i+1}\")\n",
    "            elif sense == '>=':\n",
    "                # add surplus -1 and artificial +1\n",
    "                col_surplus[i] = -1.0\n",
    "                self.surplus_idx.append(len(self.var_names))\n",
    "                self.var_names.append(f\"t{i+1}\")\n",
    "                cols.append(col_surplus)\n",
    "                col_art[i] = 1.0\n",
    "                self.artificial_idx.append(len(self.var_names))\n",
    "                self.var_names.append(f\"a{i+1}\")\n",
    "                cols.append(col_art)\n",
    "                # artificial is initial basic var\n",
    "                self.basic_vars[i] = self.var_names.index(f\"a{i+1}\")\n",
    "            elif sense == '=':\n",
    "                # artificial +1\n",
    "                col_art[i] = 1.0\n",
    "                self.artificial_idx.append(len(self.var_names))\n",
    "                self.var_names.append(f\"a{i+1}\")\n",
    "                cols.append(col_art)\n",
    "                # artificial is initial basic var\n",
    "                self.basic_vars[i] = self.var_names.index(f\"a{i+1}\")\n",
    "            else:\n",
    "                raise ValueError(\"Constraint sense must be one of '<=', '>=', '='\")\n",
    "\n",
    "        self.A_full = np.column_stack(cols)  # shape m x total_vars\n",
    "        self.total_vars = self.A_full.shape[1]\n",
    "\n",
    "        # Vector of costs for original objective across all current variables (x, slack/surplus 0, artificial 0)\n",
    "        self.c_full = np.zeros(self.total_vars)\n",
    "        self.c_full[:self.n] = self.c  # only original x have cost\n",
    "\n",
    "        # Phase I costs: 0 for non-artificial, -1 for artificial (maximize -sum(a))\n",
    "        self.c_phase1 = np.zeros(self.total_vars)\n",
    "        for idx in self.artificial_idx:\n",
    "            self.c_phase1[idx] = -1.0\n",
    "\n",
    "        # Build initial tableau for Phase I as [A | b] with last row Cj - Zj\n",
    "        self.tableau = np.zeros((self.m + 1, self.total_vars + 1))\n",
    "        self.tableau[:self.m, :self.total_vars] = self.A_full\n",
    "        self.tableau[:self.m, -1] = self.bn\n",
    "\n",
    "        # Build Phase I objective row: C - Z with basic = artificials where present\n",
    "        # Start with C = c_phase1\n",
    "        self.tableau[-1, :self.total_vars] = self.c_phase1.copy()\n",
    "        self.tableau[-1, -1] = 0.0\n",
    "        # Subtract sum(c_B * row) to form C - Z (note: c_B for slack-only rows is 0)\n",
    "        for i in range(self.m):\n",
    "            bcol = self.basic_vars[i]\n",
    "            if bcol in self.artificial_idx:\n",
    "                c_Bi = self.c_phase1[bcol]  # = -1\n",
    "                # C - Z := C - c_Bi * row_i\n",
    "                # Since c_Bi = -1, this is C - (-1)*row = C + row\n",
    "                self.tableau[-1, :] -= c_Bi * self.tableau[i, :]\n",
    "\n",
    "        self.steps = []  # log strings\n",
    "        self.iterations = 0\n",
    "\n",
    "    def _current_objective_value(self, row: Optional[np.ndarray]=None) -> float:\n",
    "        if row is None:\n",
    "            row = self.tableau[-1, :]\n",
    "        # C - Z tableau stores RHS at bottom as -Z (because RHS: 0 - c_B^T b = -Z)\n",
    "        return -row[-1]\n",
    "\n",
    "    def _choose_entering(self, phase: int) -> Optional[int]:\n",
    "        # Choose entering column: largest positive (C - Z) coefficient\n",
    "        obj_row = self.tableau[-1, :-1]\n",
    "        candidates = np.where(obj_row > self.tol)[0]\n",
    "        if candidates.size == 0:\n",
    "            return None\n",
    "        if self.bland:\n",
    "            return int(candidates.min())\n",
    "        # Otherwise pick argmax\n",
    "        return int(candidates[np.argmax(obj_row[candidates])])\n",
    "\n",
    "    def _choose_leaving(self, enter_col: int) -> Optional[int]:\n",
    "        col = self.tableau[:self.m, enter_col]\n",
    "        rhs = self.tableau[:self.m, -1]\n",
    "        mask = col > self.tol\n",
    "        if not mask.any():\n",
    "            return None  # unbounded\n",
    "        ratios = np.where(mask, rhs / col, np.inf)\n",
    "        # Tie-break with Bland: pick smallest row index among min ratios\n",
    "        min_val = ratios[mask].min()\n",
    "        candidate_rows = np.where(np.isclose(ratios, min_val, atol=1e-12))[0]\n",
    "        return int(candidate_rows.min())\n",
    "\n",
    "    def _pivot(self, row: int, col: int):\n",
    "        \"\"\"\n",
    "        Performs a pivot operation on the tableau.\n",
    "        The pivot is at the intersection of `row` and `col`.\n",
    "        \"\"\"\n",
    "        pivot_element = self.tableau[row, col]\n",
    "        # Log the row operation for the pivot row\n",
    "        self.steps.append(\n",
    "            f\"   Row R{row+1} divided by pivot element {pivot_element:.6f} to make it 1.\"\n",
    "        )\n",
    "        self.tableau[row, :] = self.tableau[row, :] / pivot_element\n",
    "\n",
    "        # Eliminate other row entries\n",
    "        for r in range(self.m + 1):\n",
    "            if r == row:\n",
    "                continue\n",
    "            factor = self.tableau[r, col]\n",
    "            if abs(factor) > self.tol:\n",
    "                # Log the row operation for non-pivot rows\n",
    "                self.steps.append(\n",
    "                    f\"   Row R{r+1} updated: R{r+1} - ({factor:.6f}) * R{row+1}\"\n",
    "                )\n",
    "                self.tableau[r, :] -= factor * self.tableau[row, :]\n",
    "\n",
    "        # Update the basic variable for the pivoted row\n",
    "        self.basic_vars[row] = col\n",
    "\n",
    "    def _log_tableau(self, title: str):\n",
    "        row_names = [self.var_names[self.basic_vars[i]] if self.basic_vars[i] >= 0 else f\"row{i+1}\" for i in range(self.m)] + [\"C - Z\"]\n",
    "        col_names = self.var_names + [\"RHS\"]\n",
    "        df = _format_df(self.tableau, row_names, col_names)\n",
    "        # Store a tuple: (title, DataFrame)\n",
    "        self.steps.append((title, df))\n",
    "\n",
    "\n",
    "    def _phase(self, phase_num: int, cvec: np.ndarray) -> Tuple[str, float]:\n",
    "        self.steps.append(f\"--- Starting Phase {phase_num} ---\")\n",
    "        \n",
    "        # Reset bottom row to C - Z for the given cost vector cvec.\n",
    "        self.tableau[-1, :] = 0.0\n",
    "        self.tableau[-1, :self.total_vars] = cvec.copy()\n",
    "        for i in range(self.m):\n",
    "            bcol = self.basic_vars[i]\n",
    "            if bcol >= 0:\n",
    "                self.tableau[-1, :] -= cvec[bcol] * self.tableau[i, :]\n",
    "\n",
    "        self._log_tableau(f\"Phase {phase_num} — Initial C - Z row\")\n",
    "\n",
    "        while True:\n",
    "            enter = self._choose_entering(phase_num)\n",
    "            if enter is None:\n",
    "                # Optimal for this phase\n",
    "                z = self._current_objective_value()\n",
    "                self.steps.append(f\"Phase {phase_num} — All Cj-Zj are non-positive. Optimal solution for this phase found.\")\n",
    "                self._log_tableau(f\"Phase {phase_num} — Optimal (no positive C-Z). Objective = {z:.6f}\")\n",
    "                return (\"optimal\", z)\n",
    "\n",
    "            self.steps.append(f\"Entering variable is {self.var_names[enter]} (largest positive Cj-Zj).\")\n",
    "\n",
    "            leave = self._choose_leaving(enter)\n",
    "            if leave is None:\n",
    "                self.steps.append(f\"All coefficients in the entering column ({self.var_names[enter]}) are non-positive. The solution is unbounded.\")\n",
    "                self._log_tableau(f\"Phase {phase_num} — Unbounded in entering {self.var_names[enter]}\")\n",
    "                return (\"unbounded\", np.inf)\n",
    "\n",
    "            self.steps.append(f\"Leaving variable is {self.var_names[self.basic_vars[leave]]} (smallest ratio).\")\n",
    "\n",
    "            self.iterations += 1\n",
    "            self.steps.append(f\"Iteration {self.iterations} (Phase {phase_num}): Pivot on R{leave+1}, C{enter+1}.\")\n",
    "            self._pivot(leave, enter)\n",
    "            self._log_tableau(f\"After pivot #{self.iterations}\")\n",
    "\n",
    "    def solve(self, show_steps: bool=True) -> SimplexResult:\n",
    "        # Phase I (only if there are artificials)\n",
    "        if len(self.artificial_idx) > 0:\n",
    "            status1, z1 = self._phase(1, self.c_phase1)\n",
    "            if status1 != \"optimal\" or z1 < -self.tol:\n",
    "                # If unbounded in phase I or objective < 0 (shouldn't happen with -sum(a)), report infeasible\n",
    "                return SimplexResult(\"infeasible\", float(\"nan\"), {}, self.iterations, self.steps)\n",
    "            # Check feasibility: z1 should be 0 (within tol)\n",
    "            if abs(z1) > 1e-7:\n",
    "                self.steps.append(f\"Phase 1 objective is {z1:.6f} > 0 → Infeasible.\")\n",
    "                return SimplexResult(\"infeasible\", float(\"nan\"), {}, self.iterations, self.steps)\n",
    "\n",
    "            # Remove artificial columns; but first try to pivot out any artificial still basic\n",
    "            for i in range(self.m):\n",
    "                bcol = self.basic_vars[i]\n",
    "                if bcol in self.artificial_idx:\n",
    "                    # Try to pivot to a non-artificial column with non-zero coeff\n",
    "                    for j in range(self.total_vars):\n",
    "                        if j in self.artificial_idx:\n",
    "                            continue\n",
    "                        if abs(self.tableau[i, j]) > self.tol:\n",
    "                            self._pivot(i, j)\n",
    "                            break\n",
    "                    else:\n",
    "                        # Entire row may be redundant (zero row with RHS 0). Keep but it's okay to proceed.\n",
    "                        pass\n",
    "\n",
    "            # Now drop artificial columns from tableau & names\n",
    "            keep_cols = [j for j in range(self.total_vars) if j not in self.artificial_idx]\n",
    "            # Rebuild structures\n",
    "            self.A_full = self.A_full[:, keep_cols]\n",
    "            self.var_names = [self.var_names[j] for j in keep_cols]\n",
    "            self.total_vars = len(keep_cols)\n",
    "            self.c_full = np.zeros(self.total_vars)\n",
    "            self.c_full[:self.n] = self.c[:self.n]  # original costs for x vars\n",
    "            # Slice tableau\n",
    "            self.tableau = np.column_stack([self.tableau[:, keep_cols], self.tableau[:, -1]])\n",
    "            # Update basic var indices to new column indexing\n",
    "            old_to_new = {old: new for new, old in enumerate(keep_cols)}\n",
    "            for i in range(self.m):\n",
    "                if self.basic_vars[i] in old_to_new:\n",
    "                    self.basic_vars[i] = old_to_new[self.basic_vars[i]]\n",
    "                else:\n",
    "                    # If a basic var got removed (shouldn't after pivoting), mark as -1\n",
    "                    self.basic_vars[i] = -1\n",
    "\n",
    "        # Phase II (optimize original objective)\n",
    "        status2, z2 = self._phase(2, self.c_full)\n",
    "        if status2 == \"unbounded\":\n",
    "            return SimplexResult(\"unbounded\", float(\"inf\"), {}, self.iterations, self.steps)\n",
    "\n",
    "        # Extract solution: basic RHS values, nonbasic 0\n",
    "        sol = {name: 0.0 for name in self.var_names}\n",
    "        for i in range(self.m):\n",
    "            bcol = self.basic_vars[i]\n",
    "            if bcol >= 0:\n",
    "                sol[self.var_names[bcol]] = self.tableau[i, -1]\n",
    "\n",
    "        # Report only original decision variables x1..xn\n",
    "        x_solution = {f\"x{j+1}\": sol.get(f\"x{j+1}\", 0.0) for j in range(self.n)}\n",
    "        objective_value = z2  # since we used max internally\n",
    "\n",
    "        # If original was 'min', flip sign back\n",
    "        if (self.orig_c != self.c[:self.n]).any():\n",
    "            # minimization: objective_value_max = z2 = -min_value\n",
    "            objective_value = -z2\n",
    "\n",
    "        return SimplexResult(\"optimal\", objective_value, x_solution, self.iterations, self.steps)\n"
   ]
  },
  {
   "cell_type": "code",
   "execution_count": 24,
   "id": "844ae383",
   "metadata": {},
   "outputs": [],
   "source": [
    "class BigMSimplex:\n",
    "    def __init__(self, sense: str, c: List[float], A: List[List[float]], b: List[float], cons: List[str], M: float=1e6, tol: float=1e-9, bland: bool=True):\n",
    "        self.sense = sense.lower()\n",
    "        assert self.sense in ('max', 'min')\n",
    "        self.c = np.array(c, dtype=float)\n",
    "        self.A = np.array(A, dtype=float)\n",
    "        self.b = np.array(b, dtype=float)\n",
    "        self.cons = cons\n",
    "        self.M = float(M)\n",
    "        self.tol = float(tol)\n",
    "        self.bland = bland\n",
    "\n",
    "        m, n = self.A.shape\n",
    "        self.m = m\n",
    "        self.n = n\n",
    "\n",
    "        # Normalize constraints so that b >= 0\n",
    "        self.An = self.A.copy()\n",
    "        self.bn = self.b.copy()\n",
    "        self.cons_norm = list(self.cons)\n",
    "        for i in range(m):\n",
    "            if self.bn[i] < -self.tol:\n",
    "                self.An[i, :] *= -1\n",
    "                self.bn[i] *= -1\n",
    "                if self.cons_norm[i] == '<=':\n",
    "                    self.cons_norm[i] = '>='\n",
    "                elif self.cons_norm[i] == '>=':\n",
    "                    self.cons_norm[i] = '<='\n",
    "\n",
    "        # Build full column structure\n",
    "        self.var_names: List[str] = [f\"x{j+1}\" for j in range(n)]\n",
    "        self.artificial_idx = []\n",
    "        self.basic_vars = [-1]*m\n",
    "\n",
    "        cols = []\n",
    "        c_full_list = []\n",
    "        for j in range(n):\n",
    "            cols.append(self.An[:, j])\n",
    "            c_full_list.append(self.c[j])\n",
    "\n",
    "        for i in range(m):\n",
    "            sense = self.cons_norm[i]\n",
    "            if sense == '<=':\n",
    "                col_slack = np.zeros(m)\n",
    "                col_slack[i] = 1.0\n",
    "                cols.append(col_slack)\n",
    "                self.var_names.append(f\"s{i+1}\")\n",
    "                c_full_list.append(0.0)\n",
    "                self.basic_vars[i] = self.var_names.index(f\"s{i+1}\")\n",
    "            elif sense == '>=':\n",
    "                col_surplus = np.zeros(m)\n",
    "                col_surplus[i] = -1.0\n",
    "                cols.append(col_surplus)\n",
    "                self.var_names.append(f\"t{i+1}\")\n",
    "                c_full_list.append(0.0)\n",
    "                \n",
    "                col_art = np.zeros(m)\n",
    "                col_art[i] = 1.0\n",
    "                cols.append(col_art)\n",
    "                self.var_names.append(f\"a{i+1}\")\n",
    "                self.artificial_idx.append(len(c_full_list))\n",
    "                c_full_list.append(-self.M if self.sense == 'max' else self.M)\n",
    "                self.basic_vars[i] = self.var_names.index(f\"a{i+1}\")\n",
    "            elif sense == '=':\n",
    "                col_art = np.zeros(m)\n",
    "                col_art[i] = 1.0\n",
    "                cols.append(col_art)\n",
    "                self.var_names.append(f\"a{i+1}\")\n",
    "                self.artificial_idx.append(len(c_full_list))\n",
    "                c_full_list.append(-self.M if self.sense == 'max' else self.M)\n",
    "                self.basic_vars[i] = self.var_names.index(f\"a{i+1}\")\n",
    "            else:\n",
    "                raise ValueError(\"Constraint sense must be one of '<=', '>=', '='\")\n",
    "\n",
    "        self.A_full = np.column_stack(cols)\n",
    "        self.total_vars = self.A_full.shape[1]\n",
    "\n",
    "        # Final C vector for the tableau, converted to maximization\n",
    "        self.c_full = np.array(c_full_list, dtype=float)\n",
    "        if self.sense == 'min':\n",
    "            self.c_full = -self.c_full\n",
    "            self.orig_sense = 'min'\n",
    "        else:\n",
    "            self.orig_sense = 'max'\n",
    "\n",
    "        # Build initial tableau\n",
    "        self.tableau = np.zeros((self.m + 1, self.total_vars + 1))\n",
    "        self.tableau[:self.m, :self.total_vars] = self.A_full\n",
    "        self.tableau[:self.m, -1] = self.bn\n",
    "\n",
    "        # Build initial C - Z row\n",
    "        self.tableau[-1, :self.total_vars] = self.c_full.copy()\n",
    "        for i in range(self.m):\n",
    "            bcol = self.basic_vars[i]\n",
    "            if bcol >= 0:\n",
    "                self.tableau[-1, :] -= self.c_full[bcol] * self.tableau[i, :]\n",
    "\n",
    "        self.steps = []\n",
    "        self.iterations = 0\n",
    "\n",
    "    def _current_objective_value(self) -> float:\n",
    "        return -self.tableau[-1, -1]\n",
    "\n",
    "    def _choose_entering(self) -> Optional[int]:\n",
    "        obj_row = self.tableau[-1, :-1]\n",
    "        candidates = np.where(obj_row > self.tol)[0]\n",
    "        if candidates.size == 0:\n",
    "            return None\n",
    "        if self.bland:\n",
    "            return int(candidates.min())\n",
    "        return int(candidates[np.argmax(obj_row[candidates])])\n",
    "\n",
    "    def _choose_leaving(self, enter_col: int) -> Optional[int]:\n",
    "        col = self.tableau[:self.m, enter_col]\n",
    "        rhs = self.tableau[:self.m, -1]\n",
    "        mask = col > self.tol\n",
    "        if not mask.any():\n",
    "            return None\n",
    "        ratios = np.where(mask, rhs / col, np.inf)\n",
    "        min_val = ratios[mask].min()\n",
    "        candidate_rows = np.where(np.isclose(ratios, min_val, atol=1e-12))[0]\n",
    "        return int(candidate_rows.min())\n",
    "\n",
    "    def _pivot(self, row: int, col: int):\n",
    "        \"\"\"\n",
    "        Performs a pivot operation on the tableau.\n",
    "        The pivot is at the intersection of `row` and `col`.\n",
    "        \"\"\"\n",
    "        pivot_element = self.tableau[row, col]\n",
    "        # Log the row operation for the pivot row\n",
    "        self.steps.append(\n",
    "            f\"   Row R{row+1} divided by pivot element {pivot_element:.6f} to make it 1.\"\n",
    "        )\n",
    "        self.tableau[row, :] = self.tableau[row, :] / pivot_element\n",
    "\n",
    "        # Eliminate other row entries\n",
    "        for r in range(self.m + 1):\n",
    "            if r == row:\n",
    "                continue\n",
    "            factor = self.tableau[r, col]\n",
    "            if abs(factor) > self.tol:\n",
    "                # Log the row operation for non-pivot rows\n",
    "                self.steps.append(\n",
    "                    f\"   Row R{r+1} updated: R{r+1} - ({factor:.6f}) * R{row+1}\"\n",
    "                )\n",
    "                self.tableau[r, :] -= factor * self.tableau[row, :]\n",
    "\n",
    "        # Update the basic variable for the pivoted row\n",
    "        self.basic_vars[row] = col\n",
    "\n",
    "    def _log_tableau(self, title: str):\n",
    "        row_names = [self.var_names[self.basic_vars[i]] if self.basic_vars[i] >= 0 else f\"row{i+1}\" for i in range(self.m)] + [\"C - Z\"]\n",
    "        col_names = self.var_names + [\"RHS\"]\n",
    "        df = _format_df(self.tableau, row_names, col_names)\n",
    "        self.steps.append((title, df))\n",
    "\n",
    "    def solve(self, show_steps: bool=True) -> SimplexResult:\n",
    "        self._log_tableau(\"Initial Tableau (Big M Method)\")\n",
    "\n",
    "        while True:\n",
    "            enter = self._choose_entering()\n",
    "            if enter is None:\n",
    "                break\n",
    "            leave = self._choose_leaving(enter)\n",
    "            if leave is None:\n",
    "                return SimplexResult(\"unbounded\", float(\"inf\"), {}, self.iterations, self.steps)\n",
    "            \n",
    "            self.iterations += 1\n",
    "            self.steps.append(f\"Iteration {self.iterations}: Enter = {self.var_names[enter]}, Leave = {self.var_names[self.basic_vars[leave]]}\")\n",
    "            self._pivot(leave, enter)\n",
    "            self._log_tableau(f\"After pivot #{self.iterations}\")\n",
    "\n",
    "        # Final checks\n",
    "        for i in range(self.m):\n",
    "            bcol = self.basic_vars[i]\n",
    "            if bcol in self.artificial_idx:\n",
    "                if self.tableau[i, -1] > self.tol:\n",
    "                    self.steps.append(\"Final solution contains an artificial variable with a positive value. Infeasible.\")\n",
    "                    return SimplexResult(\"infeasible\", float(\"nan\"), {}, self.iterations, self.steps)\n",
    "\n",
    "        # Extract solution\n",
    "        sol = {name: 0.0 for name in self.var_names}\n",
    "        for i in range(self.m):\n",
    "            bcol = self.basic_vars[i]\n",
    "            if bcol >= 0:\n",
    "                sol[self.var_names[bcol]] = self.tableau[i, -1]\n",
    "\n",
    "        x_solution = {f\"x{j+1}\": sol.get(f\"x{j+1}\", 0.0) for j in range(self.n)}\n",
    "        objective_value = self._current_objective_value()\n",
    "\n",
    "        if self.orig_sense == 'min':\n",
    "            objective_value = -objective_value\n",
    "\n",
    "        return SimplexResult(\"optimal\", objective_value, x_solution, self.iterations, self.steps)\n"
   ]
  },
  {
   "cell_type": "code",
   "execution_count": 26,
   "id": "3c45ca0c",
   "metadata": {},
   "outputs": [],
   "source": [
    "def run_and_show(sense, c, A, b, cons, Mode, M):\n",
    "    if Mode == 'BigM':\n",
    "        solver = BigMSimplex(sense=sense, c=c, A=A, b=b, cons=cons, M=M, bland=False)\n",
    "    else:\n",
    "        solver = TwoPhaseSimplex(sense=sense, c=c, A=A, b=b, cons=cons, bland=False)\n",
    "    result = solver.solve(show_steps=True)\n",
    "    print(\"\\n=== Mode ===\")\n",
    "    print(\"Mode:\", Mode)\n",
    "\n",
    "    from IPython.display import Markdown, display\n",
    "    # Show step logs\n",
    "    for step in result.steps:\n",
    "        if isinstance(step, tuple):\n",
    "            title, df = step\n",
    "            display(Markdown(f\"### {title}\"))\n",
    "            display(df)\n",
    "        else:\n",
    "            display(Markdown(step))\n",
    "\n",
    "\n",
    "    print(\"\\n=== RESULT ===\")\n",
    "    print(\"Status:\", result.status)\n",
    "    print(\"Objective value:\", result.objective)\n",
    "    print(\"Solution:\", result.solution)\n",
    "    print(\"Iterations:\", result.iterations)\n"
   ]
  },
  {
   "cell_type": "markdown",
   "id": "765aa519",
   "metadata": {},
   "source": [
    "# DEMO"
   ]
  },
  {
   "cell_type": "markdown",
   "id": "7ded7489",
   "metadata": {},
   "source": [
    "## TWO PHASE"
   ]
  },
  {
   "cell_type": "code",
   "execution_count": 27,
   "id": "f95fe0e0",
   "metadata": {},
   "outputs": [
    {
     "name": "stdout",
     "output_type": "stream",
     "text": [
      "\n",
      "=== Mode ===\n",
      "Mode: TwoPhase\n"
     ]
    },
    {
     "name": "stderr",
     "output_type": "stream",
     "text": [
      "C:\\Users\\Admin\\AppData\\Local\\Temp\\ipykernel_33784\\2629781309.py:172: RuntimeWarning: divide by zero encountered in divide\n",
      "  ratios = np.where(mask, rhs / col, np.inf)\n"
     ]
    },
    {
     "data": {
      "text/markdown": [
       "--- Starting Phase 2 ---"
      ],
      "text/plain": [
       "<IPython.core.display.Markdown object>"
      ]
     },
     "metadata": {},
     "output_type": "display_data"
    },
    {
     "data": {
      "text/markdown": [
       "### Phase 2 — Initial C - Z row"
      ],
      "text/plain": [
       "<IPython.core.display.Markdown object>"
      ]
     },
     "metadata": {},
     "output_type": "display_data"
    },
    {
     "data": {
      "text/html": [
       "<div>\n",
       "<style scoped>\n",
       "    .dataframe tbody tr th:only-of-type {\n",
       "        vertical-align: middle;\n",
       "    }\n",
       "\n",
       "    .dataframe tbody tr th {\n",
       "        vertical-align: top;\n",
       "    }\n",
       "\n",
       "    .dataframe thead th {\n",
       "        text-align: right;\n",
       "    }\n",
       "</style>\n",
       "<table border=\"1\" class=\"dataframe\">\n",
       "  <thead>\n",
       "    <tr style=\"text-align: right;\">\n",
       "      <th></th>\n",
       "      <th>x1</th>\n",
       "      <th>x2</th>\n",
       "      <th>x3</th>\n",
       "      <th>s1</th>\n",
       "      <th>s2</th>\n",
       "      <th>s3</th>\n",
       "      <th>RHS</th>\n",
       "    </tr>\n",
       "  </thead>\n",
       "  <tbody>\n",
       "    <tr>\n",
       "      <th>s1</th>\n",
       "      <td>1.0</td>\n",
       "      <td>2.0</td>\n",
       "      <td>1.0</td>\n",
       "      <td>1.0</td>\n",
       "      <td>0.0</td>\n",
       "      <td>0.0</td>\n",
       "      <td>430.0</td>\n",
       "    </tr>\n",
       "    <tr>\n",
       "      <th>s2</th>\n",
       "      <td>3.0</td>\n",
       "      <td>0.0</td>\n",
       "      <td>2.0</td>\n",
       "      <td>0.0</td>\n",
       "      <td>1.0</td>\n",
       "      <td>0.0</td>\n",
       "      <td>460.0</td>\n",
       "    </tr>\n",
       "    <tr>\n",
       "      <th>s3</th>\n",
       "      <td>1.0</td>\n",
       "      <td>4.0</td>\n",
       "      <td>0.0</td>\n",
       "      <td>0.0</td>\n",
       "      <td>0.0</td>\n",
       "      <td>1.0</td>\n",
       "      <td>420.0</td>\n",
       "    </tr>\n",
       "    <tr>\n",
       "      <th>C - Z</th>\n",
       "      <td>3.0</td>\n",
       "      <td>2.0</td>\n",
       "      <td>5.0</td>\n",
       "      <td>0.0</td>\n",
       "      <td>0.0</td>\n",
       "      <td>0.0</td>\n",
       "      <td>0.0</td>\n",
       "    </tr>\n",
       "  </tbody>\n",
       "</table>\n",
       "</div>"
      ],
      "text/plain": [
       "        x1   x2   x3   s1   s2   s3    RHS\n",
       "s1     1.0  2.0  1.0  1.0  0.0  0.0  430.0\n",
       "s2     3.0  0.0  2.0  0.0  1.0  0.0  460.0\n",
       "s3     1.0  4.0  0.0  0.0  0.0  1.0  420.0\n",
       "C - Z  3.0  2.0  5.0  0.0  0.0  0.0    0.0"
      ]
     },
     "metadata": {},
     "output_type": "display_data"
    },
    {
     "data": {
      "text/markdown": [
       "Entering variable is x3 (largest positive Cj-Zj)."
      ],
      "text/plain": [
       "<IPython.core.display.Markdown object>"
      ]
     },
     "metadata": {},
     "output_type": "display_data"
    },
    {
     "data": {
      "text/markdown": [
       "Leaving variable is s2 (smallest ratio)."
      ],
      "text/plain": [
       "<IPython.core.display.Markdown object>"
      ]
     },
     "metadata": {},
     "output_type": "display_data"
    },
    {
     "data": {
      "text/markdown": [
       "Iteration 1 (Phase 2): Pivot on R2, C3."
      ],
      "text/plain": [
       "<IPython.core.display.Markdown object>"
      ]
     },
     "metadata": {},
     "output_type": "display_data"
    },
    {
     "data": {
      "text/markdown": [
       "   Row R2 divided by pivot element 2.000000 to make it 1."
      ],
      "text/plain": [
       "<IPython.core.display.Markdown object>"
      ]
     },
     "metadata": {},
     "output_type": "display_data"
    },
    {
     "data": {
      "text/markdown": [
       "   Row R1 updated: R1 - (1.000000) * R2"
      ],
      "text/plain": [
       "<IPython.core.display.Markdown object>"
      ]
     },
     "metadata": {},
     "output_type": "display_data"
    },
    {
     "data": {
      "text/markdown": [
       "   Row R4 updated: R4 - (5.000000) * R2"
      ],
      "text/plain": [
       "<IPython.core.display.Markdown object>"
      ]
     },
     "metadata": {},
     "output_type": "display_data"
    },
    {
     "data": {
      "text/markdown": [
       "### After pivot #1"
      ],
      "text/plain": [
       "<IPython.core.display.Markdown object>"
      ]
     },
     "metadata": {},
     "output_type": "display_data"
    },
    {
     "data": {
      "text/html": [
       "<div>\n",
       "<style scoped>\n",
       "    .dataframe tbody tr th:only-of-type {\n",
       "        vertical-align: middle;\n",
       "    }\n",
       "\n",
       "    .dataframe tbody tr th {\n",
       "        vertical-align: top;\n",
       "    }\n",
       "\n",
       "    .dataframe thead th {\n",
       "        text-align: right;\n",
       "    }\n",
       "</style>\n",
       "<table border=\"1\" class=\"dataframe\">\n",
       "  <thead>\n",
       "    <tr style=\"text-align: right;\">\n",
       "      <th></th>\n",
       "      <th>x1</th>\n",
       "      <th>x2</th>\n",
       "      <th>x3</th>\n",
       "      <th>s1</th>\n",
       "      <th>s2</th>\n",
       "      <th>s3</th>\n",
       "      <th>RHS</th>\n",
       "    </tr>\n",
       "  </thead>\n",
       "  <tbody>\n",
       "    <tr>\n",
       "      <th>s1</th>\n",
       "      <td>-0.5</td>\n",
       "      <td>2.0</td>\n",
       "      <td>0.0</td>\n",
       "      <td>1.0</td>\n",
       "      <td>-0.5</td>\n",
       "      <td>0.0</td>\n",
       "      <td>200.0</td>\n",
       "    </tr>\n",
       "    <tr>\n",
       "      <th>x3</th>\n",
       "      <td>1.5</td>\n",
       "      <td>0.0</td>\n",
       "      <td>1.0</td>\n",
       "      <td>0.0</td>\n",
       "      <td>0.5</td>\n",
       "      <td>0.0</td>\n",
       "      <td>230.0</td>\n",
       "    </tr>\n",
       "    <tr>\n",
       "      <th>s3</th>\n",
       "      <td>1.0</td>\n",
       "      <td>4.0</td>\n",
       "      <td>0.0</td>\n",
       "      <td>0.0</td>\n",
       "      <td>0.0</td>\n",
       "      <td>1.0</td>\n",
       "      <td>420.0</td>\n",
       "    </tr>\n",
       "    <tr>\n",
       "      <th>C - Z</th>\n",
       "      <td>-4.5</td>\n",
       "      <td>2.0</td>\n",
       "      <td>0.0</td>\n",
       "      <td>0.0</td>\n",
       "      <td>-2.5</td>\n",
       "      <td>0.0</td>\n",
       "      <td>-1150.0</td>\n",
       "    </tr>\n",
       "  </tbody>\n",
       "</table>\n",
       "</div>"
      ],
      "text/plain": [
       "        x1   x2   x3   s1   s2   s3     RHS\n",
       "s1    -0.5  2.0  0.0  1.0 -0.5  0.0   200.0\n",
       "x3     1.5  0.0  1.0  0.0  0.5  0.0   230.0\n",
       "s3     1.0  4.0  0.0  0.0  0.0  1.0   420.0\n",
       "C - Z -4.5  2.0  0.0  0.0 -2.5  0.0 -1150.0"
      ]
     },
     "metadata": {},
     "output_type": "display_data"
    },
    {
     "data": {
      "text/markdown": [
       "Entering variable is x2 (largest positive Cj-Zj)."
      ],
      "text/plain": [
       "<IPython.core.display.Markdown object>"
      ]
     },
     "metadata": {},
     "output_type": "display_data"
    },
    {
     "data": {
      "text/markdown": [
       "Leaving variable is s1 (smallest ratio)."
      ],
      "text/plain": [
       "<IPython.core.display.Markdown object>"
      ]
     },
     "metadata": {},
     "output_type": "display_data"
    },
    {
     "data": {
      "text/markdown": [
       "Iteration 2 (Phase 2): Pivot on R1, C2."
      ],
      "text/plain": [
       "<IPython.core.display.Markdown object>"
      ]
     },
     "metadata": {},
     "output_type": "display_data"
    },
    {
     "data": {
      "text/markdown": [
       "   Row R1 divided by pivot element 2.000000 to make it 1."
      ],
      "text/plain": [
       "<IPython.core.display.Markdown object>"
      ]
     },
     "metadata": {},
     "output_type": "display_data"
    },
    {
     "data": {
      "text/markdown": [
       "   Row R3 updated: R3 - (4.000000) * R1"
      ],
      "text/plain": [
       "<IPython.core.display.Markdown object>"
      ]
     },
     "metadata": {},
     "output_type": "display_data"
    },
    {
     "data": {
      "text/markdown": [
       "   Row R4 updated: R4 - (2.000000) * R1"
      ],
      "text/plain": [
       "<IPython.core.display.Markdown object>"
      ]
     },
     "metadata": {},
     "output_type": "display_data"
    },
    {
     "data": {
      "text/markdown": [
       "### After pivot #2"
      ],
      "text/plain": [
       "<IPython.core.display.Markdown object>"
      ]
     },
     "metadata": {},
     "output_type": "display_data"
    },
    {
     "data": {
      "text/html": [
       "<div>\n",
       "<style scoped>\n",
       "    .dataframe tbody tr th:only-of-type {\n",
       "        vertical-align: middle;\n",
       "    }\n",
       "\n",
       "    .dataframe tbody tr th {\n",
       "        vertical-align: top;\n",
       "    }\n",
       "\n",
       "    .dataframe thead th {\n",
       "        text-align: right;\n",
       "    }\n",
       "</style>\n",
       "<table border=\"1\" class=\"dataframe\">\n",
       "  <thead>\n",
       "    <tr style=\"text-align: right;\">\n",
       "      <th></th>\n",
       "      <th>x1</th>\n",
       "      <th>x2</th>\n",
       "      <th>x3</th>\n",
       "      <th>s1</th>\n",
       "      <th>s2</th>\n",
       "      <th>s3</th>\n",
       "      <th>RHS</th>\n",
       "    </tr>\n",
       "  </thead>\n",
       "  <tbody>\n",
       "    <tr>\n",
       "      <th>x2</th>\n",
       "      <td>-0.25</td>\n",
       "      <td>1.0</td>\n",
       "      <td>0.0</td>\n",
       "      <td>0.5</td>\n",
       "      <td>-0.25</td>\n",
       "      <td>0.0</td>\n",
       "      <td>100.0</td>\n",
       "    </tr>\n",
       "    <tr>\n",
       "      <th>x3</th>\n",
       "      <td>1.50</td>\n",
       "      <td>0.0</td>\n",
       "      <td>1.0</td>\n",
       "      <td>0.0</td>\n",
       "      <td>0.50</td>\n",
       "      <td>0.0</td>\n",
       "      <td>230.0</td>\n",
       "    </tr>\n",
       "    <tr>\n",
       "      <th>s3</th>\n",
       "      <td>2.00</td>\n",
       "      <td>0.0</td>\n",
       "      <td>0.0</td>\n",
       "      <td>-2.0</td>\n",
       "      <td>1.00</td>\n",
       "      <td>1.0</td>\n",
       "      <td>20.0</td>\n",
       "    </tr>\n",
       "    <tr>\n",
       "      <th>C - Z</th>\n",
       "      <td>-4.00</td>\n",
       "      <td>0.0</td>\n",
       "      <td>0.0</td>\n",
       "      <td>-1.0</td>\n",
       "      <td>-2.00</td>\n",
       "      <td>0.0</td>\n",
       "      <td>-1350.0</td>\n",
       "    </tr>\n",
       "  </tbody>\n",
       "</table>\n",
       "</div>"
      ],
      "text/plain": [
       "         x1   x2   x3   s1    s2   s3     RHS\n",
       "x2    -0.25  1.0  0.0  0.5 -0.25  0.0   100.0\n",
       "x3     1.50  0.0  1.0  0.0  0.50  0.0   230.0\n",
       "s3     2.00  0.0  0.0 -2.0  1.00  1.0    20.0\n",
       "C - Z -4.00  0.0  0.0 -1.0 -2.00  0.0 -1350.0"
      ]
     },
     "metadata": {},
     "output_type": "display_data"
    },
    {
     "data": {
      "text/markdown": [
       "Phase 2 — All Cj-Zj are non-positive. Optimal solution for this phase found."
      ],
      "text/plain": [
       "<IPython.core.display.Markdown object>"
      ]
     },
     "metadata": {},
     "output_type": "display_data"
    },
    {
     "data": {
      "text/markdown": [
       "### Phase 2 — Optimal (no positive C-Z). Objective = 1350.000000"
      ],
      "text/plain": [
       "<IPython.core.display.Markdown object>"
      ]
     },
     "metadata": {},
     "output_type": "display_data"
    },
    {
     "data": {
      "text/html": [
       "<div>\n",
       "<style scoped>\n",
       "    .dataframe tbody tr th:only-of-type {\n",
       "        vertical-align: middle;\n",
       "    }\n",
       "\n",
       "    .dataframe tbody tr th {\n",
       "        vertical-align: top;\n",
       "    }\n",
       "\n",
       "    .dataframe thead th {\n",
       "        text-align: right;\n",
       "    }\n",
       "</style>\n",
       "<table border=\"1\" class=\"dataframe\">\n",
       "  <thead>\n",
       "    <tr style=\"text-align: right;\">\n",
       "      <th></th>\n",
       "      <th>x1</th>\n",
       "      <th>x2</th>\n",
       "      <th>x3</th>\n",
       "      <th>s1</th>\n",
       "      <th>s2</th>\n",
       "      <th>s3</th>\n",
       "      <th>RHS</th>\n",
       "    </tr>\n",
       "  </thead>\n",
       "  <tbody>\n",
       "    <tr>\n",
       "      <th>x2</th>\n",
       "      <td>-0.25</td>\n",
       "      <td>1.0</td>\n",
       "      <td>0.0</td>\n",
       "      <td>0.5</td>\n",
       "      <td>-0.25</td>\n",
       "      <td>0.0</td>\n",
       "      <td>100.0</td>\n",
       "    </tr>\n",
       "    <tr>\n",
       "      <th>x3</th>\n",
       "      <td>1.50</td>\n",
       "      <td>0.0</td>\n",
       "      <td>1.0</td>\n",
       "      <td>0.0</td>\n",
       "      <td>0.50</td>\n",
       "      <td>0.0</td>\n",
       "      <td>230.0</td>\n",
       "    </tr>\n",
       "    <tr>\n",
       "      <th>s3</th>\n",
       "      <td>2.00</td>\n",
       "      <td>0.0</td>\n",
       "      <td>0.0</td>\n",
       "      <td>-2.0</td>\n",
       "      <td>1.00</td>\n",
       "      <td>1.0</td>\n",
       "      <td>20.0</td>\n",
       "    </tr>\n",
       "    <tr>\n",
       "      <th>C - Z</th>\n",
       "      <td>-4.00</td>\n",
       "      <td>0.0</td>\n",
       "      <td>0.0</td>\n",
       "      <td>-1.0</td>\n",
       "      <td>-2.00</td>\n",
       "      <td>0.0</td>\n",
       "      <td>-1350.0</td>\n",
       "    </tr>\n",
       "  </tbody>\n",
       "</table>\n",
       "</div>"
      ],
      "text/plain": [
       "         x1   x2   x3   s1    s2   s3     RHS\n",
       "x2    -0.25  1.0  0.0  0.5 -0.25  0.0   100.0\n",
       "x3     1.50  0.0  1.0  0.0  0.50  0.0   230.0\n",
       "s3     2.00  0.0  0.0 -2.0  1.00  1.0    20.0\n",
       "C - Z -4.00  0.0  0.0 -1.0 -2.00  0.0 -1350.0"
      ]
     },
     "metadata": {},
     "output_type": "display_data"
    },
    {
     "name": "stdout",
     "output_type": "stream",
     "text": [
      "\n",
      "=== RESULT ===\n",
      "Status: optimal\n",
      "Objective value: 1350.0\n",
      "Solution: {'x1': 0.0, 'x2': np.float64(100.0), 'x3': np.float64(230.0)}\n",
      "Iterations: 2\n"
     ]
    }
   ],
   "source": [
    "# Example (change these to your own problem)\n",
    "sense = 'max'  # 'max' or 'min'\n",
    "c = [3, 2, 5]     # maximize 3x1 + 2x2\n",
    "A = [\n",
    "    [1, 2, 1],\n",
    "    [3, 0, 2],\n",
    "    [1, 4, 0]\n",
    "]\n",
    "b = [430, 460, 420]\n",
    "cons = ['<=', '<=', '<=']\n",
    "Mode = 'TwoPhase'\n",
    "\n",
    "run_and_show(sense, c, A, b, cons, Mode, M=1e5)"
   ]
  },
  {
   "cell_type": "code",
   "execution_count": 9,
   "id": "7cfdd894",
   "metadata": {},
   "outputs": [
    {
     "name": "stdout",
     "output_type": "stream",
     "text": [
      "\n",
      "=== Mode ===\n",
      "Mode: TwoPhase\n"
     ]
    },
    {
     "data": {
      "text/markdown": [
       "--- Starting Phase 1 ---"
      ],
      "text/plain": [
       "<IPython.core.display.Markdown object>"
      ]
     },
     "metadata": {},
     "output_type": "display_data"
    },
    {
     "data": {
      "text/markdown": [
       "### Phase 1 — Initial C - Z row"
      ],
      "text/plain": [
       "<IPython.core.display.Markdown object>"
      ]
     },
     "metadata": {},
     "output_type": "display_data"
    },
    {
     "data": {
      "text/html": [
       "<div>\n",
       "<style scoped>\n",
       "    .dataframe tbody tr th:only-of-type {\n",
       "        vertical-align: middle;\n",
       "    }\n",
       "\n",
       "    .dataframe tbody tr th {\n",
       "        vertical-align: top;\n",
       "    }\n",
       "\n",
       "    .dataframe thead th {\n",
       "        text-align: right;\n",
       "    }\n",
       "</style>\n",
       "<table border=\"1\" class=\"dataframe\">\n",
       "  <thead>\n",
       "    <tr style=\"text-align: right;\">\n",
       "      <th></th>\n",
       "      <th>x1</th>\n",
       "      <th>x2</th>\n",
       "      <th>s1</th>\n",
       "      <th>a2</th>\n",
       "      <th>t3</th>\n",
       "      <th>a3</th>\n",
       "      <th>RHS</th>\n",
       "    </tr>\n",
       "  </thead>\n",
       "  <tbody>\n",
       "    <tr>\n",
       "      <th>s1</th>\n",
       "      <td>0.3</td>\n",
       "      <td>0.1</td>\n",
       "      <td>1.0</td>\n",
       "      <td>0.0</td>\n",
       "      <td>0.0</td>\n",
       "      <td>0.0</td>\n",
       "      <td>2.7</td>\n",
       "    </tr>\n",
       "    <tr>\n",
       "      <th>a2</th>\n",
       "      <td>0.5</td>\n",
       "      <td>0.5</td>\n",
       "      <td>0.0</td>\n",
       "      <td>1.0</td>\n",
       "      <td>0.0</td>\n",
       "      <td>0.0</td>\n",
       "      <td>6.0</td>\n",
       "    </tr>\n",
       "    <tr>\n",
       "      <th>a3</th>\n",
       "      <td>0.6</td>\n",
       "      <td>0.4</td>\n",
       "      <td>0.0</td>\n",
       "      <td>0.0</td>\n",
       "      <td>-1.0</td>\n",
       "      <td>1.0</td>\n",
       "      <td>6.0</td>\n",
       "    </tr>\n",
       "    <tr>\n",
       "      <th>C - Z</th>\n",
       "      <td>1.1</td>\n",
       "      <td>0.9</td>\n",
       "      <td>0.0</td>\n",
       "      <td>0.0</td>\n",
       "      <td>-1.0</td>\n",
       "      <td>0.0</td>\n",
       "      <td>12.0</td>\n",
       "    </tr>\n",
       "  </tbody>\n",
       "</table>\n",
       "</div>"
      ],
      "text/plain": [
       "        x1   x2   s1   a2   t3   a3   RHS\n",
       "s1     0.3  0.1  1.0  0.0  0.0  0.0   2.7\n",
       "a2     0.5  0.5  0.0  1.0  0.0  0.0   6.0\n",
       "a3     0.6  0.4  0.0  0.0 -1.0  1.0   6.0\n",
       "C - Z  1.1  0.9  0.0  0.0 -1.0  0.0  12.0"
      ]
     },
     "metadata": {},
     "output_type": "display_data"
    },
    {
     "data": {
      "text/markdown": [
       "Entering variable is x1 (largest positive Cj-Zj)."
      ],
      "text/plain": [
       "<IPython.core.display.Markdown object>"
      ]
     },
     "metadata": {},
     "output_type": "display_data"
    },
    {
     "data": {
      "text/markdown": [
       "Leaving variable is s1 (smallest ratio)."
      ],
      "text/plain": [
       "<IPython.core.display.Markdown object>"
      ]
     },
     "metadata": {},
     "output_type": "display_data"
    },
    {
     "data": {
      "text/markdown": [
       "Iteration 1 (Phase 1): Pivot on R1, C1."
      ],
      "text/plain": [
       "<IPython.core.display.Markdown object>"
      ]
     },
     "metadata": {},
     "output_type": "display_data"
    },
    {
     "data": {
      "text/markdown": [
       "   Row R1 divided by pivot element 0.300000 to make it 1."
      ],
      "text/plain": [
       "<IPython.core.display.Markdown object>"
      ]
     },
     "metadata": {},
     "output_type": "display_data"
    },
    {
     "data": {
      "text/markdown": [
       "   Row R2 updated: R2 - (0.500000) * R1"
      ],
      "text/plain": [
       "<IPython.core.display.Markdown object>"
      ]
     },
     "metadata": {},
     "output_type": "display_data"
    },
    {
     "data": {
      "text/markdown": [
       "   Row R3 updated: R3 - (0.600000) * R1"
      ],
      "text/plain": [
       "<IPython.core.display.Markdown object>"
      ]
     },
     "metadata": {},
     "output_type": "display_data"
    },
    {
     "data": {
      "text/markdown": [
       "   Row R4 updated: R4 - (1.100000) * R1"
      ],
      "text/plain": [
       "<IPython.core.display.Markdown object>"
      ]
     },
     "metadata": {},
     "output_type": "display_data"
    },
    {
     "data": {
      "text/markdown": [
       "### After pivot #1"
      ],
      "text/plain": [
       "<IPython.core.display.Markdown object>"
      ]
     },
     "metadata": {},
     "output_type": "display_data"
    },
    {
     "data": {
      "text/html": [
       "<div>\n",
       "<style scoped>\n",
       "    .dataframe tbody tr th:only-of-type {\n",
       "        vertical-align: middle;\n",
       "    }\n",
       "\n",
       "    .dataframe tbody tr th {\n",
       "        vertical-align: top;\n",
       "    }\n",
       "\n",
       "    .dataframe thead th {\n",
       "        text-align: right;\n",
       "    }\n",
       "</style>\n",
       "<table border=\"1\" class=\"dataframe\">\n",
       "  <thead>\n",
       "    <tr style=\"text-align: right;\">\n",
       "      <th></th>\n",
       "      <th>x1</th>\n",
       "      <th>x2</th>\n",
       "      <th>s1</th>\n",
       "      <th>a2</th>\n",
       "      <th>t3</th>\n",
       "      <th>a3</th>\n",
       "      <th>RHS</th>\n",
       "    </tr>\n",
       "  </thead>\n",
       "  <tbody>\n",
       "    <tr>\n",
       "      <th>x1</th>\n",
       "      <td>1.0</td>\n",
       "      <td>0.333333</td>\n",
       "      <td>3.333333</td>\n",
       "      <td>0.0</td>\n",
       "      <td>0.0</td>\n",
       "      <td>0.0</td>\n",
       "      <td>9.0</td>\n",
       "    </tr>\n",
       "    <tr>\n",
       "      <th>a2</th>\n",
       "      <td>0.0</td>\n",
       "      <td>0.333333</td>\n",
       "      <td>-1.666667</td>\n",
       "      <td>1.0</td>\n",
       "      <td>0.0</td>\n",
       "      <td>0.0</td>\n",
       "      <td>1.5</td>\n",
       "    </tr>\n",
       "    <tr>\n",
       "      <th>a3</th>\n",
       "      <td>0.0</td>\n",
       "      <td>0.200000</td>\n",
       "      <td>-2.000000</td>\n",
       "      <td>0.0</td>\n",
       "      <td>-1.0</td>\n",
       "      <td>1.0</td>\n",
       "      <td>0.6</td>\n",
       "    </tr>\n",
       "    <tr>\n",
       "      <th>C - Z</th>\n",
       "      <td>0.0</td>\n",
       "      <td>0.533333</td>\n",
       "      <td>-3.666667</td>\n",
       "      <td>0.0</td>\n",
       "      <td>-1.0</td>\n",
       "      <td>0.0</td>\n",
       "      <td>2.1</td>\n",
       "    </tr>\n",
       "  </tbody>\n",
       "</table>\n",
       "</div>"
      ],
      "text/plain": [
       "        x1        x2        s1   a2   t3   a3  RHS\n",
       "x1     1.0  0.333333  3.333333  0.0  0.0  0.0  9.0\n",
       "a2     0.0  0.333333 -1.666667  1.0  0.0  0.0  1.5\n",
       "a3     0.0  0.200000 -2.000000  0.0 -1.0  1.0  0.6\n",
       "C - Z  0.0  0.533333 -3.666667  0.0 -1.0  0.0  2.1"
      ]
     },
     "metadata": {},
     "output_type": "display_data"
    },
    {
     "data": {
      "text/markdown": [
       "Entering variable is x2 (largest positive Cj-Zj)."
      ],
      "text/plain": [
       "<IPython.core.display.Markdown object>"
      ]
     },
     "metadata": {},
     "output_type": "display_data"
    },
    {
     "data": {
      "text/markdown": [
       "Leaving variable is a3 (smallest ratio)."
      ],
      "text/plain": [
       "<IPython.core.display.Markdown object>"
      ]
     },
     "metadata": {},
     "output_type": "display_data"
    },
    {
     "data": {
      "text/markdown": [
       "Iteration 2 (Phase 1): Pivot on R3, C2."
      ],
      "text/plain": [
       "<IPython.core.display.Markdown object>"
      ]
     },
     "metadata": {},
     "output_type": "display_data"
    },
    {
     "data": {
      "text/markdown": [
       "   Row R3 divided by pivot element 0.200000 to make it 1."
      ],
      "text/plain": [
       "<IPython.core.display.Markdown object>"
      ]
     },
     "metadata": {},
     "output_type": "display_data"
    },
    {
     "data": {
      "text/markdown": [
       "   Row R1 updated: R1 - (0.333333) * R3"
      ],
      "text/plain": [
       "<IPython.core.display.Markdown object>"
      ]
     },
     "metadata": {},
     "output_type": "display_data"
    },
    {
     "data": {
      "text/markdown": [
       "   Row R2 updated: R2 - (0.333333) * R3"
      ],
      "text/plain": [
       "<IPython.core.display.Markdown object>"
      ]
     },
     "metadata": {},
     "output_type": "display_data"
    },
    {
     "data": {
      "text/markdown": [
       "   Row R4 updated: R4 - (0.533333) * R3"
      ],
      "text/plain": [
       "<IPython.core.display.Markdown object>"
      ]
     },
     "metadata": {},
     "output_type": "display_data"
    },
    {
     "data": {
      "text/markdown": [
       "### After pivot #2"
      ],
      "text/plain": [
       "<IPython.core.display.Markdown object>"
      ]
     },
     "metadata": {},
     "output_type": "display_data"
    },
    {
     "data": {
      "text/html": [
       "<div>\n",
       "<style scoped>\n",
       "    .dataframe tbody tr th:only-of-type {\n",
       "        vertical-align: middle;\n",
       "    }\n",
       "\n",
       "    .dataframe tbody tr th {\n",
       "        vertical-align: top;\n",
       "    }\n",
       "\n",
       "    .dataframe thead th {\n",
       "        text-align: right;\n",
       "    }\n",
       "</style>\n",
       "<table border=\"1\" class=\"dataframe\">\n",
       "  <thead>\n",
       "    <tr style=\"text-align: right;\">\n",
       "      <th></th>\n",
       "      <th>x1</th>\n",
       "      <th>x2</th>\n",
       "      <th>s1</th>\n",
       "      <th>a2</th>\n",
       "      <th>t3</th>\n",
       "      <th>a3</th>\n",
       "      <th>RHS</th>\n",
       "    </tr>\n",
       "  </thead>\n",
       "  <tbody>\n",
       "    <tr>\n",
       "      <th>x1</th>\n",
       "      <td>1.0</td>\n",
       "      <td>0.0</td>\n",
       "      <td>6.666667</td>\n",
       "      <td>0.0</td>\n",
       "      <td>1.666667</td>\n",
       "      <td>-1.666667</td>\n",
       "      <td>8.0</td>\n",
       "    </tr>\n",
       "    <tr>\n",
       "      <th>a2</th>\n",
       "      <td>0.0</td>\n",
       "      <td>0.0</td>\n",
       "      <td>1.666667</td>\n",
       "      <td>1.0</td>\n",
       "      <td>1.666667</td>\n",
       "      <td>-1.666667</td>\n",
       "      <td>0.5</td>\n",
       "    </tr>\n",
       "    <tr>\n",
       "      <th>x2</th>\n",
       "      <td>0.0</td>\n",
       "      <td>1.0</td>\n",
       "      <td>-10.000000</td>\n",
       "      <td>0.0</td>\n",
       "      <td>-5.000000</td>\n",
       "      <td>5.000000</td>\n",
       "      <td>3.0</td>\n",
       "    </tr>\n",
       "    <tr>\n",
       "      <th>C - Z</th>\n",
       "      <td>0.0</td>\n",
       "      <td>0.0</td>\n",
       "      <td>1.666667</td>\n",
       "      <td>0.0</td>\n",
       "      <td>1.666667</td>\n",
       "      <td>-2.666667</td>\n",
       "      <td>0.5</td>\n",
       "    </tr>\n",
       "  </tbody>\n",
       "</table>\n",
       "</div>"
      ],
      "text/plain": [
       "        x1   x2         s1   a2        t3        a3  RHS\n",
       "x1     1.0  0.0   6.666667  0.0  1.666667 -1.666667  8.0\n",
       "a2     0.0  0.0   1.666667  1.0  1.666667 -1.666667  0.5\n",
       "x2     0.0  1.0 -10.000000  0.0 -5.000000  5.000000  3.0\n",
       "C - Z  0.0  0.0   1.666667  0.0  1.666667 -2.666667  0.5"
      ]
     },
     "metadata": {},
     "output_type": "display_data"
    },
    {
     "data": {
      "text/markdown": [
       "Entering variable is s1 (largest positive Cj-Zj)."
      ],
      "text/plain": [
       "<IPython.core.display.Markdown object>"
      ]
     },
     "metadata": {},
     "output_type": "display_data"
    },
    {
     "data": {
      "text/markdown": [
       "Leaving variable is a2 (smallest ratio)."
      ],
      "text/plain": [
       "<IPython.core.display.Markdown object>"
      ]
     },
     "metadata": {},
     "output_type": "display_data"
    },
    {
     "data": {
      "text/markdown": [
       "Iteration 3 (Phase 1): Pivot on R2, C3."
      ],
      "text/plain": [
       "<IPython.core.display.Markdown object>"
      ]
     },
     "metadata": {},
     "output_type": "display_data"
    },
    {
     "data": {
      "text/markdown": [
       "   Row R2 divided by pivot element 1.666667 to make it 1."
      ],
      "text/plain": [
       "<IPython.core.display.Markdown object>"
      ]
     },
     "metadata": {},
     "output_type": "display_data"
    },
    {
     "data": {
      "text/markdown": [
       "   Row R1 updated: R1 - (6.666667) * R2"
      ],
      "text/plain": [
       "<IPython.core.display.Markdown object>"
      ]
     },
     "metadata": {},
     "output_type": "display_data"
    },
    {
     "data": {
      "text/markdown": [
       "   Row R3 updated: R3 - (-10.000000) * R2"
      ],
      "text/plain": [
       "<IPython.core.display.Markdown object>"
      ]
     },
     "metadata": {},
     "output_type": "display_data"
    },
    {
     "data": {
      "text/markdown": [
       "   Row R4 updated: R4 - (1.666667) * R2"
      ],
      "text/plain": [
       "<IPython.core.display.Markdown object>"
      ]
     },
     "metadata": {},
     "output_type": "display_data"
    },
    {
     "data": {
      "text/markdown": [
       "### After pivot #3"
      ],
      "text/plain": [
       "<IPython.core.display.Markdown object>"
      ]
     },
     "metadata": {},
     "output_type": "display_data"
    },
    {
     "data": {
      "text/html": [
       "<div>\n",
       "<style scoped>\n",
       "    .dataframe tbody tr th:only-of-type {\n",
       "        vertical-align: middle;\n",
       "    }\n",
       "\n",
       "    .dataframe tbody tr th {\n",
       "        vertical-align: top;\n",
       "    }\n",
       "\n",
       "    .dataframe thead th {\n",
       "        text-align: right;\n",
       "    }\n",
       "</style>\n",
       "<table border=\"1\" class=\"dataframe\">\n",
       "  <thead>\n",
       "    <tr style=\"text-align: right;\">\n",
       "      <th></th>\n",
       "      <th>x1</th>\n",
       "      <th>x2</th>\n",
       "      <th>s1</th>\n",
       "      <th>a2</th>\n",
       "      <th>t3</th>\n",
       "      <th>a3</th>\n",
       "      <th>RHS</th>\n",
       "    </tr>\n",
       "  </thead>\n",
       "  <tbody>\n",
       "    <tr>\n",
       "      <th>x1</th>\n",
       "      <td>1.0</td>\n",
       "      <td>0.0</td>\n",
       "      <td>0.0</td>\n",
       "      <td>-4.0</td>\n",
       "      <td>-5.0</td>\n",
       "      <td>5.0</td>\n",
       "      <td>6.0</td>\n",
       "    </tr>\n",
       "    <tr>\n",
       "      <th>s1</th>\n",
       "      <td>0.0</td>\n",
       "      <td>0.0</td>\n",
       "      <td>1.0</td>\n",
       "      <td>0.6</td>\n",
       "      <td>1.0</td>\n",
       "      <td>-1.0</td>\n",
       "      <td>0.3</td>\n",
       "    </tr>\n",
       "    <tr>\n",
       "      <th>x2</th>\n",
       "      <td>0.0</td>\n",
       "      <td>1.0</td>\n",
       "      <td>0.0</td>\n",
       "      <td>6.0</td>\n",
       "      <td>5.0</td>\n",
       "      <td>-5.0</td>\n",
       "      <td>6.0</td>\n",
       "    </tr>\n",
       "    <tr>\n",
       "      <th>C - Z</th>\n",
       "      <td>0.0</td>\n",
       "      <td>0.0</td>\n",
       "      <td>0.0</td>\n",
       "      <td>-1.0</td>\n",
       "      <td>0.0</td>\n",
       "      <td>-1.0</td>\n",
       "      <td>0.0</td>\n",
       "    </tr>\n",
       "  </tbody>\n",
       "</table>\n",
       "</div>"
      ],
      "text/plain": [
       "        x1   x2   s1   a2   t3   a3  RHS\n",
       "x1     1.0  0.0  0.0 -4.0 -5.0  5.0  6.0\n",
       "s1     0.0  0.0  1.0  0.6  1.0 -1.0  0.3\n",
       "x2     0.0  1.0  0.0  6.0  5.0 -5.0  6.0\n",
       "C - Z  0.0  0.0  0.0 -1.0  0.0 -1.0  0.0"
      ]
     },
     "metadata": {},
     "output_type": "display_data"
    },
    {
     "data": {
      "text/markdown": [
       "Phase 1 — All Cj-Zj are non-positive. Optimal solution for this phase found."
      ],
      "text/plain": [
       "<IPython.core.display.Markdown object>"
      ]
     },
     "metadata": {},
     "output_type": "display_data"
    },
    {
     "data": {
      "text/markdown": [
       "### Phase 1 — Optimal (no positive C-Z). Objective = -0.000000"
      ],
      "text/plain": [
       "<IPython.core.display.Markdown object>"
      ]
     },
     "metadata": {},
     "output_type": "display_data"
    },
    {
     "data": {
      "text/html": [
       "<div>\n",
       "<style scoped>\n",
       "    .dataframe tbody tr th:only-of-type {\n",
       "        vertical-align: middle;\n",
       "    }\n",
       "\n",
       "    .dataframe tbody tr th {\n",
       "        vertical-align: top;\n",
       "    }\n",
       "\n",
       "    .dataframe thead th {\n",
       "        text-align: right;\n",
       "    }\n",
       "</style>\n",
       "<table border=\"1\" class=\"dataframe\">\n",
       "  <thead>\n",
       "    <tr style=\"text-align: right;\">\n",
       "      <th></th>\n",
       "      <th>x1</th>\n",
       "      <th>x2</th>\n",
       "      <th>s1</th>\n",
       "      <th>a2</th>\n",
       "      <th>t3</th>\n",
       "      <th>a3</th>\n",
       "      <th>RHS</th>\n",
       "    </tr>\n",
       "  </thead>\n",
       "  <tbody>\n",
       "    <tr>\n",
       "      <th>x1</th>\n",
       "      <td>1.0</td>\n",
       "      <td>0.0</td>\n",
       "      <td>0.0</td>\n",
       "      <td>-4.0</td>\n",
       "      <td>-5.0</td>\n",
       "      <td>5.0</td>\n",
       "      <td>6.0</td>\n",
       "    </tr>\n",
       "    <tr>\n",
       "      <th>s1</th>\n",
       "      <td>0.0</td>\n",
       "      <td>0.0</td>\n",
       "      <td>1.0</td>\n",
       "      <td>0.6</td>\n",
       "      <td>1.0</td>\n",
       "      <td>-1.0</td>\n",
       "      <td>0.3</td>\n",
       "    </tr>\n",
       "    <tr>\n",
       "      <th>x2</th>\n",
       "      <td>0.0</td>\n",
       "      <td>1.0</td>\n",
       "      <td>0.0</td>\n",
       "      <td>6.0</td>\n",
       "      <td>5.0</td>\n",
       "      <td>-5.0</td>\n",
       "      <td>6.0</td>\n",
       "    </tr>\n",
       "    <tr>\n",
       "      <th>C - Z</th>\n",
       "      <td>0.0</td>\n",
       "      <td>0.0</td>\n",
       "      <td>0.0</td>\n",
       "      <td>-1.0</td>\n",
       "      <td>0.0</td>\n",
       "      <td>-1.0</td>\n",
       "      <td>0.0</td>\n",
       "    </tr>\n",
       "  </tbody>\n",
       "</table>\n",
       "</div>"
      ],
      "text/plain": [
       "        x1   x2   s1   a2   t3   a3  RHS\n",
       "x1     1.0  0.0  0.0 -4.0 -5.0  5.0  6.0\n",
       "s1     0.0  0.0  1.0  0.6  1.0 -1.0  0.3\n",
       "x2     0.0  1.0  0.0  6.0  5.0 -5.0  6.0\n",
       "C - Z  0.0  0.0  0.0 -1.0  0.0 -1.0  0.0"
      ]
     },
     "metadata": {},
     "output_type": "display_data"
    },
    {
     "data": {
      "text/markdown": [
       "--- Starting Phase 2 ---"
      ],
      "text/plain": [
       "<IPython.core.display.Markdown object>"
      ]
     },
     "metadata": {},
     "output_type": "display_data"
    },
    {
     "data": {
      "text/markdown": [
       "### Phase 2 — Initial C - Z row"
      ],
      "text/plain": [
       "<IPython.core.display.Markdown object>"
      ]
     },
     "metadata": {},
     "output_type": "display_data"
    },
    {
     "data": {
      "text/html": [
       "<div>\n",
       "<style scoped>\n",
       "    .dataframe tbody tr th:only-of-type {\n",
       "        vertical-align: middle;\n",
       "    }\n",
       "\n",
       "    .dataframe tbody tr th {\n",
       "        vertical-align: top;\n",
       "    }\n",
       "\n",
       "    .dataframe thead th {\n",
       "        text-align: right;\n",
       "    }\n",
       "</style>\n",
       "<table border=\"1\" class=\"dataframe\">\n",
       "  <thead>\n",
       "    <tr style=\"text-align: right;\">\n",
       "      <th></th>\n",
       "      <th>x1</th>\n",
       "      <th>x2</th>\n",
       "      <th>s1</th>\n",
       "      <th>t3</th>\n",
       "      <th>RHS</th>\n",
       "    </tr>\n",
       "  </thead>\n",
       "  <tbody>\n",
       "    <tr>\n",
       "      <th>x1</th>\n",
       "      <td>1.0</td>\n",
       "      <td>0.0</td>\n",
       "      <td>0.0</td>\n",
       "      <td>-5.0</td>\n",
       "      <td>6.0</td>\n",
       "    </tr>\n",
       "    <tr>\n",
       "      <th>s1</th>\n",
       "      <td>0.0</td>\n",
       "      <td>0.0</td>\n",
       "      <td>1.0</td>\n",
       "      <td>1.0</td>\n",
       "      <td>0.3</td>\n",
       "    </tr>\n",
       "    <tr>\n",
       "      <th>x2</th>\n",
       "      <td>0.0</td>\n",
       "      <td>1.0</td>\n",
       "      <td>0.0</td>\n",
       "      <td>5.0</td>\n",
       "      <td>6.0</td>\n",
       "    </tr>\n",
       "    <tr>\n",
       "      <th>C - Z</th>\n",
       "      <td>0.0</td>\n",
       "      <td>0.0</td>\n",
       "      <td>0.0</td>\n",
       "      <td>0.5</td>\n",
       "      <td>5.4</td>\n",
       "    </tr>\n",
       "  </tbody>\n",
       "</table>\n",
       "</div>"
      ],
      "text/plain": [
       "        x1   x2   s1   t3  RHS\n",
       "x1     1.0  0.0  0.0 -5.0  6.0\n",
       "s1     0.0  0.0  1.0  1.0  0.3\n",
       "x2     0.0  1.0  0.0  5.0  6.0\n",
       "C - Z  0.0  0.0  0.0  0.5  5.4"
      ]
     },
     "metadata": {},
     "output_type": "display_data"
    },
    {
     "data": {
      "text/markdown": [
       "Entering variable is t3 (largest positive Cj-Zj)."
      ],
      "text/plain": [
       "<IPython.core.display.Markdown object>"
      ]
     },
     "metadata": {},
     "output_type": "display_data"
    },
    {
     "data": {
      "text/markdown": [
       "Leaving variable is s1 (smallest ratio)."
      ],
      "text/plain": [
       "<IPython.core.display.Markdown object>"
      ]
     },
     "metadata": {},
     "output_type": "display_data"
    },
    {
     "data": {
      "text/markdown": [
       "Iteration 4 (Phase 2): Pivot on R2, C4."
      ],
      "text/plain": [
       "<IPython.core.display.Markdown object>"
      ]
     },
     "metadata": {},
     "output_type": "display_data"
    },
    {
     "data": {
      "text/markdown": [
       "   Row R2 divided by pivot element 1.000000 to make it 1."
      ],
      "text/plain": [
       "<IPython.core.display.Markdown object>"
      ]
     },
     "metadata": {},
     "output_type": "display_data"
    },
    {
     "data": {
      "text/markdown": [
       "   Row R1 updated: R1 - (-5.000000) * R2"
      ],
      "text/plain": [
       "<IPython.core.display.Markdown object>"
      ]
     },
     "metadata": {},
     "output_type": "display_data"
    },
    {
     "data": {
      "text/markdown": [
       "   Row R3 updated: R3 - (5.000000) * R2"
      ],
      "text/plain": [
       "<IPython.core.display.Markdown object>"
      ]
     },
     "metadata": {},
     "output_type": "display_data"
    },
    {
     "data": {
      "text/markdown": [
       "   Row R4 updated: R4 - (0.500000) * R2"
      ],
      "text/plain": [
       "<IPython.core.display.Markdown object>"
      ]
     },
     "metadata": {},
     "output_type": "display_data"
    },
    {
     "data": {
      "text/markdown": [
       "### After pivot #4"
      ],
      "text/plain": [
       "<IPython.core.display.Markdown object>"
      ]
     },
     "metadata": {},
     "output_type": "display_data"
    },
    {
     "data": {
      "text/html": [
       "<div>\n",
       "<style scoped>\n",
       "    .dataframe tbody tr th:only-of-type {\n",
       "        vertical-align: middle;\n",
       "    }\n",
       "\n",
       "    .dataframe tbody tr th {\n",
       "        vertical-align: top;\n",
       "    }\n",
       "\n",
       "    .dataframe thead th {\n",
       "        text-align: right;\n",
       "    }\n",
       "</style>\n",
       "<table border=\"1\" class=\"dataframe\">\n",
       "  <thead>\n",
       "    <tr style=\"text-align: right;\">\n",
       "      <th></th>\n",
       "      <th>x1</th>\n",
       "      <th>x2</th>\n",
       "      <th>s1</th>\n",
       "      <th>t3</th>\n",
       "      <th>RHS</th>\n",
       "    </tr>\n",
       "  </thead>\n",
       "  <tbody>\n",
       "    <tr>\n",
       "      <th>x1</th>\n",
       "      <td>1.0</td>\n",
       "      <td>0.0</td>\n",
       "      <td>5.0</td>\n",
       "      <td>0.0</td>\n",
       "      <td>7.50</td>\n",
       "    </tr>\n",
       "    <tr>\n",
       "      <th>t3</th>\n",
       "      <td>0.0</td>\n",
       "      <td>0.0</td>\n",
       "      <td>1.0</td>\n",
       "      <td>1.0</td>\n",
       "      <td>0.30</td>\n",
       "    </tr>\n",
       "    <tr>\n",
       "      <th>x2</th>\n",
       "      <td>0.0</td>\n",
       "      <td>1.0</td>\n",
       "      <td>-5.0</td>\n",
       "      <td>0.0</td>\n",
       "      <td>4.50</td>\n",
       "    </tr>\n",
       "    <tr>\n",
       "      <th>C - Z</th>\n",
       "      <td>0.0</td>\n",
       "      <td>0.0</td>\n",
       "      <td>-0.5</td>\n",
       "      <td>0.0</td>\n",
       "      <td>5.25</td>\n",
       "    </tr>\n",
       "  </tbody>\n",
       "</table>\n",
       "</div>"
      ],
      "text/plain": [
       "        x1   x2   s1   t3   RHS\n",
       "x1     1.0  0.0  5.0  0.0  7.50\n",
       "t3     0.0  0.0  1.0  1.0  0.30\n",
       "x2     0.0  1.0 -5.0  0.0  4.50\n",
       "C - Z  0.0  0.0 -0.5  0.0  5.25"
      ]
     },
     "metadata": {},
     "output_type": "display_data"
    },
    {
     "data": {
      "text/markdown": [
       "Phase 2 — All Cj-Zj are non-positive. Optimal solution for this phase found."
      ],
      "text/plain": [
       "<IPython.core.display.Markdown object>"
      ]
     },
     "metadata": {},
     "output_type": "display_data"
    },
    {
     "data": {
      "text/markdown": [
       "### Phase 2 — Optimal (no positive C-Z). Objective = -5.250000"
      ],
      "text/plain": [
       "<IPython.core.display.Markdown object>"
      ]
     },
     "metadata": {},
     "output_type": "display_data"
    },
    {
     "data": {
      "text/html": [
       "<div>\n",
       "<style scoped>\n",
       "    .dataframe tbody tr th:only-of-type {\n",
       "        vertical-align: middle;\n",
       "    }\n",
       "\n",
       "    .dataframe tbody tr th {\n",
       "        vertical-align: top;\n",
       "    }\n",
       "\n",
       "    .dataframe thead th {\n",
       "        text-align: right;\n",
       "    }\n",
       "</style>\n",
       "<table border=\"1\" class=\"dataframe\">\n",
       "  <thead>\n",
       "    <tr style=\"text-align: right;\">\n",
       "      <th></th>\n",
       "      <th>x1</th>\n",
       "      <th>x2</th>\n",
       "      <th>s1</th>\n",
       "      <th>t3</th>\n",
       "      <th>RHS</th>\n",
       "    </tr>\n",
       "  </thead>\n",
       "  <tbody>\n",
       "    <tr>\n",
       "      <th>x1</th>\n",
       "      <td>1.0</td>\n",
       "      <td>0.0</td>\n",
       "      <td>5.0</td>\n",
       "      <td>0.0</td>\n",
       "      <td>7.50</td>\n",
       "    </tr>\n",
       "    <tr>\n",
       "      <th>t3</th>\n",
       "      <td>0.0</td>\n",
       "      <td>0.0</td>\n",
       "      <td>1.0</td>\n",
       "      <td>1.0</td>\n",
       "      <td>0.30</td>\n",
       "    </tr>\n",
       "    <tr>\n",
       "      <th>x2</th>\n",
       "      <td>0.0</td>\n",
       "      <td>1.0</td>\n",
       "      <td>-5.0</td>\n",
       "      <td>0.0</td>\n",
       "      <td>4.50</td>\n",
       "    </tr>\n",
       "    <tr>\n",
       "      <th>C - Z</th>\n",
       "      <td>0.0</td>\n",
       "      <td>0.0</td>\n",
       "      <td>-0.5</td>\n",
       "      <td>0.0</td>\n",
       "      <td>5.25</td>\n",
       "    </tr>\n",
       "  </tbody>\n",
       "</table>\n",
       "</div>"
      ],
      "text/plain": [
       "        x1   x2   s1   t3   RHS\n",
       "x1     1.0  0.0  5.0  0.0  7.50\n",
       "t3     0.0  0.0  1.0  1.0  0.30\n",
       "x2     0.0  1.0 -5.0  0.0  4.50\n",
       "C - Z  0.0  0.0 -0.5  0.0  5.25"
      ]
     },
     "metadata": {},
     "output_type": "display_data"
    },
    {
     "name": "stdout",
     "output_type": "stream",
     "text": [
      "\n",
      "=== RESULT ===\n",
      "Status: optimal\n",
      "Objective value: 5.25\n",
      "Solution: {'x1': np.float64(7.500000000000003), 'x2': np.float64(4.499999999999997)}\n",
      "Iterations: 4\n"
     ]
    }
   ],
   "source": [
    "# Example (change these to your own problem)\n",
    "sense = 'min'  # 'max' or 'min'\n",
    "c = [0.4, 0.5]     # maximize 3x1 + 2x2\n",
    "A = [\n",
    "    [0.3, 0.1],\n",
    "    [0.5, 0.5],\n",
    "    [0.6, 0.4],\n",
    "]\n",
    "b = [2.7, 6, 6]\n",
    "cons = ['<=', '=', '>=']\n",
    "Mode = 'TwoPhase'\n",
    "\n",
    "run_and_show(sense, c, A, b, cons, Mode, M=1e5)"
   ]
  },
  {
   "cell_type": "code",
   "execution_count": 22,
   "id": "f99b0b39",
   "metadata": {},
   "outputs": [
    {
     "name": "stdout",
     "output_type": "stream",
     "text": [
      "\n",
      "=== Mode ===\n",
      "Mode: TwoPhase\n"
     ]
    },
    {
     "data": {
      "text/markdown": [
       "--- Starting Phase 2 ---"
      ],
      "text/plain": [
       "<IPython.core.display.Markdown object>"
      ]
     },
     "metadata": {},
     "output_type": "display_data"
    },
    {
     "data": {
      "text/markdown": [
       "### Phase 2 — Initial C - Z row"
      ],
      "text/plain": [
       "<IPython.core.display.Markdown object>"
      ]
     },
     "metadata": {},
     "output_type": "display_data"
    },
    {
     "data": {
      "text/html": [
       "<div>\n",
       "<style scoped>\n",
       "    .dataframe tbody tr th:only-of-type {\n",
       "        vertical-align: middle;\n",
       "    }\n",
       "\n",
       "    .dataframe tbody tr th {\n",
       "        vertical-align: top;\n",
       "    }\n",
       "\n",
       "    .dataframe thead th {\n",
       "        text-align: right;\n",
       "    }\n",
       "</style>\n",
       "<table border=\"1\" class=\"dataframe\">\n",
       "  <thead>\n",
       "    <tr style=\"text-align: right;\">\n",
       "      <th></th>\n",
       "      <th>x1</th>\n",
       "      <th>x2</th>\n",
       "      <th>x3</th>\n",
       "      <th>s1</th>\n",
       "      <th>s2</th>\n",
       "      <th>RHS</th>\n",
       "    </tr>\n",
       "  </thead>\n",
       "  <tbody>\n",
       "    <tr>\n",
       "      <th>s1</th>\n",
       "      <td>10.0</td>\n",
       "      <td>40.0</td>\n",
       "      <td>15.0</td>\n",
       "      <td>1.0</td>\n",
       "      <td>0.0</td>\n",
       "      <td>6000.0</td>\n",
       "    </tr>\n",
       "    <tr>\n",
       "      <th>s2</th>\n",
       "      <td>2.0</td>\n",
       "      <td>8.0</td>\n",
       "      <td>3.0</td>\n",
       "      <td>0.0</td>\n",
       "      <td>1.0</td>\n",
       "      <td>1000.0</td>\n",
       "    </tr>\n",
       "    <tr>\n",
       "      <th>C - Z</th>\n",
       "      <td>25.0</td>\n",
       "      <td>100.0</td>\n",
       "      <td>35.0</td>\n",
       "      <td>0.0</td>\n",
       "      <td>0.0</td>\n",
       "      <td>0.0</td>\n",
       "    </tr>\n",
       "  </tbody>\n",
       "</table>\n",
       "</div>"
      ],
      "text/plain": [
       "         x1     x2    x3   s1   s2     RHS\n",
       "s1     10.0   40.0  15.0  1.0  0.0  6000.0\n",
       "s2      2.0    8.0   3.0  0.0  1.0  1000.0\n",
       "C - Z  25.0  100.0  35.0  0.0  0.0     0.0"
      ]
     },
     "metadata": {},
     "output_type": "display_data"
    },
    {
     "data": {
      "text/markdown": [
       "Entering variable is x1 (largest positive Cj-Zj)."
      ],
      "text/plain": [
       "<IPython.core.display.Markdown object>"
      ]
     },
     "metadata": {},
     "output_type": "display_data"
    },
    {
     "data": {
      "text/markdown": [
       "Leaving variable is s2 (smallest ratio)."
      ],
      "text/plain": [
       "<IPython.core.display.Markdown object>"
      ]
     },
     "metadata": {},
     "output_type": "display_data"
    },
    {
     "data": {
      "text/markdown": [
       "Iteration 1 (Phase 2): Pivot on R2, C1."
      ],
      "text/plain": [
       "<IPython.core.display.Markdown object>"
      ]
     },
     "metadata": {},
     "output_type": "display_data"
    },
    {
     "data": {
      "text/markdown": [
       "   Row R2 divided by pivot element 2.000000 to make it 1."
      ],
      "text/plain": [
       "<IPython.core.display.Markdown object>"
      ]
     },
     "metadata": {},
     "output_type": "display_data"
    },
    {
     "data": {
      "text/markdown": [
       "   Row R1 updated: R1 - (10.000000) * R2"
      ],
      "text/plain": [
       "<IPython.core.display.Markdown object>"
      ]
     },
     "metadata": {},
     "output_type": "display_data"
    },
    {
     "data": {
      "text/markdown": [
       "   Row R3 updated: R3 - (25.000000) * R2"
      ],
      "text/plain": [
       "<IPython.core.display.Markdown object>"
      ]
     },
     "metadata": {},
     "output_type": "display_data"
    },
    {
     "data": {
      "text/markdown": [
       "### After pivot #1"
      ],
      "text/plain": [
       "<IPython.core.display.Markdown object>"
      ]
     },
     "metadata": {},
     "output_type": "display_data"
    },
    {
     "data": {
      "text/html": [
       "<div>\n",
       "<style scoped>\n",
       "    .dataframe tbody tr th:only-of-type {\n",
       "        vertical-align: middle;\n",
       "    }\n",
       "\n",
       "    .dataframe tbody tr th {\n",
       "        vertical-align: top;\n",
       "    }\n",
       "\n",
       "    .dataframe thead th {\n",
       "        text-align: right;\n",
       "    }\n",
       "</style>\n",
       "<table border=\"1\" class=\"dataframe\">\n",
       "  <thead>\n",
       "    <tr style=\"text-align: right;\">\n",
       "      <th></th>\n",
       "      <th>x1</th>\n",
       "      <th>x2</th>\n",
       "      <th>x3</th>\n",
       "      <th>s1</th>\n",
       "      <th>s2</th>\n",
       "      <th>RHS</th>\n",
       "    </tr>\n",
       "  </thead>\n",
       "  <tbody>\n",
       "    <tr>\n",
       "      <th>s1</th>\n",
       "      <td>0.0</td>\n",
       "      <td>0.0</td>\n",
       "      <td>0.0</td>\n",
       "      <td>1.0</td>\n",
       "      <td>-5.0</td>\n",
       "      <td>1000.0</td>\n",
       "    </tr>\n",
       "    <tr>\n",
       "      <th>x1</th>\n",
       "      <td>1.0</td>\n",
       "      <td>4.0</td>\n",
       "      <td>1.5</td>\n",
       "      <td>0.0</td>\n",
       "      <td>0.5</td>\n",
       "      <td>500.0</td>\n",
       "    </tr>\n",
       "    <tr>\n",
       "      <th>C - Z</th>\n",
       "      <td>0.0</td>\n",
       "      <td>0.0</td>\n",
       "      <td>-2.5</td>\n",
       "      <td>0.0</td>\n",
       "      <td>-12.5</td>\n",
       "      <td>-12500.0</td>\n",
       "    </tr>\n",
       "  </tbody>\n",
       "</table>\n",
       "</div>"
      ],
      "text/plain": [
       "        x1   x2   x3   s1    s2      RHS\n",
       "s1     0.0  0.0  0.0  1.0  -5.0   1000.0\n",
       "x1     1.0  4.0  1.5  0.0   0.5    500.0\n",
       "C - Z  0.0  0.0 -2.5  0.0 -12.5 -12500.0"
      ]
     },
     "metadata": {},
     "output_type": "display_data"
    },
    {
     "data": {
      "text/markdown": [
       "Phase 2 — All Cj-Zj are non-positive. Optimal solution for this phase found."
      ],
      "text/plain": [
       "<IPython.core.display.Markdown object>"
      ]
     },
     "metadata": {},
     "output_type": "display_data"
    },
    {
     "data": {
      "text/markdown": [
       "### Phase 2 — Optimal (no positive C-Z). Objective = 12500.000000"
      ],
      "text/plain": [
       "<IPython.core.display.Markdown object>"
      ]
     },
     "metadata": {},
     "output_type": "display_data"
    },
    {
     "data": {
      "text/html": [
       "<div>\n",
       "<style scoped>\n",
       "    .dataframe tbody tr th:only-of-type {\n",
       "        vertical-align: middle;\n",
       "    }\n",
       "\n",
       "    .dataframe tbody tr th {\n",
       "        vertical-align: top;\n",
       "    }\n",
       "\n",
       "    .dataframe thead th {\n",
       "        text-align: right;\n",
       "    }\n",
       "</style>\n",
       "<table border=\"1\" class=\"dataframe\">\n",
       "  <thead>\n",
       "    <tr style=\"text-align: right;\">\n",
       "      <th></th>\n",
       "      <th>x1</th>\n",
       "      <th>x2</th>\n",
       "      <th>x3</th>\n",
       "      <th>s1</th>\n",
       "      <th>s2</th>\n",
       "      <th>RHS</th>\n",
       "    </tr>\n",
       "  </thead>\n",
       "  <tbody>\n",
       "    <tr>\n",
       "      <th>s1</th>\n",
       "      <td>0.0</td>\n",
       "      <td>0.0</td>\n",
       "      <td>0.0</td>\n",
       "      <td>1.0</td>\n",
       "      <td>-5.0</td>\n",
       "      <td>1000.0</td>\n",
       "    </tr>\n",
       "    <tr>\n",
       "      <th>x1</th>\n",
       "      <td>1.0</td>\n",
       "      <td>4.0</td>\n",
       "      <td>1.5</td>\n",
       "      <td>0.0</td>\n",
       "      <td>0.5</td>\n",
       "      <td>500.0</td>\n",
       "    </tr>\n",
       "    <tr>\n",
       "      <th>C - Z</th>\n",
       "      <td>0.0</td>\n",
       "      <td>0.0</td>\n",
       "      <td>-2.5</td>\n",
       "      <td>0.0</td>\n",
       "      <td>-12.5</td>\n",
       "      <td>-12500.0</td>\n",
       "    </tr>\n",
       "  </tbody>\n",
       "</table>\n",
       "</div>"
      ],
      "text/plain": [
       "        x1   x2   x3   s1    s2      RHS\n",
       "s1     0.0  0.0  0.0  1.0  -5.0   1000.0\n",
       "x1     1.0  4.0  1.5  0.0   0.5    500.0\n",
       "C - Z  0.0  0.0 -2.5  0.0 -12.5 -12500.0"
      ]
     },
     "metadata": {},
     "output_type": "display_data"
    },
    {
     "name": "stdout",
     "output_type": "stream",
     "text": [
      "\n",
      "=== RESULT ===\n",
      "Status: optimal\n",
      "Objective value: 12500.0\n",
      "Solution: {'x1': np.float64(500.0), 'x2': 0.0, 'x3': 0.0}\n",
      "Iterations: 1\n"
     ]
    }
   ],
   "source": [
    "# Example (change these to your own problem)\n",
    "sense = 'max'  # 'max' or 'min'\n",
    "c = [25, 100, 35]     # maximize 3x1 + 2x2\n",
    "A = [\n",
    "    [10, 40, 15],\n",
    "    [2, 8, 3]\n",
    "]\n",
    "b = [6000, 1000]\n",
    "cons = ['<=', '<=']\n",
    "Mode = 'TwoPhase'\n",
    "\n",
    "run_and_show(sense, c, A, b, cons, Mode, M=1e5)"
   ]
  },
  {
   "cell_type": "markdown",
   "id": "6470e731",
   "metadata": {},
   "source": [
    "## BIGM"
   ]
  },
  {
   "cell_type": "code",
   "execution_count": 15,
   "id": "54e1cdfc",
   "metadata": {},
   "outputs": [
    {
     "name": "stdout",
     "output_type": "stream",
     "text": [
      "\n",
      "=== Mode ===\n",
      "Mode: BigM\n"
     ]
    },
    {
     "name": "stderr",
     "output_type": "stream",
     "text": [
      "C:\\Users\\Admin\\AppData\\Local\\Temp\\ipykernel_25716\\2954123598.py:119: RuntimeWarning: divide by zero encountered in divide\n",
      "  ratios = np.where(mask, rhs / col, np.inf)\n"
     ]
    },
    {
     "data": {
      "text/markdown": [
       "### Initial Tableau (Big M Method)"
      ],
      "text/plain": [
       "<IPython.core.display.Markdown object>"
      ]
     },
     "metadata": {},
     "output_type": "display_data"
    },
    {
     "data": {
      "text/html": [
       "<div>\n",
       "<style scoped>\n",
       "    .dataframe tbody tr th:only-of-type {\n",
       "        vertical-align: middle;\n",
       "    }\n",
       "\n",
       "    .dataframe tbody tr th {\n",
       "        vertical-align: top;\n",
       "    }\n",
       "\n",
       "    .dataframe thead th {\n",
       "        text-align: right;\n",
       "    }\n",
       "</style>\n",
       "<table border=\"1\" class=\"dataframe\">\n",
       "  <thead>\n",
       "    <tr style=\"text-align: right;\">\n",
       "      <th></th>\n",
       "      <th>x1</th>\n",
       "      <th>x2</th>\n",
       "      <th>s1</th>\n",
       "      <th>s2</th>\n",
       "      <th>a3</th>\n",
       "      <th>RHS</th>\n",
       "    </tr>\n",
       "  </thead>\n",
       "  <tbody>\n",
       "    <tr>\n",
       "      <th>s1</th>\n",
       "      <td>1.0</td>\n",
       "      <td>0.0</td>\n",
       "      <td>1.0</td>\n",
       "      <td>0.0</td>\n",
       "      <td>0.0</td>\n",
       "      <td>4.0</td>\n",
       "    </tr>\n",
       "    <tr>\n",
       "      <th>s2</th>\n",
       "      <td>0.0</td>\n",
       "      <td>2.0</td>\n",
       "      <td>0.0</td>\n",
       "      <td>1.0</td>\n",
       "      <td>0.0</td>\n",
       "      <td>12.0</td>\n",
       "    </tr>\n",
       "    <tr>\n",
       "      <th>a3</th>\n",
       "      <td>3.0</td>\n",
       "      <td>2.0</td>\n",
       "      <td>0.0</td>\n",
       "      <td>0.0</td>\n",
       "      <td>1.0</td>\n",
       "      <td>18.0</td>\n",
       "    </tr>\n",
       "    <tr>\n",
       "      <th>C - Z</th>\n",
       "      <td>300003.0</td>\n",
       "      <td>200005.0</td>\n",
       "      <td>0.0</td>\n",
       "      <td>0.0</td>\n",
       "      <td>0.0</td>\n",
       "      <td>1800000.0</td>\n",
       "    </tr>\n",
       "  </tbody>\n",
       "</table>\n",
       "</div>"
      ],
      "text/plain": [
       "             x1        x2   s1   s2   a3        RHS\n",
       "s1          1.0       0.0  1.0  0.0  0.0        4.0\n",
       "s2          0.0       2.0  0.0  1.0  0.0       12.0\n",
       "a3          3.0       2.0  0.0  0.0  1.0       18.0\n",
       "C - Z  300003.0  200005.0  0.0  0.0  0.0  1800000.0"
      ]
     },
     "metadata": {},
     "output_type": "display_data"
    },
    {
     "data": {
      "text/markdown": [
       "Iteration 1: Enter = x1, Leave = s1"
      ],
      "text/plain": [
       "<IPython.core.display.Markdown object>"
      ]
     },
     "metadata": {},
     "output_type": "display_data"
    },
    {
     "data": {
      "text/markdown": [
       "   Row R1 divided by pivot element 1.000000 to make it 1."
      ],
      "text/plain": [
       "<IPython.core.display.Markdown object>"
      ]
     },
     "metadata": {},
     "output_type": "display_data"
    },
    {
     "data": {
      "text/markdown": [
       "   Row R3 updated: R3 - (3.000000) * R1"
      ],
      "text/plain": [
       "<IPython.core.display.Markdown object>"
      ]
     },
     "metadata": {},
     "output_type": "display_data"
    },
    {
     "data": {
      "text/markdown": [
       "   Row R4 updated: R4 - (300003.000000) * R1"
      ],
      "text/plain": [
       "<IPython.core.display.Markdown object>"
      ]
     },
     "metadata": {},
     "output_type": "display_data"
    },
    {
     "data": {
      "text/markdown": [
       "### After pivot #1"
      ],
      "text/plain": [
       "<IPython.core.display.Markdown object>"
      ]
     },
     "metadata": {},
     "output_type": "display_data"
    },
    {
     "data": {
      "text/html": [
       "<div>\n",
       "<style scoped>\n",
       "    .dataframe tbody tr th:only-of-type {\n",
       "        vertical-align: middle;\n",
       "    }\n",
       "\n",
       "    .dataframe tbody tr th {\n",
       "        vertical-align: top;\n",
       "    }\n",
       "\n",
       "    .dataframe thead th {\n",
       "        text-align: right;\n",
       "    }\n",
       "</style>\n",
       "<table border=\"1\" class=\"dataframe\">\n",
       "  <thead>\n",
       "    <tr style=\"text-align: right;\">\n",
       "      <th></th>\n",
       "      <th>x1</th>\n",
       "      <th>x2</th>\n",
       "      <th>s1</th>\n",
       "      <th>s2</th>\n",
       "      <th>a3</th>\n",
       "      <th>RHS</th>\n",
       "    </tr>\n",
       "  </thead>\n",
       "  <tbody>\n",
       "    <tr>\n",
       "      <th>x1</th>\n",
       "      <td>1.0</td>\n",
       "      <td>0.0</td>\n",
       "      <td>1.0</td>\n",
       "      <td>0.0</td>\n",
       "      <td>0.0</td>\n",
       "      <td>4.0</td>\n",
       "    </tr>\n",
       "    <tr>\n",
       "      <th>s2</th>\n",
       "      <td>0.0</td>\n",
       "      <td>2.0</td>\n",
       "      <td>0.0</td>\n",
       "      <td>1.0</td>\n",
       "      <td>0.0</td>\n",
       "      <td>12.0</td>\n",
       "    </tr>\n",
       "    <tr>\n",
       "      <th>a3</th>\n",
       "      <td>0.0</td>\n",
       "      <td>2.0</td>\n",
       "      <td>-3.0</td>\n",
       "      <td>0.0</td>\n",
       "      <td>1.0</td>\n",
       "      <td>6.0</td>\n",
       "    </tr>\n",
       "    <tr>\n",
       "      <th>C - Z</th>\n",
       "      <td>0.0</td>\n",
       "      <td>200005.0</td>\n",
       "      <td>-300003.0</td>\n",
       "      <td>0.0</td>\n",
       "      <td>0.0</td>\n",
       "      <td>599988.0</td>\n",
       "    </tr>\n",
       "  </tbody>\n",
       "</table>\n",
       "</div>"
      ],
      "text/plain": [
       "        x1        x2        s1   s2   a3       RHS\n",
       "x1     1.0       0.0       1.0  0.0  0.0       4.0\n",
       "s2     0.0       2.0       0.0  1.0  0.0      12.0\n",
       "a3     0.0       2.0      -3.0  0.0  1.0       6.0\n",
       "C - Z  0.0  200005.0 -300003.0  0.0  0.0  599988.0"
      ]
     },
     "metadata": {},
     "output_type": "display_data"
    },
    {
     "data": {
      "text/markdown": [
       "Iteration 2: Enter = x2, Leave = a3"
      ],
      "text/plain": [
       "<IPython.core.display.Markdown object>"
      ]
     },
     "metadata": {},
     "output_type": "display_data"
    },
    {
     "data": {
      "text/markdown": [
       "   Row R3 divided by pivot element 2.000000 to make it 1."
      ],
      "text/plain": [
       "<IPython.core.display.Markdown object>"
      ]
     },
     "metadata": {},
     "output_type": "display_data"
    },
    {
     "data": {
      "text/markdown": [
       "   Row R2 updated: R2 - (2.000000) * R3"
      ],
      "text/plain": [
       "<IPython.core.display.Markdown object>"
      ]
     },
     "metadata": {},
     "output_type": "display_data"
    },
    {
     "data": {
      "text/markdown": [
       "   Row R4 updated: R4 - (200005.000000) * R3"
      ],
      "text/plain": [
       "<IPython.core.display.Markdown object>"
      ]
     },
     "metadata": {},
     "output_type": "display_data"
    },
    {
     "data": {
      "text/markdown": [
       "### After pivot #2"
      ],
      "text/plain": [
       "<IPython.core.display.Markdown object>"
      ]
     },
     "metadata": {},
     "output_type": "display_data"
    },
    {
     "data": {
      "text/html": [
       "<div>\n",
       "<style scoped>\n",
       "    .dataframe tbody tr th:only-of-type {\n",
       "        vertical-align: middle;\n",
       "    }\n",
       "\n",
       "    .dataframe tbody tr th {\n",
       "        vertical-align: top;\n",
       "    }\n",
       "\n",
       "    .dataframe thead th {\n",
       "        text-align: right;\n",
       "    }\n",
       "</style>\n",
       "<table border=\"1\" class=\"dataframe\">\n",
       "  <thead>\n",
       "    <tr style=\"text-align: right;\">\n",
       "      <th></th>\n",
       "      <th>x1</th>\n",
       "      <th>x2</th>\n",
       "      <th>s1</th>\n",
       "      <th>s2</th>\n",
       "      <th>a3</th>\n",
       "      <th>RHS</th>\n",
       "    </tr>\n",
       "  </thead>\n",
       "  <tbody>\n",
       "    <tr>\n",
       "      <th>x1</th>\n",
       "      <td>1.0</td>\n",
       "      <td>0.0</td>\n",
       "      <td>1.0</td>\n",
       "      <td>0.0</td>\n",
       "      <td>0.0</td>\n",
       "      <td>4.0</td>\n",
       "    </tr>\n",
       "    <tr>\n",
       "      <th>s2</th>\n",
       "      <td>0.0</td>\n",
       "      <td>0.0</td>\n",
       "      <td>3.0</td>\n",
       "      <td>1.0</td>\n",
       "      <td>-1.0</td>\n",
       "      <td>6.0</td>\n",
       "    </tr>\n",
       "    <tr>\n",
       "      <th>x2</th>\n",
       "      <td>0.0</td>\n",
       "      <td>1.0</td>\n",
       "      <td>-1.5</td>\n",
       "      <td>0.0</td>\n",
       "      <td>0.5</td>\n",
       "      <td>3.0</td>\n",
       "    </tr>\n",
       "    <tr>\n",
       "      <th>C - Z</th>\n",
       "      <td>0.0</td>\n",
       "      <td>0.0</td>\n",
       "      <td>4.5</td>\n",
       "      <td>0.0</td>\n",
       "      <td>-100002.5</td>\n",
       "      <td>-27.0</td>\n",
       "    </tr>\n",
       "  </tbody>\n",
       "</table>\n",
       "</div>"
      ],
      "text/plain": [
       "        x1   x2   s1   s2        a3   RHS\n",
       "x1     1.0  0.0  1.0  0.0       0.0   4.0\n",
       "s2     0.0  0.0  3.0  1.0      -1.0   6.0\n",
       "x2     0.0  1.0 -1.5  0.0       0.5   3.0\n",
       "C - Z  0.0  0.0  4.5  0.0 -100002.5 -27.0"
      ]
     },
     "metadata": {},
     "output_type": "display_data"
    },
    {
     "data": {
      "text/markdown": [
       "Iteration 3: Enter = s1, Leave = s2"
      ],
      "text/plain": [
       "<IPython.core.display.Markdown object>"
      ]
     },
     "metadata": {},
     "output_type": "display_data"
    },
    {
     "data": {
      "text/markdown": [
       "   Row R2 divided by pivot element 3.000000 to make it 1."
      ],
      "text/plain": [
       "<IPython.core.display.Markdown object>"
      ]
     },
     "metadata": {},
     "output_type": "display_data"
    },
    {
     "data": {
      "text/markdown": [
       "   Row R1 updated: R1 - (1.000000) * R2"
      ],
      "text/plain": [
       "<IPython.core.display.Markdown object>"
      ]
     },
     "metadata": {},
     "output_type": "display_data"
    },
    {
     "data": {
      "text/markdown": [
       "   Row R3 updated: R3 - (-1.500000) * R2"
      ],
      "text/plain": [
       "<IPython.core.display.Markdown object>"
      ]
     },
     "metadata": {},
     "output_type": "display_data"
    },
    {
     "data": {
      "text/markdown": [
       "   Row R4 updated: R4 - (4.500000) * R2"
      ],
      "text/plain": [
       "<IPython.core.display.Markdown object>"
      ]
     },
     "metadata": {},
     "output_type": "display_data"
    },
    {
     "data": {
      "text/markdown": [
       "### After pivot #3"
      ],
      "text/plain": [
       "<IPython.core.display.Markdown object>"
      ]
     },
     "metadata": {},
     "output_type": "display_data"
    },
    {
     "data": {
      "text/html": [
       "<div>\n",
       "<style scoped>\n",
       "    .dataframe tbody tr th:only-of-type {\n",
       "        vertical-align: middle;\n",
       "    }\n",
       "\n",
       "    .dataframe tbody tr th {\n",
       "        vertical-align: top;\n",
       "    }\n",
       "\n",
       "    .dataframe thead th {\n",
       "        text-align: right;\n",
       "    }\n",
       "</style>\n",
       "<table border=\"1\" class=\"dataframe\">\n",
       "  <thead>\n",
       "    <tr style=\"text-align: right;\">\n",
       "      <th></th>\n",
       "      <th>x1</th>\n",
       "      <th>x2</th>\n",
       "      <th>s1</th>\n",
       "      <th>s2</th>\n",
       "      <th>a3</th>\n",
       "      <th>RHS</th>\n",
       "    </tr>\n",
       "  </thead>\n",
       "  <tbody>\n",
       "    <tr>\n",
       "      <th>x1</th>\n",
       "      <td>1.0</td>\n",
       "      <td>0.0</td>\n",
       "      <td>0.0</td>\n",
       "      <td>-0.333333</td>\n",
       "      <td>0.333333</td>\n",
       "      <td>2.0</td>\n",
       "    </tr>\n",
       "    <tr>\n",
       "      <th>s1</th>\n",
       "      <td>0.0</td>\n",
       "      <td>0.0</td>\n",
       "      <td>1.0</td>\n",
       "      <td>0.333333</td>\n",
       "      <td>-0.333333</td>\n",
       "      <td>2.0</td>\n",
       "    </tr>\n",
       "    <tr>\n",
       "      <th>x2</th>\n",
       "      <td>0.0</td>\n",
       "      <td>1.0</td>\n",
       "      <td>0.0</td>\n",
       "      <td>0.500000</td>\n",
       "      <td>0.000000</td>\n",
       "      <td>6.0</td>\n",
       "    </tr>\n",
       "    <tr>\n",
       "      <th>C - Z</th>\n",
       "      <td>0.0</td>\n",
       "      <td>0.0</td>\n",
       "      <td>0.0</td>\n",
       "      <td>-1.500000</td>\n",
       "      <td>-100001.000000</td>\n",
       "      <td>-36.0</td>\n",
       "    </tr>\n",
       "  </tbody>\n",
       "</table>\n",
       "</div>"
      ],
      "text/plain": [
       "        x1   x2   s1        s2             a3   RHS\n",
       "x1     1.0  0.0  0.0 -0.333333       0.333333   2.0\n",
       "s1     0.0  0.0  1.0  0.333333      -0.333333   2.0\n",
       "x2     0.0  1.0  0.0  0.500000       0.000000   6.0\n",
       "C - Z  0.0  0.0  0.0 -1.500000 -100001.000000 -36.0"
      ]
     },
     "metadata": {},
     "output_type": "display_data"
    },
    {
     "name": "stdout",
     "output_type": "stream",
     "text": [
      "\n",
      "=== RESULT ===\n",
      "Status: optimal\n",
      "Objective value: 36.0\n",
      "Solution: {'x1': np.float64(2.0), 'x2': np.float64(6.0)}\n",
      "Iterations: 3\n"
     ]
    }
   ],
   "source": [
    "# Example (change these to your own problem)\n",
    "sense = 'max'  # 'max' or 'min'\n",
    "c = [3, 5]     # maximize 3x1 + 2x2\n",
    "A = [\n",
    "    [1, 0],\n",
    "    [0, 2],\n",
    "    [3, 2],\n",
    "]\n",
    "b = [4, 12, 18]\n",
    "cons = ['<=', '<=', '=']\n",
    "Mode = 'BigM'\n",
    "\n",
    "run_and_show(sense, c, A, b, cons, Mode, M=1e5)"
   ]
  }
 ],
 "metadata": {
  "kernelspec": {
   "display_name": "Python 3",
   "language": "python",
   "name": "python3"
  },
  "language_info": {
   "codemirror_mode": {
    "name": "ipython",
    "version": 3
   },
   "file_extension": ".py",
   "mimetype": "text/x-python",
   "name": "python",
   "nbconvert_exporter": "python",
   "pygments_lexer": "ipython3",
   "version": "3.13.5"
  }
 },
 "nbformat": 4,
 "nbformat_minor": 5
}
