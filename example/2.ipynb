{
 "cells": [
  {
   "cell_type": "markdown",
   "id": "7340be5e",
   "metadata": {},
   "source": [
    "# RUN CODE"
   ]
  },
  {
   "cell_type": "code",
   "execution_count": 1,
   "id": "b3bc165e",
   "metadata": {},
   "outputs": [],
   "source": [
    "\n",
    "from typing import List, Dict, Tuple, Optional\n",
    "import numpy as np\n",
    "import pandas as pd\n",
    "\n",
    "np.set_printoptions(suppress=True)\n",
    "\n",
    "class SimplexResult:\n",
    "    def __init__(self, status: str, objective: float, solution: Dict[str, float], iterations: int, steps: List[str]):\n",
    "        self.status = status              # 'optimal', 'unbounded', 'infeasible'\n",
    "        self.objective = objective        # optimal objective (if any)\n",
    "        self.solution = solution          # variable -> value at termination\n",
    "        self.iterations = iterations      # number of pivots performed\n",
    "        self.steps = steps                # textual log of steps\n",
    "\n",
    "def _format_df(tableau: np.ndarray, row_names: List[str], col_names: List[str]) -> pd.DataFrame:\n",
    "    df = pd.DataFrame(tableau, columns=col_names, index=row_names)\n",
    "    # round for readability\n",
    "    return df.round(6)\n",
    "\n",
    "class TwoPhaseSimplex:\n",
    "    def __init__(self, sense: str, c: List[float], A: List[List[float]], b: List[float], cons: List[str], tol: float=1e-9, bland: bool=True):\n",
    "        \"\"\"\n",
    "        sense: 'max' or 'min'\n",
    "        c: objective coefficients (length n)\n",
    "        A: constraint matrix (m x n)\n",
    "        b: RHS (length m)\n",
    "        cons: constraint sense for each row: '<=', '>=', or '='\n",
    "        tol: tolerance for numerical comparisons\n",
    "        bland: use Bland's rule to avoid cycling (tie-breaking by lowest-index variable)\n",
    "        \"\"\"\n",
    "        self.sense = sense.lower()\n",
    "        assert self.sense in ('max', 'min')\n",
    "        self.c = np.array(c, dtype=float)\n",
    "        self.A = np.array(A, dtype=float)\n",
    "        self.b = np.array(b, dtype=float)\n",
    "        self.cons = cons\n",
    "        self.tol = float(tol)\n",
    "        self.bland = bland\n",
    "\n",
    "        m, n = self.A.shape\n",
    "        assert len(self.c) == n, \"c and A have incompatible sizes\"\n",
    "        assert len(self.b) == m and len(self.cons) == m, \"b/cons length must match number of constraints\"\n",
    "\n",
    "        # If minimization, convert to maximization by negating c.\n",
    "        self.orig_c = self.c.copy()\n",
    "        if self.sense == 'min':\n",
    "            self.c = -self.c\n",
    "            self.sense = 'max'  # internal: always treat as maximization\n",
    "\n",
    "        # Normalize constraints so that b >= 0 by multiplying by -1 if needed\n",
    "        self.An = self.A.copy()\n",
    "        self.bn = self.b.copy()\n",
    "        self.cons_norm = list(self.cons)\n",
    "        for i in range(m):\n",
    "            if self.bn[i] < -self.tol:\n",
    "                # multiply row by -1 and flip sense\n",
    "                self.An[i, :] *= -1\n",
    "                self.bn[i] *= -1\n",
    "                if self.cons_norm[i] == '<=':\n",
    "                    self.cons_norm[i] = '>='\n",
    "                elif self.cons_norm[i] == '>=':\n",
    "                    self.cons_norm[i] = '<='\n",
    "                # '=' stays '='\n",
    "\n",
    "        self.m = m\n",
    "        self.n = n\n",
    "\n",
    "        # Build full column structure: [x vars] + [slacks/surplus] + [artificials]\n",
    "        self.var_names: List[str] = [f\"x{j+1}\" for j in range(n)]\n",
    "        self.slack_idx = []\n",
    "        self.surplus_idx = []\n",
    "        self.artificial_idx = []\n",
    "        self.basic_vars = [-1]*m     # column index of basic variable in each row\n",
    "\n",
    "        cols = []\n",
    "        # start with original variables\n",
    "        cols.extend([self.An[:, j] for j in range(n)])\n",
    "\n",
    "        # Add slack/surplus/artificials per row\n",
    "        for i in range(m):\n",
    "            sense = self.cons_norm[i]\n",
    "            col_slack = np.zeros(m)\n",
    "            col_surplus = np.zeros(m)\n",
    "            col_art = np.zeros(m)\n",
    "            if sense == '<=':\n",
    "                # add slack +1\n",
    "                col_slack[i] = 1.0\n",
    "                self.slack_idx.append(len(self.var_names))\n",
    "                self.var_names.append(f\"s{i+1}\")\n",
    "                cols.append(col_slack)\n",
    "                # slack is initial basic var\n",
    "                self.basic_vars[i] = self.var_names.index(f\"s{i+1}\")\n",
    "            elif sense == '>=':\n",
    "                # add surplus -1 and artificial +1\n",
    "                col_surplus[i] = -1.0\n",
    "                self.surplus_idx.append(len(self.var_names))\n",
    "                self.var_names.append(f\"t{i+1}\")\n",
    "                cols.append(col_surplus)\n",
    "                col_art[i] = 1.0\n",
    "                self.artificial_idx.append(len(self.var_names))\n",
    "                self.var_names.append(f\"a{i+1}\")\n",
    "                cols.append(col_art)\n",
    "                # artificial is initial basic var\n",
    "                self.basic_vars[i] = self.var_names.index(f\"a{i+1}\")\n",
    "            elif sense == '=':\n",
    "                # artificial +1\n",
    "                col_art[i] = 1.0\n",
    "                self.artificial_idx.append(len(self.var_names))\n",
    "                self.var_names.append(f\"a{i+1}\")\n",
    "                cols.append(col_art)\n",
    "                # artificial is initial basic var\n",
    "                self.basic_vars[i] = self.var_names.index(f\"a{i+1}\")\n",
    "            else:\n",
    "                raise ValueError(\"Constraint sense must be one of '<=', '>=', '='\")\n",
    "\n",
    "        self.A_full = np.column_stack(cols)  # shape m x total_vars\n",
    "        self.total_vars = self.A_full.shape[1]\n",
    "\n",
    "        # Vector of costs for original objective across all current variables (x, slack/surplus 0, artificial 0)\n",
    "        self.c_full = np.zeros(self.total_vars)\n",
    "        self.c_full[:self.n] = self.c  # only original x have cost\n",
    "\n",
    "        # Phase I costs: 0 for non-artificial, -1 for artificial (maximize -sum(a))\n",
    "        self.c_phase1 = np.zeros(self.total_vars)\n",
    "        for idx in self.artificial_idx:\n",
    "            self.c_phase1[idx] = -1.0\n",
    "\n",
    "        # Build initial tableau for Phase I as [A | b] with last row Cj - Zj\n",
    "        self.tableau = np.zeros((self.m + 1, self.total_vars + 1))\n",
    "        self.tableau[:self.m, :self.total_vars] = self.A_full\n",
    "        self.tableau[:self.m, -1] = self.bn\n",
    "\n",
    "        # Build Phase I objective row: C - Z with basic = artificials where present\n",
    "        # Start with C = c_phase1\n",
    "        self.tableau[-1, :self.total_vars] = self.c_phase1.copy()\n",
    "        self.tableau[-1, -1] = 0.0\n",
    "        # Subtract sum(c_B * row) to form C - Z (note: c_B for slack-only rows is 0)\n",
    "        for i in range(self.m):\n",
    "            bcol = self.basic_vars[i]\n",
    "            if bcol in self.artificial_idx:\n",
    "                c_Bi = self.c_phase1[bcol]  # = -1\n",
    "                # C - Z := C - c_Bi * row_i\n",
    "                # Since c_Bi = -1, this is C - (-1)*row = C + row\n",
    "                self.tableau[-1, :] -= c_Bi * self.tableau[i, :]\n",
    "\n",
    "        self.steps = []  # log strings\n",
    "        self.iterations = 0\n",
    "\n",
    "    def _current_objective_value(self, row: Optional[np.ndarray]=None) -> float:\n",
    "        if row is None:\n",
    "            row = self.tableau[-1, :]\n",
    "        # C - Z tableau stores RHS at bottom as -Z (because RHS: 0 - c_B^T b = -Z)\n",
    "        return -row[-1]\n",
    "\n",
    "    def _choose_entering(self, phase: int) -> Optional[int]:\n",
    "        # Choose entering column: largest positive (C - Z) coefficient\n",
    "        obj_row = self.tableau[-1, :-1]\n",
    "        candidates = np.where(obj_row > self.tol)[0]\n",
    "        if candidates.size == 0:\n",
    "            return None\n",
    "        if self.bland:\n",
    "            return int(candidates.min())\n",
    "        # Otherwise pick argmax\n",
    "        return int(candidates[np.argmax(obj_row[candidates])])\n",
    "\n",
    "    def _choose_leaving(self, enter_col: int) -> Optional[int]:\n",
    "        col = self.tableau[:self.m, enter_col]\n",
    "        rhs = self.tableau[:self.m, -1]\n",
    "        mask = col > self.tol\n",
    "        if not mask.any():\n",
    "            return None  # unbounded\n",
    "        ratios = np.where(mask, rhs / col, np.inf)\n",
    "        # Tie-break with Bland: pick smallest row index among min ratios\n",
    "        min_val = ratios[mask].min()\n",
    "        candidate_rows = np.where(np.isclose(ratios, min_val, atol=1e-12))[0]\n",
    "        return int(candidate_rows.min())\n",
    "\n",
    "    def _pivot(self, row: int, col: int):\n",
    "        \"\"\"\n",
    "        Performs a pivot operation on the tableau.\n",
    "        The pivot is at the intersection of `row` and `col`.\n",
    "        \"\"\"\n",
    "        pivot_element = self.tableau[row, col]\n",
    "        # Log the row operation for the pivot row\n",
    "        self.steps.append(\n",
    "            f\"   Row R{row+1} divided by pivot element {pivot_element:.6f} to make it 1.\"\n",
    "        )\n",
    "        self.tableau[row, :] = self.tableau[row, :] / pivot_element\n",
    "\n",
    "        # Eliminate other row entries\n",
    "        for r in range(self.m + 1):\n",
    "            if r == row:\n",
    "                continue\n",
    "            factor = self.tableau[r, col]\n",
    "            if abs(factor) > self.tol:\n",
    "                # Log the row operation for non-pivot rows\n",
    "                self.steps.append(\n",
    "                    f\"   Row R{r+1} updated: R{r+1} - ({factor:.6f}) * R{row+1}\"\n",
    "                )\n",
    "                self.tableau[r, :] -= factor * self.tableau[row, :]\n",
    "\n",
    "        # Update the basic variable for the pivoted row\n",
    "        self.basic_vars[row] = col\n",
    "\n",
    "    def _log_tableau(self, title: str):\n",
    "        row_names = [self.var_names[self.basic_vars[i]] if self.basic_vars[i] >= 0 else f\"row{i+1}\" for i in range(self.m)] + [\"C - Z\"]\n",
    "        col_names = self.var_names + [\"RHS\"]\n",
    "        df = _format_df(self.tableau, row_names, col_names)\n",
    "        # Store a tuple: (title, DataFrame)\n",
    "        self.steps.append((title, df))\n",
    "\n",
    "\n",
    "    def _phase(self, phase_num: int, cvec: np.ndarray) -> Tuple[str, float]:\n",
    "        self.steps.append(f\"--- Starting Phase {phase_num} ---\")\n",
    "        \n",
    "        # Reset bottom row to C - Z for the given cost vector cvec.\n",
    "        self.tableau[-1, :] = 0.0\n",
    "        self.tableau[-1, :self.total_vars] = cvec.copy()\n",
    "        for i in range(self.m):\n",
    "            bcol = self.basic_vars[i]\n",
    "            if bcol >= 0:\n",
    "                self.tableau[-1, :] -= cvec[bcol] * self.tableau[i, :]\n",
    "\n",
    "        self._log_tableau(f\"Phase {phase_num} — Initial C - Z row\")\n",
    "\n",
    "        while True:\n",
    "            enter = self._choose_entering(phase_num)\n",
    "            if enter is None:\n",
    "                # Optimal for this phase\n",
    "                z = self._current_objective_value()\n",
    "                self.steps.append(f\"Phase {phase_num} — All Cj-Zj are non-positive. Optimal solution for this phase found.\")\n",
    "                self._log_tableau(f\"Phase {phase_num} — Optimal (no positive C-Z). Objective = {z:.6f}\")\n",
    "                return (\"optimal\", z)\n",
    "\n",
    "            self.steps.append(f\"Entering variable is {self.var_names[enter]} (largest positive Cj-Zj).\")\n",
    "\n",
    "            leave = self._choose_leaving(enter)\n",
    "            if leave is None:\n",
    "                self.steps.append(f\"All coefficients in the entering column ({self.var_names[enter]}) are non-positive. The solution is unbounded.\")\n",
    "                self._log_tableau(f\"Phase {phase_num} — Unbounded in entering {self.var_names[enter]}\")\n",
    "                return (\"unbounded\", np.inf)\n",
    "\n",
    "            self.steps.append(f\"Leaving variable is {self.var_names[self.basic_vars[leave]]} (smallest ratio).\")\n",
    "\n",
    "            self.iterations += 1\n",
    "            self.steps.append(f\"Iteration {self.iterations} (Phase {phase_num}): Pivot on R{leave+1}, C{enter+1}.\")\n",
    "            self._pivot(leave, enter)\n",
    "            self._log_tableau(f\"After pivot #{self.iterations}\")\n",
    "\n",
    "    def solve(self, show_steps: bool=True) -> SimplexResult:\n",
    "        # Phase I (only if there are artificials)\n",
    "        if len(self.artificial_idx) > 0:\n",
    "            status1, z1 = self._phase(1, self.c_phase1)\n",
    "            if status1 != \"optimal\" or z1 < -self.tol:\n",
    "                # If unbounded in phase I or objective < 0 (shouldn't happen with -sum(a)), report infeasible\n",
    "                return SimplexResult(\"infeasible\", float(\"nan\"), {}, self.iterations, self.steps)\n",
    "            # Check feasibility: z1 should be 0 (within tol)\n",
    "            if abs(z1) > 1e-7:\n",
    "                self.steps.append(f\"Phase 1 objective is {z1:.6f} > 0 → Infeasible.\")\n",
    "                return SimplexResult(\"infeasible\", float(\"nan\"), {}, self.iterations, self.steps)\n",
    "\n",
    "            # Remove artificial columns; but first try to pivot out any artificial still basic\n",
    "            for i in range(self.m):\n",
    "                bcol = self.basic_vars[i]\n",
    "                if bcol in self.artificial_idx:\n",
    "                    # Try to pivot to a non-artificial column with non-zero coeff\n",
    "                    for j in range(self.total_vars):\n",
    "                        if j in self.artificial_idx:\n",
    "                            continue\n",
    "                        if abs(self.tableau[i, j]) > self.tol:\n",
    "                            self._pivot(i, j)\n",
    "                            break\n",
    "                    else:\n",
    "                        # Entire row may be redundant (zero row with RHS 0). Keep but it's okay to proceed.\n",
    "                        pass\n",
    "\n",
    "            # Now drop artificial columns from tableau & names\n",
    "            keep_cols = [j for j in range(self.total_vars) if j not in self.artificial_idx]\n",
    "            # Rebuild structures\n",
    "            self.A_full = self.A_full[:, keep_cols]\n",
    "            self.var_names = [self.var_names[j] for j in keep_cols]\n",
    "            self.total_vars = len(keep_cols)\n",
    "            self.c_full = np.zeros(self.total_vars)\n",
    "            self.c_full[:self.n] = self.c[:self.n]  # original costs for x vars\n",
    "            # Slice tableau\n",
    "            self.tableau = np.column_stack([self.tableau[:, keep_cols], self.tableau[:, -1]])\n",
    "            # Update basic var indices to new column indexing\n",
    "            old_to_new = {old: new for new, old in enumerate(keep_cols)}\n",
    "            for i in range(self.m):\n",
    "                if self.basic_vars[i] in old_to_new:\n",
    "                    self.basic_vars[i] = old_to_new[self.basic_vars[i]]\n",
    "                else:\n",
    "                    # If a basic var got removed (shouldn't after pivoting), mark as -1\n",
    "                    self.basic_vars[i] = -1\n",
    "\n",
    "        # Phase II (optimize original objective)\n",
    "        status2, z2 = self._phase(2, self.c_full)\n",
    "        if status2 == \"unbounded\":\n",
    "            return SimplexResult(\"unbounded\", float(\"inf\"), {}, self.iterations, self.steps)\n",
    "\n",
    "        # Extract solution: basic RHS values, nonbasic 0\n",
    "        sol = {name: 0.0 for name in self.var_names}\n",
    "        for i in range(self.m):\n",
    "            bcol = self.basic_vars[i]\n",
    "            if bcol >= 0:\n",
    "                sol[self.var_names[bcol]] = self.tableau[i, -1]\n",
    "\n",
    "        # Report only original decision variables x1..xn\n",
    "        x_solution = {f\"x{j+1}\": sol.get(f\"x{j+1}\", 0.0) for j in range(self.n)}\n",
    "        objective_value = z2  # since we used max internally\n",
    "\n",
    "        # If original was 'min', flip sign back\n",
    "        if (self.orig_c != self.c[:self.n]).any():\n",
    "            # minimization: objective_value_max = z2 = -min_value\n",
    "            objective_value = -z2\n",
    "\n",
    "        return SimplexResult(\"optimal\", objective_value, x_solution, self.iterations, self.steps)\n"
   ]
  },
  {
   "cell_type": "code",
   "execution_count": 2,
   "id": "94070ee6",
   "metadata": {},
   "outputs": [],
   "source": [
    "from typing import List, Dict, Tuple, Optional\n",
    "import numpy as np\n",
    "import pandas as pd\n",
    "\n",
    "np.set_printoptions(suppress=True)\n",
    "\n",
    "class SimplexResult:\n",
    "    def __init__(self, status: str, objective: float, solution: Dict[str, float], iterations: int, steps: List[str]):\n",
    "        self.status = status                # 'optimal', 'unbounded', 'infeasible'\n",
    "        self.objective = objective          # optimal objective (if any)\n",
    "        self.solution = solution            # variable -> value at termination\n",
    "        self.iterations = iterations        # number of pivots performed\n",
    "        self.steps = steps                  # textual log of steps\n",
    "\n",
    "def _format_df(tableau: np.ndarray, row_names: List[str], col_names: List[str]) -> pd.DataFrame:\n",
    "    df = pd.DataFrame(tableau, columns=col_names, index=row_names)\n",
    "    # round for readability\n",
    "    return df.round(6)\n",
    "\n",
    "class BigMSimplex:\n",
    "    def __init__(self, sense: str, c: List[float], A: List[List[float]], b: List[float], cons: List[str], M: float=1e6, tol: float=1e-9, bland: bool=True):\n",
    "        self.sense = sense.lower()\n",
    "        assert self.sense in ('max', 'min')\n",
    "        self.c = np.array(c, dtype=float)\n",
    "        self.A = np.array(A, dtype=float)\n",
    "        self.b = np.array(b, dtype=float)\n",
    "        self.cons = cons\n",
    "        self.M = float(M)\n",
    "        self.tol = float(tol)\n",
    "        self.bland = bland\n",
    "\n",
    "        m, n = self.A.shape\n",
    "        self.m = m\n",
    "        self.n = n\n",
    "\n",
    "        # Normalize constraints so that b >= 0\n",
    "        self.An = self.A.copy()\n",
    "        self.bn = self.b.copy()\n",
    "        self.cons_norm = list(self.cons)\n",
    "        for i in range(m):\n",
    "            if self.bn[i] < -self.tol:\n",
    "                self.An[i, :] *= -1\n",
    "                self.bn[i] *= -1\n",
    "                if self.cons_norm[i] == '<=':\n",
    "                    self.cons_norm[i] = '>='\n",
    "                elif self.cons_norm[i] == '>=':\n",
    "                    self.cons_norm[i] = '<='\n",
    "\n",
    "        # Build full column structure\n",
    "        self.var_names: List[str] = [f\"x{j+1}\" for j in range(n)]\n",
    "        self.artificial_idx = []\n",
    "        self.basic_vars = [-1]*m\n",
    "\n",
    "        cols = []\n",
    "        c_full_list = []\n",
    "        for j in range(n):\n",
    "            cols.append(self.An[:, j])\n",
    "            c_full_list.append(self.c[j])\n",
    "\n",
    "        for i in range(m):\n",
    "            sense = self.cons_norm[i]\n",
    "            if sense == '<=':\n",
    "                col_slack = np.zeros(m)\n",
    "                col_slack[i] = 1.0\n",
    "                cols.append(col_slack)\n",
    "                self.var_names.append(f\"s{i+1}\")\n",
    "                c_full_list.append(0.0)\n",
    "                self.basic_vars[i] = self.var_names.index(f\"s{i+1}\")\n",
    "            elif sense == '>=':\n",
    "                col_surplus = np.zeros(m)\n",
    "                col_surplus[i] = -1.0\n",
    "                cols.append(col_surplus)\n",
    "                self.var_names.append(f\"t{i+1}\")\n",
    "                c_full_list.append(0.0)\n",
    "                \n",
    "                col_art = np.zeros(m)\n",
    "                col_art[i] = 1.0\n",
    "                cols.append(col_art)\n",
    "                self.var_names.append(f\"a{i+1}\")\n",
    "                self.artificial_idx.append(len(c_full_list))\n",
    "                c_full_list.append(-self.M if self.sense == 'max' else self.M)\n",
    "                self.basic_vars[i] = self.var_names.index(f\"a{i+1}\")\n",
    "            elif sense == '=':\n",
    "                col_art = np.zeros(m)\n",
    "                col_art[i] = 1.0\n",
    "                cols.append(col_art)\n",
    "                self.var_names.append(f\"a{i+1}\")\n",
    "                self.artificial_idx.append(len(c_full_list))\n",
    "                c_full_list.append(-self.M if self.sense == 'max' else self.M)\n",
    "                self.basic_vars[i] = self.var_names.index(f\"a{i+1}\")\n",
    "            else:\n",
    "                raise ValueError(\"Constraint sense must be one of '<=', '>=', '='\")\n",
    "\n",
    "        self.A_full = np.column_stack(cols)\n",
    "        self.total_vars = self.A_full.shape[1]\n",
    "\n",
    "        # Final C vector for the tableau, converted to maximization\n",
    "        self.c_full = np.array(c_full_list, dtype=float)\n",
    "        if self.sense == 'min':\n",
    "            self.c_full = -self.c_full\n",
    "            self.orig_sense = 'min'\n",
    "        else:\n",
    "            self.orig_sense = 'max'\n",
    "\n",
    "        # Build initial tableau\n",
    "        self.tableau = np.zeros((self.m + 1, self.total_vars + 1))\n",
    "        self.tableau[:self.m, :self.total_vars] = self.A_full\n",
    "        self.tableau[:self.m, -1] = self.bn\n",
    "\n",
    "        # Build initial C - Z row\n",
    "        self.tableau[-1, :self.total_vars] = self.c_full.copy()\n",
    "        for i in range(self.m):\n",
    "            bcol = self.basic_vars[i]\n",
    "            if bcol >= 0:\n",
    "                self.tableau[-1, :] -= self.c_full[bcol] * self.tableau[i, :]\n",
    "\n",
    "        self.steps = []\n",
    "        self.iterations = 0\n",
    "\n",
    "    def _current_objective_value(self) -> float:\n",
    "        return -self.tableau[-1, -1]\n",
    "\n",
    "    def _choose_entering(self) -> Optional[int]:\n",
    "        obj_row = self.tableau[-1, :-1]\n",
    "        candidates = np.where(obj_row > self.tol)[0]\n",
    "        if candidates.size == 0:\n",
    "            return None\n",
    "        if self.bland:\n",
    "            return int(candidates.min())\n",
    "        return int(candidates[np.argmax(obj_row[candidates])])\n",
    "\n",
    "    def _choose_leaving(self, enter_col: int) -> Optional[int]:\n",
    "        col = self.tableau[:self.m, enter_col]\n",
    "        rhs = self.tableau[:self.m, -1]\n",
    "        mask = col > self.tol\n",
    "        if not mask.any():\n",
    "            return None\n",
    "        ratios = np.where(mask, rhs / col, np.inf)\n",
    "        min_val = ratios[mask].min()\n",
    "        candidate_rows = np.where(np.isclose(ratios, min_val, atol=1e-12))[0]\n",
    "        return int(candidate_rows.min())\n",
    "\n",
    "    def _pivot(self, row: int, col: int):\n",
    "        \"\"\"\n",
    "        Performs a pivot operation on the tableau.\n",
    "        The pivot is at the intersection of `row` and `col`.\n",
    "        \"\"\"\n",
    "        pivot_element = self.tableau[row, col]\n",
    "        # Log the row operation for the pivot row\n",
    "        self.steps.append(\n",
    "            f\"   Row R{row+1} divided by pivot element {pivot_element:.6f} to make it 1.\"\n",
    "        )\n",
    "        self.tableau[row, :] = self.tableau[row, :] / pivot_element\n",
    "\n",
    "        # Eliminate other row entries\n",
    "        for r in range(self.m + 1):\n",
    "            if r == row:\n",
    "                continue\n",
    "            factor = self.tableau[r, col]\n",
    "            if abs(factor) > self.tol:\n",
    "                # Log the row operation for non-pivot rows\n",
    "                self.steps.append(\n",
    "                    f\"   Row R{r+1} updated: R{r+1} - ({factor:.6f}) * R{row+1}\"\n",
    "                )\n",
    "                self.tableau[r, :] -= factor * self.tableau[row, :]\n",
    "\n",
    "        # Update the basic variable for the pivoted row\n",
    "        self.basic_vars[row] = col\n",
    "\n",
    "    def _log_tableau(self, title: str):\n",
    "        row_names = [self.var_names[self.basic_vars[i]] if self.basic_vars[i] >= 0 else f\"row{i+1}\" for i in range(self.m)] + [\"C - Z\"]\n",
    "        col_names = self.var_names + [\"RHS\"]\n",
    "        df = _format_df(self.tableau, row_names, col_names)\n",
    "        self.steps.append((title, df))\n",
    "\n",
    "    def solve(self, show_steps: bool=True) -> SimplexResult:\n",
    "        self._log_tableau(\"Initial Tableau (Big M Method)\")\n",
    "\n",
    "        while True:\n",
    "            enter = self._choose_entering()\n",
    "            if enter is None:\n",
    "                break\n",
    "            leave = self._choose_leaving(enter)\n",
    "            if leave is None:\n",
    "                return SimplexResult(\"unbounded\", float(\"inf\"), {}, self.iterations, self.steps)\n",
    "            \n",
    "            self.iterations += 1\n",
    "            self.steps.append(f\"Iteration {self.iterations}: Enter = {self.var_names[enter]}, Leave = {self.var_names[self.basic_vars[leave]]}\")\n",
    "            self._pivot(leave, enter)\n",
    "            self._log_tableau(f\"After pivot #{self.iterations}\")\n",
    "\n",
    "        # Final checks\n",
    "        for i in range(self.m):\n",
    "            bcol = self.basic_vars[i]\n",
    "            if bcol in self.artificial_idx:\n",
    "                if self.tableau[i, -1] > self.tol:\n",
    "                    self.steps.append(\"Final solution contains an artificial variable with a positive value. Infeasible.\")\n",
    "                    return SimplexResult(\"infeasible\", float(\"nan\"), {}, self.iterations, self.steps)\n",
    "\n",
    "        # Extract solution\n",
    "        sol = {name: 0.0 for name in self.var_names}\n",
    "        for i in range(self.m):\n",
    "            bcol = self.basic_vars[i]\n",
    "            if bcol >= 0:\n",
    "                sol[self.var_names[bcol]] = self.tableau[i, -1]\n",
    "\n",
    "        x_solution = {f\"x{j+1}\": sol.get(f\"x{j+1}\", 0.0) for j in range(self.n)}\n",
    "        objective_value = self._current_objective_value()\n",
    "\n",
    "        if self.orig_sense == 'min':\n",
    "            objective_value = -objective_value\n",
    "\n",
    "        return SimplexResult(\"optimal\", objective_value, x_solution, self.iterations, self.steps)\n"
   ]
  },
  {
   "cell_type": "code",
   "execution_count": 3,
   "id": "5ce6340a",
   "metadata": {},
   "outputs": [],
   "source": [
    "def run_and_show(sense, c, A, b, cons, Mode, M):\n",
    "    if Mode == 'BigM':\n",
    "        solver = BigMSimplex(sense=sense, c=c, A=A, b=b, cons=cons, M=M, bland=True)\n",
    "    else:\n",
    "        solver = TwoPhaseSimplex(sense=sense, c=c, A=A, b=b, cons=cons, bland=True)\n",
    "    result = solver.solve(show_steps=True)\n",
    "    print(\"\\n=== Mode ===\")\n",
    "    print(\"Mode:\", Mode)\n",
    "\n",
    "    from IPython.display import Markdown, display\n",
    "    # Show step logs\n",
    "    for step in result.steps:\n",
    "        if isinstance(step, tuple):\n",
    "            title, df = step\n",
    "            display(Markdown(f\"### {title}\"))\n",
    "            display(df)\n",
    "        else:\n",
    "            display(Markdown(step))\n",
    "\n",
    "\n",
    "    print(\"\\n=== RESULT ===\")\n",
    "    print(\"Status:\", result.status)\n",
    "    print(\"Objective value:\", result.objective)\n",
    "    print(\"Solution:\", result.solution)\n",
    "    print(\"Iterations:\", result.iterations)\n"
   ]
  },
  {
   "cell_type": "markdown",
   "id": "40a9aa69",
   "metadata": {},
   "source": [
    "# 6.5"
   ]
  },
  {
   "cell_type": "code",
   "execution_count": 5,
   "id": "d42c84af",
   "metadata": {},
   "outputs": [
    {
     "name": "stdout",
     "output_type": "stream",
     "text": [
      "\n",
      "=== Mode ===\n",
      "Mode: TwoPhase\n"
     ]
    },
    {
     "data": {
      "text/markdown": [
       "--- Starting Phase 1 ---"
      ],
      "text/plain": [
       "<IPython.core.display.Markdown object>"
      ]
     },
     "metadata": {},
     "output_type": "display_data"
    },
    {
     "data": {
      "text/markdown": [
       "### Phase 1 — Initial C - Z row"
      ],
      "text/plain": [
       "<IPython.core.display.Markdown object>"
      ]
     },
     "metadata": {},
     "output_type": "display_data"
    },
    {
     "data": {
      "text/html": [
       "<div>\n",
       "<style scoped>\n",
       "    .dataframe tbody tr th:only-of-type {\n",
       "        vertical-align: middle;\n",
       "    }\n",
       "\n",
       "    .dataframe tbody tr th {\n",
       "        vertical-align: top;\n",
       "    }\n",
       "\n",
       "    .dataframe thead th {\n",
       "        text-align: right;\n",
       "    }\n",
       "</style>\n",
       "<table border=\"1\" class=\"dataframe\">\n",
       "  <thead>\n",
       "    <tr style=\"text-align: right;\">\n",
       "      <th></th>\n",
       "      <th>x1</th>\n",
       "      <th>x2</th>\n",
       "      <th>t1</th>\n",
       "      <th>a1</th>\n",
       "      <th>t2</th>\n",
       "      <th>a2</th>\n",
       "      <th>t3</th>\n",
       "      <th>a3</th>\n",
       "      <th>RHS</th>\n",
       "    </tr>\n",
       "  </thead>\n",
       "  <tbody>\n",
       "    <tr>\n",
       "      <th>a1</th>\n",
       "      <td>2.0</td>\n",
       "      <td>3.0</td>\n",
       "      <td>-1.0</td>\n",
       "      <td>1.0</td>\n",
       "      <td>0.0</td>\n",
       "      <td>0.0</td>\n",
       "      <td>0.0</td>\n",
       "      <td>0.0</td>\n",
       "      <td>42.0</td>\n",
       "    </tr>\n",
       "    <tr>\n",
       "      <th>a2</th>\n",
       "      <td>3.0</td>\n",
       "      <td>4.0</td>\n",
       "      <td>0.0</td>\n",
       "      <td>0.0</td>\n",
       "      <td>-1.0</td>\n",
       "      <td>1.0</td>\n",
       "      <td>0.0</td>\n",
       "      <td>0.0</td>\n",
       "      <td>60.0</td>\n",
       "    </tr>\n",
       "    <tr>\n",
       "      <th>a3</th>\n",
       "      <td>1.0</td>\n",
       "      <td>1.0</td>\n",
       "      <td>0.0</td>\n",
       "      <td>0.0</td>\n",
       "      <td>0.0</td>\n",
       "      <td>0.0</td>\n",
       "      <td>-1.0</td>\n",
       "      <td>1.0</td>\n",
       "      <td>18.0</td>\n",
       "    </tr>\n",
       "    <tr>\n",
       "      <th>C - Z</th>\n",
       "      <td>6.0</td>\n",
       "      <td>8.0</td>\n",
       "      <td>-1.0</td>\n",
       "      <td>0.0</td>\n",
       "      <td>-1.0</td>\n",
       "      <td>0.0</td>\n",
       "      <td>-1.0</td>\n",
       "      <td>0.0</td>\n",
       "      <td>120.0</td>\n",
       "    </tr>\n",
       "  </tbody>\n",
       "</table>\n",
       "</div>"
      ],
      "text/plain": [
       "        x1   x2   t1   a1   t2   a2   t3   a3    RHS\n",
       "a1     2.0  3.0 -1.0  1.0  0.0  0.0  0.0  0.0   42.0\n",
       "a2     3.0  4.0  0.0  0.0 -1.0  1.0  0.0  0.0   60.0\n",
       "a3     1.0  1.0  0.0  0.0  0.0  0.0 -1.0  1.0   18.0\n",
       "C - Z  6.0  8.0 -1.0  0.0 -1.0  0.0 -1.0  0.0  120.0"
      ]
     },
     "metadata": {},
     "output_type": "display_data"
    },
    {
     "data": {
      "text/markdown": [
       "Entering variable is x1 (largest positive Cj-Zj)."
      ],
      "text/plain": [
       "<IPython.core.display.Markdown object>"
      ]
     },
     "metadata": {},
     "output_type": "display_data"
    },
    {
     "data": {
      "text/markdown": [
       "Leaving variable is a3 (smallest ratio)."
      ],
      "text/plain": [
       "<IPython.core.display.Markdown object>"
      ]
     },
     "metadata": {},
     "output_type": "display_data"
    },
    {
     "data": {
      "text/markdown": [
       "Iteration 1 (Phase 1): Pivot on R3, C1."
      ],
      "text/plain": [
       "<IPython.core.display.Markdown object>"
      ]
     },
     "metadata": {},
     "output_type": "display_data"
    },
    {
     "data": {
      "text/markdown": [
       "   Row R3 divided by pivot element 1.000000 to make it 1."
      ],
      "text/plain": [
       "<IPython.core.display.Markdown object>"
      ]
     },
     "metadata": {},
     "output_type": "display_data"
    },
    {
     "data": {
      "text/markdown": [
       "   Row R1 updated: R1 - (2.000000) * R3"
      ],
      "text/plain": [
       "<IPython.core.display.Markdown object>"
      ]
     },
     "metadata": {},
     "output_type": "display_data"
    },
    {
     "data": {
      "text/markdown": [
       "   Row R2 updated: R2 - (3.000000) * R3"
      ],
      "text/plain": [
       "<IPython.core.display.Markdown object>"
      ]
     },
     "metadata": {},
     "output_type": "display_data"
    },
    {
     "data": {
      "text/markdown": [
       "   Row R4 updated: R4 - (6.000000) * R3"
      ],
      "text/plain": [
       "<IPython.core.display.Markdown object>"
      ]
     },
     "metadata": {},
     "output_type": "display_data"
    },
    {
     "data": {
      "text/markdown": [
       "### After pivot #1"
      ],
      "text/plain": [
       "<IPython.core.display.Markdown object>"
      ]
     },
     "metadata": {},
     "output_type": "display_data"
    },
    {
     "data": {
      "text/html": [
       "<div>\n",
       "<style scoped>\n",
       "    .dataframe tbody tr th:only-of-type {\n",
       "        vertical-align: middle;\n",
       "    }\n",
       "\n",
       "    .dataframe tbody tr th {\n",
       "        vertical-align: top;\n",
       "    }\n",
       "\n",
       "    .dataframe thead th {\n",
       "        text-align: right;\n",
       "    }\n",
       "</style>\n",
       "<table border=\"1\" class=\"dataframe\">\n",
       "  <thead>\n",
       "    <tr style=\"text-align: right;\">\n",
       "      <th></th>\n",
       "      <th>x1</th>\n",
       "      <th>x2</th>\n",
       "      <th>t1</th>\n",
       "      <th>a1</th>\n",
       "      <th>t2</th>\n",
       "      <th>a2</th>\n",
       "      <th>t3</th>\n",
       "      <th>a3</th>\n",
       "      <th>RHS</th>\n",
       "    </tr>\n",
       "  </thead>\n",
       "  <tbody>\n",
       "    <tr>\n",
       "      <th>a1</th>\n",
       "      <td>0.0</td>\n",
       "      <td>1.0</td>\n",
       "      <td>-1.0</td>\n",
       "      <td>1.0</td>\n",
       "      <td>0.0</td>\n",
       "      <td>0.0</td>\n",
       "      <td>2.0</td>\n",
       "      <td>-2.0</td>\n",
       "      <td>6.0</td>\n",
       "    </tr>\n",
       "    <tr>\n",
       "      <th>a2</th>\n",
       "      <td>0.0</td>\n",
       "      <td>1.0</td>\n",
       "      <td>0.0</td>\n",
       "      <td>0.0</td>\n",
       "      <td>-1.0</td>\n",
       "      <td>1.0</td>\n",
       "      <td>3.0</td>\n",
       "      <td>-3.0</td>\n",
       "      <td>6.0</td>\n",
       "    </tr>\n",
       "    <tr>\n",
       "      <th>x1</th>\n",
       "      <td>1.0</td>\n",
       "      <td>1.0</td>\n",
       "      <td>0.0</td>\n",
       "      <td>0.0</td>\n",
       "      <td>0.0</td>\n",
       "      <td>0.0</td>\n",
       "      <td>-1.0</td>\n",
       "      <td>1.0</td>\n",
       "      <td>18.0</td>\n",
       "    </tr>\n",
       "    <tr>\n",
       "      <th>C - Z</th>\n",
       "      <td>0.0</td>\n",
       "      <td>2.0</td>\n",
       "      <td>-1.0</td>\n",
       "      <td>0.0</td>\n",
       "      <td>-1.0</td>\n",
       "      <td>0.0</td>\n",
       "      <td>5.0</td>\n",
       "      <td>-6.0</td>\n",
       "      <td>12.0</td>\n",
       "    </tr>\n",
       "  </tbody>\n",
       "</table>\n",
       "</div>"
      ],
      "text/plain": [
       "        x1   x2   t1   a1   t2   a2   t3   a3   RHS\n",
       "a1     0.0  1.0 -1.0  1.0  0.0  0.0  2.0 -2.0   6.0\n",
       "a2     0.0  1.0  0.0  0.0 -1.0  1.0  3.0 -3.0   6.0\n",
       "x1     1.0  1.0  0.0  0.0  0.0  0.0 -1.0  1.0  18.0\n",
       "C - Z  0.0  2.0 -1.0  0.0 -1.0  0.0  5.0 -6.0  12.0"
      ]
     },
     "metadata": {},
     "output_type": "display_data"
    },
    {
     "data": {
      "text/markdown": [
       "Entering variable is x2 (largest positive Cj-Zj)."
      ],
      "text/plain": [
       "<IPython.core.display.Markdown object>"
      ]
     },
     "metadata": {},
     "output_type": "display_data"
    },
    {
     "data": {
      "text/markdown": [
       "Leaving variable is a1 (smallest ratio)."
      ],
      "text/plain": [
       "<IPython.core.display.Markdown object>"
      ]
     },
     "metadata": {},
     "output_type": "display_data"
    },
    {
     "data": {
      "text/markdown": [
       "Iteration 2 (Phase 1): Pivot on R1, C2."
      ],
      "text/plain": [
       "<IPython.core.display.Markdown object>"
      ]
     },
     "metadata": {},
     "output_type": "display_data"
    },
    {
     "data": {
      "text/markdown": [
       "   Row R1 divided by pivot element 1.000000 to make it 1."
      ],
      "text/plain": [
       "<IPython.core.display.Markdown object>"
      ]
     },
     "metadata": {},
     "output_type": "display_data"
    },
    {
     "data": {
      "text/markdown": [
       "   Row R2 updated: R2 - (1.000000) * R1"
      ],
      "text/plain": [
       "<IPython.core.display.Markdown object>"
      ]
     },
     "metadata": {},
     "output_type": "display_data"
    },
    {
     "data": {
      "text/markdown": [
       "   Row R3 updated: R3 - (1.000000) * R1"
      ],
      "text/plain": [
       "<IPython.core.display.Markdown object>"
      ]
     },
     "metadata": {},
     "output_type": "display_data"
    },
    {
     "data": {
      "text/markdown": [
       "   Row R4 updated: R4 - (2.000000) * R1"
      ],
      "text/plain": [
       "<IPython.core.display.Markdown object>"
      ]
     },
     "metadata": {},
     "output_type": "display_data"
    },
    {
     "data": {
      "text/markdown": [
       "### After pivot #2"
      ],
      "text/plain": [
       "<IPython.core.display.Markdown object>"
      ]
     },
     "metadata": {},
     "output_type": "display_data"
    },
    {
     "data": {
      "text/html": [
       "<div>\n",
       "<style scoped>\n",
       "    .dataframe tbody tr th:only-of-type {\n",
       "        vertical-align: middle;\n",
       "    }\n",
       "\n",
       "    .dataframe tbody tr th {\n",
       "        vertical-align: top;\n",
       "    }\n",
       "\n",
       "    .dataframe thead th {\n",
       "        text-align: right;\n",
       "    }\n",
       "</style>\n",
       "<table border=\"1\" class=\"dataframe\">\n",
       "  <thead>\n",
       "    <tr style=\"text-align: right;\">\n",
       "      <th></th>\n",
       "      <th>x1</th>\n",
       "      <th>x2</th>\n",
       "      <th>t1</th>\n",
       "      <th>a1</th>\n",
       "      <th>t2</th>\n",
       "      <th>a2</th>\n",
       "      <th>t3</th>\n",
       "      <th>a3</th>\n",
       "      <th>RHS</th>\n",
       "    </tr>\n",
       "  </thead>\n",
       "  <tbody>\n",
       "    <tr>\n",
       "      <th>x2</th>\n",
       "      <td>0.0</td>\n",
       "      <td>1.0</td>\n",
       "      <td>-1.0</td>\n",
       "      <td>1.0</td>\n",
       "      <td>0.0</td>\n",
       "      <td>0.0</td>\n",
       "      <td>2.0</td>\n",
       "      <td>-2.0</td>\n",
       "      <td>6.0</td>\n",
       "    </tr>\n",
       "    <tr>\n",
       "      <th>a2</th>\n",
       "      <td>0.0</td>\n",
       "      <td>0.0</td>\n",
       "      <td>1.0</td>\n",
       "      <td>-1.0</td>\n",
       "      <td>-1.0</td>\n",
       "      <td>1.0</td>\n",
       "      <td>1.0</td>\n",
       "      <td>-1.0</td>\n",
       "      <td>0.0</td>\n",
       "    </tr>\n",
       "    <tr>\n",
       "      <th>x1</th>\n",
       "      <td>1.0</td>\n",
       "      <td>0.0</td>\n",
       "      <td>1.0</td>\n",
       "      <td>-1.0</td>\n",
       "      <td>0.0</td>\n",
       "      <td>0.0</td>\n",
       "      <td>-3.0</td>\n",
       "      <td>3.0</td>\n",
       "      <td>12.0</td>\n",
       "    </tr>\n",
       "    <tr>\n",
       "      <th>C - Z</th>\n",
       "      <td>0.0</td>\n",
       "      <td>0.0</td>\n",
       "      <td>1.0</td>\n",
       "      <td>-2.0</td>\n",
       "      <td>-1.0</td>\n",
       "      <td>0.0</td>\n",
       "      <td>1.0</td>\n",
       "      <td>-2.0</td>\n",
       "      <td>0.0</td>\n",
       "    </tr>\n",
       "  </tbody>\n",
       "</table>\n",
       "</div>"
      ],
      "text/plain": [
       "        x1   x2   t1   a1   t2   a2   t3   a3   RHS\n",
       "x2     0.0  1.0 -1.0  1.0  0.0  0.0  2.0 -2.0   6.0\n",
       "a2     0.0  0.0  1.0 -1.0 -1.0  1.0  1.0 -1.0   0.0\n",
       "x1     1.0  0.0  1.0 -1.0  0.0  0.0 -3.0  3.0  12.0\n",
       "C - Z  0.0  0.0  1.0 -2.0 -1.0  0.0  1.0 -2.0   0.0"
      ]
     },
     "metadata": {},
     "output_type": "display_data"
    },
    {
     "data": {
      "text/markdown": [
       "Entering variable is t1 (largest positive Cj-Zj)."
      ],
      "text/plain": [
       "<IPython.core.display.Markdown object>"
      ]
     },
     "metadata": {},
     "output_type": "display_data"
    },
    {
     "data": {
      "text/markdown": [
       "Leaving variable is a2 (smallest ratio)."
      ],
      "text/plain": [
       "<IPython.core.display.Markdown object>"
      ]
     },
     "metadata": {},
     "output_type": "display_data"
    },
    {
     "data": {
      "text/markdown": [
       "Iteration 3 (Phase 1): Pivot on R2, C3."
      ],
      "text/plain": [
       "<IPython.core.display.Markdown object>"
      ]
     },
     "metadata": {},
     "output_type": "display_data"
    },
    {
     "data": {
      "text/markdown": [
       "   Row R2 divided by pivot element 1.000000 to make it 1."
      ],
      "text/plain": [
       "<IPython.core.display.Markdown object>"
      ]
     },
     "metadata": {},
     "output_type": "display_data"
    },
    {
     "data": {
      "text/markdown": [
       "   Row R1 updated: R1 - (-1.000000) * R2"
      ],
      "text/plain": [
       "<IPython.core.display.Markdown object>"
      ]
     },
     "metadata": {},
     "output_type": "display_data"
    },
    {
     "data": {
      "text/markdown": [
       "   Row R3 updated: R3 - (1.000000) * R2"
      ],
      "text/plain": [
       "<IPython.core.display.Markdown object>"
      ]
     },
     "metadata": {},
     "output_type": "display_data"
    },
    {
     "data": {
      "text/markdown": [
       "   Row R4 updated: R4 - (1.000000) * R2"
      ],
      "text/plain": [
       "<IPython.core.display.Markdown object>"
      ]
     },
     "metadata": {},
     "output_type": "display_data"
    },
    {
     "data": {
      "text/markdown": [
       "### After pivot #3"
      ],
      "text/plain": [
       "<IPython.core.display.Markdown object>"
      ]
     },
     "metadata": {},
     "output_type": "display_data"
    },
    {
     "data": {
      "text/html": [
       "<div>\n",
       "<style scoped>\n",
       "    .dataframe tbody tr th:only-of-type {\n",
       "        vertical-align: middle;\n",
       "    }\n",
       "\n",
       "    .dataframe tbody tr th {\n",
       "        vertical-align: top;\n",
       "    }\n",
       "\n",
       "    .dataframe thead th {\n",
       "        text-align: right;\n",
       "    }\n",
       "</style>\n",
       "<table border=\"1\" class=\"dataframe\">\n",
       "  <thead>\n",
       "    <tr style=\"text-align: right;\">\n",
       "      <th></th>\n",
       "      <th>x1</th>\n",
       "      <th>x2</th>\n",
       "      <th>t1</th>\n",
       "      <th>a1</th>\n",
       "      <th>t2</th>\n",
       "      <th>a2</th>\n",
       "      <th>t3</th>\n",
       "      <th>a3</th>\n",
       "      <th>RHS</th>\n",
       "    </tr>\n",
       "  </thead>\n",
       "  <tbody>\n",
       "    <tr>\n",
       "      <th>x2</th>\n",
       "      <td>0.0</td>\n",
       "      <td>1.0</td>\n",
       "      <td>0.0</td>\n",
       "      <td>0.0</td>\n",
       "      <td>-1.0</td>\n",
       "      <td>1.0</td>\n",
       "      <td>3.0</td>\n",
       "      <td>-3.0</td>\n",
       "      <td>6.0</td>\n",
       "    </tr>\n",
       "    <tr>\n",
       "      <th>t1</th>\n",
       "      <td>0.0</td>\n",
       "      <td>0.0</td>\n",
       "      <td>1.0</td>\n",
       "      <td>-1.0</td>\n",
       "      <td>-1.0</td>\n",
       "      <td>1.0</td>\n",
       "      <td>1.0</td>\n",
       "      <td>-1.0</td>\n",
       "      <td>0.0</td>\n",
       "    </tr>\n",
       "    <tr>\n",
       "      <th>x1</th>\n",
       "      <td>1.0</td>\n",
       "      <td>0.0</td>\n",
       "      <td>0.0</td>\n",
       "      <td>0.0</td>\n",
       "      <td>1.0</td>\n",
       "      <td>-1.0</td>\n",
       "      <td>-4.0</td>\n",
       "      <td>4.0</td>\n",
       "      <td>12.0</td>\n",
       "    </tr>\n",
       "    <tr>\n",
       "      <th>C - Z</th>\n",
       "      <td>0.0</td>\n",
       "      <td>0.0</td>\n",
       "      <td>0.0</td>\n",
       "      <td>-1.0</td>\n",
       "      <td>0.0</td>\n",
       "      <td>-1.0</td>\n",
       "      <td>0.0</td>\n",
       "      <td>-1.0</td>\n",
       "      <td>0.0</td>\n",
       "    </tr>\n",
       "  </tbody>\n",
       "</table>\n",
       "</div>"
      ],
      "text/plain": [
       "        x1   x2   t1   a1   t2   a2   t3   a3   RHS\n",
       "x2     0.0  1.0  0.0  0.0 -1.0  1.0  3.0 -3.0   6.0\n",
       "t1     0.0  0.0  1.0 -1.0 -1.0  1.0  1.0 -1.0   0.0\n",
       "x1     1.0  0.0  0.0  0.0  1.0 -1.0 -4.0  4.0  12.0\n",
       "C - Z  0.0  0.0  0.0 -1.0  0.0 -1.0  0.0 -1.0   0.0"
      ]
     },
     "metadata": {},
     "output_type": "display_data"
    },
    {
     "data": {
      "text/markdown": [
       "Phase 1 — All Cj-Zj are non-positive. Optimal solution for this phase found."
      ],
      "text/plain": [
       "<IPython.core.display.Markdown object>"
      ]
     },
     "metadata": {},
     "output_type": "display_data"
    },
    {
     "data": {
      "text/markdown": [
       "### Phase 1 — Optimal (no positive C-Z). Objective = -0.000000"
      ],
      "text/plain": [
       "<IPython.core.display.Markdown object>"
      ]
     },
     "metadata": {},
     "output_type": "display_data"
    },
    {
     "data": {
      "text/html": [
       "<div>\n",
       "<style scoped>\n",
       "    .dataframe tbody tr th:only-of-type {\n",
       "        vertical-align: middle;\n",
       "    }\n",
       "\n",
       "    .dataframe tbody tr th {\n",
       "        vertical-align: top;\n",
       "    }\n",
       "\n",
       "    .dataframe thead th {\n",
       "        text-align: right;\n",
       "    }\n",
       "</style>\n",
       "<table border=\"1\" class=\"dataframe\">\n",
       "  <thead>\n",
       "    <tr style=\"text-align: right;\">\n",
       "      <th></th>\n",
       "      <th>x1</th>\n",
       "      <th>x2</th>\n",
       "      <th>t1</th>\n",
       "      <th>a1</th>\n",
       "      <th>t2</th>\n",
       "      <th>a2</th>\n",
       "      <th>t3</th>\n",
       "      <th>a3</th>\n",
       "      <th>RHS</th>\n",
       "    </tr>\n",
       "  </thead>\n",
       "  <tbody>\n",
       "    <tr>\n",
       "      <th>x2</th>\n",
       "      <td>0.0</td>\n",
       "      <td>1.0</td>\n",
       "      <td>0.0</td>\n",
       "      <td>0.0</td>\n",
       "      <td>-1.0</td>\n",
       "      <td>1.0</td>\n",
       "      <td>3.0</td>\n",
       "      <td>-3.0</td>\n",
       "      <td>6.0</td>\n",
       "    </tr>\n",
       "    <tr>\n",
       "      <th>t1</th>\n",
       "      <td>0.0</td>\n",
       "      <td>0.0</td>\n",
       "      <td>1.0</td>\n",
       "      <td>-1.0</td>\n",
       "      <td>-1.0</td>\n",
       "      <td>1.0</td>\n",
       "      <td>1.0</td>\n",
       "      <td>-1.0</td>\n",
       "      <td>0.0</td>\n",
       "    </tr>\n",
       "    <tr>\n",
       "      <th>x1</th>\n",
       "      <td>1.0</td>\n",
       "      <td>0.0</td>\n",
       "      <td>0.0</td>\n",
       "      <td>0.0</td>\n",
       "      <td>1.0</td>\n",
       "      <td>-1.0</td>\n",
       "      <td>-4.0</td>\n",
       "      <td>4.0</td>\n",
       "      <td>12.0</td>\n",
       "    </tr>\n",
       "    <tr>\n",
       "      <th>C - Z</th>\n",
       "      <td>0.0</td>\n",
       "      <td>0.0</td>\n",
       "      <td>0.0</td>\n",
       "      <td>-1.0</td>\n",
       "      <td>0.0</td>\n",
       "      <td>-1.0</td>\n",
       "      <td>0.0</td>\n",
       "      <td>-1.0</td>\n",
       "      <td>0.0</td>\n",
       "    </tr>\n",
       "  </tbody>\n",
       "</table>\n",
       "</div>"
      ],
      "text/plain": [
       "        x1   x2   t1   a1   t2   a2   t3   a3   RHS\n",
       "x2     0.0  1.0  0.0  0.0 -1.0  1.0  3.0 -3.0   6.0\n",
       "t1     0.0  0.0  1.0 -1.0 -1.0  1.0  1.0 -1.0   0.0\n",
       "x1     1.0  0.0  0.0  0.0  1.0 -1.0 -4.0  4.0  12.0\n",
       "C - Z  0.0  0.0  0.0 -1.0  0.0 -1.0  0.0 -1.0   0.0"
      ]
     },
     "metadata": {},
     "output_type": "display_data"
    },
    {
     "data": {
      "text/markdown": [
       "--- Starting Phase 2 ---"
      ],
      "text/plain": [
       "<IPython.core.display.Markdown object>"
      ]
     },
     "metadata": {},
     "output_type": "display_data"
    },
    {
     "data": {
      "text/markdown": [
       "### Phase 2 — Initial C - Z row"
      ],
      "text/plain": [
       "<IPython.core.display.Markdown object>"
      ]
     },
     "metadata": {},
     "output_type": "display_data"
    },
    {
     "data": {
      "text/html": [
       "<div>\n",
       "<style scoped>\n",
       "    .dataframe tbody tr th:only-of-type {\n",
       "        vertical-align: middle;\n",
       "    }\n",
       "\n",
       "    .dataframe tbody tr th {\n",
       "        vertical-align: top;\n",
       "    }\n",
       "\n",
       "    .dataframe thead th {\n",
       "        text-align: right;\n",
       "    }\n",
       "</style>\n",
       "<table border=\"1\" class=\"dataframe\">\n",
       "  <thead>\n",
       "    <tr style=\"text-align: right;\">\n",
       "      <th></th>\n",
       "      <th>x1</th>\n",
       "      <th>x2</th>\n",
       "      <th>t1</th>\n",
       "      <th>t2</th>\n",
       "      <th>t3</th>\n",
       "      <th>RHS</th>\n",
       "    </tr>\n",
       "  </thead>\n",
       "  <tbody>\n",
       "    <tr>\n",
       "      <th>x2</th>\n",
       "      <td>0.0</td>\n",
       "      <td>1.0</td>\n",
       "      <td>0.0</td>\n",
       "      <td>-1.0</td>\n",
       "      <td>3.0</td>\n",
       "      <td>6.0</td>\n",
       "    </tr>\n",
       "    <tr>\n",
       "      <th>t1</th>\n",
       "      <td>0.0</td>\n",
       "      <td>0.0</td>\n",
       "      <td>1.0</td>\n",
       "      <td>-1.0</td>\n",
       "      <td>1.0</td>\n",
       "      <td>0.0</td>\n",
       "    </tr>\n",
       "    <tr>\n",
       "      <th>x1</th>\n",
       "      <td>1.0</td>\n",
       "      <td>0.0</td>\n",
       "      <td>0.0</td>\n",
       "      <td>1.0</td>\n",
       "      <td>-4.0</td>\n",
       "      <td>12.0</td>\n",
       "    </tr>\n",
       "    <tr>\n",
       "      <th>C - Z</th>\n",
       "      <td>0.0</td>\n",
       "      <td>0.0</td>\n",
       "      <td>0.0</td>\n",
       "      <td>-2.0</td>\n",
       "      <td>1.0</td>\n",
       "      <td>102.0</td>\n",
       "    </tr>\n",
       "  </tbody>\n",
       "</table>\n",
       "</div>"
      ],
      "text/plain": [
       "        x1   x2   t1   t2   t3    RHS\n",
       "x2     0.0  1.0  0.0 -1.0  3.0    6.0\n",
       "t1     0.0  0.0  1.0 -1.0  1.0    0.0\n",
       "x1     1.0  0.0  0.0  1.0 -4.0   12.0\n",
       "C - Z  0.0  0.0  0.0 -2.0  1.0  102.0"
      ]
     },
     "metadata": {},
     "output_type": "display_data"
    },
    {
     "data": {
      "text/markdown": [
       "Entering variable is t3 (largest positive Cj-Zj)."
      ],
      "text/plain": [
       "<IPython.core.display.Markdown object>"
      ]
     },
     "metadata": {},
     "output_type": "display_data"
    },
    {
     "data": {
      "text/markdown": [
       "Leaving variable is t1 (smallest ratio)."
      ],
      "text/plain": [
       "<IPython.core.display.Markdown object>"
      ]
     },
     "metadata": {},
     "output_type": "display_data"
    },
    {
     "data": {
      "text/markdown": [
       "Iteration 4 (Phase 2): Pivot on R2, C5."
      ],
      "text/plain": [
       "<IPython.core.display.Markdown object>"
      ]
     },
     "metadata": {},
     "output_type": "display_data"
    },
    {
     "data": {
      "text/markdown": [
       "   Row R2 divided by pivot element 1.000000 to make it 1."
      ],
      "text/plain": [
       "<IPython.core.display.Markdown object>"
      ]
     },
     "metadata": {},
     "output_type": "display_data"
    },
    {
     "data": {
      "text/markdown": [
       "   Row R1 updated: R1 - (3.000000) * R2"
      ],
      "text/plain": [
       "<IPython.core.display.Markdown object>"
      ]
     },
     "metadata": {},
     "output_type": "display_data"
    },
    {
     "data": {
      "text/markdown": [
       "   Row R3 updated: R3 - (-4.000000) * R2"
      ],
      "text/plain": [
       "<IPython.core.display.Markdown object>"
      ]
     },
     "metadata": {},
     "output_type": "display_data"
    },
    {
     "data": {
      "text/markdown": [
       "   Row R4 updated: R4 - (1.000000) * R2"
      ],
      "text/plain": [
       "<IPython.core.display.Markdown object>"
      ]
     },
     "metadata": {},
     "output_type": "display_data"
    },
    {
     "data": {
      "text/markdown": [
       "### After pivot #4"
      ],
      "text/plain": [
       "<IPython.core.display.Markdown object>"
      ]
     },
     "metadata": {},
     "output_type": "display_data"
    },
    {
     "data": {
      "text/html": [
       "<div>\n",
       "<style scoped>\n",
       "    .dataframe tbody tr th:only-of-type {\n",
       "        vertical-align: middle;\n",
       "    }\n",
       "\n",
       "    .dataframe tbody tr th {\n",
       "        vertical-align: top;\n",
       "    }\n",
       "\n",
       "    .dataframe thead th {\n",
       "        text-align: right;\n",
       "    }\n",
       "</style>\n",
       "<table border=\"1\" class=\"dataframe\">\n",
       "  <thead>\n",
       "    <tr style=\"text-align: right;\">\n",
       "      <th></th>\n",
       "      <th>x1</th>\n",
       "      <th>x2</th>\n",
       "      <th>t1</th>\n",
       "      <th>t2</th>\n",
       "      <th>t3</th>\n",
       "      <th>RHS</th>\n",
       "    </tr>\n",
       "  </thead>\n",
       "  <tbody>\n",
       "    <tr>\n",
       "      <th>x2</th>\n",
       "      <td>0.0</td>\n",
       "      <td>1.0</td>\n",
       "      <td>-3.0</td>\n",
       "      <td>2.0</td>\n",
       "      <td>0.0</td>\n",
       "      <td>6.0</td>\n",
       "    </tr>\n",
       "    <tr>\n",
       "      <th>t3</th>\n",
       "      <td>0.0</td>\n",
       "      <td>0.0</td>\n",
       "      <td>1.0</td>\n",
       "      <td>-1.0</td>\n",
       "      <td>1.0</td>\n",
       "      <td>0.0</td>\n",
       "    </tr>\n",
       "    <tr>\n",
       "      <th>x1</th>\n",
       "      <td>1.0</td>\n",
       "      <td>0.0</td>\n",
       "      <td>4.0</td>\n",
       "      <td>-3.0</td>\n",
       "      <td>0.0</td>\n",
       "      <td>12.0</td>\n",
       "    </tr>\n",
       "    <tr>\n",
       "      <th>C - Z</th>\n",
       "      <td>0.0</td>\n",
       "      <td>0.0</td>\n",
       "      <td>-1.0</td>\n",
       "      <td>-1.0</td>\n",
       "      <td>0.0</td>\n",
       "      <td>102.0</td>\n",
       "    </tr>\n",
       "  </tbody>\n",
       "</table>\n",
       "</div>"
      ],
      "text/plain": [
       "        x1   x2   t1   t2   t3    RHS\n",
       "x2     0.0  1.0 -3.0  2.0  0.0    6.0\n",
       "t3     0.0  0.0  1.0 -1.0  1.0    0.0\n",
       "x1     1.0  0.0  4.0 -3.0  0.0   12.0\n",
       "C - Z  0.0  0.0 -1.0 -1.0  0.0  102.0"
      ]
     },
     "metadata": {},
     "output_type": "display_data"
    },
    {
     "data": {
      "text/markdown": [
       "Phase 2 — All Cj-Zj are non-positive. Optimal solution for this phase found."
      ],
      "text/plain": [
       "<IPython.core.display.Markdown object>"
      ]
     },
     "metadata": {},
     "output_type": "display_data"
    },
    {
     "data": {
      "text/markdown": [
       "### Phase 2 — Optimal (no positive C-Z). Objective = -102.000000"
      ],
      "text/plain": [
       "<IPython.core.display.Markdown object>"
      ]
     },
     "metadata": {},
     "output_type": "display_data"
    },
    {
     "data": {
      "text/html": [
       "<div>\n",
       "<style scoped>\n",
       "    .dataframe tbody tr th:only-of-type {\n",
       "        vertical-align: middle;\n",
       "    }\n",
       "\n",
       "    .dataframe tbody tr th {\n",
       "        vertical-align: top;\n",
       "    }\n",
       "\n",
       "    .dataframe thead th {\n",
       "        text-align: right;\n",
       "    }\n",
       "</style>\n",
       "<table border=\"1\" class=\"dataframe\">\n",
       "  <thead>\n",
       "    <tr style=\"text-align: right;\">\n",
       "      <th></th>\n",
       "      <th>x1</th>\n",
       "      <th>x2</th>\n",
       "      <th>t1</th>\n",
       "      <th>t2</th>\n",
       "      <th>t3</th>\n",
       "      <th>RHS</th>\n",
       "    </tr>\n",
       "  </thead>\n",
       "  <tbody>\n",
       "    <tr>\n",
       "      <th>x2</th>\n",
       "      <td>0.0</td>\n",
       "      <td>1.0</td>\n",
       "      <td>-3.0</td>\n",
       "      <td>2.0</td>\n",
       "      <td>0.0</td>\n",
       "      <td>6.0</td>\n",
       "    </tr>\n",
       "    <tr>\n",
       "      <th>t3</th>\n",
       "      <td>0.0</td>\n",
       "      <td>0.0</td>\n",
       "      <td>1.0</td>\n",
       "      <td>-1.0</td>\n",
       "      <td>1.0</td>\n",
       "      <td>0.0</td>\n",
       "    </tr>\n",
       "    <tr>\n",
       "      <th>x1</th>\n",
       "      <td>1.0</td>\n",
       "      <td>0.0</td>\n",
       "      <td>4.0</td>\n",
       "      <td>-3.0</td>\n",
       "      <td>0.0</td>\n",
       "      <td>12.0</td>\n",
       "    </tr>\n",
       "    <tr>\n",
       "      <th>C - Z</th>\n",
       "      <td>0.0</td>\n",
       "      <td>0.0</td>\n",
       "      <td>-1.0</td>\n",
       "      <td>-1.0</td>\n",
       "      <td>0.0</td>\n",
       "      <td>102.0</td>\n",
       "    </tr>\n",
       "  </tbody>\n",
       "</table>\n",
       "</div>"
      ],
      "text/plain": [
       "        x1   x2   t1   t2   t3    RHS\n",
       "x2     0.0  1.0 -3.0  2.0  0.0    6.0\n",
       "t3     0.0  0.0  1.0 -1.0  1.0    0.0\n",
       "x1     1.0  0.0  4.0 -3.0  0.0   12.0\n",
       "C - Z  0.0  0.0 -1.0 -1.0  0.0  102.0"
      ]
     },
     "metadata": {},
     "output_type": "display_data"
    },
    {
     "name": "stdout",
     "output_type": "stream",
     "text": [
      "\n",
      "=== RESULT ===\n",
      "Status: optimal\n",
      "Objective value: 102.0\n",
      "Solution: {'x1': np.float64(12.0), 'x2': np.float64(6.0)}\n",
      "Iterations: 4\n"
     ]
    }
   ],
   "source": [
    "# Example (change these to your own problem)\n",
    "sense = 'min'  # 'max' or 'min'\n",
    "c = [5, 7]     # maximize 3x1 + 2x2\n",
    "A = [\n",
    "    [2, 3],\n",
    "    [3, 4],\n",
    "    [1, 1]\n",
    "\n",
    "]\n",
    "b = [42, 60, 18]\n",
    "cons = ['>=', '>=', '>=']\n",
    "Mode = 'TwoPhase'  # or 'BigM'\n",
    "\n",
    "run_and_show(sense, c, A, b, cons, Mode, M=1e5)"
   ]
  },
  {
   "cell_type": "markdown",
   "id": "34d3830f",
   "metadata": {},
   "source": [
    "# 8"
   ]
  },
  {
   "cell_type": "code",
   "execution_count": 8,
   "id": "d262c6b4",
   "metadata": {},
   "outputs": [
    {
     "name": "stdout",
     "output_type": "stream",
     "text": [
      "\n",
      "=== Mode ===\n",
      "Mode: TwoPhase\n"
     ]
    },
    {
     "data": {
      "text/markdown": [
       "--- Starting Phase 2 ---"
      ],
      "text/plain": [
       "<IPython.core.display.Markdown object>"
      ]
     },
     "metadata": {},
     "output_type": "display_data"
    },
    {
     "data": {
      "text/markdown": [
       "### Phase 2 — Initial C - Z row"
      ],
      "text/plain": [
       "<IPython.core.display.Markdown object>"
      ]
     },
     "metadata": {},
     "output_type": "display_data"
    },
    {
     "data": {
      "text/html": [
       "<div>\n",
       "<style scoped>\n",
       "    .dataframe tbody tr th:only-of-type {\n",
       "        vertical-align: middle;\n",
       "    }\n",
       "\n",
       "    .dataframe tbody tr th {\n",
       "        vertical-align: top;\n",
       "    }\n",
       "\n",
       "    .dataframe thead th {\n",
       "        text-align: right;\n",
       "    }\n",
       "</style>\n",
       "<table border=\"1\" class=\"dataframe\">\n",
       "  <thead>\n",
       "    <tr style=\"text-align: right;\">\n",
       "      <th></th>\n",
       "      <th>x1</th>\n",
       "      <th>x2</th>\n",
       "      <th>x3</th>\n",
       "      <th>s1</th>\n",
       "      <th>s2</th>\n",
       "      <th>s3</th>\n",
       "      <th>RHS</th>\n",
       "    </tr>\n",
       "  </thead>\n",
       "  <tbody>\n",
       "    <tr>\n",
       "      <th>s1</th>\n",
       "      <td>3.0</td>\n",
       "      <td>1.0</td>\n",
       "      <td>5.0</td>\n",
       "      <td>1.0</td>\n",
       "      <td>0.0</td>\n",
       "      <td>0.0</td>\n",
       "      <td>10.0</td>\n",
       "    </tr>\n",
       "    <tr>\n",
       "      <th>s2</th>\n",
       "      <td>1.0</td>\n",
       "      <td>4.0</td>\n",
       "      <td>1.0</td>\n",
       "      <td>0.0</td>\n",
       "      <td>1.0</td>\n",
       "      <td>0.0</td>\n",
       "      <td>8.0</td>\n",
       "    </tr>\n",
       "    <tr>\n",
       "      <th>s3</th>\n",
       "      <td>2.0</td>\n",
       "      <td>0.0</td>\n",
       "      <td>2.0</td>\n",
       "      <td>0.0</td>\n",
       "      <td>0.0</td>\n",
       "      <td>1.0</td>\n",
       "      <td>7.0</td>\n",
       "    </tr>\n",
       "    <tr>\n",
       "      <th>C - Z</th>\n",
       "      <td>1.0</td>\n",
       "      <td>2.0</td>\n",
       "      <td>4.0</td>\n",
       "      <td>0.0</td>\n",
       "      <td>0.0</td>\n",
       "      <td>0.0</td>\n",
       "      <td>0.0</td>\n",
       "    </tr>\n",
       "  </tbody>\n",
       "</table>\n",
       "</div>"
      ],
      "text/plain": [
       "        x1   x2   x3   s1   s2   s3   RHS\n",
       "s1     3.0  1.0  5.0  1.0  0.0  0.0  10.0\n",
       "s2     1.0  4.0  1.0  0.0  1.0  0.0   8.0\n",
       "s3     2.0  0.0  2.0  0.0  0.0  1.0   7.0\n",
       "C - Z  1.0  2.0  4.0  0.0  0.0  0.0   0.0"
      ]
     },
     "metadata": {},
     "output_type": "display_data"
    },
    {
     "data": {
      "text/markdown": [
       "Entering variable is x1 (largest positive Cj-Zj)."
      ],
      "text/plain": [
       "<IPython.core.display.Markdown object>"
      ]
     },
     "metadata": {},
     "output_type": "display_data"
    },
    {
     "data": {
      "text/markdown": [
       "Leaving variable is s1 (smallest ratio)."
      ],
      "text/plain": [
       "<IPython.core.display.Markdown object>"
      ]
     },
     "metadata": {},
     "output_type": "display_data"
    },
    {
     "data": {
      "text/markdown": [
       "Iteration 1 (Phase 2): Pivot on R1, C1."
      ],
      "text/plain": [
       "<IPython.core.display.Markdown object>"
      ]
     },
     "metadata": {},
     "output_type": "display_data"
    },
    {
     "data": {
      "text/markdown": [
       "   Row R1 divided by pivot element 3.000000 to make it 1."
      ],
      "text/plain": [
       "<IPython.core.display.Markdown object>"
      ]
     },
     "metadata": {},
     "output_type": "display_data"
    },
    {
     "data": {
      "text/markdown": [
       "   Row R2 updated: R2 - (1.000000) * R1"
      ],
      "text/plain": [
       "<IPython.core.display.Markdown object>"
      ]
     },
     "metadata": {},
     "output_type": "display_data"
    },
    {
     "data": {
      "text/markdown": [
       "   Row R3 updated: R3 - (2.000000) * R1"
      ],
      "text/plain": [
       "<IPython.core.display.Markdown object>"
      ]
     },
     "metadata": {},
     "output_type": "display_data"
    },
    {
     "data": {
      "text/markdown": [
       "   Row R4 updated: R4 - (1.000000) * R1"
      ],
      "text/plain": [
       "<IPython.core.display.Markdown object>"
      ]
     },
     "metadata": {},
     "output_type": "display_data"
    },
    {
     "data": {
      "text/markdown": [
       "### After pivot #1"
      ],
      "text/plain": [
       "<IPython.core.display.Markdown object>"
      ]
     },
     "metadata": {},
     "output_type": "display_data"
    },
    {
     "data": {
      "text/html": [
       "<div>\n",
       "<style scoped>\n",
       "    .dataframe tbody tr th:only-of-type {\n",
       "        vertical-align: middle;\n",
       "    }\n",
       "\n",
       "    .dataframe tbody tr th {\n",
       "        vertical-align: top;\n",
       "    }\n",
       "\n",
       "    .dataframe thead th {\n",
       "        text-align: right;\n",
       "    }\n",
       "</style>\n",
       "<table border=\"1\" class=\"dataframe\">\n",
       "  <thead>\n",
       "    <tr style=\"text-align: right;\">\n",
       "      <th></th>\n",
       "      <th>x1</th>\n",
       "      <th>x2</th>\n",
       "      <th>x3</th>\n",
       "      <th>s1</th>\n",
       "      <th>s2</th>\n",
       "      <th>s3</th>\n",
       "      <th>RHS</th>\n",
       "    </tr>\n",
       "  </thead>\n",
       "  <tbody>\n",
       "    <tr>\n",
       "      <th>x1</th>\n",
       "      <td>1.0</td>\n",
       "      <td>0.333333</td>\n",
       "      <td>1.666667</td>\n",
       "      <td>0.333333</td>\n",
       "      <td>0.0</td>\n",
       "      <td>0.0</td>\n",
       "      <td>3.333333</td>\n",
       "    </tr>\n",
       "    <tr>\n",
       "      <th>s2</th>\n",
       "      <td>0.0</td>\n",
       "      <td>3.666667</td>\n",
       "      <td>-0.666667</td>\n",
       "      <td>-0.333333</td>\n",
       "      <td>1.0</td>\n",
       "      <td>0.0</td>\n",
       "      <td>4.666667</td>\n",
       "    </tr>\n",
       "    <tr>\n",
       "      <th>s3</th>\n",
       "      <td>0.0</td>\n",
       "      <td>-0.666667</td>\n",
       "      <td>-1.333333</td>\n",
       "      <td>-0.666667</td>\n",
       "      <td>0.0</td>\n",
       "      <td>1.0</td>\n",
       "      <td>0.333333</td>\n",
       "    </tr>\n",
       "    <tr>\n",
       "      <th>C - Z</th>\n",
       "      <td>0.0</td>\n",
       "      <td>1.666667</td>\n",
       "      <td>2.333333</td>\n",
       "      <td>-0.333333</td>\n",
       "      <td>0.0</td>\n",
       "      <td>0.0</td>\n",
       "      <td>-3.333333</td>\n",
       "    </tr>\n",
       "  </tbody>\n",
       "</table>\n",
       "</div>"
      ],
      "text/plain": [
       "        x1        x2        x3        s1   s2   s3       RHS\n",
       "x1     1.0  0.333333  1.666667  0.333333  0.0  0.0  3.333333\n",
       "s2     0.0  3.666667 -0.666667 -0.333333  1.0  0.0  4.666667\n",
       "s3     0.0 -0.666667 -1.333333 -0.666667  0.0  1.0  0.333333\n",
       "C - Z  0.0  1.666667  2.333333 -0.333333  0.0  0.0 -3.333333"
      ]
     },
     "metadata": {},
     "output_type": "display_data"
    },
    {
     "data": {
      "text/markdown": [
       "Entering variable is x2 (largest positive Cj-Zj)."
      ],
      "text/plain": [
       "<IPython.core.display.Markdown object>"
      ]
     },
     "metadata": {},
     "output_type": "display_data"
    },
    {
     "data": {
      "text/markdown": [
       "Leaving variable is s2 (smallest ratio)."
      ],
      "text/plain": [
       "<IPython.core.display.Markdown object>"
      ]
     },
     "metadata": {},
     "output_type": "display_data"
    },
    {
     "data": {
      "text/markdown": [
       "Iteration 2 (Phase 2): Pivot on R2, C2."
      ],
      "text/plain": [
       "<IPython.core.display.Markdown object>"
      ]
     },
     "metadata": {},
     "output_type": "display_data"
    },
    {
     "data": {
      "text/markdown": [
       "   Row R2 divided by pivot element 3.666667 to make it 1."
      ],
      "text/plain": [
       "<IPython.core.display.Markdown object>"
      ]
     },
     "metadata": {},
     "output_type": "display_data"
    },
    {
     "data": {
      "text/markdown": [
       "   Row R1 updated: R1 - (0.333333) * R2"
      ],
      "text/plain": [
       "<IPython.core.display.Markdown object>"
      ]
     },
     "metadata": {},
     "output_type": "display_data"
    },
    {
     "data": {
      "text/markdown": [
       "   Row R3 updated: R3 - (-0.666667) * R2"
      ],
      "text/plain": [
       "<IPython.core.display.Markdown object>"
      ]
     },
     "metadata": {},
     "output_type": "display_data"
    },
    {
     "data": {
      "text/markdown": [
       "   Row R4 updated: R4 - (1.666667) * R2"
      ],
      "text/plain": [
       "<IPython.core.display.Markdown object>"
      ]
     },
     "metadata": {},
     "output_type": "display_data"
    },
    {
     "data": {
      "text/markdown": [
       "### After pivot #2"
      ],
      "text/plain": [
       "<IPython.core.display.Markdown object>"
      ]
     },
     "metadata": {},
     "output_type": "display_data"
    },
    {
     "data": {
      "text/html": [
       "<div>\n",
       "<style scoped>\n",
       "    .dataframe tbody tr th:only-of-type {\n",
       "        vertical-align: middle;\n",
       "    }\n",
       "\n",
       "    .dataframe tbody tr th {\n",
       "        vertical-align: top;\n",
       "    }\n",
       "\n",
       "    .dataframe thead th {\n",
       "        text-align: right;\n",
       "    }\n",
       "</style>\n",
       "<table border=\"1\" class=\"dataframe\">\n",
       "  <thead>\n",
       "    <tr style=\"text-align: right;\">\n",
       "      <th></th>\n",
       "      <th>x1</th>\n",
       "      <th>x2</th>\n",
       "      <th>x3</th>\n",
       "      <th>s1</th>\n",
       "      <th>s2</th>\n",
       "      <th>s3</th>\n",
       "      <th>RHS</th>\n",
       "    </tr>\n",
       "  </thead>\n",
       "  <tbody>\n",
       "    <tr>\n",
       "      <th>x1</th>\n",
       "      <td>1.0</td>\n",
       "      <td>0.0</td>\n",
       "      <td>1.727273</td>\n",
       "      <td>0.363636</td>\n",
       "      <td>-0.090909</td>\n",
       "      <td>0.0</td>\n",
       "      <td>2.909091</td>\n",
       "    </tr>\n",
       "    <tr>\n",
       "      <th>x2</th>\n",
       "      <td>0.0</td>\n",
       "      <td>1.0</td>\n",
       "      <td>-0.181818</td>\n",
       "      <td>-0.090909</td>\n",
       "      <td>0.272727</td>\n",
       "      <td>0.0</td>\n",
       "      <td>1.272727</td>\n",
       "    </tr>\n",
       "    <tr>\n",
       "      <th>s3</th>\n",
       "      <td>0.0</td>\n",
       "      <td>0.0</td>\n",
       "      <td>-1.454545</td>\n",
       "      <td>-0.727273</td>\n",
       "      <td>0.181818</td>\n",
       "      <td>1.0</td>\n",
       "      <td>1.181818</td>\n",
       "    </tr>\n",
       "    <tr>\n",
       "      <th>C - Z</th>\n",
       "      <td>0.0</td>\n",
       "      <td>0.0</td>\n",
       "      <td>2.636364</td>\n",
       "      <td>-0.181818</td>\n",
       "      <td>-0.454545</td>\n",
       "      <td>0.0</td>\n",
       "      <td>-5.454545</td>\n",
       "    </tr>\n",
       "  </tbody>\n",
       "</table>\n",
       "</div>"
      ],
      "text/plain": [
       "        x1   x2        x3        s1        s2   s3       RHS\n",
       "x1     1.0  0.0  1.727273  0.363636 -0.090909  0.0  2.909091\n",
       "x2     0.0  1.0 -0.181818 -0.090909  0.272727  0.0  1.272727\n",
       "s3     0.0  0.0 -1.454545 -0.727273  0.181818  1.0  1.181818\n",
       "C - Z  0.0  0.0  2.636364 -0.181818 -0.454545  0.0 -5.454545"
      ]
     },
     "metadata": {},
     "output_type": "display_data"
    },
    {
     "data": {
      "text/markdown": [
       "Entering variable is x3 (largest positive Cj-Zj)."
      ],
      "text/plain": [
       "<IPython.core.display.Markdown object>"
      ]
     },
     "metadata": {},
     "output_type": "display_data"
    },
    {
     "data": {
      "text/markdown": [
       "Leaving variable is x1 (smallest ratio)."
      ],
      "text/plain": [
       "<IPython.core.display.Markdown object>"
      ]
     },
     "metadata": {},
     "output_type": "display_data"
    },
    {
     "data": {
      "text/markdown": [
       "Iteration 3 (Phase 2): Pivot on R1, C3."
      ],
      "text/plain": [
       "<IPython.core.display.Markdown object>"
      ]
     },
     "metadata": {},
     "output_type": "display_data"
    },
    {
     "data": {
      "text/markdown": [
       "   Row R1 divided by pivot element 1.727273 to make it 1."
      ],
      "text/plain": [
       "<IPython.core.display.Markdown object>"
      ]
     },
     "metadata": {},
     "output_type": "display_data"
    },
    {
     "data": {
      "text/markdown": [
       "   Row R2 updated: R2 - (-0.181818) * R1"
      ],
      "text/plain": [
       "<IPython.core.display.Markdown object>"
      ]
     },
     "metadata": {},
     "output_type": "display_data"
    },
    {
     "data": {
      "text/markdown": [
       "   Row R3 updated: R3 - (-1.454545) * R1"
      ],
      "text/plain": [
       "<IPython.core.display.Markdown object>"
      ]
     },
     "metadata": {},
     "output_type": "display_data"
    },
    {
     "data": {
      "text/markdown": [
       "   Row R4 updated: R4 - (2.636364) * R1"
      ],
      "text/plain": [
       "<IPython.core.display.Markdown object>"
      ]
     },
     "metadata": {},
     "output_type": "display_data"
    },
    {
     "data": {
      "text/markdown": [
       "### After pivot #3"
      ],
      "text/plain": [
       "<IPython.core.display.Markdown object>"
      ]
     },
     "metadata": {},
     "output_type": "display_data"
    },
    {
     "data": {
      "text/html": [
       "<div>\n",
       "<style scoped>\n",
       "    .dataframe tbody tr th:only-of-type {\n",
       "        vertical-align: middle;\n",
       "    }\n",
       "\n",
       "    .dataframe tbody tr th {\n",
       "        vertical-align: top;\n",
       "    }\n",
       "\n",
       "    .dataframe thead th {\n",
       "        text-align: right;\n",
       "    }\n",
       "</style>\n",
       "<table border=\"1\" class=\"dataframe\">\n",
       "  <thead>\n",
       "    <tr style=\"text-align: right;\">\n",
       "      <th></th>\n",
       "      <th>x1</th>\n",
       "      <th>x2</th>\n",
       "      <th>x3</th>\n",
       "      <th>s1</th>\n",
       "      <th>s2</th>\n",
       "      <th>s3</th>\n",
       "      <th>RHS</th>\n",
       "    </tr>\n",
       "  </thead>\n",
       "  <tbody>\n",
       "    <tr>\n",
       "      <th>x3</th>\n",
       "      <td>0.578947</td>\n",
       "      <td>0.0</td>\n",
       "      <td>1.0</td>\n",
       "      <td>0.210526</td>\n",
       "      <td>-0.052632</td>\n",
       "      <td>0.0</td>\n",
       "      <td>1.684211</td>\n",
       "    </tr>\n",
       "    <tr>\n",
       "      <th>x2</th>\n",
       "      <td>0.105263</td>\n",
       "      <td>1.0</td>\n",
       "      <td>0.0</td>\n",
       "      <td>-0.052632</td>\n",
       "      <td>0.263158</td>\n",
       "      <td>0.0</td>\n",
       "      <td>1.578947</td>\n",
       "    </tr>\n",
       "    <tr>\n",
       "      <th>s3</th>\n",
       "      <td>0.842105</td>\n",
       "      <td>0.0</td>\n",
       "      <td>0.0</td>\n",
       "      <td>-0.421053</td>\n",
       "      <td>0.105263</td>\n",
       "      <td>1.0</td>\n",
       "      <td>3.631579</td>\n",
       "    </tr>\n",
       "    <tr>\n",
       "      <th>C - Z</th>\n",
       "      <td>-1.526316</td>\n",
       "      <td>0.0</td>\n",
       "      <td>0.0</td>\n",
       "      <td>-0.736842</td>\n",
       "      <td>-0.315789</td>\n",
       "      <td>0.0</td>\n",
       "      <td>-9.894737</td>\n",
       "    </tr>\n",
       "  </tbody>\n",
       "</table>\n",
       "</div>"
      ],
      "text/plain": [
       "             x1   x2   x3        s1        s2   s3       RHS\n",
       "x3     0.578947  0.0  1.0  0.210526 -0.052632  0.0  1.684211\n",
       "x2     0.105263  1.0  0.0 -0.052632  0.263158  0.0  1.578947\n",
       "s3     0.842105  0.0  0.0 -0.421053  0.105263  1.0  3.631579\n",
       "C - Z -1.526316  0.0  0.0 -0.736842 -0.315789  0.0 -9.894737"
      ]
     },
     "metadata": {},
     "output_type": "display_data"
    },
    {
     "data": {
      "text/markdown": [
       "Phase 2 — All Cj-Zj are non-positive. Optimal solution for this phase found."
      ],
      "text/plain": [
       "<IPython.core.display.Markdown object>"
      ]
     },
     "metadata": {},
     "output_type": "display_data"
    },
    {
     "data": {
      "text/markdown": [
       "### Phase 2 — Optimal (no positive C-Z). Objective = 9.894737"
      ],
      "text/plain": [
       "<IPython.core.display.Markdown object>"
      ]
     },
     "metadata": {},
     "output_type": "display_data"
    },
    {
     "data": {
      "text/html": [
       "<div>\n",
       "<style scoped>\n",
       "    .dataframe tbody tr th:only-of-type {\n",
       "        vertical-align: middle;\n",
       "    }\n",
       "\n",
       "    .dataframe tbody tr th {\n",
       "        vertical-align: top;\n",
       "    }\n",
       "\n",
       "    .dataframe thead th {\n",
       "        text-align: right;\n",
       "    }\n",
       "</style>\n",
       "<table border=\"1\" class=\"dataframe\">\n",
       "  <thead>\n",
       "    <tr style=\"text-align: right;\">\n",
       "      <th></th>\n",
       "      <th>x1</th>\n",
       "      <th>x2</th>\n",
       "      <th>x3</th>\n",
       "      <th>s1</th>\n",
       "      <th>s2</th>\n",
       "      <th>s3</th>\n",
       "      <th>RHS</th>\n",
       "    </tr>\n",
       "  </thead>\n",
       "  <tbody>\n",
       "    <tr>\n",
       "      <th>x3</th>\n",
       "      <td>0.578947</td>\n",
       "      <td>0.0</td>\n",
       "      <td>1.0</td>\n",
       "      <td>0.210526</td>\n",
       "      <td>-0.052632</td>\n",
       "      <td>0.0</td>\n",
       "      <td>1.684211</td>\n",
       "    </tr>\n",
       "    <tr>\n",
       "      <th>x2</th>\n",
       "      <td>0.105263</td>\n",
       "      <td>1.0</td>\n",
       "      <td>0.0</td>\n",
       "      <td>-0.052632</td>\n",
       "      <td>0.263158</td>\n",
       "      <td>0.0</td>\n",
       "      <td>1.578947</td>\n",
       "    </tr>\n",
       "    <tr>\n",
       "      <th>s3</th>\n",
       "      <td>0.842105</td>\n",
       "      <td>0.0</td>\n",
       "      <td>0.0</td>\n",
       "      <td>-0.421053</td>\n",
       "      <td>0.105263</td>\n",
       "      <td>1.0</td>\n",
       "      <td>3.631579</td>\n",
       "    </tr>\n",
       "    <tr>\n",
       "      <th>C - Z</th>\n",
       "      <td>-1.526316</td>\n",
       "      <td>0.0</td>\n",
       "      <td>0.0</td>\n",
       "      <td>-0.736842</td>\n",
       "      <td>-0.315789</td>\n",
       "      <td>0.0</td>\n",
       "      <td>-9.894737</td>\n",
       "    </tr>\n",
       "  </tbody>\n",
       "</table>\n",
       "</div>"
      ],
      "text/plain": [
       "             x1   x2   x3        s1        s2   s3       RHS\n",
       "x3     0.578947  0.0  1.0  0.210526 -0.052632  0.0  1.684211\n",
       "x2     0.105263  1.0  0.0 -0.052632  0.263158  0.0  1.578947\n",
       "s3     0.842105  0.0  0.0 -0.421053  0.105263  1.0  3.631579\n",
       "C - Z -1.526316  0.0  0.0 -0.736842 -0.315789  0.0 -9.894737"
      ]
     },
     "metadata": {},
     "output_type": "display_data"
    },
    {
     "name": "stdout",
     "output_type": "stream",
     "text": [
      "\n",
      "=== RESULT ===\n",
      "Status: optimal\n",
      "Objective value: 9.894736842105264\n",
      "Solution: {'x1': 0.0, 'x2': np.float64(1.5789473684210527), 'x3': np.float64(1.6842105263157896)}\n",
      "Iterations: 3\n"
     ]
    }
   ],
   "source": [
    "# Example (change these to your own problem)\n",
    "sense = 'max'  # 'max' or 'min'\n",
    "c = [1, 2, 4]     # maximize 3x1 + 2x2\n",
    "A = [\n",
    "    [3, 1, 5],\n",
    "    [1, 4, 1],\n",
    "    [2, 0, 2]\n",
    "\n",
    "]\n",
    "b = [10, 8, 7]\n",
    "cons = ['<=', '<=', '<=']\n",
    "Mode = 'TwoPhase'  # or 'BigM'\n",
    "\n",
    "run_and_show(sense, c, A, b, cons, Mode, M=1e5)"
   ]
  },
  {
   "cell_type": "markdown",
   "id": "17b742d8",
   "metadata": {},
   "source": [
    "# 18"
   ]
  },
  {
   "cell_type": "code",
   "execution_count": 9,
   "id": "97fb80ce",
   "metadata": {},
   "outputs": [
    {
     "name": "stdout",
     "output_type": "stream",
     "text": [
      "\n",
      "=== Mode ===\n",
      "Mode: TwoPhase\n"
     ]
    },
    {
     "data": {
      "text/markdown": [
       "--- Starting Phase 1 ---"
      ],
      "text/plain": [
       "<IPython.core.display.Markdown object>"
      ]
     },
     "metadata": {},
     "output_type": "display_data"
    },
    {
     "data": {
      "text/markdown": [
       "### Phase 1 — Initial C - Z row"
      ],
      "text/plain": [
       "<IPython.core.display.Markdown object>"
      ]
     },
     "metadata": {},
     "output_type": "display_data"
    },
    {
     "data": {
      "text/html": [
       "<div>\n",
       "<style scoped>\n",
       "    .dataframe tbody tr th:only-of-type {\n",
       "        vertical-align: middle;\n",
       "    }\n",
       "\n",
       "    .dataframe tbody tr th {\n",
       "        vertical-align: top;\n",
       "    }\n",
       "\n",
       "    .dataframe thead th {\n",
       "        text-align: right;\n",
       "    }\n",
       "</style>\n",
       "<table border=\"1\" class=\"dataframe\">\n",
       "  <thead>\n",
       "    <tr style=\"text-align: right;\">\n",
       "      <th></th>\n",
       "      <th>x1</th>\n",
       "      <th>x2</th>\n",
       "      <th>s1</th>\n",
       "      <th>a2</th>\n",
       "      <th>RHS</th>\n",
       "    </tr>\n",
       "  </thead>\n",
       "  <tbody>\n",
       "    <tr>\n",
       "      <th>s1</th>\n",
       "      <td>1.0</td>\n",
       "      <td>2.0</td>\n",
       "      <td>1.0</td>\n",
       "      <td>0.0</td>\n",
       "      <td>4.0</td>\n",
       "    </tr>\n",
       "    <tr>\n",
       "      <th>a2</th>\n",
       "      <td>1.0</td>\n",
       "      <td>1.0</td>\n",
       "      <td>0.0</td>\n",
       "      <td>1.0</td>\n",
       "      <td>3.0</td>\n",
       "    </tr>\n",
       "    <tr>\n",
       "      <th>C - Z</th>\n",
       "      <td>1.0</td>\n",
       "      <td>1.0</td>\n",
       "      <td>0.0</td>\n",
       "      <td>0.0</td>\n",
       "      <td>3.0</td>\n",
       "    </tr>\n",
       "  </tbody>\n",
       "</table>\n",
       "</div>"
      ],
      "text/plain": [
       "        x1   x2   s1   a2  RHS\n",
       "s1     1.0  2.0  1.0  0.0  4.0\n",
       "a2     1.0  1.0  0.0  1.0  3.0\n",
       "C - Z  1.0  1.0  0.0  0.0  3.0"
      ]
     },
     "metadata": {},
     "output_type": "display_data"
    },
    {
     "data": {
      "text/markdown": [
       "Entering variable is x1 (largest positive Cj-Zj)."
      ],
      "text/plain": [
       "<IPython.core.display.Markdown object>"
      ]
     },
     "metadata": {},
     "output_type": "display_data"
    },
    {
     "data": {
      "text/markdown": [
       "Leaving variable is a2 (smallest ratio)."
      ],
      "text/plain": [
       "<IPython.core.display.Markdown object>"
      ]
     },
     "metadata": {},
     "output_type": "display_data"
    },
    {
     "data": {
      "text/markdown": [
       "Iteration 1 (Phase 1): Pivot on R2, C1."
      ],
      "text/plain": [
       "<IPython.core.display.Markdown object>"
      ]
     },
     "metadata": {},
     "output_type": "display_data"
    },
    {
     "data": {
      "text/markdown": [
       "   Row R2 divided by pivot element 1.000000 to make it 1."
      ],
      "text/plain": [
       "<IPython.core.display.Markdown object>"
      ]
     },
     "metadata": {},
     "output_type": "display_data"
    },
    {
     "data": {
      "text/markdown": [
       "   Row R1 updated: R1 - (1.000000) * R2"
      ],
      "text/plain": [
       "<IPython.core.display.Markdown object>"
      ]
     },
     "metadata": {},
     "output_type": "display_data"
    },
    {
     "data": {
      "text/markdown": [
       "   Row R3 updated: R3 - (1.000000) * R2"
      ],
      "text/plain": [
       "<IPython.core.display.Markdown object>"
      ]
     },
     "metadata": {},
     "output_type": "display_data"
    },
    {
     "data": {
      "text/markdown": [
       "### After pivot #1"
      ],
      "text/plain": [
       "<IPython.core.display.Markdown object>"
      ]
     },
     "metadata": {},
     "output_type": "display_data"
    },
    {
     "data": {
      "text/html": [
       "<div>\n",
       "<style scoped>\n",
       "    .dataframe tbody tr th:only-of-type {\n",
       "        vertical-align: middle;\n",
       "    }\n",
       "\n",
       "    .dataframe tbody tr th {\n",
       "        vertical-align: top;\n",
       "    }\n",
       "\n",
       "    .dataframe thead th {\n",
       "        text-align: right;\n",
       "    }\n",
       "</style>\n",
       "<table border=\"1\" class=\"dataframe\">\n",
       "  <thead>\n",
       "    <tr style=\"text-align: right;\">\n",
       "      <th></th>\n",
       "      <th>x1</th>\n",
       "      <th>x2</th>\n",
       "      <th>s1</th>\n",
       "      <th>a2</th>\n",
       "      <th>RHS</th>\n",
       "    </tr>\n",
       "  </thead>\n",
       "  <tbody>\n",
       "    <tr>\n",
       "      <th>s1</th>\n",
       "      <td>0.0</td>\n",
       "      <td>1.0</td>\n",
       "      <td>1.0</td>\n",
       "      <td>-1.0</td>\n",
       "      <td>1.0</td>\n",
       "    </tr>\n",
       "    <tr>\n",
       "      <th>x1</th>\n",
       "      <td>1.0</td>\n",
       "      <td>1.0</td>\n",
       "      <td>0.0</td>\n",
       "      <td>1.0</td>\n",
       "      <td>3.0</td>\n",
       "    </tr>\n",
       "    <tr>\n",
       "      <th>C - Z</th>\n",
       "      <td>0.0</td>\n",
       "      <td>0.0</td>\n",
       "      <td>0.0</td>\n",
       "      <td>-1.0</td>\n",
       "      <td>0.0</td>\n",
       "    </tr>\n",
       "  </tbody>\n",
       "</table>\n",
       "</div>"
      ],
      "text/plain": [
       "        x1   x2   s1   a2  RHS\n",
       "s1     0.0  1.0  1.0 -1.0  1.0\n",
       "x1     1.0  1.0  0.0  1.0  3.0\n",
       "C - Z  0.0  0.0  0.0 -1.0  0.0"
      ]
     },
     "metadata": {},
     "output_type": "display_data"
    },
    {
     "data": {
      "text/markdown": [
       "Phase 1 — All Cj-Zj are non-positive. Optimal solution for this phase found."
      ],
      "text/plain": [
       "<IPython.core.display.Markdown object>"
      ]
     },
     "metadata": {},
     "output_type": "display_data"
    },
    {
     "data": {
      "text/markdown": [
       "### Phase 1 — Optimal (no positive C-Z). Objective = -0.000000"
      ],
      "text/plain": [
       "<IPython.core.display.Markdown object>"
      ]
     },
     "metadata": {},
     "output_type": "display_data"
    },
    {
     "data": {
      "text/html": [
       "<div>\n",
       "<style scoped>\n",
       "    .dataframe tbody tr th:only-of-type {\n",
       "        vertical-align: middle;\n",
       "    }\n",
       "\n",
       "    .dataframe tbody tr th {\n",
       "        vertical-align: top;\n",
       "    }\n",
       "\n",
       "    .dataframe thead th {\n",
       "        text-align: right;\n",
       "    }\n",
       "</style>\n",
       "<table border=\"1\" class=\"dataframe\">\n",
       "  <thead>\n",
       "    <tr style=\"text-align: right;\">\n",
       "      <th></th>\n",
       "      <th>x1</th>\n",
       "      <th>x2</th>\n",
       "      <th>s1</th>\n",
       "      <th>a2</th>\n",
       "      <th>RHS</th>\n",
       "    </tr>\n",
       "  </thead>\n",
       "  <tbody>\n",
       "    <tr>\n",
       "      <th>s1</th>\n",
       "      <td>0.0</td>\n",
       "      <td>1.0</td>\n",
       "      <td>1.0</td>\n",
       "      <td>-1.0</td>\n",
       "      <td>1.0</td>\n",
       "    </tr>\n",
       "    <tr>\n",
       "      <th>x1</th>\n",
       "      <td>1.0</td>\n",
       "      <td>1.0</td>\n",
       "      <td>0.0</td>\n",
       "      <td>1.0</td>\n",
       "      <td>3.0</td>\n",
       "    </tr>\n",
       "    <tr>\n",
       "      <th>C - Z</th>\n",
       "      <td>0.0</td>\n",
       "      <td>0.0</td>\n",
       "      <td>0.0</td>\n",
       "      <td>-1.0</td>\n",
       "      <td>0.0</td>\n",
       "    </tr>\n",
       "  </tbody>\n",
       "</table>\n",
       "</div>"
      ],
      "text/plain": [
       "        x1   x2   s1   a2  RHS\n",
       "s1     0.0  1.0  1.0 -1.0  1.0\n",
       "x1     1.0  1.0  0.0  1.0  3.0\n",
       "C - Z  0.0  0.0  0.0 -1.0  0.0"
      ]
     },
     "metadata": {},
     "output_type": "display_data"
    },
    {
     "data": {
      "text/markdown": [
       "--- Starting Phase 2 ---"
      ],
      "text/plain": [
       "<IPython.core.display.Markdown object>"
      ]
     },
     "metadata": {},
     "output_type": "display_data"
    },
    {
     "data": {
      "text/markdown": [
       "### Phase 2 — Initial C - Z row"
      ],
      "text/plain": [
       "<IPython.core.display.Markdown object>"
      ]
     },
     "metadata": {},
     "output_type": "display_data"
    },
    {
     "data": {
      "text/html": [
       "<div>\n",
       "<style scoped>\n",
       "    .dataframe tbody tr th:only-of-type {\n",
       "        vertical-align: middle;\n",
       "    }\n",
       "\n",
       "    .dataframe tbody tr th {\n",
       "        vertical-align: top;\n",
       "    }\n",
       "\n",
       "    .dataframe thead th {\n",
       "        text-align: right;\n",
       "    }\n",
       "</style>\n",
       "<table border=\"1\" class=\"dataframe\">\n",
       "  <thead>\n",
       "    <tr style=\"text-align: right;\">\n",
       "      <th></th>\n",
       "      <th>x1</th>\n",
       "      <th>x2</th>\n",
       "      <th>s1</th>\n",
       "      <th>RHS</th>\n",
       "    </tr>\n",
       "  </thead>\n",
       "  <tbody>\n",
       "    <tr>\n",
       "      <th>s1</th>\n",
       "      <td>0.0</td>\n",
       "      <td>1.0</td>\n",
       "      <td>1.0</td>\n",
       "      <td>1.0</td>\n",
       "    </tr>\n",
       "    <tr>\n",
       "      <th>x1</th>\n",
       "      <td>1.0</td>\n",
       "      <td>1.0</td>\n",
       "      <td>0.0</td>\n",
       "      <td>3.0</td>\n",
       "    </tr>\n",
       "    <tr>\n",
       "      <th>C - Z</th>\n",
       "      <td>0.0</td>\n",
       "      <td>2.0</td>\n",
       "      <td>0.0</td>\n",
       "      <td>-6.0</td>\n",
       "    </tr>\n",
       "  </tbody>\n",
       "</table>\n",
       "</div>"
      ],
      "text/plain": [
       "        x1   x2   s1  RHS\n",
       "s1     0.0  1.0  1.0  1.0\n",
       "x1     1.0  1.0  0.0  3.0\n",
       "C - Z  0.0  2.0  0.0 -6.0"
      ]
     },
     "metadata": {},
     "output_type": "display_data"
    },
    {
     "data": {
      "text/markdown": [
       "Entering variable is x2 (largest positive Cj-Zj)."
      ],
      "text/plain": [
       "<IPython.core.display.Markdown object>"
      ]
     },
     "metadata": {},
     "output_type": "display_data"
    },
    {
     "data": {
      "text/markdown": [
       "Leaving variable is s1 (smallest ratio)."
      ],
      "text/plain": [
       "<IPython.core.display.Markdown object>"
      ]
     },
     "metadata": {},
     "output_type": "display_data"
    },
    {
     "data": {
      "text/markdown": [
       "Iteration 2 (Phase 2): Pivot on R1, C2."
      ],
      "text/plain": [
       "<IPython.core.display.Markdown object>"
      ]
     },
     "metadata": {},
     "output_type": "display_data"
    },
    {
     "data": {
      "text/markdown": [
       "   Row R1 divided by pivot element 1.000000 to make it 1."
      ],
      "text/plain": [
       "<IPython.core.display.Markdown object>"
      ]
     },
     "metadata": {},
     "output_type": "display_data"
    },
    {
     "data": {
      "text/markdown": [
       "   Row R2 updated: R2 - (1.000000) * R1"
      ],
      "text/plain": [
       "<IPython.core.display.Markdown object>"
      ]
     },
     "metadata": {},
     "output_type": "display_data"
    },
    {
     "data": {
      "text/markdown": [
       "   Row R3 updated: R3 - (2.000000) * R1"
      ],
      "text/plain": [
       "<IPython.core.display.Markdown object>"
      ]
     },
     "metadata": {},
     "output_type": "display_data"
    },
    {
     "data": {
      "text/markdown": [
       "### After pivot #2"
      ],
      "text/plain": [
       "<IPython.core.display.Markdown object>"
      ]
     },
     "metadata": {},
     "output_type": "display_data"
    },
    {
     "data": {
      "text/html": [
       "<div>\n",
       "<style scoped>\n",
       "    .dataframe tbody tr th:only-of-type {\n",
       "        vertical-align: middle;\n",
       "    }\n",
       "\n",
       "    .dataframe tbody tr th {\n",
       "        vertical-align: top;\n",
       "    }\n",
       "\n",
       "    .dataframe thead th {\n",
       "        text-align: right;\n",
       "    }\n",
       "</style>\n",
       "<table border=\"1\" class=\"dataframe\">\n",
       "  <thead>\n",
       "    <tr style=\"text-align: right;\">\n",
       "      <th></th>\n",
       "      <th>x1</th>\n",
       "      <th>x2</th>\n",
       "      <th>s1</th>\n",
       "      <th>RHS</th>\n",
       "    </tr>\n",
       "  </thead>\n",
       "  <tbody>\n",
       "    <tr>\n",
       "      <th>x2</th>\n",
       "      <td>0.0</td>\n",
       "      <td>1.0</td>\n",
       "      <td>1.0</td>\n",
       "      <td>1.0</td>\n",
       "    </tr>\n",
       "    <tr>\n",
       "      <th>x1</th>\n",
       "      <td>1.0</td>\n",
       "      <td>0.0</td>\n",
       "      <td>-1.0</td>\n",
       "      <td>2.0</td>\n",
       "    </tr>\n",
       "    <tr>\n",
       "      <th>C - Z</th>\n",
       "      <td>0.0</td>\n",
       "      <td>0.0</td>\n",
       "      <td>-2.0</td>\n",
       "      <td>-8.0</td>\n",
       "    </tr>\n",
       "  </tbody>\n",
       "</table>\n",
       "</div>"
      ],
      "text/plain": [
       "        x1   x2   s1  RHS\n",
       "x2     0.0  1.0  1.0  1.0\n",
       "x1     1.0  0.0 -1.0  2.0\n",
       "C - Z  0.0  0.0 -2.0 -8.0"
      ]
     },
     "metadata": {},
     "output_type": "display_data"
    },
    {
     "data": {
      "text/markdown": [
       "Phase 2 — All Cj-Zj are non-positive. Optimal solution for this phase found."
      ],
      "text/plain": [
       "<IPython.core.display.Markdown object>"
      ]
     },
     "metadata": {},
     "output_type": "display_data"
    },
    {
     "data": {
      "text/markdown": [
       "### Phase 2 — Optimal (no positive C-Z). Objective = 8.000000"
      ],
      "text/plain": [
       "<IPython.core.display.Markdown object>"
      ]
     },
     "metadata": {},
     "output_type": "display_data"
    },
    {
     "data": {
      "text/html": [
       "<div>\n",
       "<style scoped>\n",
       "    .dataframe tbody tr th:only-of-type {\n",
       "        vertical-align: middle;\n",
       "    }\n",
       "\n",
       "    .dataframe tbody tr th {\n",
       "        vertical-align: top;\n",
       "    }\n",
       "\n",
       "    .dataframe thead th {\n",
       "        text-align: right;\n",
       "    }\n",
       "</style>\n",
       "<table border=\"1\" class=\"dataframe\">\n",
       "  <thead>\n",
       "    <tr style=\"text-align: right;\">\n",
       "      <th></th>\n",
       "      <th>x1</th>\n",
       "      <th>x2</th>\n",
       "      <th>s1</th>\n",
       "      <th>RHS</th>\n",
       "    </tr>\n",
       "  </thead>\n",
       "  <tbody>\n",
       "    <tr>\n",
       "      <th>x2</th>\n",
       "      <td>0.0</td>\n",
       "      <td>1.0</td>\n",
       "      <td>1.0</td>\n",
       "      <td>1.0</td>\n",
       "    </tr>\n",
       "    <tr>\n",
       "      <th>x1</th>\n",
       "      <td>1.0</td>\n",
       "      <td>0.0</td>\n",
       "      <td>-1.0</td>\n",
       "      <td>2.0</td>\n",
       "    </tr>\n",
       "    <tr>\n",
       "      <th>C - Z</th>\n",
       "      <td>0.0</td>\n",
       "      <td>0.0</td>\n",
       "      <td>-2.0</td>\n",
       "      <td>-8.0</td>\n",
       "    </tr>\n",
       "  </tbody>\n",
       "</table>\n",
       "</div>"
      ],
      "text/plain": [
       "        x1   x2   s1  RHS\n",
       "x2     0.0  1.0  1.0  1.0\n",
       "x1     1.0  0.0 -1.0  2.0\n",
       "C - Z  0.0  0.0 -2.0 -8.0"
      ]
     },
     "metadata": {},
     "output_type": "display_data"
    },
    {
     "name": "stdout",
     "output_type": "stream",
     "text": [
      "\n",
      "=== RESULT ===\n",
      "Status: optimal\n",
      "Objective value: 8.0\n",
      "Solution: {'x1': np.float64(2.0), 'x2': np.float64(1.0)}\n",
      "Iterations: 2\n"
     ]
    }
   ],
   "source": [
    "# Example (change these to your own problem)\n",
    "sense = 'max'  # 'max' or 'min'\n",
    "c = [2, 4]     # maximize 3x1 + 2x2\n",
    "A = [\n",
    "    [1, 2],\n",
    "    [1, 1]\n",
    "\n",
    "]\n",
    "b = [4, 3]\n",
    "cons = ['<=', '=']\n",
    "Mode = 'TwoPhase'  # or 'BigM'\n",
    "\n",
    "run_and_show(sense, c, A, b, cons, Mode, M=1e5)"
   ]
  },
  {
   "cell_type": "markdown",
   "id": "b9173739",
   "metadata": {},
   "source": [
    "# 23"
   ]
  },
  {
   "cell_type": "code",
   "execution_count": 10,
   "id": "dd39155c",
   "metadata": {},
   "outputs": [
    {
     "name": "stdout",
     "output_type": "stream",
     "text": [
      "\n",
      "=== Mode ===\n",
      "Mode: BigM\n"
     ]
    },
    {
     "data": {
      "text/markdown": [
       "### Initial Tableau (Big M Method)"
      ],
      "text/plain": [
       "<IPython.core.display.Markdown object>"
      ]
     },
     "metadata": {},
     "output_type": "display_data"
    },
    {
     "data": {
      "text/html": [
       "<div>\n",
       "<style scoped>\n",
       "    .dataframe tbody tr th:only-of-type {\n",
       "        vertical-align: middle;\n",
       "    }\n",
       "\n",
       "    .dataframe tbody tr th {\n",
       "        vertical-align: top;\n",
       "    }\n",
       "\n",
       "    .dataframe thead th {\n",
       "        text-align: right;\n",
       "    }\n",
       "</style>\n",
       "<table border=\"1\" class=\"dataframe\">\n",
       "  <thead>\n",
       "    <tr style=\"text-align: right;\">\n",
       "      <th></th>\n",
       "      <th>x1</th>\n",
       "      <th>x2</th>\n",
       "      <th>x3</th>\n",
       "      <th>a1</th>\n",
       "      <th>t2</th>\n",
       "      <th>a2</th>\n",
       "      <th>RHS</th>\n",
       "    </tr>\n",
       "  </thead>\n",
       "  <tbody>\n",
       "    <tr>\n",
       "      <th>a1</th>\n",
       "      <td>-1.0</td>\n",
       "      <td>1.0</td>\n",
       "      <td>0.0</td>\n",
       "      <td>1.0</td>\n",
       "      <td>0.0</td>\n",
       "      <td>0.0</td>\n",
       "      <td>10.0</td>\n",
       "    </tr>\n",
       "    <tr>\n",
       "      <th>a2</th>\n",
       "      <td>2.0</td>\n",
       "      <td>-1.0</td>\n",
       "      <td>1.0</td>\n",
       "      <td>0.0</td>\n",
       "      <td>-1.0</td>\n",
       "      <td>1.0</td>\n",
       "      <td>10.0</td>\n",
       "    </tr>\n",
       "    <tr>\n",
       "      <th>C - Z</th>\n",
       "      <td>99997.0</td>\n",
       "      <td>-2.0</td>\n",
       "      <td>99993.0</td>\n",
       "      <td>0.0</td>\n",
       "      <td>-100000.0</td>\n",
       "      <td>0.0</td>\n",
       "      <td>2000000.0</td>\n",
       "    </tr>\n",
       "  </tbody>\n",
       "</table>\n",
       "</div>"
      ],
      "text/plain": [
       "            x1   x2       x3   a1        t2   a2        RHS\n",
       "a1        -1.0  1.0      0.0  1.0       0.0  0.0       10.0\n",
       "a2         2.0 -1.0      1.0  0.0      -1.0  1.0       10.0\n",
       "C - Z  99997.0 -2.0  99993.0  0.0 -100000.0  0.0  2000000.0"
      ]
     },
     "metadata": {},
     "output_type": "display_data"
    },
    {
     "data": {
      "text/markdown": [
       "Iteration 1: Enter = x1, Leave = a2"
      ],
      "text/plain": [
       "<IPython.core.display.Markdown object>"
      ]
     },
     "metadata": {},
     "output_type": "display_data"
    },
    {
     "data": {
      "text/markdown": [
       "   Row R2 divided by pivot element 2.000000 to make it 1."
      ],
      "text/plain": [
       "<IPython.core.display.Markdown object>"
      ]
     },
     "metadata": {},
     "output_type": "display_data"
    },
    {
     "data": {
      "text/markdown": [
       "   Row R1 updated: R1 - (-1.000000) * R2"
      ],
      "text/plain": [
       "<IPython.core.display.Markdown object>"
      ]
     },
     "metadata": {},
     "output_type": "display_data"
    },
    {
     "data": {
      "text/markdown": [
       "   Row R3 updated: R3 - (99997.000000) * R2"
      ],
      "text/plain": [
       "<IPython.core.display.Markdown object>"
      ]
     },
     "metadata": {},
     "output_type": "display_data"
    },
    {
     "data": {
      "text/markdown": [
       "### After pivot #1"
      ],
      "text/plain": [
       "<IPython.core.display.Markdown object>"
      ]
     },
     "metadata": {},
     "output_type": "display_data"
    },
    {
     "data": {
      "text/html": [
       "<div>\n",
       "<style scoped>\n",
       "    .dataframe tbody tr th:only-of-type {\n",
       "        vertical-align: middle;\n",
       "    }\n",
       "\n",
       "    .dataframe tbody tr th {\n",
       "        vertical-align: top;\n",
       "    }\n",
       "\n",
       "    .dataframe thead th {\n",
       "        text-align: right;\n",
       "    }\n",
       "</style>\n",
       "<table border=\"1\" class=\"dataframe\">\n",
       "  <thead>\n",
       "    <tr style=\"text-align: right;\">\n",
       "      <th></th>\n",
       "      <th>x1</th>\n",
       "      <th>x2</th>\n",
       "      <th>x3</th>\n",
       "      <th>a1</th>\n",
       "      <th>t2</th>\n",
       "      <th>a2</th>\n",
       "      <th>RHS</th>\n",
       "    </tr>\n",
       "  </thead>\n",
       "  <tbody>\n",
       "    <tr>\n",
       "      <th>a1</th>\n",
       "      <td>0.0</td>\n",
       "      <td>0.5</td>\n",
       "      <td>0.5</td>\n",
       "      <td>1.0</td>\n",
       "      <td>-0.5</td>\n",
       "      <td>0.5</td>\n",
       "      <td>15.0</td>\n",
       "    </tr>\n",
       "    <tr>\n",
       "      <th>x1</th>\n",
       "      <td>1.0</td>\n",
       "      <td>-0.5</td>\n",
       "      <td>0.5</td>\n",
       "      <td>0.0</td>\n",
       "      <td>-0.5</td>\n",
       "      <td>0.5</td>\n",
       "      <td>5.0</td>\n",
       "    </tr>\n",
       "    <tr>\n",
       "      <th>C - Z</th>\n",
       "      <td>0.0</td>\n",
       "      <td>49996.5</td>\n",
       "      <td>49994.5</td>\n",
       "      <td>0.0</td>\n",
       "      <td>-50001.5</td>\n",
       "      <td>-49998.5</td>\n",
       "      <td>1500015.0</td>\n",
       "    </tr>\n",
       "  </tbody>\n",
       "</table>\n",
       "</div>"
      ],
      "text/plain": [
       "        x1       x2       x3   a1       t2       a2        RHS\n",
       "a1     0.0      0.5      0.5  1.0     -0.5      0.5       15.0\n",
       "x1     1.0     -0.5      0.5  0.0     -0.5      0.5        5.0\n",
       "C - Z  0.0  49996.5  49994.5  0.0 -50001.5 -49998.5  1500015.0"
      ]
     },
     "metadata": {},
     "output_type": "display_data"
    },
    {
     "data": {
      "text/markdown": [
       "Iteration 2: Enter = x2, Leave = a1"
      ],
      "text/plain": [
       "<IPython.core.display.Markdown object>"
      ]
     },
     "metadata": {},
     "output_type": "display_data"
    },
    {
     "data": {
      "text/markdown": [
       "   Row R1 divided by pivot element 0.500000 to make it 1."
      ],
      "text/plain": [
       "<IPython.core.display.Markdown object>"
      ]
     },
     "metadata": {},
     "output_type": "display_data"
    },
    {
     "data": {
      "text/markdown": [
       "   Row R2 updated: R2 - (-0.500000) * R1"
      ],
      "text/plain": [
       "<IPython.core.display.Markdown object>"
      ]
     },
     "metadata": {},
     "output_type": "display_data"
    },
    {
     "data": {
      "text/markdown": [
       "   Row R3 updated: R3 - (49996.500000) * R1"
      ],
      "text/plain": [
       "<IPython.core.display.Markdown object>"
      ]
     },
     "metadata": {},
     "output_type": "display_data"
    },
    {
     "data": {
      "text/markdown": [
       "### After pivot #2"
      ],
      "text/plain": [
       "<IPython.core.display.Markdown object>"
      ]
     },
     "metadata": {},
     "output_type": "display_data"
    },
    {
     "data": {
      "text/html": [
       "<div>\n",
       "<style scoped>\n",
       "    .dataframe tbody tr th:only-of-type {\n",
       "        vertical-align: middle;\n",
       "    }\n",
       "\n",
       "    .dataframe tbody tr th {\n",
       "        vertical-align: top;\n",
       "    }\n",
       "\n",
       "    .dataframe thead th {\n",
       "        text-align: right;\n",
       "    }\n",
       "</style>\n",
       "<table border=\"1\" class=\"dataframe\">\n",
       "  <thead>\n",
       "    <tr style=\"text-align: right;\">\n",
       "      <th></th>\n",
       "      <th>x1</th>\n",
       "      <th>x2</th>\n",
       "      <th>x3</th>\n",
       "      <th>a1</th>\n",
       "      <th>t2</th>\n",
       "      <th>a2</th>\n",
       "      <th>RHS</th>\n",
       "    </tr>\n",
       "  </thead>\n",
       "  <tbody>\n",
       "    <tr>\n",
       "      <th>x2</th>\n",
       "      <td>0.0</td>\n",
       "      <td>1.0</td>\n",
       "      <td>1.0</td>\n",
       "      <td>2.0</td>\n",
       "      <td>-1.0</td>\n",
       "      <td>1.0</td>\n",
       "      <td>30.0</td>\n",
       "    </tr>\n",
       "    <tr>\n",
       "      <th>x1</th>\n",
       "      <td>1.0</td>\n",
       "      <td>0.0</td>\n",
       "      <td>1.0</td>\n",
       "      <td>1.0</td>\n",
       "      <td>-1.0</td>\n",
       "      <td>1.0</td>\n",
       "      <td>20.0</td>\n",
       "    </tr>\n",
       "    <tr>\n",
       "      <th>C - Z</th>\n",
       "      <td>0.0</td>\n",
       "      <td>0.0</td>\n",
       "      <td>-2.0</td>\n",
       "      <td>-99993.0</td>\n",
       "      <td>-5.0</td>\n",
       "      <td>-99995.0</td>\n",
       "      <td>120.0</td>\n",
       "    </tr>\n",
       "  </tbody>\n",
       "</table>\n",
       "</div>"
      ],
      "text/plain": [
       "        x1   x2   x3       a1   t2       a2    RHS\n",
       "x2     0.0  1.0  1.0      2.0 -1.0      1.0   30.0\n",
       "x1     1.0  0.0  1.0      1.0 -1.0      1.0   20.0\n",
       "C - Z  0.0  0.0 -2.0 -99993.0 -5.0 -99995.0  120.0"
      ]
     },
     "metadata": {},
     "output_type": "display_data"
    },
    {
     "name": "stdout",
     "output_type": "stream",
     "text": [
      "\n",
      "=== RESULT ===\n",
      "Status: optimal\n",
      "Objective value: 120.0\n",
      "Solution: {'x1': np.float64(20.0), 'x2': np.float64(30.0), 'x3': 0.0}\n",
      "Iterations: 2\n"
     ]
    }
   ],
   "source": [
    "# Example (change these to your own problem)\n",
    "sense = 'min'  # 'max' or 'min'\n",
    "c = [3, 2, 7]     # maximize 3x1 + 2x2\n",
    "A = [\n",
    "    [-1, 1, 0],\n",
    "    [2, -1, 1]\n",
    "\n",
    "]\n",
    "b = [10, 10]\n",
    "cons = ['=', '>=']\n",
    "Mode = 'BigM'  # or 'BigM'\n",
    "\n",
    "run_and_show(sense, c, A, b, cons, Mode, M=1e5)"
   ]
  },
  {
   "cell_type": "code",
   "execution_count": null,
   "id": "763b57df",
   "metadata": {},
   "outputs": [
    {
     "name": "stdout",
     "output_type": "stream",
     "text": [
      "\n",
      "=== Mode ===\n",
      "Mode: TwoPhase\n"
     ]
    },
    {
     "data": {
      "text/markdown": [
       "--- Starting Phase 1 ---"
      ],
      "text/plain": [
       "<IPython.core.display.Markdown object>"
      ]
     },
     "metadata": {},
     "output_type": "display_data"
    },
    {
     "data": {
      "text/markdown": [
       "### Phase 1 — Initial C - Z row"
      ],
      "text/plain": [
       "<IPython.core.display.Markdown object>"
      ]
     },
     "metadata": {},
     "output_type": "display_data"
    },
    {
     "data": {
      "text/html": [
       "<div>\n",
       "<style scoped>\n",
       "    .dataframe tbody tr th:only-of-type {\n",
       "        vertical-align: middle;\n",
       "    }\n",
       "\n",
       "    .dataframe tbody tr th {\n",
       "        vertical-align: top;\n",
       "    }\n",
       "\n",
       "    .dataframe thead th {\n",
       "        text-align: right;\n",
       "    }\n",
       "</style>\n",
       "<table border=\"1\" class=\"dataframe\">\n",
       "  <thead>\n",
       "    <tr style=\"text-align: right;\">\n",
       "      <th></th>\n",
       "      <th>x1</th>\n",
       "      <th>x2</th>\n",
       "      <th>x3</th>\n",
       "      <th>a1</th>\n",
       "      <th>t2</th>\n",
       "      <th>a2</th>\n",
       "      <th>RHS</th>\n",
       "    </tr>\n",
       "  </thead>\n",
       "  <tbody>\n",
       "    <tr>\n",
       "      <th>a1</th>\n",
       "      <td>-1.0</td>\n",
       "      <td>1.0</td>\n",
       "      <td>0.0</td>\n",
       "      <td>1.0</td>\n",
       "      <td>0.0</td>\n",
       "      <td>0.0</td>\n",
       "      <td>10.0</td>\n",
       "    </tr>\n",
       "    <tr>\n",
       "      <th>a2</th>\n",
       "      <td>2.0</td>\n",
       "      <td>-1.0</td>\n",
       "      <td>1.0</td>\n",
       "      <td>0.0</td>\n",
       "      <td>-1.0</td>\n",
       "      <td>1.0</td>\n",
       "      <td>10.0</td>\n",
       "    </tr>\n",
       "    <tr>\n",
       "      <th>C - Z</th>\n",
       "      <td>1.0</td>\n",
       "      <td>0.0</td>\n",
       "      <td>1.0</td>\n",
       "      <td>0.0</td>\n",
       "      <td>-1.0</td>\n",
       "      <td>0.0</td>\n",
       "      <td>20.0</td>\n",
       "    </tr>\n",
       "  </tbody>\n",
       "</table>\n",
       "</div>"
      ],
      "text/plain": [
       "        x1   x2   x3   a1   t2   a2   RHS\n",
       "a1    -1.0  1.0  0.0  1.0  0.0  0.0  10.0\n",
       "a2     2.0 -1.0  1.0  0.0 -1.0  1.0  10.0\n",
       "C - Z  1.0  0.0  1.0  0.0 -1.0  0.0  20.0"
      ]
     },
     "metadata": {},
     "output_type": "display_data"
    },
    {
     "data": {
      "text/markdown": [
       "Entering variable is x1 (largest positive Cj-Zj)."
      ],
      "text/plain": [
       "<IPython.core.display.Markdown object>"
      ]
     },
     "metadata": {},
     "output_type": "display_data"
    },
    {
     "data": {
      "text/markdown": [
       "Leaving variable is a2 (smallest ratio)."
      ],
      "text/plain": [
       "<IPython.core.display.Markdown object>"
      ]
     },
     "metadata": {},
     "output_type": "display_data"
    },
    {
     "data": {
      "text/markdown": [
       "Iteration 1 (Phase 1): Pivot on R2, C1."
      ],
      "text/plain": [
       "<IPython.core.display.Markdown object>"
      ]
     },
     "metadata": {},
     "output_type": "display_data"
    },
    {
     "data": {
      "text/markdown": [
       "   Row R2 divided by pivot element 2.000000 to make it 1."
      ],
      "text/plain": [
       "<IPython.core.display.Markdown object>"
      ]
     },
     "metadata": {},
     "output_type": "display_data"
    },
    {
     "data": {
      "text/markdown": [
       "   Row R1 updated: R1 - (-1.000000) * R2"
      ],
      "text/plain": [
       "<IPython.core.display.Markdown object>"
      ]
     },
     "metadata": {},
     "output_type": "display_data"
    },
    {
     "data": {
      "text/markdown": [
       "   Row R3 updated: R3 - (1.000000) * R2"
      ],
      "text/plain": [
       "<IPython.core.display.Markdown object>"
      ]
     },
     "metadata": {},
     "output_type": "display_data"
    },
    {
     "data": {
      "text/markdown": [
       "### After pivot #1"
      ],
      "text/plain": [
       "<IPython.core.display.Markdown object>"
      ]
     },
     "metadata": {},
     "output_type": "display_data"
    },
    {
     "data": {
      "text/html": [
       "<div>\n",
       "<style scoped>\n",
       "    .dataframe tbody tr th:only-of-type {\n",
       "        vertical-align: middle;\n",
       "    }\n",
       "\n",
       "    .dataframe tbody tr th {\n",
       "        vertical-align: top;\n",
       "    }\n",
       "\n",
       "    .dataframe thead th {\n",
       "        text-align: right;\n",
       "    }\n",
       "</style>\n",
       "<table border=\"1\" class=\"dataframe\">\n",
       "  <thead>\n",
       "    <tr style=\"text-align: right;\">\n",
       "      <th></th>\n",
       "      <th>x1</th>\n",
       "      <th>x2</th>\n",
       "      <th>x3</th>\n",
       "      <th>a1</th>\n",
       "      <th>t2</th>\n",
       "      <th>a2</th>\n",
       "      <th>RHS</th>\n",
       "    </tr>\n",
       "  </thead>\n",
       "  <tbody>\n",
       "    <tr>\n",
       "      <th>a1</th>\n",
       "      <td>0.0</td>\n",
       "      <td>0.5</td>\n",
       "      <td>0.5</td>\n",
       "      <td>1.0</td>\n",
       "      <td>-0.5</td>\n",
       "      <td>0.5</td>\n",
       "      <td>15.0</td>\n",
       "    </tr>\n",
       "    <tr>\n",
       "      <th>x1</th>\n",
       "      <td>1.0</td>\n",
       "      <td>-0.5</td>\n",
       "      <td>0.5</td>\n",
       "      <td>0.0</td>\n",
       "      <td>-0.5</td>\n",
       "      <td>0.5</td>\n",
       "      <td>5.0</td>\n",
       "    </tr>\n",
       "    <tr>\n",
       "      <th>C - Z</th>\n",
       "      <td>0.0</td>\n",
       "      <td>0.5</td>\n",
       "      <td>0.5</td>\n",
       "      <td>0.0</td>\n",
       "      <td>-0.5</td>\n",
       "      <td>-0.5</td>\n",
       "      <td>15.0</td>\n",
       "    </tr>\n",
       "  </tbody>\n",
       "</table>\n",
       "</div>"
      ],
      "text/plain": [
       "        x1   x2   x3   a1   t2   a2   RHS\n",
       "a1     0.0  0.5  0.5  1.0 -0.5  0.5  15.0\n",
       "x1     1.0 -0.5  0.5  0.0 -0.5  0.5   5.0\n",
       "C - Z  0.0  0.5  0.5  0.0 -0.5 -0.5  15.0"
      ]
     },
     "metadata": {},
     "output_type": "display_data"
    },
    {
     "data": {
      "text/markdown": [
       "Entering variable is x2 (largest positive Cj-Zj)."
      ],
      "text/plain": [
       "<IPython.core.display.Markdown object>"
      ]
     },
     "metadata": {},
     "output_type": "display_data"
    },
    {
     "data": {
      "text/markdown": [
       "Leaving variable is a1 (smallest ratio)."
      ],
      "text/plain": [
       "<IPython.core.display.Markdown object>"
      ]
     },
     "metadata": {},
     "output_type": "display_data"
    },
    {
     "data": {
      "text/markdown": [
       "Iteration 2 (Phase 1): Pivot on R1, C2."
      ],
      "text/plain": [
       "<IPython.core.display.Markdown object>"
      ]
     },
     "metadata": {},
     "output_type": "display_data"
    },
    {
     "data": {
      "text/markdown": [
       "   Row R1 divided by pivot element 0.500000 to make it 1."
      ],
      "text/plain": [
       "<IPython.core.display.Markdown object>"
      ]
     },
     "metadata": {},
     "output_type": "display_data"
    },
    {
     "data": {
      "text/markdown": [
       "   Row R2 updated: R2 - (-0.500000) * R1"
      ],
      "text/plain": [
       "<IPython.core.display.Markdown object>"
      ]
     },
     "metadata": {},
     "output_type": "display_data"
    },
    {
     "data": {
      "text/markdown": [
       "   Row R3 updated: R3 - (0.500000) * R1"
      ],
      "text/plain": [
       "<IPython.core.display.Markdown object>"
      ]
     },
     "metadata": {},
     "output_type": "display_data"
    },
    {
     "data": {
      "text/markdown": [
       "### After pivot #2"
      ],
      "text/plain": [
       "<IPython.core.display.Markdown object>"
      ]
     },
     "metadata": {},
     "output_type": "display_data"
    },
    {
     "data": {
      "text/html": [
       "<div>\n",
       "<style scoped>\n",
       "    .dataframe tbody tr th:only-of-type {\n",
       "        vertical-align: middle;\n",
       "    }\n",
       "\n",
       "    .dataframe tbody tr th {\n",
       "        vertical-align: top;\n",
       "    }\n",
       "\n",
       "    .dataframe thead th {\n",
       "        text-align: right;\n",
       "    }\n",
       "</style>\n",
       "<table border=\"1\" class=\"dataframe\">\n",
       "  <thead>\n",
       "    <tr style=\"text-align: right;\">\n",
       "      <th></th>\n",
       "      <th>x1</th>\n",
       "      <th>x2</th>\n",
       "      <th>x3</th>\n",
       "      <th>a1</th>\n",
       "      <th>t2</th>\n",
       "      <th>a2</th>\n",
       "      <th>RHS</th>\n",
       "    </tr>\n",
       "  </thead>\n",
       "  <tbody>\n",
       "    <tr>\n",
       "      <th>x2</th>\n",
       "      <td>0.0</td>\n",
       "      <td>1.0</td>\n",
       "      <td>1.0</td>\n",
       "      <td>2.0</td>\n",
       "      <td>-1.0</td>\n",
       "      <td>1.0</td>\n",
       "      <td>30.0</td>\n",
       "    </tr>\n",
       "    <tr>\n",
       "      <th>x1</th>\n",
       "      <td>1.0</td>\n",
       "      <td>0.0</td>\n",
       "      <td>1.0</td>\n",
       "      <td>1.0</td>\n",
       "      <td>-1.0</td>\n",
       "      <td>1.0</td>\n",
       "      <td>20.0</td>\n",
       "    </tr>\n",
       "    <tr>\n",
       "      <th>C - Z</th>\n",
       "      <td>0.0</td>\n",
       "      <td>0.0</td>\n",
       "      <td>0.0</td>\n",
       "      <td>-1.0</td>\n",
       "      <td>0.0</td>\n",
       "      <td>-1.0</td>\n",
       "      <td>0.0</td>\n",
       "    </tr>\n",
       "  </tbody>\n",
       "</table>\n",
       "</div>"
      ],
      "text/plain": [
       "        x1   x2   x3   a1   t2   a2   RHS\n",
       "x2     0.0  1.0  1.0  2.0 -1.0  1.0  30.0\n",
       "x1     1.0  0.0  1.0  1.0 -1.0  1.0  20.0\n",
       "C - Z  0.0  0.0  0.0 -1.0  0.0 -1.0   0.0"
      ]
     },
     "metadata": {},
     "output_type": "display_data"
    },
    {
     "data": {
      "text/markdown": [
       "Phase 1 — All Cj-Zj are non-positive. Optimal solution for this phase found."
      ],
      "text/plain": [
       "<IPython.core.display.Markdown object>"
      ]
     },
     "metadata": {},
     "output_type": "display_data"
    },
    {
     "data": {
      "text/markdown": [
       "### Phase 1 — Optimal (no positive C-Z). Objective = -0.000000"
      ],
      "text/plain": [
       "<IPython.core.display.Markdown object>"
      ]
     },
     "metadata": {},
     "output_type": "display_data"
    },
    {
     "data": {
      "text/html": [
       "<div>\n",
       "<style scoped>\n",
       "    .dataframe tbody tr th:only-of-type {\n",
       "        vertical-align: middle;\n",
       "    }\n",
       "\n",
       "    .dataframe tbody tr th {\n",
       "        vertical-align: top;\n",
       "    }\n",
       "\n",
       "    .dataframe thead th {\n",
       "        text-align: right;\n",
       "    }\n",
       "</style>\n",
       "<table border=\"1\" class=\"dataframe\">\n",
       "  <thead>\n",
       "    <tr style=\"text-align: right;\">\n",
       "      <th></th>\n",
       "      <th>x1</th>\n",
       "      <th>x2</th>\n",
       "      <th>x3</th>\n",
       "      <th>a1</th>\n",
       "      <th>t2</th>\n",
       "      <th>a2</th>\n",
       "      <th>RHS</th>\n",
       "    </tr>\n",
       "  </thead>\n",
       "  <tbody>\n",
       "    <tr>\n",
       "      <th>x2</th>\n",
       "      <td>0.0</td>\n",
       "      <td>1.0</td>\n",
       "      <td>1.0</td>\n",
       "      <td>2.0</td>\n",
       "      <td>-1.0</td>\n",
       "      <td>1.0</td>\n",
       "      <td>30.0</td>\n",
       "    </tr>\n",
       "    <tr>\n",
       "      <th>x1</th>\n",
       "      <td>1.0</td>\n",
       "      <td>0.0</td>\n",
       "      <td>1.0</td>\n",
       "      <td>1.0</td>\n",
       "      <td>-1.0</td>\n",
       "      <td>1.0</td>\n",
       "      <td>20.0</td>\n",
       "    </tr>\n",
       "    <tr>\n",
       "      <th>C - Z</th>\n",
       "      <td>0.0</td>\n",
       "      <td>0.0</td>\n",
       "      <td>0.0</td>\n",
       "      <td>-1.0</td>\n",
       "      <td>0.0</td>\n",
       "      <td>-1.0</td>\n",
       "      <td>0.0</td>\n",
       "    </tr>\n",
       "  </tbody>\n",
       "</table>\n",
       "</div>"
      ],
      "text/plain": [
       "        x1   x2   x3   a1   t2   a2   RHS\n",
       "x2     0.0  1.0  1.0  2.0 -1.0  1.0  30.0\n",
       "x1     1.0  0.0  1.0  1.0 -1.0  1.0  20.0\n",
       "C - Z  0.0  0.0  0.0 -1.0  0.0 -1.0   0.0"
      ]
     },
     "metadata": {},
     "output_type": "display_data"
    },
    {
     "data": {
      "text/markdown": [
       "--- Starting Phase 2 ---"
      ],
      "text/plain": [
       "<IPython.core.display.Markdown object>"
      ]
     },
     "metadata": {},
     "output_type": "display_data"
    },
    {
     "data": {
      "text/markdown": [
       "### Phase 2 — Initial C - Z row"
      ],
      "text/plain": [
       "<IPython.core.display.Markdown object>"
      ]
     },
     "metadata": {},
     "output_type": "display_data"
    },
    {
     "data": {
      "text/html": [
       "<div>\n",
       "<style scoped>\n",
       "    .dataframe tbody tr th:only-of-type {\n",
       "        vertical-align: middle;\n",
       "    }\n",
       "\n",
       "    .dataframe tbody tr th {\n",
       "        vertical-align: top;\n",
       "    }\n",
       "\n",
       "    .dataframe thead th {\n",
       "        text-align: right;\n",
       "    }\n",
       "</style>\n",
       "<table border=\"1\" class=\"dataframe\">\n",
       "  <thead>\n",
       "    <tr style=\"text-align: right;\">\n",
       "      <th></th>\n",
       "      <th>x1</th>\n",
       "      <th>x2</th>\n",
       "      <th>x3</th>\n",
       "      <th>t2</th>\n",
       "      <th>RHS</th>\n",
       "    </tr>\n",
       "  </thead>\n",
       "  <tbody>\n",
       "    <tr>\n",
       "      <th>x2</th>\n",
       "      <td>0.0</td>\n",
       "      <td>1.0</td>\n",
       "      <td>1.0</td>\n",
       "      <td>-1.0</td>\n",
       "      <td>30.0</td>\n",
       "    </tr>\n",
       "    <tr>\n",
       "      <th>x1</th>\n",
       "      <td>1.0</td>\n",
       "      <td>0.0</td>\n",
       "      <td>1.0</td>\n",
       "      <td>-1.0</td>\n",
       "      <td>20.0</td>\n",
       "    </tr>\n",
       "    <tr>\n",
       "      <th>C - Z</th>\n",
       "      <td>0.0</td>\n",
       "      <td>0.0</td>\n",
       "      <td>-2.0</td>\n",
       "      <td>-5.0</td>\n",
       "      <td>120.0</td>\n",
       "    </tr>\n",
       "  </tbody>\n",
       "</table>\n",
       "</div>"
      ],
      "text/plain": [
       "        x1   x2   x3   t2    RHS\n",
       "x2     0.0  1.0  1.0 -1.0   30.0\n",
       "x1     1.0  0.0  1.0 -1.0   20.0\n",
       "C - Z  0.0  0.0 -2.0 -5.0  120.0"
      ]
     },
     "metadata": {},
     "output_type": "display_data"
    },
    {
     "data": {
      "text/markdown": [
       "Phase 2 — All Cj-Zj are non-positive. Optimal solution for this phase found."
      ],
      "text/plain": [
       "<IPython.core.display.Markdown object>"
      ]
     },
     "metadata": {},
     "output_type": "display_data"
    },
    {
     "data": {
      "text/markdown": [
       "### Phase 2 — Optimal (no positive C-Z). Objective = -120.000000"
      ],
      "text/plain": [
       "<IPython.core.display.Markdown object>"
      ]
     },
     "metadata": {},
     "output_type": "display_data"
    },
    {
     "data": {
      "text/html": [
       "<div>\n",
       "<style scoped>\n",
       "    .dataframe tbody tr th:only-of-type {\n",
       "        vertical-align: middle;\n",
       "    }\n",
       "\n",
       "    .dataframe tbody tr th {\n",
       "        vertical-align: top;\n",
       "    }\n",
       "\n",
       "    .dataframe thead th {\n",
       "        text-align: right;\n",
       "    }\n",
       "</style>\n",
       "<table border=\"1\" class=\"dataframe\">\n",
       "  <thead>\n",
       "    <tr style=\"text-align: right;\">\n",
       "      <th></th>\n",
       "      <th>x1</th>\n",
       "      <th>x2</th>\n",
       "      <th>x3</th>\n",
       "      <th>t2</th>\n",
       "      <th>RHS</th>\n",
       "    </tr>\n",
       "  </thead>\n",
       "  <tbody>\n",
       "    <tr>\n",
       "      <th>x2</th>\n",
       "      <td>0.0</td>\n",
       "      <td>1.0</td>\n",
       "      <td>1.0</td>\n",
       "      <td>-1.0</td>\n",
       "      <td>30.0</td>\n",
       "    </tr>\n",
       "    <tr>\n",
       "      <th>x1</th>\n",
       "      <td>1.0</td>\n",
       "      <td>0.0</td>\n",
       "      <td>1.0</td>\n",
       "      <td>-1.0</td>\n",
       "      <td>20.0</td>\n",
       "    </tr>\n",
       "    <tr>\n",
       "      <th>C - Z</th>\n",
       "      <td>0.0</td>\n",
       "      <td>0.0</td>\n",
       "      <td>-2.0</td>\n",
       "      <td>-5.0</td>\n",
       "      <td>120.0</td>\n",
       "    </tr>\n",
       "  </tbody>\n",
       "</table>\n",
       "</div>"
      ],
      "text/plain": [
       "        x1   x2   x3   t2    RHS\n",
       "x2     0.0  1.0  1.0 -1.0   30.0\n",
       "x1     1.0  0.0  1.0 -1.0   20.0\n",
       "C - Z  0.0  0.0 -2.0 -5.0  120.0"
      ]
     },
     "metadata": {},
     "output_type": "display_data"
    },
    {
     "name": "stdout",
     "output_type": "stream",
     "text": [
      "\n",
      "=== RESULT ===\n",
      "Status: optimal\n",
      "Objective value: 120.0\n",
      "Solution: {'x1': np.float64(20.0), 'x2': np.float64(30.0), 'x3': 0.0}\n",
      "Iterations: 2\n"
     ]
    }
   ],
   "source": [
    "# Example (change these to your own problem)\n",
    "sense = 'max'  # 'max' or 'min'\n",
    "c = [3, 2, 7]     # maximize 3x1 + 2x2\n",
    "A = [\n",
    "    [-1, 1, 0],\n",
    "    [2, -1, 1]\n",
    "\n",
    "]\n",
    "b = [10, 10]\n",
    "cons = ['=', '>=']\n",
    "Mode = 'TwoPhase'  # or 'BigM'\n",
    "\n",
    "run_and_show(sense, c, A, b, cons, Mode, M=1e5)"
   ]
  }
 ],
 "metadata": {
  "kernelspec": {
   "display_name": "Python 3",
   "language": "python",
   "name": "python3"
  },
  "language_info": {
   "codemirror_mode": {
    "name": "ipython",
    "version": 3
   },
   "file_extension": ".py",
   "mimetype": "text/x-python",
   "name": "python",
   "nbconvert_exporter": "python",
   "pygments_lexer": "ipython3",
   "version": "3.13.5"
  }
 },
 "nbformat": 4,
 "nbformat_minor": 5
}
