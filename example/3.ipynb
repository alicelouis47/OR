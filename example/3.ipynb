{
 "cells": [
  {
   "cell_type": "markdown",
   "id": "fbfdc34d",
   "metadata": {},
   "source": [
    "# RUN initial CODE"
   ]
  },
  {
   "cell_type": "code",
   "execution_count": 1,
   "id": "a48f355a",
   "metadata": {},
   "outputs": [],
   "source": [
    "import numpy as np\n",
    "import pandas as pd\n",
    "from IPython.display import display, Math\n",
    "\n",
    "def general_primal_to_dual(objective, c, A, b, constraints):\n",
    "    \"\"\"\n",
    "    Converts a general primal LP problem into its dual.\n",
    "\n",
    "    Primal Problem:\n",
    "    - Objective: 'maximize' or 'minimize'\n",
    "    - c: array of objective function coefficients\n",
    "    - A: 2D array of constraint coefficients\n",
    "    - b: array of right-hand side values\n",
    "    - constraints: array of constraint types ('<=', '>=', '=')\n",
    "\n",
    "    The function handles the duality rules for different constraint and\n",
    "    variable types.\n",
    "    \"\"\"\n",
    "    c = np.array(c, dtype=float)\n",
    "    A = np.array(A, dtype=float)\n",
    "    b = np.array(b, dtype=float)\n",
    "    \n",
    "    m, n = A.shape  # m = number of constraints, n = number of variables\n",
    "\n",
    "    # Dual problem components will be built based on the primal's structure\n",
    "    dual_objective = \"\"\n",
    "    dual_c = np.array([])\n",
    "    dual_A = np.array([])\n",
    "    dual_b = np.array([])\n",
    "    dual_vars = []\n",
    "\n",
    "    # --- Step 1: Formulate the Dual Objective ---\n",
    "    if objective == 'maximize':\n",
    "        dual_objective = 'Minimize'\n",
    "        dual_c = b\n",
    "    elif objective == 'minimize':\n",
    "        dual_objective = 'Maximize'\n",
    "        dual_c = c\n",
    "\n",
    "    # --- Step 2: Formulate the Dual Constraints (A^T y) and RHS (c) ---\n",
    "    # The dual coefficient matrix is the transpose of the primal's\n",
    "    dual_A = A.T\n",
    "    dual_b = c\n",
    "\n",
    "    # --- Step 3: Determine Dual Variable Types based on Primal Constraints ---\n",
    "    for i, constr_type in enumerate(constraints):\n",
    "        if objective == 'maximize':\n",
    "            if constr_type == '<=':\n",
    "                dual_vars.append('>= 0')\n",
    "            elif constr_type == '>=':\n",
    "                dual_vars.append('<= 0')\n",
    "            elif constr_type == '=':\n",
    "                dual_vars.append('unrestricted')\n",
    "        elif objective == 'minimize':\n",
    "            if constr_type == '>=':\n",
    "                dual_vars.append('>= 0')\n",
    "            elif constr_type == '<=':\n",
    "                dual_vars.append('<= 0')\n",
    "            elif constr_type == '=':\n",
    "                dual_vars.append('unrestricted')\n",
    "\n",
    "    # --- Step 4: Determine Dual Constraint Types based on Primal Variables ---\n",
    "    dual_constr_types = []\n",
    "    # Assuming primal variables are >= 0. If they were different, this would change.\n",
    "    # For a general primal problem with all variables >= 0, the dual constraints will be based on the objective type.\n",
    "    for _ in range(n):\n",
    "        if objective == 'maximize':\n",
    "            dual_constr_types.append('>=')\n",
    "        elif objective == 'minimize':\n",
    "            dual_constr_types.append('<=')\n",
    "    \n",
    "    # --- Start of LaTeX Formatting ---\n",
    "    \n",
    "    # Primal\n",
    "    latex_primal = f\"$$\\\\text{{Primal Problem (P):}}\\n\\\\text{{{objective.capitalize()} }} Z = \"\n",
    "    for i, coeff in enumerate(c):\n",
    "        latex_primal += f\"{coeff}x_{{{i+1}}}\" + (\" + \" if i < len(c) - 1 else \"\")\n",
    "    latex_primal += \" \\\\\\\\\\n\\\\text{Subject to:}\\n\"\n",
    "    for i in range(m):\n",
    "        latex_primal += \" \\\\\\\\\\n\"\n",
    "        for j, coeff in enumerate(A[i]):\n",
    "            latex_primal += f\"{coeff}x_{{{j+1}}}\" + (\" + \" if j < n - 1 else \"\")\n",
    "        latex_primal += f\" {constraints[i]} {b[i]}\"\n",
    "    latex_primal += \"\\\\\\\\\\n\"\n",
    "    latex_primal += \"x_1, \\\\dots, x_n \\\\geq 0\\n$$\"\n",
    "\n",
    "    # Dual\n",
    "    latex_dual = f\"$$\\\\text{{Dual Problem (D):}}\\n\\\\text{{{dual_objective} }} W = \"\n",
    "    for i, coeff in enumerate(dual_c):\n",
    "        latex_dual += f\"{coeff}y_{{{i+1}}}\" + (\" + \" if i < len(dual_c) - 1 else \"\")\n",
    "    latex_dual += \" \\\\\\\\\\n\\\\text{Subject to:}\\n\"\n",
    "    for i in range(len(dual_constr_types)):\n",
    "        latex_dual += \" \\\\\\\\\\n\"\n",
    "        for j, coeff in enumerate(dual_A[i]):\n",
    "            latex_dual += f\"{coeff}y_{{{j+1}}}\" + (\" + \" if j < dual_A.shape[1] - 1 else \"\")\n",
    "        latex_dual += f\" {dual_constr_types[i]} {dual_b[i]}\"\n",
    "    latex_dual += \"\\\\\\\\\\n\"\n",
    "    \n",
    "    # Dual variable types\n",
    "    for i, var_type in enumerate(dual_vars):\n",
    "        latex_dual += f\"y_{{{i+1}}} {var_type}\" + (\", \" if i < len(dual_vars) - 1 else \"\")\n",
    "    latex_dual += \"\\n$$\"\n",
    "\n",
    "    display(Math(latex_primal))\n",
    "    display(Math(latex_dual))\n",
    "\n",
    "    return dual_objective, dual_c, dual_A, dual_b, dual_vars, dual_constr_types\n"
   ]
  },
  {
   "cell_type": "markdown",
   "id": "961f2f93",
   "metadata": {},
   "source": [
    "# 5"
   ]
  },
  {
   "cell_type": "code",
   "execution_count": 2,
   "id": "332ae8d2",
   "metadata": {},
   "outputs": [
    {
     "data": {
      "text/latex": [
       "$\\displaystyle \\text{Primal Problem (P):}\n",
       "\\text{Maximize } Z = 5.0x_{1} + 4.0x_{2} + -1.0x_{3} + 3.0x_{4} \\\\\n",
       "\\text{Subject to:}\n",
       " \\\\\n",
       "3.0x_{1} + 2.0x_{2} + -3.0x_{3} + 1.0x_{4} <= 24.0 \\\\\n",
       "3.0x_{1} + 3.0x_{2} + 1.0x_{3} + 3.0x_{4} <= 36.0\\\\\n",
       "x_1, \\dots, x_n \\geq 0\n",
       "$"
      ],
      "text/plain": [
       "<IPython.core.display.Math object>"
      ]
     },
     "metadata": {},
     "output_type": "display_data"
    },
    {
     "data": {
      "text/latex": [
       "$\\displaystyle \\text{Dual Problem (D):}\n",
       "\\text{Minimize } W = 24.0y_{1} + 36.0y_{2} \\\\\n",
       "\\text{Subject to:}\n",
       " \\\\\n",
       "3.0y_{1} + 3.0y_{2} >= 5.0 \\\\\n",
       "2.0y_{1} + 3.0y_{2} >= 4.0 \\\\\n",
       "-3.0y_{1} + 1.0y_{2} >= -1.0 \\\\\n",
       "1.0y_{1} + 3.0y_{2} >= 3.0\\\\\n",
       "y_{1} >= 0, y_{2} >= 0\n",
       "$"
      ],
      "text/plain": [
       "<IPython.core.display.Math object>"
      ]
     },
     "metadata": {},
     "output_type": "display_data"
    },
    {
     "data": {
      "text/plain": [
       "('Minimize',\n",
       " array([24., 36.]),\n",
       " array([[ 3.,  3.],\n",
       "        [ 2.,  3.],\n",
       "        [-3.,  1.],\n",
       "        [ 1.,  3.]]),\n",
       " array([ 5.,  4., -1.,  3.]),\n",
       " ['>= 0', '>= 0'],\n",
       " ['>=', '>=', '>=', '>='])"
      ]
     },
     "execution_count": 2,
     "metadata": {},
     "output_type": "execute_result"
    }
   ],
   "source": [
    "\n",
    "c1 = [5, 4, -1, 3]\n",
    "A1 = [[3, 2,-3, 1], \n",
    "      [3, 3, 1, 3]]\n",
    "b1 = [24, 36]\n",
    "constraints1 = ['<=', '<=']\n",
    "general_primal_to_dual('maximize', c1, A1, b1, constraints1)"
   ]
  },
  {
   "cell_type": "markdown",
   "id": "23815083",
   "metadata": {},
   "source": [
    "# 6"
   ]
  },
  {
   "cell_type": "code",
   "execution_count": 4,
   "id": "2c7a3ef0",
   "metadata": {},
   "outputs": [
    {
     "data": {
      "text/latex": [
       "$\\displaystyle \\text{Primal Problem (P):}\n",
       "\\text{Maximize } Z = 2.0x_{1} + -1.0x_{2} + 1.0x_{3} \\\\\n",
       "\\text{Subject to:}\n",
       " \\\\\n",
       "3.0x_{1} + 1.0x_{2} + 1.0x_{3} <= 60.0 \\\\\n",
       "1.0x_{1} + -1.0x_{2} + 2.0x_{3} <= 10.0 \\\\\n",
       "1.0x_{1} + 1.0x_{2} + -1.0x_{3} <= 20.0\\\\\n",
       "x_1, \\dots, x_n \\geq 0\n",
       "$"
      ],
      "text/plain": [
       "<IPython.core.display.Math object>"
      ]
     },
     "metadata": {},
     "output_type": "display_data"
    },
    {
     "data": {
      "text/latex": [
       "$\\displaystyle \\text{Dual Problem (D):}\n",
       "\\text{Minimize } W = 60.0y_{1} + 10.0y_{2} + 20.0y_{3} \\\\\n",
       "\\text{Subject to:}\n",
       " \\\\\n",
       "3.0y_{1} + 1.0y_{2} + 1.0y_{3} >= 2.0 \\\\\n",
       "1.0y_{1} + -1.0y_{2} + 1.0y_{3} >= -1.0 \\\\\n",
       "1.0y_{1} + 2.0y_{2} + -1.0y_{3} >= 1.0\\\\\n",
       "y_{1} >= 0, y_{2} >= 0, y_{3} >= 0\n",
       "$"
      ],
      "text/plain": [
       "<IPython.core.display.Math object>"
      ]
     },
     "metadata": {},
     "output_type": "display_data"
    },
    {
     "data": {
      "text/plain": [
       "('Minimize',\n",
       " array([60., 10., 20.]),\n",
       " array([[ 3.,  1.,  1.],\n",
       "        [ 1., -1.,  1.],\n",
       "        [ 1.,  2., -1.]]),\n",
       " array([ 2., -1.,  1.]),\n",
       " ['>= 0', '>= 0', '>= 0'],\n",
       " ['>=', '>=', '>='])"
      ]
     },
     "execution_count": 4,
     "metadata": {},
     "output_type": "execute_result"
    }
   ],
   "source": [
    "\n",
    "c1 = [2, -1, 1]\n",
    "A1 = [[3, 1, 1], \n",
    "      [1, -1, 2],\n",
    "      [1, 1, -1]\n",
    "      ]\n",
    "b1 = [60, 10, 20]\n",
    "constraints1 = ['<=', '<=', '<=']\n",
    "general_primal_to_dual('maximize', c1, A1, b1, constraints1)"
   ]
  }
 ],
 "metadata": {
  "kernelspec": {
   "display_name": "Python 3",
   "language": "python",
   "name": "python3"
  },
  "language_info": {
   "codemirror_mode": {
    "name": "ipython",
    "version": 3
   },
   "file_extension": ".py",
   "mimetype": "text/x-python",
   "name": "python",
   "nbconvert_exporter": "python",
   "pygments_lexer": "ipython3",
   "version": "3.13.5"
  }
 },
 "nbformat": 4,
 "nbformat_minor": 5
}
