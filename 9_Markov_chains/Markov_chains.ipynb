{
 "cells": [
  {
   "cell_type": "markdown",
   "id": "490df4a5",
   "metadata": {},
   "source": [
    "# Transient State"
   ]
  },
  {
   "cell_type": "code",
   "execution_count": 1,
   "id": "b4625199",
   "metadata": {},
   "outputs": [
    {
     "name": "stdout",
     "output_type": "stream",
     "text": [
      "Collecting seaborn\n",
      "  Downloading seaborn-0.13.2-py3-none-any.whl.metadata (5.4 kB)\n",
      "Requirement already satisfied: numpy!=1.24.0,>=1.20 in c:\\users\\admin\\appdata\\local\\programs\\python\\python313\\lib\\site-packages (from seaborn) (2.3.2)\n",
      "Requirement already satisfied: pandas>=1.2 in c:\\users\\admin\\appdata\\local\\programs\\python\\python313\\lib\\site-packages (from seaborn) (2.3.1)\n",
      "Requirement already satisfied: matplotlib!=3.6.1,>=3.4 in c:\\users\\admin\\appdata\\local\\programs\\python\\python313\\lib\\site-packages (from seaborn) (3.10.5)\n",
      "Requirement already satisfied: contourpy>=1.0.1 in c:\\users\\admin\\appdata\\local\\programs\\python\\python313\\lib\\site-packages (from matplotlib!=3.6.1,>=3.4->seaborn) (1.3.3)\n",
      "Requirement already satisfied: cycler>=0.10 in c:\\users\\admin\\appdata\\local\\programs\\python\\python313\\lib\\site-packages (from matplotlib!=3.6.1,>=3.4->seaborn) (0.12.1)\n",
      "Requirement already satisfied: fonttools>=4.22.0 in c:\\users\\admin\\appdata\\local\\programs\\python\\python313\\lib\\site-packages (from matplotlib!=3.6.1,>=3.4->seaborn) (4.59.1)\n",
      "Requirement already satisfied: kiwisolver>=1.3.1 in c:\\users\\admin\\appdata\\local\\programs\\python\\python313\\lib\\site-packages (from matplotlib!=3.6.1,>=3.4->seaborn) (1.4.9)\n",
      "Requirement already satisfied: packaging>=20.0 in c:\\users\\admin\\appdata\\roaming\\python\\python313\\site-packages (from matplotlib!=3.6.1,>=3.4->seaborn) (25.0)\n",
      "Requirement already satisfied: pillow>=8 in c:\\users\\admin\\appdata\\local\\programs\\python\\python313\\lib\\site-packages (from matplotlib!=3.6.1,>=3.4->seaborn) (11.3.0)\n",
      "Requirement already satisfied: pyparsing>=2.3.1 in c:\\users\\admin\\appdata\\local\\programs\\python\\python313\\lib\\site-packages (from matplotlib!=3.6.1,>=3.4->seaborn) (3.2.3)\n",
      "Requirement already satisfied: python-dateutil>=2.7 in c:\\users\\admin\\appdata\\roaming\\python\\python313\\site-packages (from matplotlib!=3.6.1,>=3.4->seaborn) (2.9.0.post0)\n",
      "Requirement already satisfied: pytz>=2020.1 in c:\\users\\admin\\appdata\\local\\programs\\python\\python313\\lib\\site-packages (from pandas>=1.2->seaborn) (2025.2)\n",
      "Requirement already satisfied: tzdata>=2022.7 in c:\\users\\admin\\appdata\\local\\programs\\python\\python313\\lib\\site-packages (from pandas>=1.2->seaborn) (2025.2)\n",
      "Requirement already satisfied: six>=1.5 in c:\\users\\admin\\appdata\\roaming\\python\\python313\\site-packages (from python-dateutil>=2.7->matplotlib!=3.6.1,>=3.4->seaborn) (1.17.0)\n",
      "Downloading seaborn-0.13.2-py3-none-any.whl (294 kB)\n",
      "Installing collected packages: seaborn\n",
      "Successfully installed seaborn-0.13.2\n"
     ]
    },
    {
     "name": "stderr",
     "output_type": "stream",
     "text": [
      "\n",
      "[notice] A new release of pip is available: 25.1.1 -> 25.2\n",
      "[notice] To update, run: python.exe -m pip install --upgrade pip\n"
     ]
    }
   ],
   "source": [
    "!pip install seaborn"
   ]
  },
  {
   "cell_type": "code",
   "execution_count": 11,
   "id": "d7f6728a",
   "metadata": {},
   "outputs": [
    {
     "name": "stdout",
     "output_type": "stream",
     "text": [
      "--- เมทริกซ์การเปลี่ยนสถานะ (P) ---\n"
     ]
    },
    {
     "data": {
      "text/latex": [
       "$\\displaystyle \\begin{bmatrix}0.8 & 0.2 \\\\ 0.5 & 0.5\\end{bmatrix}$"
      ],
      "text/plain": [
       "<IPython.core.display.Math object>"
      ]
     },
     "metadata": {},
     "output_type": "display_data"
    },
    {
     "name": "stdout",
     "output_type": "stream",
     "text": [
      "\n",
      "============================================================\n",
      "### การคำนวณสภาวะการเปลี่ยนแปลง (Transient State)\n",
      "สถานะเริ่มต้น (เดือนที่ 0): โตโยต้า (Toyota)=10000 คน, ฮอนด้า (Honda)=10000 คน\n",
      "จำลองเหตุการณ์ไปข้างหน้า 10 เดือน...\n",
      "\n",
      "--- เดือนที่ 1 ---\n"
     ]
    },
    {
     "data": {
      "text/latex": [
       "$\\displaystyle \\text{--- 💡 อธิบายการคำนวณ (สมการ 9.2) ---}$"
      ],
      "text/plain": [
       "<IPython.core.display.Math object>"
      ]
     },
     "metadata": {},
     "output_type": "display_data"
    },
    {
     "data": {
      "text/latex": [
       "$\\displaystyle \\begin{bmatrix}10000 & 10000\\end{bmatrix} \\times \\begin{bmatrix}0.8 & 0.2 \\\\ 0.5 & 0.5\\end{bmatrix} = \\begin{bmatrix}13000 & 7000\\end{bmatrix}$"
      ],
      "text/plain": [
       "<IPython.core.display.Math object>"
      ]
     },
     "metadata": {},
     "output_type": "display_data"
    },
    {
     "data": {
      "text/latex": [
       "$\\displaystyle \\text{หลักการ: แถว x คอลัมน์ (Row x Column)}$"
      ],
      "text/plain": [
       "<IPython.core.display.Math object>"
      ]
     },
     "metadata": {},
     "output_type": "display_data"
    },
    {
     "data": {
      "text/latex": [
       "$\\displaystyle \\text{การคำนวณหา 'โตโยต้า (Toyota)' ใหม่ (คอลัมน์ที่ 1 ของ P):}$"
      ],
      "text/plain": [
       "<IPython.core.display.Math object>"
      ]
     },
     "metadata": {},
     "output_type": "display_data"
    },
    {
     "data": {
      "text/latex": [
       "$\\displaystyle = (10000 \\times 0.8) + (10000 \\times 0.5)$"
      ],
      "text/plain": [
       "<IPython.core.display.Math object>"
      ]
     },
     "metadata": {},
     "output_type": "display_data"
    },
    {
     "data": {
      "text/latex": [
       "$\\displaystyle = 8000 + 5000 = 13000$"
      ],
      "text/plain": [
       "<IPython.core.display.Math object>"
      ]
     },
     "metadata": {},
     "output_type": "display_data"
    },
    {
     "data": {
      "text/latex": [
       "$\\displaystyle \\text{การคำนวณหา 'ฮอนด้า (Honda)' ใหม่ (คอลัมน์ที่ 2 ของ P):}$"
      ],
      "text/plain": [
       "<IPython.core.display.Math object>"
      ]
     },
     "metadata": {},
     "output_type": "display_data"
    },
    {
     "data": {
      "text/latex": [
       "$\\displaystyle = (10000 \\times 0.2) + (10000 \\times 0.5)$"
      ],
      "text/plain": [
       "<IPython.core.display.Math object>"
      ]
     },
     "metadata": {},
     "output_type": "display_data"
    },
    {
     "data": {
      "text/latex": [
       "$\\displaystyle = 2000 + 5000 = 7000$"
      ],
      "text/plain": [
       "<IPython.core.display.Math object>"
      ]
     },
     "metadata": {},
     "output_type": "display_data"
    },
    {
     "data": {
      "text/latex": [
       "$\\displaystyle \\text{----------------------------------------------}$"
      ],
      "text/plain": [
       "<IPython.core.display.Math object>"
      ]
     },
     "metadata": {},
     "output_type": "display_data"
    },
    {
     "name": "stdout",
     "output_type": "stream",
     "text": [
      "  ผลลัพธ์: โตโยต้า (Toyota) = 13000.00 คน, ฮอนด้า (Honda) = 7000.00 คน\n",
      "  (ผลลัพธ์นี้ตรงกับตัวอย่าง 9.2: [13000, 7000])\n",
      "--- เดือนที่ 2 ---\n",
      "  ผลลัพธ์: โตโยต้า (Toyota) = 13900.00 คน, ฮอนด้า (Honda) = 6100.00 คน\n",
      "--- เดือนที่ 3 ---\n",
      "  ผลลัพธ์: โตโยต้า (Toyota) = 14170.00 คน, ฮอนด้า (Honda) = 5830.00 คน\n",
      "--- เดือนที่ 4 ---\n",
      "  ผลลัพธ์: โตโยต้า (Toyota) = 14251.00 คน, ฮอนด้า (Honda) = 5749.00 คน\n",
      "--- เดือนที่ 5 ---\n",
      "  ผลลัพธ์: โตโยต้า (Toyota) = 14275.30 คน, ฮอนด้า (Honda) = 5724.70 คน\n",
      "--- เดือนที่ 6 ---\n",
      "  ผลลัพธ์: โตโยต้า (Toyota) = 14282.59 คน, ฮอนด้า (Honda) = 5717.41 คน\n",
      "--- เดือนที่ 7 ---\n",
      "  ผลลัพธ์: โตโยต้า (Toyota) = 14284.78 คน, ฮอนด้า (Honda) = 5715.22 คน\n",
      "--- เดือนที่ 8 ---\n",
      "  ผลลัพธ์: โตโยต้า (Toyota) = 14285.43 คน, ฮอนด้า (Honda) = 5714.57 คน\n",
      "--- เดือนที่ 9 ---\n",
      "  ผลลัพธ์: โตโยต้า (Toyota) = 14285.63 คน, ฮอนด้า (Honda) = 5714.37 คน\n",
      "--- เดือนที่ 10 ---\n",
      "  ผลลัพธ์: โตโยต้า (Toyota) = 14285.69 คน, ฮอนด้า (Honda) = 5714.31 คน\n",
      "\n",
      "============================================================\n",
      "### กราฟแสดงการเปลี่ยนแปลง (Transient Plot)\n"
     ]
    },
    {
     "data": {
      "image/png": "[encoded data removed]",
      "text/plain": [
       "<Figure size 1200x700 with 1 Axes>"
      ]
     },
     "metadata": {},
     "output_type": "display_data"
    }
   ],
   "source": [
    "# ==============================================================================\n",
    "# ### 📈 เซลล์ที่ 1: สภาวะการเปลี่ยนแปลง (Transient State) (แสดงผล LaTeX)\n",
    "# ==============================================================================\n",
    "#\n",
    "# คำนวณการเปลี่ยนแปลงส่วนแบ่งตลาดในแต่ละเดือน (Month-by-Month)\n",
    "# โดยแสดงผลสมการและเมทริกซ์ด้วย LaTeX\n",
    "\n",
    "import numpy as np\n",
    "import matplotlib.pyplot as plt\n",
    "import seaborn as sns\n",
    "from IPython.display import display, Math # 👈 **สำคัญ: สำหรับแสดงผล LaTeX**\n",
    "\n",
    "# --- 1. ตั้งค่าพื้นฐาน (Setup) ---\n",
    "sns.set_style(\"whitegrid\")\n",
    "try:\n",
    "    plt.rcParams[\"font.family\"] = \"Tahoma\"\n",
    "except:\n",
    "    print(\"ไม่พบฟอนต์ Tahoma, ใช้ฟอนต์เริ่มต้น\")\n",
    "\n",
    "# --- 💡 ฟังก์ชันช่วยแปลง Array เป็น LaTeX ---\n",
    "def show_latex(latex_string):\n",
    "    \"\"\"Helper to display a LaTeX string.\"\"\"\n",
    "    display(Math(latex_string))\n",
    "\n",
    "def to_b(arr):\n",
    "    \"\"\"\n",
    "    แปลง numpy array (1D หรือ 2D) ให้เป็น string ของ LaTeX bmatrix\n",
    "    ใช้ :g (general format) เพื่อให้แสดงผลทั้งเลข 10000 และ 0.8 ได้สวยงาม\n",
    "    \"\"\"\n",
    "    if arr.ndim == 1:\n",
    "        arr = np.atleast_2d(arr) # แปลง [a, b] ให้เป็น [[a, b]]\n",
    "    \n",
    "    latex = r\"\\begin{bmatrix}\"\n",
    "    for row in arr:\n",
    "        # 'g' format ดีที่สุดสำหรับแสดงผลทั้ง int (10000) และ float (0.8)\n",
    "        latex += \" & \".join([f\"{x:g}\" for x in row])\n",
    "        latex += r\" \\\\ \" # ขึ้นบรรทัดใหม่ใน LaTeX\n",
    "    \n",
    "    latex = latex.rstrip(r\" \\\\ \") # ลบ \\\\ สุดท้าย\n",
    "    latex += r\"\\end{bmatrix}\"\n",
    "    return latex\n",
    "# --- จบฟังก์ชันช่วย ---\n",
    "\n",
    "\n",
    "# --- 2. กำหนดค่าจากโจทย์ (Problem Definition) ---\n",
    "states = [\"โตโยต้า (Toyota)\", \"ฮอนด้า (Honda)\"]\n",
    "\n",
    "# เมทริกซ์การเปลี่ยนสถานะ (P)\n",
    "P = np.array([\n",
    "    [0.8, 0.2],  # แถว 0: จาก โตโยต้า\n",
    "    [0.5, 0.5]   # แถว 1: จาก ฮอนด้า\n",
    "])\n",
    "\n",
    "print(\"--- เมทริกซ์การเปลี่ยนสถานะ (P) ---\")\n",
    "# 💡 ใช้ LaTeX แสดงผลเมทริกซ์ P\n",
    "show_latex(to_b(P))\n",
    "\n",
    "\n",
    "# --- 3. การคำนวณ Transient State (แบบตัวอย่าง 9.2) ---\n",
    "print(\"\\n\" + \"=\"*60)\n",
    "print(\"### การคำนวณสภาวะการเปลี่ยนแปลง (Transient State)\")\n",
    "\n",
    "# --- 🔧 ค่าที่กำหนดไว้ (Hard-coded values) ---\n",
    "initial_counts = np.array([10000, 10000])\n",
    "n_months_to_simulate = 10\n",
    "# --- \n",
    "\n",
    "print(f\"สถานะเริ่มต้น (เดือนที่ 0): {states[0]}={initial_counts[0]} คน, {states[1]}={initial_counts[1]} คน\")\n",
    "print(f\"จำลองเหตุการณ์ไปข้างหน้า {n_months_to_simulate} เดือน...\\n\")\n",
    "\n",
    "# สร้าง list เพื่อเก็บประวัติการเปลี่ยนแปลง\n",
    "history_transient = [initial_counts]\n",
    "current_v = initial_counts\n",
    "\n",
    "for month in range(1, n_months_to_simulate + 1):\n",
    "    # คำนวณสถานะถัดไป: v_next = v_current * P\n",
    "    next_v = np.dot(current_v, P)\n",
    "    \n",
    "    print(f\"--- เดือนที่ {month} ---\")\n",
    "    \n",
    "    # --- ✍️ อธิบายการคูณเมทริกซ์ (แบบไดนามิกด้วย LaTeX) ---\n",
    "    if month == 1 and np.array_equal(initial_counts, [10000, 10000]):\n",
    "        \n",
    "        # \\text{} ใช้สำหรับแสดงผลภาษาไทยในโหมดคณิตศาสตร์\n",
    "        show_latex(r\"\\text{--- 💡 อธิบายการคำนวณ (สมการ 9.2) ---}\")\n",
    "        \n",
    "        # สร้างสมการ [v_ปัจจุบัน] x [P] = [v_ถัดไป]\n",
    "        v_curr_str = to_b(current_v)\n",
    "        P_str = to_b(P)\n",
    "        v_next_str = to_b(next_v)\n",
    "        # \\times คือเครื่องหมายคูณ\n",
    "        show_latex(rf\"{v_curr_str} \\times {P_str} = {v_next_str}\")\n",
    "        \n",
    "        show_latex(r\"\\text{หลักการ: แถว x คอลัมน์ (Row x Column)}\")\n",
    "        \n",
    "        # --- การคำนวณหาโตโยต้า (คอลัมน์ที่ 1) ---\n",
    "        show_latex(rf\"\\text{{การคำนวณหา '{states[0]}' ใหม่ (คอลัมน์ที่ 1 ของ P):}}\")\n",
    "        # (10000 * 0.8) + (10000 * 0.5)\n",
    "        s1 = rf\"= ({current_v[0]:g} \\times {P[0, 0]:g}) + ({current_v[1]:g} \\times {P[1, 0]:g})\"\n",
    "        show_latex(s1)\n",
    "        # = 8000 + 5000 = 13000\n",
    "        s2 = rf\"= {current_v[0] * P[0, 0]:g} + {current_v[1] * P[1, 0]:g} = {next_v[0]:g}\"\n",
    "        show_latex(s2)\n",
    "        \n",
    "        # --- การคำนวณหาฮอนด้า (คอลัมน์ที่ 2) ---\n",
    "        show_latex(rf\"\\text{{การคำนวณหา '{states[1]}' ใหม่ (คอลัมน์ที่ 2 ของ P):}}\")\n",
    "        # (10000 * 0.2) + (10000 * 0.5)\n",
    "        s3 = rf\"= ({current_v[0]:g} \\times {P[0, 1]:g}) + ({current_v[1]:g} \\times {P[1, 1]:g})\"\n",
    "        show_latex(s3)\n",
    "        # = 2000 + 5000 = 7000\n",
    "        s4 = rf\"= {current_v[0] * P[0, 1]:g} + {current_v[1] * P[1, 1]:g} = {next_v[1]:g}\"\n",
    "        show_latex(s4)\n",
    "        \n",
    "        show_latex(r\"\\text{----------------------------------------------}\")\n",
    "    \n",
    "    # แสดงผลลัพธ์เป็นข้อความปกติ\n",
    "    print(f\"  ผลลัพธ์: {states[0]} = {next_v[0]:.2f} คน, {states[1]} = {next_v[1]:.2f} คน\")\n",
    "    if month == 1 and np.array_equal(initial_counts, [10000, 10000]):\n",
    "        print(f\"  (ผลลัพธ์นี้ตรงกับตัวอย่าง 9.2: [13000, 7000])\")\n",
    "        \n",
    "    # อัปเดตค่าสำหรับรอบถัดไป\n",
    "    history_transient.append(next_v)\n",
    "    current_v = next_v\n",
    "\n",
    "# แปลง history เป็น numpy array สำหรับ plot\n",
    "history_transient = np.array(history_transient)\n",
    "\n",
    "# --- 4. การแสดงผลด้วยกราฟ (Visualization) ---\n",
    "# (ส่วนนี้เหมือนเดิม)\n",
    "print(\"\\n\" + \"=\"*60)\n",
    "print(\"### กราฟแสดงการเปลี่ยนแปลง (Transient Plot)\")\n",
    "\n",
    "plt.figure(figsize=(12, 7))\n",
    "plt.plot(history_transient[:, 0], label=f\"ส่วนแบ่ง {states[0]}\", marker='o', linestyle='-')\n",
    "plt.plot(history_transient[:, 1], label=f\"ส่วนแบ่ง {states[1]}\", marker='s', linestyle='-')\n",
    "plt.title(f\"การเปลี่ยนแปลงส่วนแบ่งตลาด (เริ่มต้น: {initial_counts})\", fontsize=16)\n",
    "plt.xlabel(\"จำนวนเดือน (Month)\", fontsize=12)\n",
    "plt.ylabel(\"จำนวนลูกค้า (Customers)\", fontsize=12)\n",
    "plt.xticks(range(n_months_to_simulate + 1))\n",
    "plt.legend(fontsize=12)\n",
    "plt.grid(True, which='both', linestyle='--', linewidth=0.5)\n",
    "plt.show()"
   ]
  },
  {
   "cell_type": "markdown",
   "id": "13eb1995",
   "metadata": {},
   "source": [
    "# Steady State"
   ]
  },
  {
   "cell_type": "code",
   "execution_count": 15,
   "id": "0e2bb584",
   "metadata": {},
   "outputs": [
    {
     "name": "stdout",
     "output_type": "stream",
     "text": [
      "--- เมทริกซ์การเปลี่ยนสถานะ (P) ---\n"
     ]
    },
    {
     "name": "stderr",
     "output_type": "stream",
     "text": [
      "<>:112: SyntaxWarning: invalid escape sequence '\\p'\n",
      "<>:112: SyntaxWarning: invalid escape sequence '\\p'\n",
      "C:\\Users\\Admin\\AppData\\Local\\Temp\\ipykernel_27964\\755877869.py:112: SyntaxWarning: invalid escape sequence '\\p'\n",
      "  print(\"\\n--- ตรวจสอบคำตอบ ( $\\pi = \\pi \\cdot P$ ) ---\")\n"
     ]
    },
    {
     "data": {
      "text/latex": [
       "$\\displaystyle \\begin{bmatrix}0.8 & 0.2 \\\\ 0.5 & 0.5\\end{bmatrix}$"
      ],
      "text/plain": [
       "<IPython.core.display.Math object>"
      ]
     },
     "metadata": {},
     "output_type": "display_data"
    },
    {
     "name": "stdout",
     "output_type": "stream",
     "text": [
      "\n",
      "จำนวนลูกค้ารวมในตลาด: 20000 คน\n"
     ]
    },
    {
     "data": {
      "text/latex": [
       "$\\displaystyle \\text{กำลังค้นหาส่วนแบ่งตลาด } (\\pi) \\text{ ที่ } \\pi = \\pi \\cdot P$"
      ],
      "text/plain": [
       "<IPython.core.display.Math object>"
      ]
     },
     "metadata": {},
     "output_type": "display_data"
    },
    {
     "name": "stdout",
     "output_type": "stream",
     "text": [
      "\n",
      "============================================================\n",
      "### 💡 อธิบายสมการสภาวะคงตัว (Steady State Equation 9.3) ###\n"
     ]
    },
    {
     "data": {
      "text/latex": [
       "$\\displaystyle \\text{สมการ } \\pi = \\pi \\cdot P \\text{ หมายถึง 'สถานะในอนาคต' = 'สถานะปัจจุบัน'}$"
      ],
      "text/plain": [
       "<IPython.core.display.Math object>"
      ]
     },
     "metadata": {},
     "output_type": "display_data"
    },
    {
     "data": {
      "text/latex": [
       "$\\displaystyle \\text{(จุดที่ส่วนแบ่งตลาดไม่เปลี่ยนแปลงอีกต่อไป)}$"
      ],
      "text/plain": [
       "<IPython.core.display.Math object>"
      ]
     },
     "metadata": {},
     "output_type": "display_data"
    },
    {
     "data": {
      "text/latex": [
       "$\\displaystyle \\text{ถ้าเราให้ } \\pi = \\begin{bmatrix} X & (20000-X) \\end{bmatrix}$"
      ],
      "text/plain": [
       "<IPython.core.display.Math object>"
      ]
     },
     "metadata": {},
     "output_type": "display_data"
    },
    {
     "data": {
      "text/latex": [
       "$\\displaystyle \\begin{bmatrix} X & (20000-X) \\end{bmatrix} \\times \\begin{bmatrix}0.8 & 0.2 \\\\ 0.5 & 0.5\\end{bmatrix} = \\begin{bmatrix} X & (20000-X) \\end{bmatrix}$"
      ],
      "text/plain": [
       "<IPython.core.display.Math object>"
      ]
     },
     "metadata": {},
     "output_type": "display_data"
    },
    {
     "data": {
      "text/latex": [
       "$\\displaystyle \\text{ซึ่งสามารถแตกเป็น 2 สมการย่อย (จากการคูณเมทริกซ์ 'แถว x คอลัมน์'):}$"
      ],
      "text/plain": [
       "<IPython.core.display.Math object>"
      ]
     },
     "metadata": {},
     "output_type": "display_data"
    },
    {
     "data": {
      "text/latex": [
       "$\\displaystyle \\text{สมการที่ 1 (คอลัมน์โตโยต้า):}$"
      ],
      "text/plain": [
       "<IPython.core.display.Math object>"
      ]
     },
     "metadata": {},
     "output_type": "display_data"
    },
    {
     "data": {
      "text/latex": [
       "$\\displaystyle (X \\times 0.8) + ((20000-X) \\times 0.5) = X$"
      ],
      "text/plain": [
       "<IPython.core.display.Math object>"
      ]
     },
     "metadata": {},
     "output_type": "display_data"
    },
    {
     "data": {
      "text/latex": [
       "$\\displaystyle \\text{สมการที่ 2 (คอลัมน์ฮอนด้า):}$"
      ],
      "text/plain": [
       "<IPython.core.display.Math object>"
      ]
     },
     "metadata": {},
     "output_type": "display_data"
    },
    {
     "data": {
      "text/latex": [
       "$\\displaystyle (X \\times 0.2) + ((20000-X) \\times 0.5) = (20000-X)$"
      ],
      "text/plain": [
       "<IPython.core.display.Math object>"
      ]
     },
     "metadata": {},
     "output_type": "display_data"
    },
    {
     "name": "stdout",
     "output_type": "stream",
     "text": [
      "============================================================\n",
      "\n",
      "--- การคำนวณสัดส่วน (Probabilities) โดยใช้ Eigenvector ---\n",
      "สัดส่วนตลาด π (Probabilities) ในสภาวะคงตัว:\n",
      "  π_โตโยต้า (Toyota): 0.714286 (หรือ 71.43%)\n",
      "  π_ฮอนด้า (Honda): 0.285714 (หรือ 28.57%)\n",
      "\n",
      "============================================================\n",
      "### สรุปจำนวนลูกค้าในสภาวะคงตัว (Steady State)\n",
      "  X (ลูกค้า โตโยต้า (Toyota)): 14285.71 คน\n",
      "  (Total - X) (ลูกค้า ฮอนด้า (Honda)): 5714.29 คน\n",
      "\n",
      "--- ตรวจสอบคำตอบ ( $\\pi = \\pi \\cdot P$ ) ---\n"
     ]
    },
    {
     "data": {
      "text/latex": [
       "$\\displaystyle \\begin{bmatrix} 14285.71 & 5714.29 \\end{bmatrix} \\times \\begin{bmatrix}0.8 & 0.2 \\\\ 0.5 & 0.5\\end{bmatrix} = \\begin{bmatrix} 14285.71 & 5714.29 \\end{bmatrix}$"
      ],
      "text/plain": [
       "<IPython.core.display.Math object>"
      ]
     },
     "metadata": {},
     "output_type": "display_data"
    },
    {
     "data": {
      "text/latex": [
       "$\\displaystyle \\text{(ผลลัพธ์ 2 ฝั่งเท่ากัน แสดงว่าถูกต้อง)}$"
      ],
      "text/plain": [
       "<IPython.core.display.Math object>"
      ]
     },
     "metadata": {},
     "output_type": "display_data"
    }
   ],
   "source": [
    "# ==============================================================================\n",
    "# ### ⚖️ เซลล์ที่ 2: สภาวะคงตัว (Steady State) (แสดงผล LaTeX)\n",
    "# ==============================================================================\n",
    "#\n",
    "# คำนวณหาส่วนแบ่งตลาด \"ในระยะยาว\" หรือ \"จุดสมดุล\"\n",
    "# โดยแสดงผลสมการและเมทริกซ์ด้วย LaTeX\n",
    "\n",
    "import numpy as np\n",
    "from IPython.display import display, Math # 👈 **สำคัญ: สำหรับแสดงผล LaTeX**\n",
    "\n",
    "# --- 💡 ฟังก์ชันช่วยแปลง Array เป็น LaTeX ---\n",
    "def show_latex(latex_string):\n",
    "    \"\"\"Helper to display a LaTeX string.\"\"\"\n",
    "    display(Math(latex_string))\n",
    "\n",
    "def to_b(arr):\n",
    "    \"\"\"\n",
    "    แปลง numpy array (1D หรือ 2D) ให้เป็น string ของ LaTeX bmatrix\n",
    "    ใช้ :g (general format) เพื่อให้แสดงผลทั้งเลข 10000 และ 0.8 ได้สวยงาม\n",
    "    \"\"\"\n",
    "    if arr.ndim == 1:\n",
    "        arr = np.atleast_2d(arr) \n",
    "    \n",
    "    latex = r\"\\begin{bmatrix}\"\n",
    "    for row in arr:\n",
    "        latex += \" & \".join([f\"{x:g}\" for x in row])\n",
    "        latex += r\" \\\\ \" \n",
    "    \n",
    "    latex = latex.rstrip(r\" \\\\ \") \n",
    "    latex += r\"\\end{bmatrix}\"\n",
    "    return latex\n",
    "# --- จบฟังก์ชันช่วย ---\n",
    "\n",
    "\n",
    "# --- 1. กำหนดค่าจากโจทย์ (Problem Definition) ---\n",
    "states = [\"โตโยต้า (Toyota)\", \"ฮอนด้า (Honda)\"]\n",
    "\n",
    "# เมทริกซ์การเปลี่ยนสถานะ (P)\n",
    "P = np.array([\n",
    "    [0.8, 0.2],  # แถวที่ 0: ลูกค้าโตโยต้า\n",
    "    [0.5, 0.5]   # แถวที่ 1: ลูกค้าฮอนด้า\n",
    "])\n",
    "\n",
    "# --- 🔧 ค่าที่กำหนดไว้ (Hard-coded values) ---\n",
    "total_customers = 20000\n",
    "# ---\n",
    "\n",
    "print(\"--- เมทริกซ์การเปลี่ยนสถานะ (P) ---\")\n",
    "# 💡 ใช้ LaTeX แสดงผลเมทริกซ์ P\n",
    "show_latex(to_b(P))\n",
    "\n",
    "print(f\"\\nจำนวนลูกค้ารวมในตลาด: {total_customers} คน\")\n",
    "# 💡 \\pi คือสัญลักษณ์ \"พาย\" (pi)\n",
    "show_latex(r\"\\text{กำลังค้นหาส่วนแบ่งตลาด } (\\pi) \\text{ ที่ } \\pi = \\pi \\cdot P\")\n",
    "\n",
    "\n",
    "# --- ✍️ อธิบายการคูณเมทริกซ์ในสภาวะคงตัว (แบบ LaTeX) ---\n",
    "print(\"\\n\" + \"=\"*60)\n",
    "# ❗️<-- แก้ไขแล้ว: ย้าย ### ออกมาเป็น print() ปกติ\n",
    "print(\"### 💡 อธิบายสมการสภาวะคงตัว (Steady State Equation 9.3) ###\")\n",
    "show_latex(r\"\\text{สมการ } \\pi = \\pi \\cdot P \\text{ หมายถึง 'สถานะในอนาคต' = 'สถานะปัจจุบัน'}\")\n",
    "show_latex(r\"\\text{(จุดที่ส่วนแบ่งตลาดไม่เปลี่ยนแปลงอีกต่อไป)}\")\n",
    "\n",
    "# สร้างสมการ [X (20000-X)] * P = [X (20000-X)]\n",
    "P_str = to_b(P)\n",
    "# \\qquad คือการเว้นวรรคยาวๆ\n",
    "show_latex(rf\"\\text{{ถ้าเราให้ }} \\pi = \\begin{{bmatrix}} X & ({total_customers:g}-X) \\end{{bmatrix}}\")\n",
    "show_latex(rf\"\\begin{{bmatrix}} X & ({total_customers:g}-X) \\end{{bmatrix}} \\times {P_str} = \\begin{{bmatrix}} X & ({total_customers:g}-X) \\end{{bmatrix}}\")\n",
    "\n",
    "show_latex(r\"\\text{ซึ่งสามารถแตกเป็น 2 สมการย่อย (จากการคูณเมทริกซ์ 'แถว x คอลัมน์'):}\")\n",
    "\n",
    "# สมการที่ 1 (คอลัมน์โตโยต้า)\n",
    "show_latex(r\"\\text{สมการที่ 1 (คอลัมน์โตโยต้า):}\")\n",
    "show_latex(rf\"(X \\times {P[0,0]:g}) + (({total_customers:g}-X) \\times {P[1,0]:g}) = X\")\n",
    "\n",
    "# สมการที่ 2 (คอลัมน์ฮอนด้า)\n",
    "show_latex(r\"\\text{สมการที่ 2 (คอลัมน์ฮอนด้า):}\")\n",
    "show_latex(rf\"(X \\times {P[0,1]:g}) + (({total_customers:g}-X) \\times {P[1,1]:g}) = ({total_customers:g}-X)\")\n",
    "print(\"=\"*60)\n",
    "# --- จบส่วนอธิบาย ---\n",
    "\n",
    "\n",
    "# --- 2. การคำนวณ (ใช้วิธี Eigenvector ซึ่งแม่นยำที่สุด) ---\n",
    "print(\"\\n--- การคำนวณสัดส่วน (Probabilities) โดยใช้ Eigenvector ---\")\n",
    "\n",
    "try:\n",
    "    eigenvalues, eigenvectors = np.linalg.eig(P.T)\n",
    "    steady_state_index = np.argmin(np.abs(eigenvalues - 1.0))\n",
    "    pi_vector_unnormalized = eigenvectors[:, steady_state_index]\n",
    "    pi_vector = np.real(pi_vector_unnormalized / np.sum(pi_vector_unnormalized))\n",
    "\n",
    "    print(f\"สัดส่วนตลาด π (Probabilities) ในสภาวะคงตัว:\")\n",
    "    for i, state in enumerate(states):\n",
    "        print(f\"  π_{state}: {pi_vector[i]:.6f} (หรือ {pi_vector[i]*100:.2f}%)\")\n",
    "\n",
    "    # --- 3. สรุปจำนวนลูกค้าในสภาวะคงตัว (ตามโจทย์ 9.3) ---\n",
    "    print(\"\\n\" + \"=\"*60)\n",
    "    # ❗️<-- แก้ไขแล้ว: ย้าย ### ออกมาเป็น print() ปกติ\n",
    "    print(\"### สรุปจำนวนลูกค้าในสภาวะคงตัว (Steady State)\") \n",
    "\n",
    "    X_toyota = pi_vector[0] * total_customers\n",
    "    Y_honda = pi_vector[1] * total_customers\n",
    "\n",
    "    print(f\"  X (ลูกค้า {states[0]}): {X_toyota:.2f} คน\")\n",
    "    print(f\"  (Total - X) (ลูกค้า {states[1]}): {Y_honda:.2f} คน\")\n",
    "\n",
    "    # --- 4. ตรวจสอบคำตอบด้วย LaTeX ---\n",
    "    check_vector = np.array([X_toyota, Y_honda])\n",
    "    result_vector = np.dot(check_vector, P)\n",
    "\n",
    "    # ❗️<-- แก้ไขแล้ว: ย้ายหัวข้อออกมาเป็น print()\n",
    "    print(\"\\n--- ตรวจสอบคำตอบ ( $\\pi = \\pi \\cdot P$ ) ---\")\n",
    "    \n",
    "    # 💡 เราจะใช้ .2f เพื่อปัดเศษทศนิยม 2 ตำแหน่งให้สวยงาม\n",
    "    \n",
    "    v_left_str = rf\"\\begin{{bmatrix}} {check_vector[0]:.2f} & {check_vector[1]:.2f} \\end{{bmatrix}}\"\n",
    "    v_right_str = rf\"\\begin{{bmatrix}} {result_vector[0]:.2f} & {result_vector[1]:.2f} \\end{{bmatrix}}\"\n",
    "    \n",
    "    show_latex(rf\"{v_left_str} \\times {P_str} = {v_right_str}\")\n",
    "    \n",
    "    if np.allclose(check_vector, result_vector):\n",
    "        show_latex(r\"\\text{(ผลลัพธ์ 2 ฝั่งเท่ากัน แสดงว่าถูกต้อง)}\")\n",
    "    else:\n",
    "        show_latex(r\"\\text{(ผลลัพธ์ 2 ฝั่งอาจต่างกันเล็กน้อยจากการปัดเศษ)}\")\n",
    "\n",
    "except np.linalg.LinAlgError:\n",
    "    print(\"!!! ข้อผิดพลาด: ไม่สามารถคำนวณ Eigenvector ได้ (เมทริกซ์อาจมีปัญหา) !!!\")"
   ]
  },
  {
   "cell_type": "markdown",
   "id": "3369c34b",
   "metadata": {},
   "source": [
    "# ผงซักฟอก"
   ]
  },
  {
   "cell_type": "code",
   "execution_count": 22,
   "id": "15de50e0",
   "metadata": {},
   "outputs": [
    {
     "name": "stdout",
     "output_type": "stream",
     "text": [
      "--- เมทริกซ์การเปลี่ยนสถานะ (P) ---\n"
     ]
    },
    {
     "data": {
      "text/latex": [
       "$\\displaystyle \\begin{bmatrix}0.5 & 0.2 & 0.3 \\\\ 0.3 & 0.5 & 0.2 \\\\ 0.2 & 0.3 & 0.5\\end{bmatrix}$"
      ],
      "text/plain": [
       "<IPython.core.display.Math object>"
      ]
     },
     "metadata": {},
     "output_type": "display_data"
    },
    {
     "name": "stdout",
     "output_type": "stream",
     "text": [
      "\n",
      "============================================================\n",
      "### การคำนวณสภาวะการเปลี่ยนแปลง (Transient State)\n",
      "สถานะเริ่มต้น (ขั้นตอนที่ 0):\n",
      "  A: 10000 หน่วย\n",
      "  B: 10000 หน่วย\n",
      "  C: 10000 หน่วย\n",
      "จำลองเหตุการณ์ไปข้างหน้า 10 ขั้นตอน...\n",
      "\n",
      "--- ขั้นตอนที่ 1 ---\n"
     ]
    },
    {
     "data": {
      "text/latex": [
       "$\\displaystyle \\text{--- 💡 อธิบายการคำนวณ (ขั้นตอนที่ 1) ---}$"
      ],
      "text/plain": [
       "<IPython.core.display.Math object>"
      ]
     },
     "metadata": {},
     "output_type": "display_data"
    },
    {
     "data": {
      "text/latex": [
       "$\\displaystyle \\begin{bmatrix}10000 & 10000 & 10000\\end{bmatrix} \\times \\begin{bmatrix}0.5 & 0.2 & 0.3 \\\\ 0.3 & 0.5 & 0.2 \\\\ 0.2 & 0.3 & 0.5\\end{bmatrix} = \\begin{bmatrix}10000 & 10000 & 10000\\end{bmatrix}$"
      ],
      "text/plain": [
       "<IPython.core.display.Math object>"
      ]
     },
     "metadata": {},
     "output_type": "display_data"
    },
    {
     "data": {
      "text/latex": [
       "$\\displaystyle \\text{หลักการ: แถว x คอลัมน์ (Row x Column)}$"
      ],
      "text/plain": [
       "<IPython.core.display.Math object>"
      ]
     },
     "metadata": {},
     "output_type": "display_data"
    },
    {
     "data": {
      "text/latex": [
       "$\\displaystyle \\text{การคำนวณหา 'A' ใหม่ (คอลัมน์ที่ 1 ของ P):}$"
      ],
      "text/plain": [
       "<IPython.core.display.Math object>"
      ]
     },
     "metadata": {},
     "output_type": "display_data"
    },
    {
     "data": {
      "text/latex": [
       "$\\displaystyle = (10000 \\times 0.5) + (10000 \\times 0.3) + (10000 \\times 0.2)$"
      ],
      "text/plain": [
       "<IPython.core.display.Math object>"
      ]
     },
     "metadata": {},
     "output_type": "display_data"
    },
    {
     "data": {
      "text/latex": [
       "$\\displaystyle = 5000 + 3000 + 2000 = 10000$"
      ],
      "text/plain": [
       "<IPython.core.display.Math object>"
      ]
     },
     "metadata": {},
     "output_type": "display_data"
    },
    {
     "data": {
      "text/latex": [
       "$\\displaystyle \\text{การคำนวณหา 'B' ใหม่ (คอลัมน์ที่ 2 ของ P):}$"
      ],
      "text/plain": [
       "<IPython.core.display.Math object>"
      ]
     },
     "metadata": {},
     "output_type": "display_data"
    },
    {
     "data": {
      "text/latex": [
       "$\\displaystyle = (10000 \\times 0.2) + (10000 \\times 0.5) + (10000 \\times 0.3)$"
      ],
      "text/plain": [
       "<IPython.core.display.Math object>"
      ]
     },
     "metadata": {},
     "output_type": "display_data"
    },
    {
     "data": {
      "text/latex": [
       "$\\displaystyle = 2000 + 5000 + 3000 = 10000$"
      ],
      "text/plain": [
       "<IPython.core.display.Math object>"
      ]
     },
     "metadata": {},
     "output_type": "display_data"
    },
    {
     "data": {
      "text/latex": [
       "$\\displaystyle \\text{การคำนวณหา 'C' ใหม่ (คอลัมน์ที่ 3 ของ P):}$"
      ],
      "text/plain": [
       "<IPython.core.display.Math object>"
      ]
     },
     "metadata": {},
     "output_type": "display_data"
    },
    {
     "data": {
      "text/latex": [
       "$\\displaystyle = (10000 \\times 0.3) + (10000 \\times 0.2) + (10000 \\times 0.5)$"
      ],
      "text/plain": [
       "<IPython.core.display.Math object>"
      ]
     },
     "metadata": {},
     "output_type": "display_data"
    },
    {
     "data": {
      "text/latex": [
       "$\\displaystyle = 3000 + 2000 + 5000 = 10000$"
      ],
      "text/plain": [
       "<IPython.core.display.Math object>"
      ]
     },
     "metadata": {},
     "output_type": "display_data"
    },
    {
     "data": {
      "text/latex": [
       "$\\displaystyle \\text{----------------------------------------------}$"
      ],
      "text/plain": [
       "<IPython.core.display.Math object>"
      ]
     },
     "metadata": {},
     "output_type": "display_data"
    },
    {
     "name": "stdout",
     "output_type": "stream",
     "text": [
      "  ผลลัพธ์:\n",
      "    A = 10000.00 หน่วย\n",
      "    B = 10000.00 หน่วย\n",
      "    C = 10000.00 หน่วย\n",
      "--- ขั้นตอนที่ 2 ---\n",
      "  ผลลัพธ์:\n",
      "    A = 10000.00 หน่วย\n",
      "    B = 10000.00 หน่วย\n",
      "    C = 10000.00 หน่วย\n",
      "--- ขั้นตอนที่ 3 ---\n",
      "  ผลลัพธ์:\n",
      "    A = 10000.00 หน่วย\n",
      "    B = 10000.00 หน่วย\n",
      "    C = 10000.00 หน่วย\n",
      "--- ขั้นตอนที่ 4 ---\n",
      "  ผลลัพธ์:\n",
      "    A = 10000.00 หน่วย\n",
      "    B = 10000.00 หน่วย\n",
      "    C = 10000.00 หน่วย\n",
      "--- ขั้นตอนที่ 5 ---\n",
      "  ผลลัพธ์:\n",
      "    A = 10000.00 หน่วย\n",
      "    B = 10000.00 หน่วย\n",
      "    C = 10000.00 หน่วย\n",
      "--- ขั้นตอนที่ 6 ---\n",
      "  ผลลัพธ์:\n",
      "    A = 10000.00 หน่วย\n",
      "    B = 10000.00 หน่วย\n",
      "    C = 10000.00 หน่วย\n",
      "--- ขั้นตอนที่ 7 ---\n",
      "  ผลลัพธ์:\n",
      "    A = 10000.00 หน่วย\n",
      "    B = 10000.00 หน่วย\n",
      "    C = 10000.00 หน่วย\n",
      "--- ขั้นตอนที่ 8 ---\n",
      "  ผลลัพธ์:\n",
      "    A = 10000.00 หน่วย\n",
      "    B = 10000.00 หน่วย\n",
      "    C = 10000.00 หน่วย\n",
      "--- ขั้นตอนที่ 9 ---\n",
      "  ผลลัพธ์:\n",
      "    A = 10000.00 หน่วย\n",
      "    B = 10000.00 หน่วย\n",
      "    C = 10000.00 หน่วย\n",
      "--- ขั้นตอนที่ 10 ---\n",
      "  ผลลัพธ์:\n",
      "    A = 10000.00 หน่วย\n",
      "    B = 10000.00 หน่วย\n",
      "    C = 10000.00 หน่วย\n",
      "\n",
      "============================================================\n",
      "### กราฟแสดงการเปลี่ยนแปลง (Transient Plot)\n"
     ]
    },
    {
     "data": {
      "image/png": "[encoded data removed]",
      "text/plain": [
       "<Figure size 1200x700 with 1 Axes>"
      ]
     },
     "metadata": {},
     "output_type": "display_data"
    }
   ],
   "source": [
    "# ==============================================================================\n",
    "# ### 📈 เซลล์ที่ 1: สภาวะการเปลี่ยนแปลง (Transient State) (แสดงผล LaTeX)\n",
    "# ==============================================================================\n",
    "#\n",
    "# คำนวณการเปลี่ยนแปลงส่วนแบ่งตลาดในแต่ละเดือน (Month-by-Month)\n",
    "# โดยแสดงผลสมการและเมทริกซ์ด้วย LaTeX\n",
    "\n",
    "import numpy as np\n",
    "import matplotlib.pyplot as plt\n",
    "import seaborn as sns\n",
    "from IPython.display import display, Math # 👈 **สำคัญ: สำหรับแสดงผล LaTeX**\n",
    "\n",
    "# --- 1. ตั้งค่าพื้นฐาน (Setup) ---\n",
    "sns.set_style(\"whitegrid\")\n",
    "try:\n",
    "    plt.rcParams[\"font.family\"] = \"Tahoma\"\n",
    "except:\n",
    "    print(\"ไม่พบฟอนต์ Tahoma, ใช้ฟอนต์เริ่มต้น\")\n",
    "\n",
    "# --- 💡 ฟังก์ชันช่วยแปลง Array เป็น LaTeX ---\n",
    "def show_latex(latex_string):\n",
    "    \"\"\"Helper to display a LaTeX string.\"\"\"\n",
    "    display(Math(latex_string))\n",
    "\n",
    "def to_b(arr):\n",
    "    \"\"\"\n",
    "    แปลง numpy array (1D หรือ 2D) ให้เป็น string ของ LaTeX bmatrix\n",
    "    ใช้ :g (general format) เพื่อให้แสดงผลทั้งเลข 10000 และ 0.8 ได้สวยงาม\n",
    "    \"\"\"\n",
    "    if arr.ndim == 1:\n",
    "        arr = np.atleast_2d(arr) # แปลง [a, b] ให้เป็น [[a, b]]\n",
    "    \n",
    "    latex = r\"\\begin{bmatrix}\"\n",
    "    for row in arr:\n",
    "        # 'g' format ดีที่สุดสำหรับแสดงผลทั้ง int (10000) และ float (0.8)\n",
    "        latex += \" & \".join([f\"{x:g}\" for x in row])\n",
    "        latex += r\" \\\\ \" # ขึ้นบรรทัดใหม่ใน LaTeX\n",
    "    \n",
    "    latex = latex.rstrip(r\" \\\\ \") # ลบ \\\\ สุดท้าย\n",
    "    latex += r\"\\end{bmatrix}\"\n",
    "    return latex\n",
    "# --- จบฟังก์ชันช่วย ---\n",
    "\n",
    "\n",
    "# ==============================================================================\n",
    "# --- 🔧 ค่าที่กำหนดไว้ (Hard-coded values for new problem) ---\n",
    "# ==============================================================================\n",
    "\n",
    "states = [\"A\", \"B\", \"C\"]\n",
    "initial_counts = np.array([10000, 10000, 10000])\n",
    "# เมทริกซ์การเปลี่ยนสถานะ (P)\n",
    "P = np.array([\n",
    "    [0.5, 0.2, 0.3],  # แถวที่ 0: A\n",
    "    [0.3, 0.5, 0.2],  # แถวที่ 1: B\n",
    "    [0.2, 0.3, 0.5]   # แถวที่ 2: C\n",
    "])\n",
    "# จำนวนขั้นตอน (เดือน/วัน) ที่ต้องการจำลอง\n",
    "n_steps_to_simulate = 10\n",
    "# ==============================================================================\n",
    "\n",
    "\n",
    "print(\"--- เมทริกซ์การเปลี่ยนสถานะ (P) ---\")\n",
    "show_latex(to_b(P))\n",
    "\n",
    "\n",
    "# --- 3. การคำนวณ Transient State ---\n",
    "print(\"\\n\" + \"=\"*60)\n",
    "print(\"### การคำนวณสภาวะการเปลี่ยนแปลง (Transient State)\")\n",
    "print(f\"สถานะเริ่มต้น (ขั้นตอนที่ 0):\")\n",
    "for i, state in enumerate(states):\n",
    "    print(f\"  {state}: {initial_counts[i]} หน่วย\")\n",
    "print(f\"จำลองเหตุการณ์ไปข้างหน้า {n_steps_to_simulate} ขั้นตอน...\\n\")\n",
    "\n",
    "# สร้าง list เพื่อเก็บประวัติการเปลี่ยนแปลง\n",
    "history_transient = [initial_counts]\n",
    "current_v = initial_counts\n",
    "\n",
    "for step in range(1, n_steps_to_simulate + 1):\n",
    "    # คำนวณสถานะถัดไป: v_next = v_current * P\n",
    "    next_v = np.dot(current_v, P)\n",
    "    \n",
    "    print(f\"--- ขั้นตอนที่ {step} ---\")\n",
    "    \n",
    "    # --- ✍️ อธิบายการคูณเมทริกซ์ (แบบไดนามิกสำหรับ 3 สถานะ) ---\n",
    "    if step == 1:\n",
    "        show_latex(r\"\\text{--- 💡 อธิบายการคำนวณ (ขั้นตอนที่ 1) ---}\")\n",
    "        \n",
    "        # สร้างสมการ [v_ปัจจุบัน] x [P] = [v_ถัดไป]\n",
    "        v_curr_str = to_b(current_v)\n",
    "        P_str = to_b(P)\n",
    "        v_next_str = to_b(next_v)\n",
    "        # ❗️<-- แก้ไขแล้ว: ใช้ f-string (ไม่เติม r)\n",
    "        show_latex(f\"{v_curr_str} \\\\times {P_str} = {v_next_str}\")\n",
    "        \n",
    "        show_latex(r\"\\text{หลักการ: แถว x คอลัมน์ (Row x Column)}\")\n",
    "        \n",
    "        # --- วนลูปอธิบายการคำนวณสำหรับทุกสถานะ (A, B, C) ---\n",
    "        for j in range(len(states)): # j คือคอลัมน์ (0=A, 1=B, 2=C)\n",
    "            show_latex(rf\"\\text{{การคำนวณหา '{states[j]}' ใหม่ (คอลัมน์ที่ {j+1} ของ P):}}\")\n",
    "            \n",
    "            s1_parts = []\n",
    "            s2_parts_calc = []\n",
    "            for i in range(len(states)): # i คือแถว\n",
    "                # ❗️<-- แก้ไขแล้ว: ใช้ f-string (ไม่เติม r)\n",
    "                s1_parts.append(f\"({current_v[i]:g} \\\\times {P[i, j]:g})\")\n",
    "                s2_parts_calc.append(rf\"{current_v[i] * P[i, j]:g}\")\n",
    "            \n",
    "            # สมการเชิงสัญลักษณ์ (10000 * 0.5) + (10000 * 0.3) + (10000 * 0.2)\n",
    "            show_latex(f\"= {' + '.join(s1_parts)}\")\n",
    "            # สมการที่คำนวณแล้ว (5000 + 3000 + 2000) = 10000\n",
    "            show_latex(rf\"= {' + '.join(s2_parts_calc)} = {next_v[j]:g}\")\n",
    "\n",
    "        show_latex(r\"\\text{----------------------------------------------}\")\n",
    "    \n",
    "    # --- แสดงผลลัพธ์ (แบบไดนามิก) ---\n",
    "    print(f\"  ผลลัพธ์:\")\n",
    "    for i, state in enumerate(states):\n",
    "        print(f\"    {state} = {next_v[i]:.2f} หน่วย\")\n",
    "        \n",
    "    # อัปเดตค่าสำหรับรอบถัดไป\n",
    "    history_transient.append(next_v)\n",
    "    current_v = next_v\n",
    "\n",
    "# แปลง history เป็น numpy array สำหรับ plot\n",
    "history_transient = np.array(history_transient)\n",
    "\n",
    "# --- 4. การแสดงผลด้วยกราฟ (Visualization) ---\n",
    "print(\"\\n\" + \"=\"*60)\n",
    "print(\"### กราฟแสดงการเปลี่ยนแปลง (Transient Plot)\")\n",
    "\n",
    "plt.figure(figsize=(12, 7))\n",
    "\n",
    "# --- พลอตกราฟ (แบบไดนามิก) ---\n",
    "for i, state in enumerate(states):\n",
    "    plt.plot(history_transient[:, i], label=f\"ส่วนแบ่ง {state}\", marker='o', linestyle='-')\n",
    "\n",
    "plt.title(f\"การเปลี่ยนแปลงส่วนแบ่งตลาด (เริ่มต้น: {initial_counts})\", fontsize=16)\n",
    "plt.xlabel(\"จำนวนขั้นตอน (Steps)\", fontsize=12)\n",
    "plt.ylabel(\"จำนวน/หน่วย (Value)\", fontsize=12)\n",
    "plt.xticks(range(n_steps_to_simulate + 1))\n",
    "plt.legend(fontsize=12)\n",
    "plt.grid(True, which='both', linestyle='--', linewidth=0.5)\n",
    "plt.show()"
   ]
  },
  {
   "cell_type": "code",
   "execution_count": 23,
   "id": "285f1871",
   "metadata": {},
   "outputs": [
    {
     "name": "stdout",
     "output_type": "stream",
     "text": [
      "--- เมทริกซ์การเปลี่ยนสถานะ (P) ---\n"
     ]
    },
    {
     "name": "stderr",
     "output_type": "stream",
     "text": [
      "<>:113: SyntaxWarning: invalid escape sequence '\\p'\n",
      "<>:113: SyntaxWarning: invalid escape sequence '\\p'\n",
      "C:\\Users\\Admin\\AppData\\Local\\Temp\\ipykernel_27964\\2973162306.py:113: SyntaxWarning: invalid escape sequence '\\p'\n",
      "  print(\"\\n--- ตรวจสอบคำตอบ ( $\\pi = \\pi \\cdot P$ ) ---\")\n"
     ]
    },
    {
     "data": {
      "text/latex": [
       "$\\displaystyle \\begin{bmatrix}0.5 & 0.2 & 0.3 \\\\ 0.3 & 0.5 & 0.2 \\\\ 0.2 & 0.3 & 0.5\\end{bmatrix}$"
      ],
      "text/plain": [
       "<IPython.core.display.Math object>"
      ]
     },
     "metadata": {},
     "output_type": "display_data"
    },
    {
     "name": "stdout",
     "output_type": "stream",
     "text": [
      "\n",
      "จำนวนลูกค้ารวมในตลาด: 30000 คน\n"
     ]
    },
    {
     "data": {
      "text/latex": [
       "$\\displaystyle \\text{กำลังค้นหาส่วนแบ่งตลาด } (\\pi) \\text{ ที่ } \\pi = \\pi \\cdot P$"
      ],
      "text/plain": [
       "<IPython.core.display.Math object>"
      ]
     },
     "metadata": {},
     "output_type": "display_data"
    },
    {
     "name": "stdout",
     "output_type": "stream",
     "text": [
      "\n",
      "============================================================\n",
      "### 💡 อธิบายสมการสภาวะคงตัว (Steady State Equation) ###\n"
     ]
    },
    {
     "data": {
      "text/latex": [
       "$\\displaystyle \\text{สมการ } \\pi = \\pi \\cdot P \\text{ หมายถึง 'สถานะในอนาคต' = 'สถานะปัจจุบัน'}$"
      ],
      "text/plain": [
       "<IPython.core.display.Math object>"
      ]
     },
     "metadata": {},
     "output_type": "display_data"
    },
    {
     "data": {
      "text/latex": [
       "$\\displaystyle \\text{ถ้าเราให้ } \\pi = \\begin{bmatrix} π_1 & π_2 & π_3 \\end{bmatrix}$"
      ],
      "text/plain": [
       "<IPython.core.display.Math object>"
      ]
     },
     "metadata": {},
     "output_type": "display_data"
    },
    {
     "data": {
      "text/latex": [
       "$\\displaystyle \\begin{bmatrix} π_1 & π_2 & π_3 \\end{bmatrix} \\times \\begin{bmatrix}0.5 & 0.2 & 0.3 \\\\ 0.3 & 0.5 & 0.2 \\\\ 0.2 & 0.3 & 0.5\\end{bmatrix} = \\begin{bmatrix} π_1 & π_2 & π_3 \\end{bmatrix}$"
      ],
      "text/plain": [
       "<IPython.core.display.Math object>"
      ]
     },
     "metadata": {},
     "output_type": "display_data"
    },
    {
     "data": {
      "text/latex": [
       "$\\displaystyle \\text{ซึ่งสามารถแตกเป็นสมการย่อย (จากการคูณเมทริกซ์ 'แถว x คอลัมน์'):}$"
      ],
      "text/plain": [
       "<IPython.core.display.Math object>"
      ]
     },
     "metadata": {},
     "output_type": "display_data"
    },
    {
     "data": {
      "text/latex": [
       "$\\displaystyle \\text{สมการที่ 1 (คอลัมน์ 'A'):}$"
      ],
      "text/plain": [
       "<IPython.core.display.Math object>"
      ]
     },
     "metadata": {},
     "output_type": "display_data"
    },
    {
     "data": {
      "text/latex": [
       "$\\displaystyle (π_1 \\times 0.5) + (π_2 \\times 0.3) + (π_3 \\times 0.2) = π_1$"
      ],
      "text/plain": [
       "<IPython.core.display.Math object>"
      ]
     },
     "metadata": {},
     "output_type": "display_data"
    },
    {
     "data": {
      "text/latex": [
       "$\\displaystyle \\text{สมการที่ 2 (คอลัมน์ 'B'):}$"
      ],
      "text/plain": [
       "<IPython.core.display.Math object>"
      ]
     },
     "metadata": {},
     "output_type": "display_data"
    },
    {
     "data": {
      "text/latex": [
       "$\\displaystyle (π_1 \\times 0.2) + (π_2 \\times 0.5) + (π_3 \\times 0.3) = π_2$"
      ],
      "text/plain": [
       "<IPython.core.display.Math object>"
      ]
     },
     "metadata": {},
     "output_type": "display_data"
    },
    {
     "data": {
      "text/latex": [
       "$\\displaystyle \\text{สมการที่ 3 (คอลัมน์ 'C'):}$"
      ],
      "text/plain": [
       "<IPython.core.display.Math object>"
      ]
     },
     "metadata": {},
     "output_type": "display_data"
    },
    {
     "data": {
      "text/latex": [
       "$\\displaystyle (π_1 \\times 0.3) + (π_2 \\times 0.2) + (π_3 \\times 0.5) = π_3$"
      ],
      "text/plain": [
       "<IPython.core.display.Math object>"
      ]
     },
     "metadata": {},
     "output_type": "display_data"
    },
    {
     "name": "stdout",
     "output_type": "stream",
     "text": [
      "============================================================\n",
      "\n",
      "--- การคำนวณสัดส่วน (Probabilities) โดยใช้ Eigenvector ---\n",
      "สัดส่วนตลาด π (Probabilities) ในสภาวะคงตัว:\n",
      "  π_A: 0.333333 (หรือ 33.33%)\n",
      "  π_B: 0.333333 (หรือ 33.33%)\n",
      "  π_C: 0.333333 (หรือ 33.33%)\n",
      "\n",
      "============================================================\n",
      "### สรุปจำนวนลูกค้าในสภาวะคงตัว (Steady State)\n",
      "  A: 10000.00 คน\n",
      "  B: 10000.00 คน\n",
      "  C: 10000.00 คน\n",
      "\n",
      "--- ตรวจสอบคำตอบ ( $\\pi = \\pi \\cdot P$ ) ---\n"
     ]
    },
    {
     "data": {
      "text/latex": [
       "$\\displaystyle \\begin{bmatrix} 10000.00 & 10000.00 & 10000.00 \\end{bmatrix} \\times \\begin{bmatrix}0.5 & 0.2 & 0.3 \\\\ 0.3 & 0.5 & 0.2 \\\\ 0.2 & 0.3 & 0.5\\end{bmatrix} = \\begin{bmatrix} 10000.00 & 10000.00 & 10000.00 \\end{bmatrix}$"
      ],
      "text/plain": [
       "<IPython.core.display.Math object>"
      ]
     },
     "metadata": {},
     "output_type": "display_data"
    },
    {
     "data": {
      "text/latex": [
       "$\\displaystyle \\text{(ผลลัพธ์ 2 ฝั่งเท่ากัน แสดงว่าถูกต้อง)}$"
      ],
      "text/plain": [
       "<IPython.core.display.Math object>"
      ]
     },
     "metadata": {},
     "output_type": "display_data"
    }
   ],
   "source": [
    "# ==============================================================================\n",
    "# ### ⚖️ เซลล์ที่ 2: สภาวะคงตัว (Steady State) (แสดงผล LaTeX)\n",
    "# ==============================================================================\n",
    "#\n",
    "# คำนวณหาส่วนแบ่งตลาด \"ในระยะยาว\" หรือ \"จุดสมดุล\"\n",
    "# โดยแสดงผลสมการและเมทริกซ์ด้วย LaTeX\n",
    "\n",
    "import numpy as np\n",
    "from IPython.display import display, Math # 👈 **สำคัญ: สำหรับแสดงผล LaTeX**\n",
    "\n",
    "# --- 💡 ฟังก์ชันช่วยแปลง Array เป็น LaTeX ---\n",
    "def show_latex(latex_string):\n",
    "    \"\"\"Helper to display a LaTeX string.\"\"\"\n",
    "    display(Math(latex_string))\n",
    "\n",
    "def to_b(arr):\n",
    "    \"\"\"\n",
    "    แปลง numpy array (1D หรือ 2D) ให้เป็น string ของ LaTeX bmatrix\n",
    "    ใช้ :g (general format) เพื่อให้แสดงผลทั้งเลข 10000 และ 0.8 ได้สวยงาม\n",
    "    \"\"\"\n",
    "    if arr.ndim == 1:\n",
    "        arr = np.atleast_2d(arr) \n",
    "    \n",
    "    latex = r\"\\begin{bmatrix}\"\n",
    "    for row in arr:\n",
    "        latex += \" & \".join([f\"{x:g}\" for x in row])\n",
    "        latex += r\" \\\\ \" \n",
    "    \n",
    "    latex = latex.rstrip(r\" \\\\ \") \n",
    "    latex += r\"\\end{bmatrix}\"\n",
    "    return latex\n",
    "# --- จบฟังก์ชันช่วย ---\n",
    "\n",
    "\n",
    "# ==============================================================================\n",
    "# --- 🔧 ค่าที่กำหนดไว้ (Hard-coded values for new problem) ---\n",
    "# ==============================================================================\n",
    "states = [\"A\", \"B\", \"C\"]\n",
    "P = np.array([\n",
    "    [0.5, 0.2, 0.3],  # แถวที่ 0: A\n",
    "    [0.3, 0.5, 0.2],  # แถวที่ 1: B\n",
    "    [0.2, 0.3, 0.5]   # แถวที่ 2: C\n",
    "])\n",
    "# ยอดรวม (จาก 10000 + 10000 + 10000)\n",
    "total_customers = 30000\n",
    "# ==============================================================================\n",
    "\n",
    "print(\"--- เมทริกซ์การเปลี่ยนสถานะ (P) ---\")\n",
    "show_latex(to_b(P))\n",
    "print(f\"\\nจำนวนลูกค้ารวมในตลาด: {total_customers} คน\")\n",
    "show_latex(r\"\\text{กำลังค้นหาส่วนแบ่งตลาด } (\\pi) \\text{ ที่ } \\pi = \\pi \\cdot P\")\n",
    "\n",
    "\n",
    "# --- ✍️ อธิบายการคูณเมทริกซ์ในสภาวะคงตัว (แบบไดนามิก) ---\n",
    "print(\"\\n\" + \"=\"*60)\n",
    "print(\"### 💡 อธิบายสมการสภาวะคงตัว (Steady State Equation) ###\")\n",
    "show_latex(r\"\\text{สมการ } \\pi = \\pi \\cdot P \\text{ หมายถึง 'สถานะในอนาคต' = 'สถานะปัจจุบัน'}\")\n",
    "\n",
    "# สร้าง [π_1, π_2, π_3]\n",
    "pi_vars = [f\"\\u03C0_{i+1}\" for i in range(len(states))] # \\u03C0 คือ π\n",
    "pi_str = rf\"\\begin{{bmatrix}} {' & '.join(pi_vars)} \\end{{bmatrix}}\" # เช่น [π_1 & π_2 & π_3]\n",
    "\n",
    "show_latex(rf\"\\text{{ถ้าเราให้ }} \\pi = {pi_str}\")\n",
    "\n",
    "P_str = to_b(P)\n",
    "# ❗️<-- แก้ไขแล้ว: ใช้ f-string (ไม่เติม r)\n",
    "show_latex(f\"{pi_str} \\\\times {P_str} = {pi_str}\")\n",
    "\n",
    "show_latex(r\"\\text{ซึ่งสามารถแตกเป็นสมการย่อย (จากการคูณเมทริกซ์ 'แถว x คอลัมน์'):}\")\n",
    "\n",
    "# --- วนลูปอธิบายสมการสำหรับทุกสถานะ (A, B, C) ---\n",
    "for j in range(len(states)): # j คือคอลัมน์\n",
    "    show_latex(rf\"\\text{{สมการที่ {j+1} (คอลัมน์ '{states[j]}'):}}\")\n",
    "    \n",
    "    calc_parts = []\n",
    "    for i in range(len(states)): # i คือแถว\n",
    "        # ❗️<-- แก้ไขแล้ว: ใช้ f-string (ไม่เติม r)\n",
    "        calc_parts.append(f\"({pi_vars[i]} \\\\times {P[i, j]:g})\") # e.g., (π_1 * 0.5)\n",
    "    \n",
    "    show_latex(f\"{' + '.join(calc_parts)} = {pi_vars[j]}\")\n",
    "print(\"=\"*60)\n",
    "# --- จบส่วนอธิบาย ---\n",
    "\n",
    "\n",
    "# --- 2. การคำนวณ (ใช้วิธี Eigenvector ซึ่งแม่นยำที่สุด) ---\n",
    "print(\"\\n--- การคำนวณสัดส่วน (Probabilities) โดยใช้ Eigenvector ---\")\n",
    "\n",
    "try:\n",
    "    eigenvalues, eigenvectors = np.linalg.eig(P.T)\n",
    "    steady_state_index = np.argmin(np.abs(eigenvalues - 1.0))\n",
    "    pi_vector_unnormalized = eigenvectors[:, steady_state_index]\n",
    "    pi_vector = np.real(pi_vector_unnormalized / np.sum(pi_vector_unnormalized))\n",
    "\n",
    "    print(f\"สัดส่วนตลาด π (Probabilities) ในสภาวะคงตัว:\")\n",
    "    for i, state in enumerate(states):\n",
    "        print(f\"  π_{state}: {pi_vector[i]:.6f} (หรือ {pi_vector[i]*100:.2f}%)\")\n",
    "\n",
    "    # --- 3. สรุปจำนวนลูกค้าในสภาวะคงตัว ---\n",
    "    print(\"\\n\" + \"=\"*60)\n",
    "    print(\"### สรุปจำนวนลูกค้าในสภาวะคงตัว (Steady State)\") \n",
    "\n",
    "    check_vector_list = []\n",
    "    for i, state in enumerate(states):\n",
    "        value = pi_vector[i] * total_customers\n",
    "        check_vector_list.append(value)\n",
    "        print(f\"  {state}: {value:.2f} คน\")\n",
    "    \n",
    "    check_vector = np.array(check_vector_list)\n",
    "\n",
    "    # --- 4. ตรวจสอบคำตอบด้วย LaTeX (แบบไดนามิก) ---\n",
    "    result_vector = np.dot(check_vector, P)\n",
    "\n",
    "    print(\"\\n--- ตรวจสอบคำตอบ ( $\\pi = \\pi \\cdot P$ ) ---\")\n",
    "    \n",
    "    # สร้าง [val1 & val2 & val3] ด้วย .2f\n",
    "    v_left_str = r\"\\begin{bmatrix} \"\n",
    "    v_left_str += \" & \".join([f\"{x:.2f}\" for x in check_vector])\n",
    "    v_left_str += r\" \\end{bmatrix}\"\n",
    "\n",
    "    v_right_str = r\"\\begin{bmatrix} \"\n",
    "    v_right_str += \" & \".join([f\"{x:.2f}\" for x in result_vector])\n",
    "    v_right_str += r\" \\end{bmatrix}\"\n",
    "    \n",
    "    # ❗️<-- แก้ไขแล้ว: ใช้ f-string (ไม่เติม r)\n",
    "    show_latex(f\"{v_left_str} \\\\times {P_str} = {v_right_str}\")\n",
    "    \n",
    "    if np.allclose(check_vector, result_vector):\n",
    "        show_latex(r\"\\text{(ผลลัพธ์ 2 ฝั่งเท่ากัน แสดงว่าถูกต้อง)}\")\n",
    "    else:\n",
    "        show_latex(r\"\\text{(ผลลัพธ์ 2 ฝั่งอาจต่างกันเล็กน้อยจากการปัดเศษ)}\")\n",
    "\n",
    "except np.linalg.LinAlgError:\n",
    "    print(\"!!! ข้อผิดพลาด: ไม่สามารถคำนวณ Eigenvector ได้ (เมทริกซ์อาจมีปัญหา) !!!\")"
   ]
  }
 ],
 "metadata": {
  "kernelspec": {
   "display_name": "Python 3",
   "language": "python",
   "name": "python3"
  },
  "language_info": {
   "codemirror_mode": {
    "name": "ipython",
    "version": 3
   },
   "file_extension": ".py",
   "mimetype": "text/x-python",
   "name": "python",
   "nbconvert_exporter": "python",
   "pygments_lexer": "ipython3",
   "version": "3.13.5"
  }
 },
 "nbformat": 4,
 "nbformat_minor": 5
}
