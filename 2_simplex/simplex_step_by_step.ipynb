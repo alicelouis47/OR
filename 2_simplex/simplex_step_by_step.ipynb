{
 "cells": [
  {
   "cell_type": "markdown",
   "id": "2611c291",
   "metadata": {},
   "source": [
    "\n",
    "# Simplex Linear Programming — Step-by-Step (Python)\n",
    "\n",
    "This notebook implements the Simplex algorithm (with **Two-Phase** support for `>=` and `=` constraints) and displays each iteration **step-by-step** with readable tableaus.  \n",
    "It can solve problems in the form:\n",
    "\n",
    "- Objective: **maximize** or **minimize** a linear function `c^T x`\n",
    "- Subject to linear constraints of type `<=`, `>=`, or `=`\n",
    "- Decision variables `x >= 0`\n",
    "\n",
    "You can define your own problems by filling in `c`, `A`, `b`, and the constraint types, then call `solve()` to see every step, including entering/leaving variables, pivots, and final solution.\n"
   ]
  },
  {
   "cell_type": "markdown",
   "id": "90d6904a",
   "metadata": {},
   "source": [
    "\n",
    "## How to use\n",
    "\n",
    "1. Edit the problem definition in the **\"🧩 Define your LP problem\"** cell:\n",
    "   - `sense`: `\"max\"` or `\"min\"`  \n",
    "   - `c`: coefficients of the objective function (list of length `n`)  \n",
    "   - `A`: constraint matrix (list of `m` rows each with `n` numbers)  \n",
    "   - `b`: right-hand sides (length `m`)  \n",
    "   - `cons`: list of the same length `m` with constraint types from `{ \"<=\", \">=\", \"=\" }`\n",
    "\n",
    "2. Run the **Solver** cell to get a **step-by-step** trace and the final answer.\n",
    "\n",
    "3. Try the ready-made examples at the bottom (including a two-phase case and infeasible/unbounded demonstrations).\n"
   ]
  },
  {
   "cell_type": "markdown",
   "id": "e09a4245",
   "metadata": {},
   "source": [
    "two-phase"
   ]
  },
  {
   "cell_type": "markdown",
   "id": "fc47fabe",
   "metadata": {},
   "source": [
    "## Code"
   ]
  },
  {
   "cell_type": "code",
   "execution_count": 1,
   "id": "051b1cfa",
   "metadata": {},
   "outputs": [],
   "source": [
    "from typing import List, Dict, Tuple, Optional\n",
    "import numpy as np\n",
    "import pandas as pd\n",
    "\n",
    "np.set_printoptions(suppress=True)\n",
    "\n",
    "class SimplexResult:\n",
    "    def __init__(self, status: str, objective: float, solution: Dict[str, float], iterations: int, steps: List[str]):\n",
    "        self.status = status              # 'optimal', 'unbounded', 'infeasible'\n",
    "        self.objective = objective        # optimal objective (if any)\n",
    "        self.solution = solution          # variable -> value at termination\n",
    "        self.iterations = iterations      # number of pivots performed\n",
    "        self.steps = steps                # textual log of steps\n",
    "\n",
    "def _format_df(tableau: np.ndarray, row_names: List[str], col_names: List[str]) -> pd.DataFrame:\n",
    "    df = pd.DataFrame(tableau, columns=col_names, index=row_names)\n",
    "    # round for readability\n",
    "    return df.round(6)\n",
    "\n",
    "class TwoPhaseSimplex:\n",
    "    def __init__(self, sense: str, c: List[float], A: List[List[float]], b: List[float], cons: List[str], tol: float=1e-9, bland: bool=True):\n",
    "        \"\"\"\n",
    "        sense: 'max' or 'min'\n",
    "        c: objective coefficients (length n)\n",
    "        A: constraint matrix (m x n)\n",
    "        b: RHS (length m)\n",
    "        cons: constraint sense for each row: '<=', '>=', or '='\n",
    "        tol: tolerance for numerical comparisons\n",
    "        bland: use Bland's rule to avoid cycling (tie-breaking by lowest-index variable)\n",
    "        \"\"\"\n",
    "        self.sense = sense.lower()\n",
    "        assert self.sense in ('max', 'min')\n",
    "        self.c = np.array(c, dtype=float)\n",
    "        self.A = np.array(A, dtype=float)\n",
    "        self.b = np.array(b, dtype=float)\n",
    "        self.cons = cons\n",
    "        self.tol = float(tol)\n",
    "        self.bland = bland\n",
    "\n",
    "        m, n = self.A.shape\n",
    "        assert len(self.c) == n, \"c and A have incompatible sizes\"\n",
    "        assert len(self.b) == m and len(self.cons) == m, \"b/cons length must match number of constraints\"\n",
    "\n",
    "        # If minimization, convert to maximization by negating c.\n",
    "        self.orig_c = self.c.copy()\n",
    "        if self.sense == 'min':\n",
    "            self.c = -self.c\n",
    "            self.sense = 'max'  # internal: always treat as maximization\n",
    "\n",
    "        # Normalize constraints so that b >= 0 by multiplying by -1 if needed\n",
    "        self.An = self.A.copy()\n",
    "        self.bn = self.b.copy()\n",
    "        self.cons_norm = list(self.cons)\n",
    "        for i in range(m):\n",
    "            if self.bn[i] < -self.tol:\n",
    "                # multiply row by -1 and flip sense\n",
    "                self.An[i, :] *= -1\n",
    "                self.bn[i] *= -1\n",
    "                if self.cons_norm[i] == '<=':\n",
    "                    self.cons_norm[i] = '>='\n",
    "                elif self.cons_norm[i] == '>=':\n",
    "                    self.cons_norm[i] = '<='\n",
    "                # '=' stays '='\n",
    "\n",
    "        self.m = m\n",
    "        self.n = n\n",
    "\n",
    "        # Build full column structure: [x vars] + [slacks/surplus] + [artificials]\n",
    "        self.var_names: List[str] = [f\"x{j+1}\" for j in range(n)]\n",
    "        self.slack_idx = []\n",
    "        self.surplus_idx = []\n",
    "        self.artificial_idx = []\n",
    "        self.basic_vars = [-1]*m     # column index of basic variable in each row\n",
    "\n",
    "        cols = []\n",
    "        # start with original variables\n",
    "        cols.extend([self.An[:, j] for j in range(n)])\n",
    "\n",
    "        # Add slack/surplus/artificials per row\n",
    "        for i in range(m):\n",
    "            sense = self.cons_norm[i]\n",
    "            col_slack = np.zeros(m)\n",
    "            col_surplus = np.zeros(m)\n",
    "            col_art = np.zeros(m)\n",
    "            if sense == '<=':\n",
    "                # add slack +1\n",
    "                col_slack[i] = 1.0\n",
    "                self.slack_idx.append(len(self.var_names))\n",
    "                self.var_names.append(f\"s{i+1}\")\n",
    "                cols.append(col_slack)\n",
    "                # slack is initial basic var\n",
    "                self.basic_vars[i] = self.var_names.index(f\"s{i+1}\")\n",
    "            elif sense == '>=':\n",
    "                # add surplus -1 and artificial +1\n",
    "                col_surplus[i] = -1.0\n",
    "                self.surplus_idx.append(len(self.var_names))\n",
    "                self.var_names.append(f\"t{i+1}\")\n",
    "                cols.append(col_surplus)\n",
    "                col_art[i] = 1.0\n",
    "                self.artificial_idx.append(len(self.var_names))\n",
    "                self.var_names.append(f\"a{i+1}\")\n",
    "                cols.append(col_art)\n",
    "                # artificial is initial basic var\n",
    "                self.basic_vars[i] = self.var_names.index(f\"a{i+1}\")\n",
    "            elif sense == '=':\n",
    "                # artificial +1\n",
    "                col_art[i] = 1.0\n",
    "                self.artificial_idx.append(len(self.var_names))\n",
    "                self.var_names.append(f\"a{i+1}\")\n",
    "                cols.append(col_art)\n",
    "                # artificial is initial basic var\n",
    "                self.basic_vars[i] = self.var_names.index(f\"a{i+1}\")\n",
    "            else:\n",
    "                raise ValueError(\"Constraint sense must be one of '<=', '>=', '='\")\n",
    "\n",
    "        self.A_full = np.column_stack(cols)  # shape m x total_vars\n",
    "        self.total_vars = self.A_full.shape[1]\n",
    "\n",
    "        # Vector of costs for original objective across all current variables (x, slack/surplus 0, artificial 0)\n",
    "        self.c_full = np.zeros(self.total_vars)\n",
    "        self.c_full[:self.n] = self.c  # only original x have cost\n",
    "\n",
    "        # Phase I costs: 0 for non-artificial, -1 for artificial (maximize -sum(a))\n",
    "        self.c_phase1 = np.zeros(self.total_vars)\n",
    "        for idx in self.artificial_idx:\n",
    "            self.c_phase1[idx] = -1.0\n",
    "\n",
    "        # Build initial tableau for Phase I as [A | b] with last row Cj - Zj\n",
    "        self.tableau = np.zeros((self.m + 1, self.total_vars + 1))\n",
    "        self.tableau[:self.m, :self.total_vars] = self.A_full\n",
    "        self.tableau[:self.m, -1] = self.bn\n",
    "\n",
    "        # Build Phase I objective row: C - Z with basic = artificials where present\n",
    "        # Start with C = c_phase1\n",
    "        self.tableau[-1, :self.total_vars] = self.c_phase1.copy()\n",
    "        self.tableau[-1, -1] = 0.0\n",
    "        # Subtract sum(c_B * row) to form C - Z (note: c_B for slack-only rows is 0)\n",
    "        for i in range(self.m):\n",
    "            bcol = self.basic_vars[i]\n",
    "            if bcol in self.artificial_idx:\n",
    "                c_Bi = self.c_phase1[bcol]  # = -1\n",
    "                # C - Z := C - c_Bi * row_i\n",
    "                # Since c_Bi = -1, this is C - (-1)*row = C + row\n",
    "                self.tableau[-1, :] -= c_Bi * self.tableau[i, :]\n",
    "\n",
    "        self.steps = []  # log strings\n",
    "        self.iterations = 0\n",
    "\n",
    "    def _current_objective_value(self, row: Optional[np.ndarray]=None) -> float:\n",
    "        if row is None:\n",
    "            row = self.tableau[-1, :]\n",
    "        # C - Z tableau stores RHS at bottom as -Z (because RHS: 0 - c_B^T b = -Z)\n",
    "        return -row[-1]\n",
    "\n",
    "    def _choose_entering(self, phase: int) -> Optional[int]:\n",
    "        # Choose entering column: largest positive (C - Z) coefficient\n",
    "        obj_row = self.tableau[-1, :-1]\n",
    "        candidates = np.where(obj_row > self.tol)[0]\n",
    "        if candidates.size == 0:\n",
    "            return None\n",
    "        if self.bland:\n",
    "            return int(candidates.min())\n",
    "        # Otherwise pick argmax\n",
    "        return int(candidates[np.argmax(obj_row[candidates])])\n",
    "\n",
    "    def _choose_leaving(self, enter_col: int) -> Optional[int]:\n",
    "        col = self.tableau[:self.m, enter_col]\n",
    "        rhs = self.tableau[:self.m, -1]\n",
    "        mask = col > self.tol\n",
    "        if not mask.any():\n",
    "            return None  # unbounded\n",
    "        ratios = np.where(mask, rhs / col, np.inf)\n",
    "        # Tie-break with Bland: pick smallest row index among min ratios\n",
    "        min_val = ratios[mask].min()\n",
    "        candidate_rows = np.where(np.isclose(ratios, min_val, atol=1e-12))[0]\n",
    "        return int(candidate_rows.min())\n",
    "\n",
    "    def _pivot(self, row: int, col: int):\n",
    "        \"\"\"\n",
    "        Performs a pivot operation on the tableau.\n",
    "        The pivot is at the intersection of `row` and `col`.\n",
    "        \"\"\"\n",
    "        pivot_element = self.tableau[row, col]\n",
    "        # Log the row operation for the pivot row\n",
    "        self.steps.append(\n",
    "            f\"   Row R{row+1} divided by pivot element {pivot_element:.6f} to make it 1.\"\n",
    "        )\n",
    "        self.tableau[row, :] = self.tableau[row, :] / pivot_element\n",
    "\n",
    "        # Eliminate other row entries\n",
    "        for r in range(self.m + 1):\n",
    "            if r == row:\n",
    "                continue\n",
    "            factor = self.tableau[r, col]\n",
    "            if abs(factor) > self.tol:\n",
    "                # Log the row operation for non-pivot rows\n",
    "                self.steps.append(\n",
    "                    f\"   Row R{r+1} updated: R{r+1} - ({factor:.6f}) * R{row+1}\"\n",
    "                )\n",
    "                self.tableau[r, :] -= factor * self.tableau[row, :]\n",
    "\n",
    "        # Update the basic variable for the pivoted row\n",
    "        self.basic_vars[row] = col\n",
    "\n",
    "    def _log_tableau(self, title: str):\n",
    "        row_names = [self.var_names[self.basic_vars[i]] if self.basic_vars[i] >= 0 else f\"row{i+1}\" for i in range(self.m)] + [\"C - Z\"]\n",
    "        col_names = self.var_names + [\"RHS\"]\n",
    "        df = _format_df(self.tableau, row_names, col_names)\n",
    "        # Store a tuple: (title, DataFrame)\n",
    "        self.steps.append((title, df))\n",
    "\n",
    "\n",
    "    def _phase(self, phase_num: int, cvec: np.ndarray, drop_artificial: bool=False) -> Tuple[str, float]:\n",
    "        # Reset bottom row to C - Z for the given cost vector cvec.\n",
    "        self.tableau[-1, :] = 0.0\n",
    "        self.tableau[-1, :self.total_vars] = cvec.copy()\n",
    "        for i in range(self.m):\n",
    "            bcol = self.basic_vars[i]\n",
    "            if bcol >= 0:\n",
    "                self.tableau[-1, :] -= cvec[bcol] * self.tableau[i, :]\n",
    "\n",
    "        self._log_tableau(f\"Phase {phase_num} — Initial C - Z row\")        \n",
    "\n",
    "        while True:\n",
    "            enter = self._choose_entering(phase_num)\n",
    "            if enter is None:\n",
    "                # Optimal for this phase\n",
    "                z = self._current_objective_value()\n",
    "                self._log_tableau(f\"Phase {phase_num} — Optimal (no positive C-Z). Objective = {z:.6f}\")\n",
    "                return (\"optimal\", z)\n",
    "\n",
    "            leave = self._choose_leaving(enter)\n",
    "            if leave is None:\n",
    "                self._log_tableau(f\"Phase {phase_num} — Unbounded in entering {self.var_names[enter]}\")\n",
    "                return (\"unbounded\", np.inf)\n",
    "\n",
    "            self.iterations += 1\n",
    "            self.steps.append(f\"Iteration {self.iterations} (Phase {phase_num}): Enter = {self.var_names[enter]}, Leave = {self.var_names[self.basic_vars[leave]]}\")\n",
    "            self._pivot(leave, enter)\n",
    "            self._log_tableau(f\"After pivot #{self.iterations}\")\n",
    "\n",
    "    def solve(self, show_steps: bool=True) -> SimplexResult:\n",
    "        # Phase I (only if there are artificials)\n",
    "        if len(self.artificial_idx) > 0:\n",
    "            status1, z1 = self._phase(1, self.c_phase1)\n",
    "            if status1 != \"optimal\" or z1 < -self.tol:\n",
    "                # If unbounded in phase I or objective < 0 (shouldn't happen with -sum(a)), report infeasible\n",
    "                return SimplexResult(\"infeasible\", float(\"nan\"), {}, self.iterations, self.steps)\n",
    "            # Check feasibility: z1 should be 0 (within tol)\n",
    "            if abs(z1) > 1e-7:\n",
    "                self.steps.append(f\"Phase 1 objective is {z1:.6f} > 0 → Infeasible.\")\n",
    "                return SimplexResult(\"infeasible\", float(\"nan\"), {}, self.iterations, self.steps)\n",
    "\n",
    "            # Remove artificial columns; but first try to pivot out any artificial still basic\n",
    "            for i in range(self.m):\n",
    "                bcol = self.basic_vars[i]\n",
    "                if bcol in self.artificial_idx:\n",
    "                    # Try to pivot to a non-artificial column with non-zero coeff\n",
    "                    for j in range(self.total_vars):\n",
    "                        if j in self.artificial_idx:\n",
    "                            continue\n",
    "                        if abs(self.tableau[i, j]) > self.tol:\n",
    "                            self._pivot(i, j)\n",
    "                            break\n",
    "                    else:\n",
    "                        # Entire row may be redundant (zero row with RHS 0). Keep but it's okay to proceed.\n",
    "                        pass\n",
    "\n",
    "            # Now drop artificial columns from tableau & names\n",
    "            keep_cols = [j for j in range(self.total_vars) if j not in self.artificial_idx]\n",
    "            # Rebuild structures\n",
    "            self.A_full = self.A_full[:, keep_cols]\n",
    "            self.var_names = [self.var_names[j] for j in keep_cols]\n",
    "            self.total_vars = len(keep_cols)\n",
    "            self.c_full = np.zeros(self.total_vars)\n",
    "            self.c_full[:self.n] = self.c[:self.n]  # original costs for x vars\n",
    "            # Slice tableau\n",
    "            self.tableau = np.column_stack([self.tableau[:, keep_cols], self.tableau[:, -1]])\n",
    "            # Update basic var indices to new column indexing\n",
    "            old_to_new = {old: new for new, old in enumerate(keep_cols)}\n",
    "            for i in range(self.m):\n",
    "                if self.basic_vars[i] in old_to_new:\n",
    "                    self.basic_vars[i] = old_to_new[self.basic_vars[i]]\n",
    "                else:\n",
    "                    # If a basic var got removed (shouldn't after pivoting), mark as -1\n",
    "                    self.basic_vars[i] = -1\n",
    "\n",
    "        # Phase II (optimize original objective)\n",
    "        status2, z2 = self._phase(2, self.c_full)\n",
    "        if status2 == \"unbounded\":\n",
    "            return SimplexResult(\"unbounded\", float(\"inf\"), {}, self.iterations, self.steps)\n",
    "\n",
    "        # Extract solution: basic RHS values, nonbasic 0\n",
    "        sol = {name: 0.0 for name in self.var_names}\n",
    "        for i in range(self.m):\n",
    "            bcol = self.basic_vars[i]\n",
    "            if bcol >= 0:\n",
    "                sol[self.var_names[bcol]] = self.tableau[i, -1]\n",
    "\n",
    "        # Report only original decision variables x1..xn\n",
    "        x_solution = {f\"x{j+1}\": sol.get(f\"x{j+1}\", 0.0) for j in range(self.n)}\n",
    "        objective_value = z2  # since we used max internally\n",
    "\n",
    "        # If original was 'min', flip sign back\n",
    "        if (self.orig_c != self.c[:self.n]).any():\n",
    "            # minimization: objective_value_max = z2 = -min_value\n",
    "            objective_value = -z2\n",
    "\n",
    "        return SimplexResult(\"optimal\", objective_value, x_solution, self.iterations, self.steps)\n"
   ]
  },
  {
   "cell_type": "markdown",
   "id": "aaef5bf1",
   "metadata": {},
   "source": [
    "BigM"
   ]
  },
  {
   "cell_type": "code",
   "execution_count": 2,
   "id": "b701b0c2",
   "metadata": {},
   "outputs": [],
   "source": [
    "from typing import List, Dict, Tuple, Optional\n",
    "import numpy as np\n",
    "import pandas as pd\n",
    "\n",
    "np.set_printoptions(suppress=True)\n",
    "\n",
    "class SimplexResult:\n",
    "    def __init__(self, status: str, objective: float, solution: Dict[str, float], iterations: int, steps: List[str]):\n",
    "        self.status = status                # 'optimal', 'unbounded', 'infeasible'\n",
    "        self.objective = objective          # optimal objective (if any)\n",
    "        self.solution = solution            # variable -> value at termination\n",
    "        self.iterations = iterations        # number of pivots performed\n",
    "        self.steps = steps                  # textual log of steps\n",
    "\n",
    "def _format_df(tableau: np.ndarray, row_names: List[str], col_names: List[str]) -> pd.DataFrame:\n",
    "    df = pd.DataFrame(tableau, columns=col_names, index=row_names)\n",
    "    # round for readability\n",
    "    return df.round(6)\n",
    "\n",
    "class BigMSimplex:\n",
    "    def __init__(self, sense: str, c: List[float], A: List[List[float]], b: List[float], cons: List[str], M: float=1e6, tol: float=1e-9, bland: bool=True):\n",
    "        self.sense = sense.lower()\n",
    "        assert self.sense in ('max', 'min')\n",
    "        self.c = np.array(c, dtype=float)\n",
    "        self.A = np.array(A, dtype=float)\n",
    "        self.b = np.array(b, dtype=float)\n",
    "        self.cons = cons\n",
    "        self.M = float(M)\n",
    "        self.tol = float(tol)\n",
    "        self.bland = bland\n",
    "\n",
    "        m, n = self.A.shape\n",
    "        self.m = m\n",
    "        self.n = n\n",
    "\n",
    "        # Normalize constraints so that b >= 0\n",
    "        self.An = self.A.copy()\n",
    "        self.bn = self.b.copy()\n",
    "        self.cons_norm = list(self.cons)\n",
    "        for i in range(m):\n",
    "            if self.bn[i] < -self.tol:\n",
    "                self.An[i, :] *= -1\n",
    "                self.bn[i] *= -1\n",
    "                if self.cons_norm[i] == '<=':\n",
    "                    self.cons_norm[i] = '>='\n",
    "                elif self.cons_norm[i] == '>=':\n",
    "                    self.cons_norm[i] = '<='\n",
    "\n",
    "        # Build full column structure\n",
    "        self.var_names: List[str] = [f\"x{j+1}\" for j in range(n)]\n",
    "        self.artificial_idx = []\n",
    "        self.basic_vars = [-1]*m\n",
    "\n",
    "        cols = []\n",
    "        c_full_list = []\n",
    "        for j in range(n):\n",
    "            cols.append(self.An[:, j])\n",
    "            c_full_list.append(self.c[j])\n",
    "\n",
    "        for i in range(m):\n",
    "            sense = self.cons_norm[i]\n",
    "            if sense == '<=':\n",
    "                col_slack = np.zeros(m)\n",
    "                col_slack[i] = 1.0\n",
    "                cols.append(col_slack)\n",
    "                self.var_names.append(f\"s{i+1}\")\n",
    "                c_full_list.append(0.0)\n",
    "                self.basic_vars[i] = self.var_names.index(f\"s{i+1}\")\n",
    "            elif sense == '>=':\n",
    "                col_surplus = np.zeros(m)\n",
    "                col_surplus[i] = -1.0\n",
    "                cols.append(col_surplus)\n",
    "                self.var_names.append(f\"t{i+1}\")\n",
    "                c_full_list.append(0.0)\n",
    "                \n",
    "                col_art = np.zeros(m)\n",
    "                col_art[i] = 1.0\n",
    "                cols.append(col_art)\n",
    "                self.var_names.append(f\"a{i+1}\")\n",
    "                self.artificial_idx.append(len(c_full_list))\n",
    "                c_full_list.append(-self.M if self.sense == 'max' else self.M)\n",
    "                self.basic_vars[i] = self.var_names.index(f\"a{i+1}\")\n",
    "            elif sense == '=':\n",
    "                col_art = np.zeros(m)\n",
    "                col_art[i] = 1.0\n",
    "                cols.append(col_art)\n",
    "                self.var_names.append(f\"a{i+1}\")\n",
    "                self.artificial_idx.append(len(c_full_list))\n",
    "                c_full_list.append(-self.M if self.sense == 'max' else self.M)\n",
    "                self.basic_vars[i] = self.var_names.index(f\"a{i+1}\")\n",
    "            else:\n",
    "                raise ValueError(\"Constraint sense must be one of '<=', '>=', '='\")\n",
    "\n",
    "        self.A_full = np.column_stack(cols)\n",
    "        self.total_vars = self.A_full.shape[1]\n",
    "\n",
    "        # Final C vector for the tableau, converted to maximization\n",
    "        self.c_full = np.array(c_full_list, dtype=float)\n",
    "        if self.sense == 'min':\n",
    "            self.c_full = -self.c_full\n",
    "            self.orig_sense = 'min'\n",
    "        else:\n",
    "            self.orig_sense = 'max'\n",
    "\n",
    "        # Build initial tableau\n",
    "        self.tableau = np.zeros((self.m + 1, self.total_vars + 1))\n",
    "        self.tableau[:self.m, :self.total_vars] = self.A_full\n",
    "        self.tableau[:self.m, -1] = self.bn\n",
    "\n",
    "        # Build initial C - Z row\n",
    "        self.tableau[-1, :self.total_vars] = self.c_full.copy()\n",
    "        for i in range(self.m):\n",
    "            bcol = self.basic_vars[i]\n",
    "            if bcol >= 0:\n",
    "                self.tableau[-1, :] -= self.c_full[bcol] * self.tableau[i, :]\n",
    "\n",
    "        self.steps = []\n",
    "        self.iterations = 0\n",
    "\n",
    "    def _current_objective_value(self) -> float:\n",
    "        return -self.tableau[-1, -1]\n",
    "\n",
    "    def _choose_entering(self) -> Optional[int]:\n",
    "        obj_row = self.tableau[-1, :-1]\n",
    "        candidates = np.where(obj_row > self.tol)[0]\n",
    "        if candidates.size == 0:\n",
    "            return None\n",
    "        if self.bland:\n",
    "            return int(candidates.min())\n",
    "        return int(candidates[np.argmax(obj_row[candidates])])\n",
    "\n",
    "    def _choose_leaving(self, enter_col: int) -> Optional[int]:\n",
    "        col = self.tableau[:self.m, enter_col]\n",
    "        rhs = self.tableau[:self.m, -1]\n",
    "        mask = col > self.tol\n",
    "        if not mask.any():\n",
    "            return None\n",
    "        ratios = np.where(mask, rhs / col, np.inf)\n",
    "        min_val = ratios[mask].min()\n",
    "        candidate_rows = np.where(np.isclose(ratios, min_val, atol=1e-12))[0]\n",
    "        return int(candidate_rows.min())\n",
    "\n",
    "    def _pivot(self, row: int, col: int):\n",
    "        \"\"\"\n",
    "        Performs a pivot operation on the tableau.\n",
    "        The pivot is at the intersection of `row` and `col`.\n",
    "        \"\"\"\n",
    "        pivot_element = self.tableau[row, col]\n",
    "        # Log the row operation for the pivot row\n",
    "        self.steps.append(\n",
    "            f\"   Row R{row+1} divided by pivot element {pivot_element:.6f} to make it 1.\"\n",
    "        )\n",
    "        self.tableau[row, :] = self.tableau[row, :] / pivot_element\n",
    "\n",
    "        # Eliminate other row entries\n",
    "        for r in range(self.m + 1):\n",
    "            if r == row:\n",
    "                continue\n",
    "            factor = self.tableau[r, col]\n",
    "            if abs(factor) > self.tol:\n",
    "                # Log the row operation for non-pivot rows\n",
    "                self.steps.append(\n",
    "                    f\"   Row R{r+1} updated: R{r+1} - ({factor:.6f}) * R{row+1}\"\n",
    "                )\n",
    "                self.tableau[r, :] -= factor * self.tableau[row, :]\n",
    "\n",
    "        # Update the basic variable for the pivoted row\n",
    "        self.basic_vars[row] = col\n",
    "\n",
    "    def _log_tableau(self, title: str):\n",
    "        row_names = [self.var_names[self.basic_vars[i]] if self.basic_vars[i] >= 0 else f\"row{i+1}\" for i in range(self.m)] + [\"C - Z\"]\n",
    "        col_names = self.var_names + [\"RHS\"]\n",
    "        df = _format_df(self.tableau, row_names, col_names)\n",
    "        self.steps.append((title, df))\n",
    "\n",
    "    def solve(self, show_steps: bool=True) -> SimplexResult:\n",
    "        self._log_tableau(\"Initial Tableau (Big M Method)\")\n",
    "\n",
    "        while True:\n",
    "            enter = self._choose_entering()\n",
    "            if enter is None:\n",
    "                break\n",
    "            leave = self._choose_leaving(enter)\n",
    "            if leave is None:\n",
    "                return SimplexResult(\"unbounded\", float(\"inf\"), {}, self.iterations, self.steps)\n",
    "            \n",
    "            self.iterations += 1\n",
    "            self.steps.append(f\"Iteration {self.iterations}: Enter = {self.var_names[enter]}, Leave = {self.var_names[self.basic_vars[leave]]}\")\n",
    "            self._pivot(leave, enter)\n",
    "            self._log_tableau(f\"After pivot #{self.iterations}\")\n",
    "\n",
    "        # Final checks\n",
    "        for i in range(self.m):\n",
    "            bcol = self.basic_vars[i]\n",
    "            if bcol in self.artificial_idx:\n",
    "                if self.tableau[i, -1] > self.tol:\n",
    "                    self.steps.append(\"Final solution contains an artificial variable with a positive value. Infeasible.\")\n",
    "                    return SimplexResult(\"infeasible\", float(\"nan\"), {}, self.iterations, self.steps)\n",
    "\n",
    "        # Extract solution\n",
    "        sol = {name: 0.0 for name in self.var_names}\n",
    "        for i in range(self.m):\n",
    "            bcol = self.basic_vars[i]\n",
    "            if bcol >= 0:\n",
    "                sol[self.var_names[bcol]] = self.tableau[i, -1]\n",
    "\n",
    "        x_solution = {f\"x{j+1}\": sol.get(f\"x{j+1}\", 0.0) for j in range(self.n)}\n",
    "        objective_value = self._current_objective_value()\n",
    "\n",
    "        if self.orig_sense == 'min':\n",
    "            objective_value = -objective_value\n",
    "\n",
    "        return SimplexResult(\"optimal\", objective_value, x_solution, self.iterations, self.steps)\n"
   ]
  },
  {
   "cell_type": "code",
   "execution_count": 3,
   "id": "6c8b7f66",
   "metadata": {},
   "outputs": [],
   "source": [
    "def run_and_show(sense, c, A, b, cons, Mode, M):\n",
    "    if Mode == 'BigM':\n",
    "        solver = BigMSimplex(sense=sense, c=c, A=A, b=b, cons=cons, M=M, bland=True)\n",
    "    else:\n",
    "        solver = TwoPhaseSimplex(sense=sense, c=c, A=A, b=b, cons=cons, bland=True)\n",
    "    result = solver.solve(show_steps=True)\n",
    "    print(\"\\n=== Mode ===\")\n",
    "    print(\"Mode:\", Mode)\n",
    "\n",
    "    from IPython.display import Markdown, display\n",
    "    # Show step logs\n",
    "    for step in result.steps:\n",
    "        if isinstance(step, tuple):\n",
    "            title, df = step\n",
    "            display(Markdown(f\"### {title}\"))\n",
    "            display(df)\n",
    "        else:\n",
    "            display(Markdown(step))\n",
    "\n",
    "\n",
    "    print(\"\\n=== RESULT ===\")\n",
    "    print(\"Status:\", result.status)\n",
    "    print(\"Objective value:\", result.objective)\n",
    "    print(\"Solution:\", result.solution)\n",
    "    print(\"Iterations:\", result.iterations)\n"
   ]
  },
  {
   "cell_type": "markdown",
   "id": "ecd85060",
   "metadata": {},
   "source": [
    "## 🧩 Define your LP problem"
   ]
  },
  {
   "cell_type": "markdown",
   "id": "5f55c75d",
   "metadata": {},
   "source": [
    "### twoPhase"
   ]
  },
  {
   "cell_type": "code",
   "execution_count": 4,
   "id": "e95556ef",
   "metadata": {},
   "outputs": [
    {
     "name": "stdout",
     "output_type": "stream",
     "text": [
      "\n",
      "=== Mode ===\n",
      "Mode: TwoPhase\n"
     ]
    },
    {
     "data": {
      "text/markdown": [
       "### Phase 1 — Initial C - Z row"
      ],
      "text/plain": [
       "<IPython.core.display.Markdown object>"
      ]
     },
     "metadata": {},
     "output_type": "display_data"
    },
    {
     "data": {
      "text/html": [
       "<div>\n",
       "<style scoped>\n",
       "    .dataframe tbody tr th:only-of-type {\n",
       "        vertical-align: middle;\n",
       "    }\n",
       "\n",
       "    .dataframe tbody tr th {\n",
       "        vertical-align: top;\n",
       "    }\n",
       "\n",
       "    .dataframe thead th {\n",
       "        text-align: right;\n",
       "    }\n",
       "</style>\n",
       "<table border=\"1\" class=\"dataframe\">\n",
       "  <thead>\n",
       "    <tr style=\"text-align: right;\">\n",
       "      <th></th>\n",
       "      <th>x1</th>\n",
       "      <th>x2</th>\n",
       "      <th>x3</th>\n",
       "      <th>t1</th>\n",
       "      <th>a1</th>\n",
       "      <th>t2</th>\n",
       "      <th>a2</th>\n",
       "      <th>RHS</th>\n",
       "    </tr>\n",
       "  </thead>\n",
       "  <tbody>\n",
       "    <tr>\n",
       "      <th>a1</th>\n",
       "      <td>4.0</td>\n",
       "      <td>5.0</td>\n",
       "      <td>3.0</td>\n",
       "      <td>-1.0</td>\n",
       "      <td>1.0</td>\n",
       "      <td>0.0</td>\n",
       "      <td>0.0</td>\n",
       "      <td>50.0</td>\n",
       "    </tr>\n",
       "    <tr>\n",
       "      <th>a2</th>\n",
       "      <td>2.0</td>\n",
       "      <td>7.0</td>\n",
       "      <td>6.0</td>\n",
       "      <td>0.0</td>\n",
       "      <td>0.0</td>\n",
       "      <td>-1.0</td>\n",
       "      <td>1.0</td>\n",
       "      <td>30.0</td>\n",
       "    </tr>\n",
       "    <tr>\n",
       "      <th>C - Z</th>\n",
       "      <td>6.0</td>\n",
       "      <td>12.0</td>\n",
       "      <td>9.0</td>\n",
       "      <td>-1.0</td>\n",
       "      <td>0.0</td>\n",
       "      <td>-1.0</td>\n",
       "      <td>0.0</td>\n",
       "      <td>80.0</td>\n",
       "    </tr>\n",
       "  </tbody>\n",
       "</table>\n",
       "</div>"
      ],
      "text/plain": [
       "        x1    x2   x3   t1   a1   t2   a2   RHS\n",
       "a1     4.0   5.0  3.0 -1.0  1.0  0.0  0.0  50.0\n",
       "a2     2.0   7.0  6.0  0.0  0.0 -1.0  1.0  30.0\n",
       "C - Z  6.0  12.0  9.0 -1.0  0.0 -1.0  0.0  80.0"
      ]
     },
     "metadata": {},
     "output_type": "display_data"
    },
    {
     "data": {
      "text/markdown": [
       "Iteration 1 (Phase 1): Enter = x1, Leave = a1"
      ],
      "text/plain": [
       "<IPython.core.display.Markdown object>"
      ]
     },
     "metadata": {},
     "output_type": "display_data"
    },
    {
     "data": {
      "text/markdown": [
       "   Row R1 divided by pivot element 4.000000 to make it 1."
      ],
      "text/plain": [
       "<IPython.core.display.Markdown object>"
      ]
     },
     "metadata": {},
     "output_type": "display_data"
    },
    {
     "data": {
      "text/markdown": [
       "   Row R2 updated: R2 - (2.000000) * R1"
      ],
      "text/plain": [
       "<IPython.core.display.Markdown object>"
      ]
     },
     "metadata": {},
     "output_type": "display_data"
    },
    {
     "data": {
      "text/markdown": [
       "   Row R3 updated: R3 - (6.000000) * R1"
      ],
      "text/plain": [
       "<IPython.core.display.Markdown object>"
      ]
     },
     "metadata": {},
     "output_type": "display_data"
    },
    {
     "data": {
      "text/markdown": [
       "### After pivot #1"
      ],
      "text/plain": [
       "<IPython.core.display.Markdown object>"
      ]
     },
     "metadata": {},
     "output_type": "display_data"
    },
    {
     "data": {
      "text/html": [
       "<div>\n",
       "<style scoped>\n",
       "    .dataframe tbody tr th:only-of-type {\n",
       "        vertical-align: middle;\n",
       "    }\n",
       "\n",
       "    .dataframe tbody tr th {\n",
       "        vertical-align: top;\n",
       "    }\n",
       "\n",
       "    .dataframe thead th {\n",
       "        text-align: right;\n",
       "    }\n",
       "</style>\n",
       "<table border=\"1\" class=\"dataframe\">\n",
       "  <thead>\n",
       "    <tr style=\"text-align: right;\">\n",
       "      <th></th>\n",
       "      <th>x1</th>\n",
       "      <th>x2</th>\n",
       "      <th>x3</th>\n",
       "      <th>t1</th>\n",
       "      <th>a1</th>\n",
       "      <th>t2</th>\n",
       "      <th>a2</th>\n",
       "      <th>RHS</th>\n",
       "    </tr>\n",
       "  </thead>\n",
       "  <tbody>\n",
       "    <tr>\n",
       "      <th>x1</th>\n",
       "      <td>1.0</td>\n",
       "      <td>1.25</td>\n",
       "      <td>0.75</td>\n",
       "      <td>-0.25</td>\n",
       "      <td>0.25</td>\n",
       "      <td>0.0</td>\n",
       "      <td>0.0</td>\n",
       "      <td>12.5</td>\n",
       "    </tr>\n",
       "    <tr>\n",
       "      <th>a2</th>\n",
       "      <td>0.0</td>\n",
       "      <td>4.50</td>\n",
       "      <td>4.50</td>\n",
       "      <td>0.50</td>\n",
       "      <td>-0.50</td>\n",
       "      <td>-1.0</td>\n",
       "      <td>1.0</td>\n",
       "      <td>5.0</td>\n",
       "    </tr>\n",
       "    <tr>\n",
       "      <th>C - Z</th>\n",
       "      <td>0.0</td>\n",
       "      <td>4.50</td>\n",
       "      <td>4.50</td>\n",
       "      <td>0.50</td>\n",
       "      <td>-1.50</td>\n",
       "      <td>-1.0</td>\n",
       "      <td>0.0</td>\n",
       "      <td>5.0</td>\n",
       "    </tr>\n",
       "  </tbody>\n",
       "</table>\n",
       "</div>"
      ],
      "text/plain": [
       "        x1    x2    x3    t1    a1   t2   a2   RHS\n",
       "x1     1.0  1.25  0.75 -0.25  0.25  0.0  0.0  12.5\n",
       "a2     0.0  4.50  4.50  0.50 -0.50 -1.0  1.0   5.0\n",
       "C - Z  0.0  4.50  4.50  0.50 -1.50 -1.0  0.0   5.0"
      ]
     },
     "metadata": {},
     "output_type": "display_data"
    },
    {
     "data": {
      "text/markdown": [
       "Iteration 2 (Phase 1): Enter = x2, Leave = a2"
      ],
      "text/plain": [
       "<IPython.core.display.Markdown object>"
      ]
     },
     "metadata": {},
     "output_type": "display_data"
    },
    {
     "data": {
      "text/markdown": [
       "   Row R2 divided by pivot element 4.500000 to make it 1."
      ],
      "text/plain": [
       "<IPython.core.display.Markdown object>"
      ]
     },
     "metadata": {},
     "output_type": "display_data"
    },
    {
     "data": {
      "text/markdown": [
       "   Row R1 updated: R1 - (1.250000) * R2"
      ],
      "text/plain": [
       "<IPython.core.display.Markdown object>"
      ]
     },
     "metadata": {},
     "output_type": "display_data"
    },
    {
     "data": {
      "text/markdown": [
       "   Row R3 updated: R3 - (4.500000) * R2"
      ],
      "text/plain": [
       "<IPython.core.display.Markdown object>"
      ]
     },
     "metadata": {},
     "output_type": "display_data"
    },
    {
     "data": {
      "text/markdown": [
       "### After pivot #2"
      ],
      "text/plain": [
       "<IPython.core.display.Markdown object>"
      ]
     },
     "metadata": {},
     "output_type": "display_data"
    },
    {
     "data": {
      "text/html": [
       "<div>\n",
       "<style scoped>\n",
       "    .dataframe tbody tr th:only-of-type {\n",
       "        vertical-align: middle;\n",
       "    }\n",
       "\n",
       "    .dataframe tbody tr th {\n",
       "        vertical-align: top;\n",
       "    }\n",
       "\n",
       "    .dataframe thead th {\n",
       "        text-align: right;\n",
       "    }\n",
       "</style>\n",
       "<table border=\"1\" class=\"dataframe\">\n",
       "  <thead>\n",
       "    <tr style=\"text-align: right;\">\n",
       "      <th></th>\n",
       "      <th>x1</th>\n",
       "      <th>x2</th>\n",
       "      <th>x3</th>\n",
       "      <th>t1</th>\n",
       "      <th>a1</th>\n",
       "      <th>t2</th>\n",
       "      <th>a2</th>\n",
       "      <th>RHS</th>\n",
       "    </tr>\n",
       "  </thead>\n",
       "  <tbody>\n",
       "    <tr>\n",
       "      <th>x1</th>\n",
       "      <td>1.0</td>\n",
       "      <td>0.0</td>\n",
       "      <td>-0.5</td>\n",
       "      <td>-0.388889</td>\n",
       "      <td>0.388889</td>\n",
       "      <td>0.277778</td>\n",
       "      <td>-0.277778</td>\n",
       "      <td>11.111111</td>\n",
       "    </tr>\n",
       "    <tr>\n",
       "      <th>x2</th>\n",
       "      <td>0.0</td>\n",
       "      <td>1.0</td>\n",
       "      <td>1.0</td>\n",
       "      <td>0.111111</td>\n",
       "      <td>-0.111111</td>\n",
       "      <td>-0.222222</td>\n",
       "      <td>0.222222</td>\n",
       "      <td>1.111111</td>\n",
       "    </tr>\n",
       "    <tr>\n",
       "      <th>C - Z</th>\n",
       "      <td>0.0</td>\n",
       "      <td>0.0</td>\n",
       "      <td>0.0</td>\n",
       "      <td>0.000000</td>\n",
       "      <td>-1.000000</td>\n",
       "      <td>0.000000</td>\n",
       "      <td>-1.000000</td>\n",
       "      <td>0.000000</td>\n",
       "    </tr>\n",
       "  </tbody>\n",
       "</table>\n",
       "</div>"
      ],
      "text/plain": [
       "        x1   x2   x3        t1        a1        t2        a2        RHS\n",
       "x1     1.0  0.0 -0.5 -0.388889  0.388889  0.277778 -0.277778  11.111111\n",
       "x2     0.0  1.0  1.0  0.111111 -0.111111 -0.222222  0.222222   1.111111\n",
       "C - Z  0.0  0.0  0.0  0.000000 -1.000000  0.000000 -1.000000   0.000000"
      ]
     },
     "metadata": {},
     "output_type": "display_data"
    },
    {
     "data": {
      "text/markdown": [
       "### Phase 1 — Optimal (no positive C-Z). Objective = -0.000000"
      ],
      "text/plain": [
       "<IPython.core.display.Markdown object>"
      ]
     },
     "metadata": {},
     "output_type": "display_data"
    },
    {
     "data": {
      "text/html": [
       "<div>\n",
       "<style scoped>\n",
       "    .dataframe tbody tr th:only-of-type {\n",
       "        vertical-align: middle;\n",
       "    }\n",
       "\n",
       "    .dataframe tbody tr th {\n",
       "        vertical-align: top;\n",
       "    }\n",
       "\n",
       "    .dataframe thead th {\n",
       "        text-align: right;\n",
       "    }\n",
       "</style>\n",
       "<table border=\"1\" class=\"dataframe\">\n",
       "  <thead>\n",
       "    <tr style=\"text-align: right;\">\n",
       "      <th></th>\n",
       "      <th>x1</th>\n",
       "      <th>x2</th>\n",
       "      <th>x3</th>\n",
       "      <th>t1</th>\n",
       "      <th>a1</th>\n",
       "      <th>t2</th>\n",
       "      <th>a2</th>\n",
       "      <th>RHS</th>\n",
       "    </tr>\n",
       "  </thead>\n",
       "  <tbody>\n",
       "    <tr>\n",
       "      <th>x1</th>\n",
       "      <td>1.0</td>\n",
       "      <td>0.0</td>\n",
       "      <td>-0.5</td>\n",
       "      <td>-0.388889</td>\n",
       "      <td>0.388889</td>\n",
       "      <td>0.277778</td>\n",
       "      <td>-0.277778</td>\n",
       "      <td>11.111111</td>\n",
       "    </tr>\n",
       "    <tr>\n",
       "      <th>x2</th>\n",
       "      <td>0.0</td>\n",
       "      <td>1.0</td>\n",
       "      <td>1.0</td>\n",
       "      <td>0.111111</td>\n",
       "      <td>-0.111111</td>\n",
       "      <td>-0.222222</td>\n",
       "      <td>0.222222</td>\n",
       "      <td>1.111111</td>\n",
       "    </tr>\n",
       "    <tr>\n",
       "      <th>C - Z</th>\n",
       "      <td>0.0</td>\n",
       "      <td>0.0</td>\n",
       "      <td>0.0</td>\n",
       "      <td>0.000000</td>\n",
       "      <td>-1.000000</td>\n",
       "      <td>0.000000</td>\n",
       "      <td>-1.000000</td>\n",
       "      <td>0.000000</td>\n",
       "    </tr>\n",
       "  </tbody>\n",
       "</table>\n",
       "</div>"
      ],
      "text/plain": [
       "        x1   x2   x3        t1        a1        t2        a2        RHS\n",
       "x1     1.0  0.0 -0.5 -0.388889  0.388889  0.277778 -0.277778  11.111111\n",
       "x2     0.0  1.0  1.0  0.111111 -0.111111 -0.222222  0.222222   1.111111\n",
       "C - Z  0.0  0.0  0.0  0.000000 -1.000000  0.000000 -1.000000   0.000000"
      ]
     },
     "metadata": {},
     "output_type": "display_data"
    },
    {
     "data": {
      "text/markdown": [
       "### Phase 2 — Initial C - Z row"
      ],
      "text/plain": [
       "<IPython.core.display.Markdown object>"
      ]
     },
     "metadata": {},
     "output_type": "display_data"
    },
    {
     "data": {
      "text/html": [
       "<div>\n",
       "<style scoped>\n",
       "    .dataframe tbody tr th:only-of-type {\n",
       "        vertical-align: middle;\n",
       "    }\n",
       "\n",
       "    .dataframe tbody tr th {\n",
       "        vertical-align: top;\n",
       "    }\n",
       "\n",
       "    .dataframe thead th {\n",
       "        text-align: right;\n",
       "    }\n",
       "</style>\n",
       "<table border=\"1\" class=\"dataframe\">\n",
       "  <thead>\n",
       "    <tr style=\"text-align: right;\">\n",
       "      <th></th>\n",
       "      <th>x1</th>\n",
       "      <th>x2</th>\n",
       "      <th>x3</th>\n",
       "      <th>t1</th>\n",
       "      <th>t2</th>\n",
       "      <th>RHS</th>\n",
       "    </tr>\n",
       "  </thead>\n",
       "  <tbody>\n",
       "    <tr>\n",
       "      <th>x1</th>\n",
       "      <td>1.0</td>\n",
       "      <td>0.0</td>\n",
       "      <td>-0.5</td>\n",
       "      <td>-0.388889</td>\n",
       "      <td>0.277778</td>\n",
       "      <td>11.111111</td>\n",
       "    </tr>\n",
       "    <tr>\n",
       "      <th>x2</th>\n",
       "      <td>0.0</td>\n",
       "      <td>1.0</td>\n",
       "      <td>1.0</td>\n",
       "      <td>0.111111</td>\n",
       "      <td>-0.222222</td>\n",
       "      <td>1.111111</td>\n",
       "    </tr>\n",
       "    <tr>\n",
       "      <th>C - Z</th>\n",
       "      <td>0.0</td>\n",
       "      <td>0.0</td>\n",
       "      <td>-37.0</td>\n",
       "      <td>-12.888889</td>\n",
       "      <td>1.777778</td>\n",
       "      <td>591.111111</td>\n",
       "    </tr>\n",
       "  </tbody>\n",
       "</table>\n",
       "</div>"
      ],
      "text/plain": [
       "        x1   x2    x3         t1        t2         RHS\n",
       "x1     1.0  0.0  -0.5  -0.388889  0.277778   11.111111\n",
       "x2     0.0  1.0   1.0   0.111111 -0.222222    1.111111\n",
       "C - Z  0.0  0.0 -37.0 -12.888889  1.777778  591.111111"
      ]
     },
     "metadata": {},
     "output_type": "display_data"
    },
    {
     "data": {
      "text/markdown": [
       "Iteration 3 (Phase 2): Enter = t2, Leave = x1"
      ],
      "text/plain": [
       "<IPython.core.display.Markdown object>"
      ]
     },
     "metadata": {},
     "output_type": "display_data"
    },
    {
     "data": {
      "text/markdown": [
       "   Row R1 divided by pivot element 0.277778 to make it 1."
      ],
      "text/plain": [
       "<IPython.core.display.Markdown object>"
      ]
     },
     "metadata": {},
     "output_type": "display_data"
    },
    {
     "data": {
      "text/markdown": [
       "   Row R2 updated: R2 - (-0.222222) * R1"
      ],
      "text/plain": [
       "<IPython.core.display.Markdown object>"
      ]
     },
     "metadata": {},
     "output_type": "display_data"
    },
    {
     "data": {
      "text/markdown": [
       "   Row R3 updated: R3 - (1.777778) * R1"
      ],
      "text/plain": [
       "<IPython.core.display.Markdown object>"
      ]
     },
     "metadata": {},
     "output_type": "display_data"
    },
    {
     "data": {
      "text/markdown": [
       "### After pivot #3"
      ],
      "text/plain": [
       "<IPython.core.display.Markdown object>"
      ]
     },
     "metadata": {},
     "output_type": "display_data"
    },
    {
     "data": {
      "text/html": [
       "<div>\n",
       "<style scoped>\n",
       "    .dataframe tbody tr th:only-of-type {\n",
       "        vertical-align: middle;\n",
       "    }\n",
       "\n",
       "    .dataframe tbody tr th {\n",
       "        vertical-align: top;\n",
       "    }\n",
       "\n",
       "    .dataframe thead th {\n",
       "        text-align: right;\n",
       "    }\n",
       "</style>\n",
       "<table border=\"1\" class=\"dataframe\">\n",
       "  <thead>\n",
       "    <tr style=\"text-align: right;\">\n",
       "      <th></th>\n",
       "      <th>x1</th>\n",
       "      <th>x2</th>\n",
       "      <th>x3</th>\n",
       "      <th>t1</th>\n",
       "      <th>t2</th>\n",
       "      <th>RHS</th>\n",
       "    </tr>\n",
       "  </thead>\n",
       "  <tbody>\n",
       "    <tr>\n",
       "      <th>t2</th>\n",
       "      <td>3.6</td>\n",
       "      <td>0.0</td>\n",
       "      <td>-1.8</td>\n",
       "      <td>-1.4</td>\n",
       "      <td>1.0</td>\n",
       "      <td>40.0</td>\n",
       "    </tr>\n",
       "    <tr>\n",
       "      <th>x2</th>\n",
       "      <td>0.8</td>\n",
       "      <td>1.0</td>\n",
       "      <td>0.6</td>\n",
       "      <td>-0.2</td>\n",
       "      <td>0.0</td>\n",
       "      <td>10.0</td>\n",
       "    </tr>\n",
       "    <tr>\n",
       "      <th>C - Z</th>\n",
       "      <td>-6.4</td>\n",
       "      <td>0.0</td>\n",
       "      <td>-33.8</td>\n",
       "      <td>-10.4</td>\n",
       "      <td>0.0</td>\n",
       "      <td>520.0</td>\n",
       "    </tr>\n",
       "  </tbody>\n",
       "</table>\n",
       "</div>"
      ],
      "text/plain": [
       "        x1   x2    x3    t1   t2    RHS\n",
       "t2     3.6  0.0  -1.8  -1.4  1.0   40.0\n",
       "x2     0.8  1.0   0.6  -0.2  0.0   10.0\n",
       "C - Z -6.4  0.0 -33.8 -10.4  0.0  520.0"
      ]
     },
     "metadata": {},
     "output_type": "display_data"
    },
    {
     "data": {
      "text/markdown": [
       "### Phase 2 — Optimal (no positive C-Z). Objective = -520.000000"
      ],
      "text/plain": [
       "<IPython.core.display.Markdown object>"
      ]
     },
     "metadata": {},
     "output_type": "display_data"
    },
    {
     "data": {
      "text/html": [
       "<div>\n",
       "<style scoped>\n",
       "    .dataframe tbody tr th:only-of-type {\n",
       "        vertical-align: middle;\n",
       "    }\n",
       "\n",
       "    .dataframe tbody tr th {\n",
       "        vertical-align: top;\n",
       "    }\n",
       "\n",
       "    .dataframe thead th {\n",
       "        text-align: right;\n",
       "    }\n",
       "</style>\n",
       "<table border=\"1\" class=\"dataframe\">\n",
       "  <thead>\n",
       "    <tr style=\"text-align: right;\">\n",
       "      <th></th>\n",
       "      <th>x1</th>\n",
       "      <th>x2</th>\n",
       "      <th>x3</th>\n",
       "      <th>t1</th>\n",
       "      <th>t2</th>\n",
       "      <th>RHS</th>\n",
       "    </tr>\n",
       "  </thead>\n",
       "  <tbody>\n",
       "    <tr>\n",
       "      <th>t2</th>\n",
       "      <td>3.6</td>\n",
       "      <td>0.0</td>\n",
       "      <td>-1.8</td>\n",
       "      <td>-1.4</td>\n",
       "      <td>1.0</td>\n",
       "      <td>40.0</td>\n",
       "    </tr>\n",
       "    <tr>\n",
       "      <th>x2</th>\n",
       "      <td>0.8</td>\n",
       "      <td>1.0</td>\n",
       "      <td>0.6</td>\n",
       "      <td>-0.2</td>\n",
       "      <td>0.0</td>\n",
       "      <td>10.0</td>\n",
       "    </tr>\n",
       "    <tr>\n",
       "      <th>C - Z</th>\n",
       "      <td>-6.4</td>\n",
       "      <td>0.0</td>\n",
       "      <td>-33.8</td>\n",
       "      <td>-10.4</td>\n",
       "      <td>0.0</td>\n",
       "      <td>520.0</td>\n",
       "    </tr>\n",
       "  </tbody>\n",
       "</table>\n",
       "</div>"
      ],
      "text/plain": [
       "        x1   x2    x3    t1   t2    RHS\n",
       "t2     3.6  0.0  -1.8  -1.4  1.0   40.0\n",
       "x2     0.8  1.0   0.6  -0.2  0.0   10.0\n",
       "C - Z -6.4  0.0 -33.8 -10.4  0.0  520.0"
      ]
     },
     "metadata": {},
     "output_type": "display_data"
    },
    {
     "name": "stdout",
     "output_type": "stream",
     "text": [
      "\n",
      "=== RESULT ===\n",
      "Status: optimal\n",
      "Objective value: 520.0\n",
      "Solution: {'x1': 0.0, 'x2': np.float64(10.0), 'x3': 0.0}\n",
      "Iterations: 3\n"
     ]
    }
   ],
   "source": [
    "# Example (change these to your own problem)\n",
    "sense = 'min'  # 'max' or 'min'\n",
    "c = [48, 52, 65]     # maximize 3x1 + 2x2\n",
    "A = [\n",
    "    [4, 5, 3],\n",
    "    [2, 7, 6]\n",
    "]\n",
    "b = [50, 30]\n",
    "cons = ['>=', '>=']\n",
    "Mode = 'TwoPhase'\n",
    "\n",
    "run_and_show(sense, c, A, b, cons, Mode, M=1e5)"
   ]
  },
  {
   "cell_type": "markdown",
   "id": "968a3f4e",
   "metadata": {},
   "source": [
    "### BigM"
   ]
  },
  {
   "cell_type": "code",
   "execution_count": 5,
   "id": "aa7fa0ad",
   "metadata": {},
   "outputs": [
    {
     "name": "stdout",
     "output_type": "stream",
     "text": [
      "\n",
      "=== Mode ===\n",
      "Mode: BigM\n"
     ]
    },
    {
     "data": {
      "text/markdown": [
       "### Initial Tableau (Big M Method)"
      ],
      "text/plain": [
       "<IPython.core.display.Markdown object>"
      ]
     },
     "metadata": {},
     "output_type": "display_data"
    },
    {
     "data": {
      "text/html": [
       "<div>\n",
       "<style scoped>\n",
       "    .dataframe tbody tr th:only-of-type {\n",
       "        vertical-align: middle;\n",
       "    }\n",
       "\n",
       "    .dataframe tbody tr th {\n",
       "        vertical-align: top;\n",
       "    }\n",
       "\n",
       "    .dataframe thead th {\n",
       "        text-align: right;\n",
       "    }\n",
       "</style>\n",
       "<table border=\"1\" class=\"dataframe\">\n",
       "  <thead>\n",
       "    <tr style=\"text-align: right;\">\n",
       "      <th></th>\n",
       "      <th>x1</th>\n",
       "      <th>x2</th>\n",
       "      <th>s1</th>\n",
       "      <th>a2</th>\n",
       "      <th>t3</th>\n",
       "      <th>a3</th>\n",
       "      <th>RHS</th>\n",
       "    </tr>\n",
       "  </thead>\n",
       "  <tbody>\n",
       "    <tr>\n",
       "      <th>s1</th>\n",
       "      <td>0.3</td>\n",
       "      <td>0.1</td>\n",
       "      <td>1.0</td>\n",
       "      <td>0.0</td>\n",
       "      <td>0.0</td>\n",
       "      <td>0.0</td>\n",
       "      <td>2.7</td>\n",
       "    </tr>\n",
       "    <tr>\n",
       "      <th>a2</th>\n",
       "      <td>0.5</td>\n",
       "      <td>0.5</td>\n",
       "      <td>0.0</td>\n",
       "      <td>1.0</td>\n",
       "      <td>0.0</td>\n",
       "      <td>0.0</td>\n",
       "      <td>6.0</td>\n",
       "    </tr>\n",
       "    <tr>\n",
       "      <th>a3</th>\n",
       "      <td>0.6</td>\n",
       "      <td>0.4</td>\n",
       "      <td>0.0</td>\n",
       "      <td>0.0</td>\n",
       "      <td>-1.0</td>\n",
       "      <td>1.0</td>\n",
       "      <td>6.0</td>\n",
       "    </tr>\n",
       "    <tr>\n",
       "      <th>C - Z</th>\n",
       "      <td>109999.6</td>\n",
       "      <td>89999.5</td>\n",
       "      <td>0.0</td>\n",
       "      <td>0.0</td>\n",
       "      <td>-100000.0</td>\n",
       "      <td>0.0</td>\n",
       "      <td>1200000.0</td>\n",
       "    </tr>\n",
       "  </tbody>\n",
       "</table>\n",
       "</div>"
      ],
      "text/plain": [
       "             x1       x2   s1   a2        t3   a3        RHS\n",
       "s1          0.3      0.1  1.0  0.0       0.0  0.0        2.7\n",
       "a2          0.5      0.5  0.0  1.0       0.0  0.0        6.0\n",
       "a3          0.6      0.4  0.0  0.0      -1.0  1.0        6.0\n",
       "C - Z  109999.6  89999.5  0.0  0.0 -100000.0  0.0  1200000.0"
      ]
     },
     "metadata": {},
     "output_type": "display_data"
    },
    {
     "data": {
      "text/markdown": [
       "Iteration 1: Enter = x1, Leave = s1"
      ],
      "text/plain": [
       "<IPython.core.display.Markdown object>"
      ]
     },
     "metadata": {},
     "output_type": "display_data"
    },
    {
     "data": {
      "text/markdown": [
       "   Row R1 divided by pivot element 0.300000 to make it 1."
      ],
      "text/plain": [
       "<IPython.core.display.Markdown object>"
      ]
     },
     "metadata": {},
     "output_type": "display_data"
    },
    {
     "data": {
      "text/markdown": [
       "   Row R2 updated: R2 - (0.500000) * R1"
      ],
      "text/plain": [
       "<IPython.core.display.Markdown object>"
      ]
     },
     "metadata": {},
     "output_type": "display_data"
    },
    {
     "data": {
      "text/markdown": [
       "   Row R3 updated: R3 - (0.600000) * R1"
      ],
      "text/plain": [
       "<IPython.core.display.Markdown object>"
      ]
     },
     "metadata": {},
     "output_type": "display_data"
    },
    {
     "data": {
      "text/markdown": [
       "   Row R4 updated: R4 - (109999.600000) * R1"
      ],
      "text/plain": [
       "<IPython.core.display.Markdown object>"
      ]
     },
     "metadata": {},
     "output_type": "display_data"
    },
    {
     "data": {
      "text/markdown": [
       "### After pivot #1"
      ],
      "text/plain": [
       "<IPython.core.display.Markdown object>"
      ]
     },
     "metadata": {},
     "output_type": "display_data"
    },
    {
     "data": {
      "text/html": [
       "<div>\n",
       "<style scoped>\n",
       "    .dataframe tbody tr th:only-of-type {\n",
       "        vertical-align: middle;\n",
       "    }\n",
       "\n",
       "    .dataframe tbody tr th {\n",
       "        vertical-align: top;\n",
       "    }\n",
       "\n",
       "    .dataframe thead th {\n",
       "        text-align: right;\n",
       "    }\n",
       "</style>\n",
       "<table border=\"1\" class=\"dataframe\">\n",
       "  <thead>\n",
       "    <tr style=\"text-align: right;\">\n",
       "      <th></th>\n",
       "      <th>x1</th>\n",
       "      <th>x2</th>\n",
       "      <th>s1</th>\n",
       "      <th>a2</th>\n",
       "      <th>t3</th>\n",
       "      <th>a3</th>\n",
       "      <th>RHS</th>\n",
       "    </tr>\n",
       "  </thead>\n",
       "  <tbody>\n",
       "    <tr>\n",
       "      <th>x1</th>\n",
       "      <td>1.0</td>\n",
       "      <td>0.333333</td>\n",
       "      <td>3.333333</td>\n",
       "      <td>0.0</td>\n",
       "      <td>0.0</td>\n",
       "      <td>0.0</td>\n",
       "      <td>9.0</td>\n",
       "    </tr>\n",
       "    <tr>\n",
       "      <th>a2</th>\n",
       "      <td>0.0</td>\n",
       "      <td>0.333333</td>\n",
       "      <td>-1.666667</td>\n",
       "      <td>1.0</td>\n",
       "      <td>0.0</td>\n",
       "      <td>0.0</td>\n",
       "      <td>1.5</td>\n",
       "    </tr>\n",
       "    <tr>\n",
       "      <th>a3</th>\n",
       "      <td>0.0</td>\n",
       "      <td>0.200000</td>\n",
       "      <td>-2.000000</td>\n",
       "      <td>0.0</td>\n",
       "      <td>-1.0</td>\n",
       "      <td>1.0</td>\n",
       "      <td>0.6</td>\n",
       "    </tr>\n",
       "    <tr>\n",
       "      <th>C - Z</th>\n",
       "      <td>0.0</td>\n",
       "      <td>53332.966667</td>\n",
       "      <td>-366665.333333</td>\n",
       "      <td>0.0</td>\n",
       "      <td>-100000.0</td>\n",
       "      <td>0.0</td>\n",
       "      <td>210003.6</td>\n",
       "    </tr>\n",
       "  </tbody>\n",
       "</table>\n",
       "</div>"
      ],
      "text/plain": [
       "        x1            x2             s1   a2        t3   a3       RHS\n",
       "x1     1.0      0.333333       3.333333  0.0       0.0  0.0       9.0\n",
       "a2     0.0      0.333333      -1.666667  1.0       0.0  0.0       1.5\n",
       "a3     0.0      0.200000      -2.000000  0.0      -1.0  1.0       0.6\n",
       "C - Z  0.0  53332.966667 -366665.333333  0.0 -100000.0  0.0  210003.6"
      ]
     },
     "metadata": {},
     "output_type": "display_data"
    },
    {
     "data": {
      "text/markdown": [
       "Iteration 2: Enter = x2, Leave = a3"
      ],
      "text/plain": [
       "<IPython.core.display.Markdown object>"
      ]
     },
     "metadata": {},
     "output_type": "display_data"
    },
    {
     "data": {
      "text/markdown": [
       "   Row R3 divided by pivot element 0.200000 to make it 1."
      ],
      "text/plain": [
       "<IPython.core.display.Markdown object>"
      ]
     },
     "metadata": {},
     "output_type": "display_data"
    },
    {
     "data": {
      "text/markdown": [
       "   Row R1 updated: R1 - (0.333333) * R3"
      ],
      "text/plain": [
       "<IPython.core.display.Markdown object>"
      ]
     },
     "metadata": {},
     "output_type": "display_data"
    },
    {
     "data": {
      "text/markdown": [
       "   Row R2 updated: R2 - (0.333333) * R3"
      ],
      "text/plain": [
       "<IPython.core.display.Markdown object>"
      ]
     },
     "metadata": {},
     "output_type": "display_data"
    },
    {
     "data": {
      "text/markdown": [
       "   Row R4 updated: R4 - (53332.966667) * R3"
      ],
      "text/plain": [
       "<IPython.core.display.Markdown object>"
      ]
     },
     "metadata": {},
     "output_type": "display_data"
    },
    {
     "data": {
      "text/markdown": [
       "### After pivot #2"
      ],
      "text/plain": [
       "<IPython.core.display.Markdown object>"
      ]
     },
     "metadata": {},
     "output_type": "display_data"
    },
    {
     "data": {
      "text/html": [
       "<div>\n",
       "<style scoped>\n",
       "    .dataframe tbody tr th:only-of-type {\n",
       "        vertical-align: middle;\n",
       "    }\n",
       "\n",
       "    .dataframe tbody tr th {\n",
       "        vertical-align: top;\n",
       "    }\n",
       "\n",
       "    .dataframe thead th {\n",
       "        text-align: right;\n",
       "    }\n",
       "</style>\n",
       "<table border=\"1\" class=\"dataframe\">\n",
       "  <thead>\n",
       "    <tr style=\"text-align: right;\">\n",
       "      <th></th>\n",
       "      <th>x1</th>\n",
       "      <th>x2</th>\n",
       "      <th>s1</th>\n",
       "      <th>a2</th>\n",
       "      <th>t3</th>\n",
       "      <th>a3</th>\n",
       "      <th>RHS</th>\n",
       "    </tr>\n",
       "  </thead>\n",
       "  <tbody>\n",
       "    <tr>\n",
       "      <th>x1</th>\n",
       "      <td>1.0</td>\n",
       "      <td>0.0</td>\n",
       "      <td>6.666667</td>\n",
       "      <td>0.0</td>\n",
       "      <td>1.666667</td>\n",
       "      <td>-1.666667</td>\n",
       "      <td>8.0</td>\n",
       "    </tr>\n",
       "    <tr>\n",
       "      <th>a2</th>\n",
       "      <td>0.0</td>\n",
       "      <td>0.0</td>\n",
       "      <td>1.666667</td>\n",
       "      <td>1.0</td>\n",
       "      <td>1.666667</td>\n",
       "      <td>-1.666667</td>\n",
       "      <td>0.5</td>\n",
       "    </tr>\n",
       "    <tr>\n",
       "      <th>x2</th>\n",
       "      <td>0.0</td>\n",
       "      <td>1.0</td>\n",
       "      <td>-10.000000</td>\n",
       "      <td>0.0</td>\n",
       "      <td>-5.000000</td>\n",
       "      <td>5.000000</td>\n",
       "      <td>3.0</td>\n",
       "    </tr>\n",
       "    <tr>\n",
       "      <th>C - Z</th>\n",
       "      <td>0.0</td>\n",
       "      <td>0.0</td>\n",
       "      <td>166664.333333</td>\n",
       "      <td>0.0</td>\n",
       "      <td>166664.833333</td>\n",
       "      <td>-266664.833333</td>\n",
       "      <td>50004.7</td>\n",
       "    </tr>\n",
       "  </tbody>\n",
       "</table>\n",
       "</div>"
      ],
      "text/plain": [
       "        x1   x2             s1   a2             t3             a3      RHS\n",
       "x1     1.0  0.0       6.666667  0.0       1.666667      -1.666667      8.0\n",
       "a2     0.0  0.0       1.666667  1.0       1.666667      -1.666667      0.5\n",
       "x2     0.0  1.0     -10.000000  0.0      -5.000000       5.000000      3.0\n",
       "C - Z  0.0  0.0  166664.333333  0.0  166664.833333 -266664.833333  50004.7"
      ]
     },
     "metadata": {},
     "output_type": "display_data"
    },
    {
     "data": {
      "text/markdown": [
       "Iteration 3: Enter = s1, Leave = a2"
      ],
      "text/plain": [
       "<IPython.core.display.Markdown object>"
      ]
     },
     "metadata": {},
     "output_type": "display_data"
    },
    {
     "data": {
      "text/markdown": [
       "   Row R2 divided by pivot element 1.666667 to make it 1."
      ],
      "text/plain": [
       "<IPython.core.display.Markdown object>"
      ]
     },
     "metadata": {},
     "output_type": "display_data"
    },
    {
     "data": {
      "text/markdown": [
       "   Row R1 updated: R1 - (6.666667) * R2"
      ],
      "text/plain": [
       "<IPython.core.display.Markdown object>"
      ]
     },
     "metadata": {},
     "output_type": "display_data"
    },
    {
     "data": {
      "text/markdown": [
       "   Row R3 updated: R3 - (-10.000000) * R2"
      ],
      "text/plain": [
       "<IPython.core.display.Markdown object>"
      ]
     },
     "metadata": {},
     "output_type": "display_data"
    },
    {
     "data": {
      "text/markdown": [
       "   Row R4 updated: R4 - (166664.333333) * R2"
      ],
      "text/plain": [
       "<IPython.core.display.Markdown object>"
      ]
     },
     "metadata": {},
     "output_type": "display_data"
    },
    {
     "data": {
      "text/markdown": [
       "### After pivot #3"
      ],
      "text/plain": [
       "<IPython.core.display.Markdown object>"
      ]
     },
     "metadata": {},
     "output_type": "display_data"
    },
    {
     "data": {
      "text/html": [
       "<div>\n",
       "<style scoped>\n",
       "    .dataframe tbody tr th:only-of-type {\n",
       "        vertical-align: middle;\n",
       "    }\n",
       "\n",
       "    .dataframe tbody tr th {\n",
       "        vertical-align: top;\n",
       "    }\n",
       "\n",
       "    .dataframe thead th {\n",
       "        text-align: right;\n",
       "    }\n",
       "</style>\n",
       "<table border=\"1\" class=\"dataframe\">\n",
       "  <thead>\n",
       "    <tr style=\"text-align: right;\">\n",
       "      <th></th>\n",
       "      <th>x1</th>\n",
       "      <th>x2</th>\n",
       "      <th>s1</th>\n",
       "      <th>a2</th>\n",
       "      <th>t3</th>\n",
       "      <th>a3</th>\n",
       "      <th>RHS</th>\n",
       "    </tr>\n",
       "  </thead>\n",
       "  <tbody>\n",
       "    <tr>\n",
       "      <th>x1</th>\n",
       "      <td>1.0</td>\n",
       "      <td>0.0</td>\n",
       "      <td>0.0</td>\n",
       "      <td>-4.0</td>\n",
       "      <td>-5.0</td>\n",
       "      <td>5.0</td>\n",
       "      <td>6.0</td>\n",
       "    </tr>\n",
       "    <tr>\n",
       "      <th>s1</th>\n",
       "      <td>0.0</td>\n",
       "      <td>0.0</td>\n",
       "      <td>1.0</td>\n",
       "      <td>0.6</td>\n",
       "      <td>1.0</td>\n",
       "      <td>-1.0</td>\n",
       "      <td>0.3</td>\n",
       "    </tr>\n",
       "    <tr>\n",
       "      <th>x2</th>\n",
       "      <td>0.0</td>\n",
       "      <td>1.0</td>\n",
       "      <td>0.0</td>\n",
       "      <td>6.0</td>\n",
       "      <td>5.0</td>\n",
       "      <td>-5.0</td>\n",
       "      <td>6.0</td>\n",
       "    </tr>\n",
       "    <tr>\n",
       "      <th>C - Z</th>\n",
       "      <td>0.0</td>\n",
       "      <td>0.0</td>\n",
       "      <td>0.0</td>\n",
       "      <td>-99998.6</td>\n",
       "      <td>0.5</td>\n",
       "      <td>-100000.5</td>\n",
       "      <td>5.4</td>\n",
       "    </tr>\n",
       "  </tbody>\n",
       "</table>\n",
       "</div>"
      ],
      "text/plain": [
       "        x1   x2   s1       a2   t3        a3  RHS\n",
       "x1     1.0  0.0  0.0     -4.0 -5.0       5.0  6.0\n",
       "s1     0.0  0.0  1.0      0.6  1.0      -1.0  0.3\n",
       "x2     0.0  1.0  0.0      6.0  5.0      -5.0  6.0\n",
       "C - Z  0.0  0.0  0.0 -99998.6  0.5 -100000.5  5.4"
      ]
     },
     "metadata": {},
     "output_type": "display_data"
    },
    {
     "data": {
      "text/markdown": [
       "Iteration 4: Enter = t3, Leave = s1"
      ],
      "text/plain": [
       "<IPython.core.display.Markdown object>"
      ]
     },
     "metadata": {},
     "output_type": "display_data"
    },
    {
     "data": {
      "text/markdown": [
       "   Row R2 divided by pivot element 1.000000 to make it 1."
      ],
      "text/plain": [
       "<IPython.core.display.Markdown object>"
      ]
     },
     "metadata": {},
     "output_type": "display_data"
    },
    {
     "data": {
      "text/markdown": [
       "   Row R1 updated: R1 - (-5.000000) * R2"
      ],
      "text/plain": [
       "<IPython.core.display.Markdown object>"
      ]
     },
     "metadata": {},
     "output_type": "display_data"
    },
    {
     "data": {
      "text/markdown": [
       "   Row R3 updated: R3 - (5.000000) * R2"
      ],
      "text/plain": [
       "<IPython.core.display.Markdown object>"
      ]
     },
     "metadata": {},
     "output_type": "display_data"
    },
    {
     "data": {
      "text/markdown": [
       "   Row R4 updated: R4 - (0.500000) * R2"
      ],
      "text/plain": [
       "<IPython.core.display.Markdown object>"
      ]
     },
     "metadata": {},
     "output_type": "display_data"
    },
    {
     "data": {
      "text/markdown": [
       "### After pivot #4"
      ],
      "text/plain": [
       "<IPython.core.display.Markdown object>"
      ]
     },
     "metadata": {},
     "output_type": "display_data"
    },
    {
     "data": {
      "text/html": [
       "<div>\n",
       "<style scoped>\n",
       "    .dataframe tbody tr th:only-of-type {\n",
       "        vertical-align: middle;\n",
       "    }\n",
       "\n",
       "    .dataframe tbody tr th {\n",
       "        vertical-align: top;\n",
       "    }\n",
       "\n",
       "    .dataframe thead th {\n",
       "        text-align: right;\n",
       "    }\n",
       "</style>\n",
       "<table border=\"1\" class=\"dataframe\">\n",
       "  <thead>\n",
       "    <tr style=\"text-align: right;\">\n",
       "      <th></th>\n",
       "      <th>x1</th>\n",
       "      <th>x2</th>\n",
       "      <th>s1</th>\n",
       "      <th>a2</th>\n",
       "      <th>t3</th>\n",
       "      <th>a3</th>\n",
       "      <th>RHS</th>\n",
       "    </tr>\n",
       "  </thead>\n",
       "  <tbody>\n",
       "    <tr>\n",
       "      <th>x1</th>\n",
       "      <td>1.0</td>\n",
       "      <td>0.0</td>\n",
       "      <td>5.0</td>\n",
       "      <td>-1.0</td>\n",
       "      <td>0.0</td>\n",
       "      <td>0.0</td>\n",
       "      <td>7.50</td>\n",
       "    </tr>\n",
       "    <tr>\n",
       "      <th>t3</th>\n",
       "      <td>0.0</td>\n",
       "      <td>0.0</td>\n",
       "      <td>1.0</td>\n",
       "      <td>0.6</td>\n",
       "      <td>1.0</td>\n",
       "      <td>-1.0</td>\n",
       "      <td>0.30</td>\n",
       "    </tr>\n",
       "    <tr>\n",
       "      <th>x2</th>\n",
       "      <td>0.0</td>\n",
       "      <td>1.0</td>\n",
       "      <td>-5.0</td>\n",
       "      <td>3.0</td>\n",
       "      <td>0.0</td>\n",
       "      <td>0.0</td>\n",
       "      <td>4.50</td>\n",
       "    </tr>\n",
       "    <tr>\n",
       "      <th>C - Z</th>\n",
       "      <td>0.0</td>\n",
       "      <td>0.0</td>\n",
       "      <td>-0.5</td>\n",
       "      <td>-99998.9</td>\n",
       "      <td>0.0</td>\n",
       "      <td>-100000.0</td>\n",
       "      <td>5.25</td>\n",
       "    </tr>\n",
       "  </tbody>\n",
       "</table>\n",
       "</div>"
      ],
      "text/plain": [
       "        x1   x2   s1       a2   t3        a3   RHS\n",
       "x1     1.0  0.0  5.0     -1.0  0.0       0.0  7.50\n",
       "t3     0.0  0.0  1.0      0.6  1.0      -1.0  0.30\n",
       "x2     0.0  1.0 -5.0      3.0  0.0       0.0  4.50\n",
       "C - Z  0.0  0.0 -0.5 -99998.9  0.0 -100000.0  5.25"
      ]
     },
     "metadata": {},
     "output_type": "display_data"
    },
    {
     "name": "stdout",
     "output_type": "stream",
     "text": [
      "\n",
      "=== RESULT ===\n",
      "Status: optimal\n",
      "Objective value: 5.249999999978172\n",
      "Solution: {'x1': np.float64(7.500000000000003), 'x2': np.float64(4.499999999999997)}\n",
      "Iterations: 4\n"
     ]
    }
   ],
   "source": [
    "# Example (change these to your own problem)\n",
    "sense = 'min'  # 'max' or 'min'\n",
    "c = [0.4, 0.5]     # maximize 3x1 + 2x2\n",
    "A = [\n",
    "    [0.3, 0.1],\n",
    "    [0.5, 0.5],\n",
    "    [0.6, 0.4]\n",
    "]\n",
    "b = [2.7, 6, 6]\n",
    "cons = ['<=', '=', '>=']\n",
    "Mode = 'BigM'  # or 'TwoPhase'\n",
    "\n",
    "run_and_show(sense, c, A, b, cons, Mode, M=1e5)"
   ]
  },
  {
   "cell_type": "markdown",
   "id": "537dd2af",
   "metadata": {},
   "source": [
    "## OR2"
   ]
  },
  {
   "cell_type": "markdown",
   "id": "19a91664",
   "metadata": {},
   "source": [
    "### GOA ผลิตสี"
   ]
  },
  {
   "cell_type": "code",
   "execution_count": null,
   "id": "d68ac884",
   "metadata": {},
   "outputs": [
    {
     "name": "stderr",
     "output_type": "stream",
     "text": [
      "C:\\Users\\Admin\\AppData\\Local\\Temp\\ipykernel_2104\\2753902525.py:172: RuntimeWarning: divide by zero encountered in divide\n",
      "  ratios = np.where(mask, rhs / col, np.inf)\n"
     ]
    },
    {
     "data": {
      "text/markdown": [
       "### Phase 2 — Initial C - Z row"
      ],
      "text/plain": [
       "<IPython.core.display.Markdown object>"
      ]
     },
     "metadata": {},
     "output_type": "display_data"
    },
    {
     "data": {
      "text/html": [
       "<div>\n",
       "<style scoped>\n",
       "    .dataframe tbody tr th:only-of-type {\n",
       "        vertical-align: middle;\n",
       "    }\n",
       "\n",
       "    .dataframe tbody tr th {\n",
       "        vertical-align: top;\n",
       "    }\n",
       "\n",
       "    .dataframe thead th {\n",
       "        text-align: right;\n",
       "    }\n",
       "</style>\n",
       "<table border=\"1\" class=\"dataframe\">\n",
       "  <thead>\n",
       "    <tr style=\"text-align: right;\">\n",
       "      <th></th>\n",
       "      <th>x1</th>\n",
       "      <th>x2</th>\n",
       "      <th>s1</th>\n",
       "      <th>s2</th>\n",
       "      <th>s3</th>\n",
       "      <th>s4</th>\n",
       "      <th>RHS</th>\n",
       "    </tr>\n",
       "  </thead>\n",
       "  <tbody>\n",
       "    <tr>\n",
       "      <th>s1</th>\n",
       "      <td>6.0</td>\n",
       "      <td>4.0</td>\n",
       "      <td>1.0</td>\n",
       "      <td>0.0</td>\n",
       "      <td>0.0</td>\n",
       "      <td>0.0</td>\n",
       "      <td>24.0</td>\n",
       "    </tr>\n",
       "    <tr>\n",
       "      <th>s2</th>\n",
       "      <td>1.0</td>\n",
       "      <td>2.0</td>\n",
       "      <td>0.0</td>\n",
       "      <td>1.0</td>\n",
       "      <td>0.0</td>\n",
       "      <td>0.0</td>\n",
       "      <td>6.0</td>\n",
       "    </tr>\n",
       "    <tr>\n",
       "      <th>s3</th>\n",
       "      <td>0.0</td>\n",
       "      <td>1.0</td>\n",
       "      <td>0.0</td>\n",
       "      <td>0.0</td>\n",
       "      <td>1.0</td>\n",
       "      <td>0.0</td>\n",
       "      <td>2.0</td>\n",
       "    </tr>\n",
       "    <tr>\n",
       "      <th>s4</th>\n",
       "      <td>-1.0</td>\n",
       "      <td>1.0</td>\n",
       "      <td>0.0</td>\n",
       "      <td>0.0</td>\n",
       "      <td>0.0</td>\n",
       "      <td>1.0</td>\n",
       "      <td>1.0</td>\n",
       "    </tr>\n",
       "    <tr>\n",
       "      <th>C - Z</th>\n",
       "      <td>5.0</td>\n",
       "      <td>4.0</td>\n",
       "      <td>0.0</td>\n",
       "      <td>0.0</td>\n",
       "      <td>0.0</td>\n",
       "      <td>0.0</td>\n",
       "      <td>0.0</td>\n",
       "    </tr>\n",
       "  </tbody>\n",
       "</table>\n",
       "</div>"
      ],
      "text/plain": [
       "        x1   x2   s1   s2   s3   s4   RHS\n",
       "s1     6.0  4.0  1.0  0.0  0.0  0.0  24.0\n",
       "s2     1.0  2.0  0.0  1.0  0.0  0.0   6.0\n",
       "s3     0.0  1.0  0.0  0.0  1.0  0.0   2.0\n",
       "s4    -1.0  1.0  0.0  0.0  0.0  1.0   1.0\n",
       "C - Z  5.0  4.0  0.0  0.0  0.0  0.0   0.0"
      ]
     },
     "metadata": {},
     "output_type": "display_data"
    },
    {
     "data": {
      "text/markdown": [
       "Iteration 1 (Phase 2): Enter = x1, Leave = s1"
      ],
      "text/plain": [
       "<IPython.core.display.Markdown object>"
      ]
     },
     "metadata": {},
     "output_type": "display_data"
    },
    {
     "data": {
      "text/markdown": [
       "### After pivot #1"
      ],
      "text/plain": [
       "<IPython.core.display.Markdown object>"
      ]
     },
     "metadata": {},
     "output_type": "display_data"
    },
    {
     "data": {
      "text/html": [
       "<div>\n",
       "<style scoped>\n",
       "    .dataframe tbody tr th:only-of-type {\n",
       "        vertical-align: middle;\n",
       "    }\n",
       "\n",
       "    .dataframe tbody tr th {\n",
       "        vertical-align: top;\n",
       "    }\n",
       "\n",
       "    .dataframe thead th {\n",
       "        text-align: right;\n",
       "    }\n",
       "</style>\n",
       "<table border=\"1\" class=\"dataframe\">\n",
       "  <thead>\n",
       "    <tr style=\"text-align: right;\">\n",
       "      <th></th>\n",
       "      <th>x1</th>\n",
       "      <th>x2</th>\n",
       "      <th>s1</th>\n",
       "      <th>s2</th>\n",
       "      <th>s3</th>\n",
       "      <th>s4</th>\n",
       "      <th>RHS</th>\n",
       "    </tr>\n",
       "  </thead>\n",
       "  <tbody>\n",
       "    <tr>\n",
       "      <th>x1</th>\n",
       "      <td>1.0</td>\n",
       "      <td>0.666667</td>\n",
       "      <td>0.166667</td>\n",
       "      <td>0.0</td>\n",
       "      <td>0.0</td>\n",
       "      <td>0.0</td>\n",
       "      <td>4.0</td>\n",
       "    </tr>\n",
       "    <tr>\n",
       "      <th>s2</th>\n",
       "      <td>0.0</td>\n",
       "      <td>1.333333</td>\n",
       "      <td>-0.166667</td>\n",
       "      <td>1.0</td>\n",
       "      <td>0.0</td>\n",
       "      <td>0.0</td>\n",
       "      <td>2.0</td>\n",
       "    </tr>\n",
       "    <tr>\n",
       "      <th>s3</th>\n",
       "      <td>0.0</td>\n",
       "      <td>1.000000</td>\n",
       "      <td>0.000000</td>\n",
       "      <td>0.0</td>\n",
       "      <td>1.0</td>\n",
       "      <td>0.0</td>\n",
       "      <td>2.0</td>\n",
       "    </tr>\n",
       "    <tr>\n",
       "      <th>s4</th>\n",
       "      <td>0.0</td>\n",
       "      <td>1.666667</td>\n",
       "      <td>0.166667</td>\n",
       "      <td>0.0</td>\n",
       "      <td>0.0</td>\n",
       "      <td>1.0</td>\n",
       "      <td>5.0</td>\n",
       "    </tr>\n",
       "    <tr>\n",
       "      <th>C - Z</th>\n",
       "      <td>0.0</td>\n",
       "      <td>0.666667</td>\n",
       "      <td>-0.833333</td>\n",
       "      <td>0.0</td>\n",
       "      <td>0.0</td>\n",
       "      <td>0.0</td>\n",
       "      <td>-20.0</td>\n",
       "    </tr>\n",
       "  </tbody>\n",
       "</table>\n",
       "</div>"
      ],
      "text/plain": [
       "        x1        x2        s1   s2   s3   s4   RHS\n",
       "x1     1.0  0.666667  0.166667  0.0  0.0  0.0   4.0\n",
       "s2     0.0  1.333333 -0.166667  1.0  0.0  0.0   2.0\n",
       "s3     0.0  1.000000  0.000000  0.0  1.0  0.0   2.0\n",
       "s4     0.0  1.666667  0.166667  0.0  0.0  1.0   5.0\n",
       "C - Z  0.0  0.666667 -0.833333  0.0  0.0  0.0 -20.0"
      ]
     },
     "metadata": {},
     "output_type": "display_data"
    },
    {
     "data": {
      "text/markdown": [
       "Iteration 2 (Phase 2): Enter = x2, Leave = s2"
      ],
      "text/plain": [
       "<IPython.core.display.Markdown object>"
      ]
     },
     "metadata": {},
     "output_type": "display_data"
    },
    {
     "data": {
      "text/markdown": [
       "### After pivot #2"
      ],
      "text/plain": [
       "<IPython.core.display.Markdown object>"
      ]
     },
     "metadata": {},
     "output_type": "display_data"
    },
    {
     "data": {
      "text/html": [
       "<div>\n",
       "<style scoped>\n",
       "    .dataframe tbody tr th:only-of-type {\n",
       "        vertical-align: middle;\n",
       "    }\n",
       "\n",
       "    .dataframe tbody tr th {\n",
       "        vertical-align: top;\n",
       "    }\n",
       "\n",
       "    .dataframe thead th {\n",
       "        text-align: right;\n",
       "    }\n",
       "</style>\n",
       "<table border=\"1\" class=\"dataframe\">\n",
       "  <thead>\n",
       "    <tr style=\"text-align: right;\">\n",
       "      <th></th>\n",
       "      <th>x1</th>\n",
       "      <th>x2</th>\n",
       "      <th>s1</th>\n",
       "      <th>s2</th>\n",
       "      <th>s3</th>\n",
       "      <th>s4</th>\n",
       "      <th>RHS</th>\n",
       "    </tr>\n",
       "  </thead>\n",
       "  <tbody>\n",
       "    <tr>\n",
       "      <th>x1</th>\n",
       "      <td>1.0</td>\n",
       "      <td>0.0</td>\n",
       "      <td>0.250</td>\n",
       "      <td>-0.50</td>\n",
       "      <td>0.0</td>\n",
       "      <td>0.0</td>\n",
       "      <td>3.0</td>\n",
       "    </tr>\n",
       "    <tr>\n",
       "      <th>x2</th>\n",
       "      <td>0.0</td>\n",
       "      <td>1.0</td>\n",
       "      <td>-0.125</td>\n",
       "      <td>0.75</td>\n",
       "      <td>0.0</td>\n",
       "      <td>0.0</td>\n",
       "      <td>1.5</td>\n",
       "    </tr>\n",
       "    <tr>\n",
       "      <th>s3</th>\n",
       "      <td>0.0</td>\n",
       "      <td>0.0</td>\n",
       "      <td>0.125</td>\n",
       "      <td>-0.75</td>\n",
       "      <td>1.0</td>\n",
       "      <td>0.0</td>\n",
       "      <td>0.5</td>\n",
       "    </tr>\n",
       "    <tr>\n",
       "      <th>s4</th>\n",
       "      <td>0.0</td>\n",
       "      <td>0.0</td>\n",
       "      <td>0.375</td>\n",
       "      <td>-1.25</td>\n",
       "      <td>0.0</td>\n",
       "      <td>1.0</td>\n",
       "      <td>2.5</td>\n",
       "    </tr>\n",
       "    <tr>\n",
       "      <th>C - Z</th>\n",
       "      <td>0.0</td>\n",
       "      <td>0.0</td>\n",
       "      <td>-0.750</td>\n",
       "      <td>-0.50</td>\n",
       "      <td>0.0</td>\n",
       "      <td>0.0</td>\n",
       "      <td>-21.0</td>\n",
       "    </tr>\n",
       "  </tbody>\n",
       "</table>\n",
       "</div>"
      ],
      "text/plain": [
       "        x1   x2     s1    s2   s3   s4   RHS\n",
       "x1     1.0  0.0  0.250 -0.50  0.0  0.0   3.0\n",
       "x2     0.0  1.0 -0.125  0.75  0.0  0.0   1.5\n",
       "s3     0.0  0.0  0.125 -0.75  1.0  0.0   0.5\n",
       "s4     0.0  0.0  0.375 -1.25  0.0  1.0   2.5\n",
       "C - Z  0.0  0.0 -0.750 -0.50  0.0  0.0 -21.0"
      ]
     },
     "metadata": {},
     "output_type": "display_data"
    },
    {
     "data": {
      "text/markdown": [
       "### Phase 2 — Optimal (no positive C-Z). Objective = 21.000000"
      ],
      "text/plain": [
       "<IPython.core.display.Markdown object>"
      ]
     },
     "metadata": {},
     "output_type": "display_data"
    },
    {
     "data": {
      "text/html": [
       "<div>\n",
       "<style scoped>\n",
       "    .dataframe tbody tr th:only-of-type {\n",
       "        vertical-align: middle;\n",
       "    }\n",
       "\n",
       "    .dataframe tbody tr th {\n",
       "        vertical-align: top;\n",
       "    }\n",
       "\n",
       "    .dataframe thead th {\n",
       "        text-align: right;\n",
       "    }\n",
       "</style>\n",
       "<table border=\"1\" class=\"dataframe\">\n",
       "  <thead>\n",
       "    <tr style=\"text-align: right;\">\n",
       "      <th></th>\n",
       "      <th>x1</th>\n",
       "      <th>x2</th>\n",
       "      <th>s1</th>\n",
       "      <th>s2</th>\n",
       "      <th>s3</th>\n",
       "      <th>s4</th>\n",
       "      <th>RHS</th>\n",
       "    </tr>\n",
       "  </thead>\n",
       "  <tbody>\n",
       "    <tr>\n",
       "      <th>x1</th>\n",
       "      <td>1.0</td>\n",
       "      <td>0.0</td>\n",
       "      <td>0.250</td>\n",
       "      <td>-0.50</td>\n",
       "      <td>0.0</td>\n",
       "      <td>0.0</td>\n",
       "      <td>3.0</td>\n",
       "    </tr>\n",
       "    <tr>\n",
       "      <th>x2</th>\n",
       "      <td>0.0</td>\n",
       "      <td>1.0</td>\n",
       "      <td>-0.125</td>\n",
       "      <td>0.75</td>\n",
       "      <td>0.0</td>\n",
       "      <td>0.0</td>\n",
       "      <td>1.5</td>\n",
       "    </tr>\n",
       "    <tr>\n",
       "      <th>s3</th>\n",
       "      <td>0.0</td>\n",
       "      <td>0.0</td>\n",
       "      <td>0.125</td>\n",
       "      <td>-0.75</td>\n",
       "      <td>1.0</td>\n",
       "      <td>0.0</td>\n",
       "      <td>0.5</td>\n",
       "    </tr>\n",
       "    <tr>\n",
       "      <th>s4</th>\n",
       "      <td>0.0</td>\n",
       "      <td>0.0</td>\n",
       "      <td>0.375</td>\n",
       "      <td>-1.25</td>\n",
       "      <td>0.0</td>\n",
       "      <td>1.0</td>\n",
       "      <td>2.5</td>\n",
       "    </tr>\n",
       "    <tr>\n",
       "      <th>C - Z</th>\n",
       "      <td>0.0</td>\n",
       "      <td>0.0</td>\n",
       "      <td>-0.750</td>\n",
       "      <td>-0.50</td>\n",
       "      <td>0.0</td>\n",
       "      <td>0.0</td>\n",
       "      <td>-21.0</td>\n",
       "    </tr>\n",
       "  </tbody>\n",
       "</table>\n",
       "</div>"
      ],
      "text/plain": [
       "        x1   x2     s1    s2   s3   s4   RHS\n",
       "x1     1.0  0.0  0.250 -0.50  0.0  0.0   3.0\n",
       "x2     0.0  1.0 -0.125  0.75  0.0  0.0   1.5\n",
       "s3     0.0  0.0  0.125 -0.75  1.0  0.0   0.5\n",
       "s4     0.0  0.0  0.375 -1.25  0.0  1.0   2.5\n",
       "C - Z  0.0  0.0 -0.750 -0.50  0.0  0.0 -21.0"
      ]
     },
     "metadata": {},
     "output_type": "display_data"
    },
    {
     "name": "stdout",
     "output_type": "stream",
     "text": [
      "\n",
      "=== RESULT ===\n",
      "Status: optimal\n",
      "Objective value: 21.0\n",
      "Solution: {'x1': np.float64(3.0), 'x2': np.float64(1.4999999999999998)}\n",
      "Iterations: 2\n"
     ]
    }
   ],
   "source": [
    "# Example (change these to your own problem)\n",
    "sense = 'max'  # 'max' or 'min'\n",
    "c = [5, 4]     # maximize 3x1 + 2x2\n",
    "A = [\n",
    "    [6, 4],\n",
    "    [1, 2],\n",
    "    [0, 1],\n",
    "    [-1,1]\n",
    "]\n",
    "b = [24, 6, 2, 1]\n",
    "cons = ['<=', '<=', '<=', '<=']\n",
    "\n",
    "Mode = 'TwoPhase'\n",
    "\n",
    "run_and_show(sense, c, A, b, cons, Mode, M=1e5)\n"
   ]
  },
  {
   "cell_type": "markdown",
   "id": "29e3f4be",
   "metadata": {},
   "source": [
    "### ผลิตอาหารสัตว์(4)"
   ]
  },
  {
   "cell_type": "code",
   "execution_count": null,
   "id": "2fef15d6",
   "metadata": {},
   "outputs": [
    {
     "data": {
      "text/markdown": [
       "### Phase 1 — Initial C - Z row"
      ],
      "text/plain": [
       "<IPython.core.display.Markdown object>"
      ]
     },
     "metadata": {},
     "output_type": "display_data"
    },
    {
     "data": {
      "text/html": [
       "<div>\n",
       "<style scoped>\n",
       "    .dataframe tbody tr th:only-of-type {\n",
       "        vertical-align: middle;\n",
       "    }\n",
       "\n",
       "    .dataframe tbody tr th {\n",
       "        vertical-align: top;\n",
       "    }\n",
       "\n",
       "    .dataframe thead th {\n",
       "        text-align: right;\n",
       "    }\n",
       "</style>\n",
       "<table border=\"1\" class=\"dataframe\">\n",
       "  <thead>\n",
       "    <tr style=\"text-align: right;\">\n",
       "      <th></th>\n",
       "      <th>x1</th>\n",
       "      <th>x2</th>\n",
       "      <th>t1</th>\n",
       "      <th>a1</th>\n",
       "      <th>s2</th>\n",
       "      <th>t3</th>\n",
       "      <th>a3</th>\n",
       "      <th>RHS</th>\n",
       "    </tr>\n",
       "  </thead>\n",
       "  <tbody>\n",
       "    <tr>\n",
       "      <th>a1</th>\n",
       "      <td>1.00</td>\n",
       "      <td>1.00</td>\n",
       "      <td>-1.0</td>\n",
       "      <td>1.0</td>\n",
       "      <td>0.0</td>\n",
       "      <td>0.0</td>\n",
       "      <td>0.0</td>\n",
       "      <td>24.0</td>\n",
       "    </tr>\n",
       "    <tr>\n",
       "      <th>s2</th>\n",
       "      <td>0.21</td>\n",
       "      <td>-0.30</td>\n",
       "      <td>0.0</td>\n",
       "      <td>0.0</td>\n",
       "      <td>1.0</td>\n",
       "      <td>0.0</td>\n",
       "      <td>0.0</td>\n",
       "      <td>6.0</td>\n",
       "    </tr>\n",
       "    <tr>\n",
       "      <th>a3</th>\n",
       "      <td>0.03</td>\n",
       "      <td>-0.01</td>\n",
       "      <td>0.0</td>\n",
       "      <td>0.0</td>\n",
       "      <td>0.0</td>\n",
       "      <td>-1.0</td>\n",
       "      <td>1.0</td>\n",
       "      <td>2.0</td>\n",
       "    </tr>\n",
       "    <tr>\n",
       "      <th>C - Z</th>\n",
       "      <td>1.03</td>\n",
       "      <td>0.99</td>\n",
       "      <td>-1.0</td>\n",
       "      <td>0.0</td>\n",
       "      <td>0.0</td>\n",
       "      <td>-1.0</td>\n",
       "      <td>0.0</td>\n",
       "      <td>26.0</td>\n",
       "    </tr>\n",
       "  </tbody>\n",
       "</table>\n",
       "</div>"
      ],
      "text/plain": [
       "         x1    x2   t1   a1   s2   t3   a3   RHS\n",
       "a1     1.00  1.00 -1.0  1.0  0.0  0.0  0.0  24.0\n",
       "s2     0.21 -0.30  0.0  0.0  1.0  0.0  0.0   6.0\n",
       "a3     0.03 -0.01  0.0  0.0  0.0 -1.0  1.0   2.0\n",
       "C - Z  1.03  0.99 -1.0  0.0  0.0 -1.0  0.0  26.0"
      ]
     },
     "metadata": {},
     "output_type": "display_data"
    },
    {
     "data": {
      "text/markdown": [
       "Iteration 1 (Phase 1): Enter = x1, Leave = a1"
      ],
      "text/plain": [
       "<IPython.core.display.Markdown object>"
      ]
     },
     "metadata": {},
     "output_type": "display_data"
    },
    {
     "data": {
      "text/markdown": [
       "### After pivot #1"
      ],
      "text/plain": [
       "<IPython.core.display.Markdown object>"
      ]
     },
     "metadata": {},
     "output_type": "display_data"
    },
    {
     "data": {
      "text/html": [
       "<div>\n",
       "<style scoped>\n",
       "    .dataframe tbody tr th:only-of-type {\n",
       "        vertical-align: middle;\n",
       "    }\n",
       "\n",
       "    .dataframe tbody tr th {\n",
       "        vertical-align: top;\n",
       "    }\n",
       "\n",
       "    .dataframe thead th {\n",
       "        text-align: right;\n",
       "    }\n",
       "</style>\n",
       "<table border=\"1\" class=\"dataframe\">\n",
       "  <thead>\n",
       "    <tr style=\"text-align: right;\">\n",
       "      <th></th>\n",
       "      <th>x1</th>\n",
       "      <th>x2</th>\n",
       "      <th>t1</th>\n",
       "      <th>a1</th>\n",
       "      <th>s2</th>\n",
       "      <th>t3</th>\n",
       "      <th>a3</th>\n",
       "      <th>RHS</th>\n",
       "    </tr>\n",
       "  </thead>\n",
       "  <tbody>\n",
       "    <tr>\n",
       "      <th>x1</th>\n",
       "      <td>1.0</td>\n",
       "      <td>1.00</td>\n",
       "      <td>-1.00</td>\n",
       "      <td>1.00</td>\n",
       "      <td>0.0</td>\n",
       "      <td>0.0</td>\n",
       "      <td>0.0</td>\n",
       "      <td>24.00</td>\n",
       "    </tr>\n",
       "    <tr>\n",
       "      <th>s2</th>\n",
       "      <td>0.0</td>\n",
       "      <td>-0.51</td>\n",
       "      <td>0.21</td>\n",
       "      <td>-0.21</td>\n",
       "      <td>1.0</td>\n",
       "      <td>0.0</td>\n",
       "      <td>0.0</td>\n",
       "      <td>0.96</td>\n",
       "    </tr>\n",
       "    <tr>\n",
       "      <th>a3</th>\n",
       "      <td>0.0</td>\n",
       "      <td>-0.04</td>\n",
       "      <td>0.03</td>\n",
       "      <td>-0.03</td>\n",
       "      <td>0.0</td>\n",
       "      <td>-1.0</td>\n",
       "      <td>1.0</td>\n",
       "      <td>1.28</td>\n",
       "    </tr>\n",
       "    <tr>\n",
       "      <th>C - Z</th>\n",
       "      <td>0.0</td>\n",
       "      <td>-0.04</td>\n",
       "      <td>0.03</td>\n",
       "      <td>-1.03</td>\n",
       "      <td>0.0</td>\n",
       "      <td>-1.0</td>\n",
       "      <td>0.0</td>\n",
       "      <td>1.28</td>\n",
       "    </tr>\n",
       "  </tbody>\n",
       "</table>\n",
       "</div>"
      ],
      "text/plain": [
       "        x1    x2    t1    a1   s2   t3   a3    RHS\n",
       "x1     1.0  1.00 -1.00  1.00  0.0  0.0  0.0  24.00\n",
       "s2     0.0 -0.51  0.21 -0.21  1.0  0.0  0.0   0.96\n",
       "a3     0.0 -0.04  0.03 -0.03  0.0 -1.0  1.0   1.28\n",
       "C - Z  0.0 -0.04  0.03 -1.03  0.0 -1.0  0.0   1.28"
      ]
     },
     "metadata": {},
     "output_type": "display_data"
    },
    {
     "data": {
      "text/markdown": [
       "Iteration 2 (Phase 1): Enter = t1, Leave = s2"
      ],
      "text/plain": [
       "<IPython.core.display.Markdown object>"
      ]
     },
     "metadata": {},
     "output_type": "display_data"
    },
    {
     "data": {
      "text/markdown": [
       "### After pivot #2"
      ],
      "text/plain": [
       "<IPython.core.display.Markdown object>"
      ]
     },
     "metadata": {},
     "output_type": "display_data"
    },
    {
     "data": {
      "text/html": [
       "<div>\n",
       "<style scoped>\n",
       "    .dataframe tbody tr th:only-of-type {\n",
       "        vertical-align: middle;\n",
       "    }\n",
       "\n",
       "    .dataframe tbody tr th {\n",
       "        vertical-align: top;\n",
       "    }\n",
       "\n",
       "    .dataframe thead th {\n",
       "        text-align: right;\n",
       "    }\n",
       "</style>\n",
       "<table border=\"1\" class=\"dataframe\">\n",
       "  <thead>\n",
       "    <tr style=\"text-align: right;\">\n",
       "      <th></th>\n",
       "      <th>x1</th>\n",
       "      <th>x2</th>\n",
       "      <th>t1</th>\n",
       "      <th>a1</th>\n",
       "      <th>s2</th>\n",
       "      <th>t3</th>\n",
       "      <th>a3</th>\n",
       "      <th>RHS</th>\n",
       "    </tr>\n",
       "  </thead>\n",
       "  <tbody>\n",
       "    <tr>\n",
       "      <th>x1</th>\n",
       "      <td>1.0</td>\n",
       "      <td>-1.428571</td>\n",
       "      <td>0.0</td>\n",
       "      <td>0.0</td>\n",
       "      <td>4.761905</td>\n",
       "      <td>0.0</td>\n",
       "      <td>0.0</td>\n",
       "      <td>28.571429</td>\n",
       "    </tr>\n",
       "    <tr>\n",
       "      <th>t1</th>\n",
       "      <td>0.0</td>\n",
       "      <td>-2.428571</td>\n",
       "      <td>1.0</td>\n",
       "      <td>-1.0</td>\n",
       "      <td>4.761905</td>\n",
       "      <td>0.0</td>\n",
       "      <td>0.0</td>\n",
       "      <td>4.571429</td>\n",
       "    </tr>\n",
       "    <tr>\n",
       "      <th>a3</th>\n",
       "      <td>0.0</td>\n",
       "      <td>0.032857</td>\n",
       "      <td>0.0</td>\n",
       "      <td>0.0</td>\n",
       "      <td>-0.142857</td>\n",
       "      <td>-1.0</td>\n",
       "      <td>1.0</td>\n",
       "      <td>1.142857</td>\n",
       "    </tr>\n",
       "    <tr>\n",
       "      <th>C - Z</th>\n",
       "      <td>0.0</td>\n",
       "      <td>0.032857</td>\n",
       "      <td>0.0</td>\n",
       "      <td>-1.0</td>\n",
       "      <td>-0.142857</td>\n",
       "      <td>-1.0</td>\n",
       "      <td>0.0</td>\n",
       "      <td>1.142857</td>\n",
       "    </tr>\n",
       "  </tbody>\n",
       "</table>\n",
       "</div>"
      ],
      "text/plain": [
       "        x1        x2   t1   a1        s2   t3   a3        RHS\n",
       "x1     1.0 -1.428571  0.0  0.0  4.761905  0.0  0.0  28.571429\n",
       "t1     0.0 -2.428571  1.0 -1.0  4.761905  0.0  0.0   4.571429\n",
       "a3     0.0  0.032857  0.0  0.0 -0.142857 -1.0  1.0   1.142857\n",
       "C - Z  0.0  0.032857  0.0 -1.0 -0.142857 -1.0  0.0   1.142857"
      ]
     },
     "metadata": {},
     "output_type": "display_data"
    },
    {
     "data": {
      "text/markdown": [
       "Iteration 3 (Phase 1): Enter = x2, Leave = a3"
      ],
      "text/plain": [
       "<IPython.core.display.Markdown object>"
      ]
     },
     "metadata": {},
     "output_type": "display_data"
    },
    {
     "data": {
      "text/markdown": [
       "### After pivot #3"
      ],
      "text/plain": [
       "<IPython.core.display.Markdown object>"
      ]
     },
     "metadata": {},
     "output_type": "display_data"
    },
    {
     "data": {
      "text/html": [
       "<div>\n",
       "<style scoped>\n",
       "    .dataframe tbody tr th:only-of-type {\n",
       "        vertical-align: middle;\n",
       "    }\n",
       "\n",
       "    .dataframe tbody tr th {\n",
       "        vertical-align: top;\n",
       "    }\n",
       "\n",
       "    .dataframe thead th {\n",
       "        text-align: right;\n",
       "    }\n",
       "</style>\n",
       "<table border=\"1\" class=\"dataframe\">\n",
       "  <thead>\n",
       "    <tr style=\"text-align: right;\">\n",
       "      <th></th>\n",
       "      <th>x1</th>\n",
       "      <th>x2</th>\n",
       "      <th>t1</th>\n",
       "      <th>a1</th>\n",
       "      <th>s2</th>\n",
       "      <th>t3</th>\n",
       "      <th>a3</th>\n",
       "      <th>RHS</th>\n",
       "    </tr>\n",
       "  </thead>\n",
       "  <tbody>\n",
       "    <tr>\n",
       "      <th>x1</th>\n",
       "      <td>1.0</td>\n",
       "      <td>0.0</td>\n",
       "      <td>0.0</td>\n",
       "      <td>0.0</td>\n",
       "      <td>-1.449275</td>\n",
       "      <td>-43.478261</td>\n",
       "      <td>43.478261</td>\n",
       "      <td>78.260870</td>\n",
       "    </tr>\n",
       "    <tr>\n",
       "      <th>t1</th>\n",
       "      <td>0.0</td>\n",
       "      <td>0.0</td>\n",
       "      <td>1.0</td>\n",
       "      <td>-1.0</td>\n",
       "      <td>-5.797101</td>\n",
       "      <td>-73.913043</td>\n",
       "      <td>73.913043</td>\n",
       "      <td>89.043478</td>\n",
       "    </tr>\n",
       "    <tr>\n",
       "      <th>x2</th>\n",
       "      <td>0.0</td>\n",
       "      <td>1.0</td>\n",
       "      <td>0.0</td>\n",
       "      <td>0.0</td>\n",
       "      <td>-4.347826</td>\n",
       "      <td>-30.434783</td>\n",
       "      <td>30.434783</td>\n",
       "      <td>34.782609</td>\n",
       "    </tr>\n",
       "    <tr>\n",
       "      <th>C - Z</th>\n",
       "      <td>0.0</td>\n",
       "      <td>0.0</td>\n",
       "      <td>0.0</td>\n",
       "      <td>-1.0</td>\n",
       "      <td>0.000000</td>\n",
       "      <td>0.000000</td>\n",
       "      <td>-1.000000</td>\n",
       "      <td>0.000000</td>\n",
       "    </tr>\n",
       "  </tbody>\n",
       "</table>\n",
       "</div>"
      ],
      "text/plain": [
       "        x1   x2   t1   a1        s2         t3         a3        RHS\n",
       "x1     1.0  0.0  0.0  0.0 -1.449275 -43.478261  43.478261  78.260870\n",
       "t1     0.0  0.0  1.0 -1.0 -5.797101 -73.913043  73.913043  89.043478\n",
       "x2     0.0  1.0  0.0  0.0 -4.347826 -30.434783  30.434783  34.782609\n",
       "C - Z  0.0  0.0  0.0 -1.0  0.000000   0.000000  -1.000000   0.000000"
      ]
     },
     "metadata": {},
     "output_type": "display_data"
    },
    {
     "data": {
      "text/markdown": [
       "### Phase 1 — Optimal (no positive C-Z). Objective = -0.000000"
      ],
      "text/plain": [
       "<IPython.core.display.Markdown object>"
      ]
     },
     "metadata": {},
     "output_type": "display_data"
    },
    {
     "data": {
      "text/html": [
       "<div>\n",
       "<style scoped>\n",
       "    .dataframe tbody tr th:only-of-type {\n",
       "        vertical-align: middle;\n",
       "    }\n",
       "\n",
       "    .dataframe tbody tr th {\n",
       "        vertical-align: top;\n",
       "    }\n",
       "\n",
       "    .dataframe thead th {\n",
       "        text-align: right;\n",
       "    }\n",
       "</style>\n",
       "<table border=\"1\" class=\"dataframe\">\n",
       "  <thead>\n",
       "    <tr style=\"text-align: right;\">\n",
       "      <th></th>\n",
       "      <th>x1</th>\n",
       "      <th>x2</th>\n",
       "      <th>t1</th>\n",
       "      <th>a1</th>\n",
       "      <th>s2</th>\n",
       "      <th>t3</th>\n",
       "      <th>a3</th>\n",
       "      <th>RHS</th>\n",
       "    </tr>\n",
       "  </thead>\n",
       "  <tbody>\n",
       "    <tr>\n",
       "      <th>x1</th>\n",
       "      <td>1.0</td>\n",
       "      <td>0.0</td>\n",
       "      <td>0.0</td>\n",
       "      <td>0.0</td>\n",
       "      <td>-1.449275</td>\n",
       "      <td>-43.478261</td>\n",
       "      <td>43.478261</td>\n",
       "      <td>78.260870</td>\n",
       "    </tr>\n",
       "    <tr>\n",
       "      <th>t1</th>\n",
       "      <td>0.0</td>\n",
       "      <td>0.0</td>\n",
       "      <td>1.0</td>\n",
       "      <td>-1.0</td>\n",
       "      <td>-5.797101</td>\n",
       "      <td>-73.913043</td>\n",
       "      <td>73.913043</td>\n",
       "      <td>89.043478</td>\n",
       "    </tr>\n",
       "    <tr>\n",
       "      <th>x2</th>\n",
       "      <td>0.0</td>\n",
       "      <td>1.0</td>\n",
       "      <td>0.0</td>\n",
       "      <td>0.0</td>\n",
       "      <td>-4.347826</td>\n",
       "      <td>-30.434783</td>\n",
       "      <td>30.434783</td>\n",
       "      <td>34.782609</td>\n",
       "    </tr>\n",
       "    <tr>\n",
       "      <th>C - Z</th>\n",
       "      <td>0.0</td>\n",
       "      <td>0.0</td>\n",
       "      <td>0.0</td>\n",
       "      <td>-1.0</td>\n",
       "      <td>0.000000</td>\n",
       "      <td>0.000000</td>\n",
       "      <td>-1.000000</td>\n",
       "      <td>0.000000</td>\n",
       "    </tr>\n",
       "  </tbody>\n",
       "</table>\n",
       "</div>"
      ],
      "text/plain": [
       "        x1   x2   t1   a1        s2         t3         a3        RHS\n",
       "x1     1.0  0.0  0.0  0.0 -1.449275 -43.478261  43.478261  78.260870\n",
       "t1     0.0  0.0  1.0 -1.0 -5.797101 -73.913043  73.913043  89.043478\n",
       "x2     0.0  1.0  0.0  0.0 -4.347826 -30.434783  30.434783  34.782609\n",
       "C - Z  0.0  0.0  0.0 -1.0  0.000000   0.000000  -1.000000   0.000000"
      ]
     },
     "metadata": {},
     "output_type": "display_data"
    },
    {
     "data": {
      "text/markdown": [
       "### Phase 2 — Initial C - Z row"
      ],
      "text/plain": [
       "<IPython.core.display.Markdown object>"
      ]
     },
     "metadata": {},
     "output_type": "display_data"
    },
    {
     "data": {
      "text/html": [
       "<div>\n",
       "<style scoped>\n",
       "    .dataframe tbody tr th:only-of-type {\n",
       "        vertical-align: middle;\n",
       "    }\n",
       "\n",
       "    .dataframe tbody tr th {\n",
       "        vertical-align: top;\n",
       "    }\n",
       "\n",
       "    .dataframe thead th {\n",
       "        text-align: right;\n",
       "    }\n",
       "</style>\n",
       "<table border=\"1\" class=\"dataframe\">\n",
       "  <thead>\n",
       "    <tr style=\"text-align: right;\">\n",
       "      <th></th>\n",
       "      <th>x1</th>\n",
       "      <th>x2</th>\n",
       "      <th>t1</th>\n",
       "      <th>s2</th>\n",
       "      <th>t3</th>\n",
       "      <th>RHS</th>\n",
       "    </tr>\n",
       "  </thead>\n",
       "  <tbody>\n",
       "    <tr>\n",
       "      <th>x1</th>\n",
       "      <td>1.0</td>\n",
       "      <td>0.0</td>\n",
       "      <td>0.0</td>\n",
       "      <td>-1.449275</td>\n",
       "      <td>-43.478261</td>\n",
       "      <td>78.260870</td>\n",
       "    </tr>\n",
       "    <tr>\n",
       "      <th>t1</th>\n",
       "      <td>0.0</td>\n",
       "      <td>0.0</td>\n",
       "      <td>1.0</td>\n",
       "      <td>-5.797101</td>\n",
       "      <td>-73.913043</td>\n",
       "      <td>89.043478</td>\n",
       "    </tr>\n",
       "    <tr>\n",
       "      <th>x2</th>\n",
       "      <td>0.0</td>\n",
       "      <td>1.0</td>\n",
       "      <td>0.0</td>\n",
       "      <td>-4.347826</td>\n",
       "      <td>-30.434783</td>\n",
       "      <td>34.782609</td>\n",
       "    </tr>\n",
       "    <tr>\n",
       "      <th>C - Z</th>\n",
       "      <td>0.0</td>\n",
       "      <td>0.0</td>\n",
       "      <td>0.0</td>\n",
       "      <td>-4.347826</td>\n",
       "      <td>-40.434783</td>\n",
       "      <td>54.782609</td>\n",
       "    </tr>\n",
       "  </tbody>\n",
       "</table>\n",
       "</div>"
      ],
      "text/plain": [
       "        x1   x2   t1        s2         t3        RHS\n",
       "x1     1.0  0.0  0.0 -1.449275 -43.478261  78.260870\n",
       "t1     0.0  0.0  1.0 -5.797101 -73.913043  89.043478\n",
       "x2     0.0  1.0  0.0 -4.347826 -30.434783  34.782609\n",
       "C - Z  0.0  0.0  0.0 -4.347826 -40.434783  54.782609"
      ]
     },
     "metadata": {},
     "output_type": "display_data"
    },
    {
     "data": {
      "text/markdown": [
       "### Phase 2 — Optimal (no positive C-Z). Objective = -54.782609"
      ],
      "text/plain": [
       "<IPython.core.display.Markdown object>"
      ]
     },
     "metadata": {},
     "output_type": "display_data"
    },
    {
     "data": {
      "text/html": [
       "<div>\n",
       "<style scoped>\n",
       "    .dataframe tbody tr th:only-of-type {\n",
       "        vertical-align: middle;\n",
       "    }\n",
       "\n",
       "    .dataframe tbody tr th {\n",
       "        vertical-align: top;\n",
       "    }\n",
       "\n",
       "    .dataframe thead th {\n",
       "        text-align: right;\n",
       "    }\n",
       "</style>\n",
       "<table border=\"1\" class=\"dataframe\">\n",
       "  <thead>\n",
       "    <tr style=\"text-align: right;\">\n",
       "      <th></th>\n",
       "      <th>x1</th>\n",
       "      <th>x2</th>\n",
       "      <th>t1</th>\n",
       "      <th>s2</th>\n",
       "      <th>t3</th>\n",
       "      <th>RHS</th>\n",
       "    </tr>\n",
       "  </thead>\n",
       "  <tbody>\n",
       "    <tr>\n",
       "      <th>x1</th>\n",
       "      <td>1.0</td>\n",
       "      <td>0.0</td>\n",
       "      <td>0.0</td>\n",
       "      <td>-1.449275</td>\n",
       "      <td>-43.478261</td>\n",
       "      <td>78.260870</td>\n",
       "    </tr>\n",
       "    <tr>\n",
       "      <th>t1</th>\n",
       "      <td>0.0</td>\n",
       "      <td>0.0</td>\n",
       "      <td>1.0</td>\n",
       "      <td>-5.797101</td>\n",
       "      <td>-73.913043</td>\n",
       "      <td>89.043478</td>\n",
       "    </tr>\n",
       "    <tr>\n",
       "      <th>x2</th>\n",
       "      <td>0.0</td>\n",
       "      <td>1.0</td>\n",
       "      <td>0.0</td>\n",
       "      <td>-4.347826</td>\n",
       "      <td>-30.434783</td>\n",
       "      <td>34.782609</td>\n",
       "    </tr>\n",
       "    <tr>\n",
       "      <th>C - Z</th>\n",
       "      <td>0.0</td>\n",
       "      <td>0.0</td>\n",
       "      <td>0.0</td>\n",
       "      <td>-4.347826</td>\n",
       "      <td>-40.434783</td>\n",
       "      <td>54.782609</td>\n",
       "    </tr>\n",
       "  </tbody>\n",
       "</table>\n",
       "</div>"
      ],
      "text/plain": [
       "        x1   x2   t1        s2         t3        RHS\n",
       "x1     1.0  0.0  0.0 -1.449275 -43.478261  78.260870\n",
       "t1     0.0  0.0  1.0 -5.797101 -73.913043  89.043478\n",
       "x2     0.0  1.0  0.0 -4.347826 -30.434783  34.782609\n",
       "C - Z  0.0  0.0  0.0 -4.347826 -40.434783  54.782609"
      ]
     },
     "metadata": {},
     "output_type": "display_data"
    },
    {
     "name": "stdout",
     "output_type": "stream",
     "text": [
      "\n",
      "=== RESULT ===\n",
      "Status: optimal\n",
      "Objective value: 54.78260869565218\n",
      "Solution: {'x1': np.float64(78.2608695652174), 'x2': np.float64(34.78260869565217)}\n",
      "Iterations: 3\n"
     ]
    }
   ],
   "source": [
    "# Example (change these to your own problem)\n",
    "sense = 'min'  # 'max' or 'min'\n",
    "c = [0.3, 0.9]     # maximize 3x1 + 2x2\n",
    "A = [\n",
    "    [1, 1],\n",
    "    [0.21, -0.3],\n",
    "    [0.03, -0.01]\n",
    "]\n",
    "b = [24, 6, 2]\n",
    "cons = ['>=', '<=', '>=']\n",
    "\n",
    "Mode = 'TwoPhase'\n",
    "\n",
    "run_and_show(sense, c, A, b, cons, Mode, M=1e5)\n"
   ]
  },
  {
   "cell_type": "markdown",
   "id": "06a2d49e",
   "metadata": {},
   "source": [
    "### โต๊ะ เก้าอี้(5)"
   ]
  },
  {
   "cell_type": "code",
   "execution_count": null,
   "id": "0e4e8280",
   "metadata": {},
   "outputs": [
    {
     "name": "stderr",
     "output_type": "stream",
     "text": [
      "C:\\Users\\Admin\\AppData\\Local\\Temp\\ipykernel_2104\\2753902525.py:172: RuntimeWarning: divide by zero encountered in divide\n",
      "  ratios = np.where(mask, rhs / col, np.inf)\n"
     ]
    },
    {
     "data": {
      "text/markdown": [
       "### Phase 2 — Initial C - Z row"
      ],
      "text/plain": [
       "<IPython.core.display.Markdown object>"
      ]
     },
     "metadata": {},
     "output_type": "display_data"
    },
    {
     "data": {
      "text/html": [
       "<div>\n",
       "<style scoped>\n",
       "    .dataframe tbody tr th:only-of-type {\n",
       "        vertical-align: middle;\n",
       "    }\n",
       "\n",
       "    .dataframe tbody tr th {\n",
       "        vertical-align: top;\n",
       "    }\n",
       "\n",
       "    .dataframe thead th {\n",
       "        text-align: right;\n",
       "    }\n",
       "</style>\n",
       "<table border=\"1\" class=\"dataframe\">\n",
       "  <thead>\n",
       "    <tr style=\"text-align: right;\">\n",
       "      <th></th>\n",
       "      <th>x1</th>\n",
       "      <th>x2</th>\n",
       "      <th>x3</th>\n",
       "      <th>s1</th>\n",
       "      <th>s2</th>\n",
       "      <th>s3</th>\n",
       "      <th>s4</th>\n",
       "      <th>RHS</th>\n",
       "    </tr>\n",
       "  </thead>\n",
       "  <tbody>\n",
       "    <tr>\n",
       "      <th>s1</th>\n",
       "      <td>8.0</td>\n",
       "      <td>6.0</td>\n",
       "      <td>1.0</td>\n",
       "      <td>1.0</td>\n",
       "      <td>0.0</td>\n",
       "      <td>0.0</td>\n",
       "      <td>0.0</td>\n",
       "      <td>48.0</td>\n",
       "    </tr>\n",
       "    <tr>\n",
       "      <th>s2</th>\n",
       "      <td>4.0</td>\n",
       "      <td>2.0</td>\n",
       "      <td>1.5</td>\n",
       "      <td>0.0</td>\n",
       "      <td>1.0</td>\n",
       "      <td>0.0</td>\n",
       "      <td>0.0</td>\n",
       "      <td>20.0</td>\n",
       "    </tr>\n",
       "    <tr>\n",
       "      <th>s3</th>\n",
       "      <td>2.0</td>\n",
       "      <td>1.5</td>\n",
       "      <td>0.5</td>\n",
       "      <td>0.0</td>\n",
       "      <td>0.0</td>\n",
       "      <td>1.0</td>\n",
       "      <td>0.0</td>\n",
       "      <td>8.0</td>\n",
       "    </tr>\n",
       "    <tr>\n",
       "      <th>s4</th>\n",
       "      <td>0.0</td>\n",
       "      <td>1.0</td>\n",
       "      <td>0.0</td>\n",
       "      <td>0.0</td>\n",
       "      <td>0.0</td>\n",
       "      <td>0.0</td>\n",
       "      <td>1.0</td>\n",
       "      <td>5.0</td>\n",
       "    </tr>\n",
       "    <tr>\n",
       "      <th>C - Z</th>\n",
       "      <td>60.0</td>\n",
       "      <td>30.0</td>\n",
       "      <td>20.0</td>\n",
       "      <td>0.0</td>\n",
       "      <td>0.0</td>\n",
       "      <td>0.0</td>\n",
       "      <td>0.0</td>\n",
       "      <td>0.0</td>\n",
       "    </tr>\n",
       "  </tbody>\n",
       "</table>\n",
       "</div>"
      ],
      "text/plain": [
       "         x1    x2    x3   s1   s2   s3   s4   RHS\n",
       "s1      8.0   6.0   1.0  1.0  0.0  0.0  0.0  48.0\n",
       "s2      4.0   2.0   1.5  0.0  1.0  0.0  0.0  20.0\n",
       "s3      2.0   1.5   0.5  0.0  0.0  1.0  0.0   8.0\n",
       "s4      0.0   1.0   0.0  0.0  0.0  0.0  1.0   5.0\n",
       "C - Z  60.0  30.0  20.0  0.0  0.0  0.0  0.0   0.0"
      ]
     },
     "metadata": {},
     "output_type": "display_data"
    },
    {
     "data": {
      "text/markdown": [
       "Iteration 1 (Phase 2): Enter = x1, Leave = s3"
      ],
      "text/plain": [
       "<IPython.core.display.Markdown object>"
      ]
     },
     "metadata": {},
     "output_type": "display_data"
    },
    {
     "data": {
      "text/markdown": [
       "### After pivot #1"
      ],
      "text/plain": [
       "<IPython.core.display.Markdown object>"
      ]
     },
     "metadata": {},
     "output_type": "display_data"
    },
    {
     "data": {
      "text/html": [
       "<div>\n",
       "<style scoped>\n",
       "    .dataframe tbody tr th:only-of-type {\n",
       "        vertical-align: middle;\n",
       "    }\n",
       "\n",
       "    .dataframe tbody tr th {\n",
       "        vertical-align: top;\n",
       "    }\n",
       "\n",
       "    .dataframe thead th {\n",
       "        text-align: right;\n",
       "    }\n",
       "</style>\n",
       "<table border=\"1\" class=\"dataframe\">\n",
       "  <thead>\n",
       "    <tr style=\"text-align: right;\">\n",
       "      <th></th>\n",
       "      <th>x1</th>\n",
       "      <th>x2</th>\n",
       "      <th>x3</th>\n",
       "      <th>s1</th>\n",
       "      <th>s2</th>\n",
       "      <th>s3</th>\n",
       "      <th>s4</th>\n",
       "      <th>RHS</th>\n",
       "    </tr>\n",
       "  </thead>\n",
       "  <tbody>\n",
       "    <tr>\n",
       "      <th>s1</th>\n",
       "      <td>0.0</td>\n",
       "      <td>0.00</td>\n",
       "      <td>-1.00</td>\n",
       "      <td>1.0</td>\n",
       "      <td>0.0</td>\n",
       "      <td>-4.0</td>\n",
       "      <td>0.0</td>\n",
       "      <td>16.0</td>\n",
       "    </tr>\n",
       "    <tr>\n",
       "      <th>s2</th>\n",
       "      <td>0.0</td>\n",
       "      <td>-1.00</td>\n",
       "      <td>0.50</td>\n",
       "      <td>0.0</td>\n",
       "      <td>1.0</td>\n",
       "      <td>-2.0</td>\n",
       "      <td>0.0</td>\n",
       "      <td>4.0</td>\n",
       "    </tr>\n",
       "    <tr>\n",
       "      <th>x1</th>\n",
       "      <td>1.0</td>\n",
       "      <td>0.75</td>\n",
       "      <td>0.25</td>\n",
       "      <td>0.0</td>\n",
       "      <td>0.0</td>\n",
       "      <td>0.5</td>\n",
       "      <td>0.0</td>\n",
       "      <td>4.0</td>\n",
       "    </tr>\n",
       "    <tr>\n",
       "      <th>s4</th>\n",
       "      <td>0.0</td>\n",
       "      <td>1.00</td>\n",
       "      <td>0.00</td>\n",
       "      <td>0.0</td>\n",
       "      <td>0.0</td>\n",
       "      <td>0.0</td>\n",
       "      <td>1.0</td>\n",
       "      <td>5.0</td>\n",
       "    </tr>\n",
       "    <tr>\n",
       "      <th>C - Z</th>\n",
       "      <td>0.0</td>\n",
       "      <td>-15.00</td>\n",
       "      <td>5.00</td>\n",
       "      <td>0.0</td>\n",
       "      <td>0.0</td>\n",
       "      <td>-30.0</td>\n",
       "      <td>0.0</td>\n",
       "      <td>-240.0</td>\n",
       "    </tr>\n",
       "  </tbody>\n",
       "</table>\n",
       "</div>"
      ],
      "text/plain": [
       "        x1     x2    x3   s1   s2    s3   s4    RHS\n",
       "s1     0.0   0.00 -1.00  1.0  0.0  -4.0  0.0   16.0\n",
       "s2     0.0  -1.00  0.50  0.0  1.0  -2.0  0.0    4.0\n",
       "x1     1.0   0.75  0.25  0.0  0.0   0.5  0.0    4.0\n",
       "s4     0.0   1.00  0.00  0.0  0.0   0.0  1.0    5.0\n",
       "C - Z  0.0 -15.00  5.00  0.0  0.0 -30.0  0.0 -240.0"
      ]
     },
     "metadata": {},
     "output_type": "display_data"
    },
    {
     "data": {
      "text/markdown": [
       "Iteration 2 (Phase 2): Enter = x3, Leave = s2"
      ],
      "text/plain": [
       "<IPython.core.display.Markdown object>"
      ]
     },
     "metadata": {},
     "output_type": "display_data"
    },
    {
     "data": {
      "text/markdown": [
       "### After pivot #2"
      ],
      "text/plain": [
       "<IPython.core.display.Markdown object>"
      ]
     },
     "metadata": {},
     "output_type": "display_data"
    },
    {
     "data": {
      "text/html": [
       "<div>\n",
       "<style scoped>\n",
       "    .dataframe tbody tr th:only-of-type {\n",
       "        vertical-align: middle;\n",
       "    }\n",
       "\n",
       "    .dataframe tbody tr th {\n",
       "        vertical-align: top;\n",
       "    }\n",
       "\n",
       "    .dataframe thead th {\n",
       "        text-align: right;\n",
       "    }\n",
       "</style>\n",
       "<table border=\"1\" class=\"dataframe\">\n",
       "  <thead>\n",
       "    <tr style=\"text-align: right;\">\n",
       "      <th></th>\n",
       "      <th>x1</th>\n",
       "      <th>x2</th>\n",
       "      <th>x3</th>\n",
       "      <th>s1</th>\n",
       "      <th>s2</th>\n",
       "      <th>s3</th>\n",
       "      <th>s4</th>\n",
       "      <th>RHS</th>\n",
       "    </tr>\n",
       "  </thead>\n",
       "  <tbody>\n",
       "    <tr>\n",
       "      <th>s1</th>\n",
       "      <td>0.0</td>\n",
       "      <td>-2.00</td>\n",
       "      <td>0.0</td>\n",
       "      <td>1.0</td>\n",
       "      <td>2.0</td>\n",
       "      <td>-8.0</td>\n",
       "      <td>0.0</td>\n",
       "      <td>24.0</td>\n",
       "    </tr>\n",
       "    <tr>\n",
       "      <th>x3</th>\n",
       "      <td>0.0</td>\n",
       "      <td>-2.00</td>\n",
       "      <td>1.0</td>\n",
       "      <td>0.0</td>\n",
       "      <td>2.0</td>\n",
       "      <td>-4.0</td>\n",
       "      <td>0.0</td>\n",
       "      <td>8.0</td>\n",
       "    </tr>\n",
       "    <tr>\n",
       "      <th>x1</th>\n",
       "      <td>1.0</td>\n",
       "      <td>1.25</td>\n",
       "      <td>0.0</td>\n",
       "      <td>0.0</td>\n",
       "      <td>-0.5</td>\n",
       "      <td>1.5</td>\n",
       "      <td>0.0</td>\n",
       "      <td>2.0</td>\n",
       "    </tr>\n",
       "    <tr>\n",
       "      <th>s4</th>\n",
       "      <td>0.0</td>\n",
       "      <td>1.00</td>\n",
       "      <td>0.0</td>\n",
       "      <td>0.0</td>\n",
       "      <td>0.0</td>\n",
       "      <td>0.0</td>\n",
       "      <td>1.0</td>\n",
       "      <td>5.0</td>\n",
       "    </tr>\n",
       "    <tr>\n",
       "      <th>C - Z</th>\n",
       "      <td>0.0</td>\n",
       "      <td>-5.00</td>\n",
       "      <td>0.0</td>\n",
       "      <td>0.0</td>\n",
       "      <td>-10.0</td>\n",
       "      <td>-10.0</td>\n",
       "      <td>0.0</td>\n",
       "      <td>-280.0</td>\n",
       "    </tr>\n",
       "  </tbody>\n",
       "</table>\n",
       "</div>"
      ],
      "text/plain": [
       "        x1    x2   x3   s1    s2    s3   s4    RHS\n",
       "s1     0.0 -2.00  0.0  1.0   2.0  -8.0  0.0   24.0\n",
       "x3     0.0 -2.00  1.0  0.0   2.0  -4.0  0.0    8.0\n",
       "x1     1.0  1.25  0.0  0.0  -0.5   1.5  0.0    2.0\n",
       "s4     0.0  1.00  0.0  0.0   0.0   0.0  1.0    5.0\n",
       "C - Z  0.0 -5.00  0.0  0.0 -10.0 -10.0  0.0 -280.0"
      ]
     },
     "metadata": {},
     "output_type": "display_data"
    },
    {
     "data": {
      "text/markdown": [
       "### Phase 2 — Optimal (no positive C-Z). Objective = 280.000000"
      ],
      "text/plain": [
       "<IPython.core.display.Markdown object>"
      ]
     },
     "metadata": {},
     "output_type": "display_data"
    },
    {
     "data": {
      "text/html": [
       "<div>\n",
       "<style scoped>\n",
       "    .dataframe tbody tr th:only-of-type {\n",
       "        vertical-align: middle;\n",
       "    }\n",
       "\n",
       "    .dataframe tbody tr th {\n",
       "        vertical-align: top;\n",
       "    }\n",
       "\n",
       "    .dataframe thead th {\n",
       "        text-align: right;\n",
       "    }\n",
       "</style>\n",
       "<table border=\"1\" class=\"dataframe\">\n",
       "  <thead>\n",
       "    <tr style=\"text-align: right;\">\n",
       "      <th></th>\n",
       "      <th>x1</th>\n",
       "      <th>x2</th>\n",
       "      <th>x3</th>\n",
       "      <th>s1</th>\n",
       "      <th>s2</th>\n",
       "      <th>s3</th>\n",
       "      <th>s4</th>\n",
       "      <th>RHS</th>\n",
       "    </tr>\n",
       "  </thead>\n",
       "  <tbody>\n",
       "    <tr>\n",
       "      <th>s1</th>\n",
       "      <td>0.0</td>\n",
       "      <td>-2.00</td>\n",
       "      <td>0.0</td>\n",
       "      <td>1.0</td>\n",
       "      <td>2.0</td>\n",
       "      <td>-8.0</td>\n",
       "      <td>0.0</td>\n",
       "      <td>24.0</td>\n",
       "    </tr>\n",
       "    <tr>\n",
       "      <th>x3</th>\n",
       "      <td>0.0</td>\n",
       "      <td>-2.00</td>\n",
       "      <td>1.0</td>\n",
       "      <td>0.0</td>\n",
       "      <td>2.0</td>\n",
       "      <td>-4.0</td>\n",
       "      <td>0.0</td>\n",
       "      <td>8.0</td>\n",
       "    </tr>\n",
       "    <tr>\n",
       "      <th>x1</th>\n",
       "      <td>1.0</td>\n",
       "      <td>1.25</td>\n",
       "      <td>0.0</td>\n",
       "      <td>0.0</td>\n",
       "      <td>-0.5</td>\n",
       "      <td>1.5</td>\n",
       "      <td>0.0</td>\n",
       "      <td>2.0</td>\n",
       "    </tr>\n",
       "    <tr>\n",
       "      <th>s4</th>\n",
       "      <td>0.0</td>\n",
       "      <td>1.00</td>\n",
       "      <td>0.0</td>\n",
       "      <td>0.0</td>\n",
       "      <td>0.0</td>\n",
       "      <td>0.0</td>\n",
       "      <td>1.0</td>\n",
       "      <td>5.0</td>\n",
       "    </tr>\n",
       "    <tr>\n",
       "      <th>C - Z</th>\n",
       "      <td>0.0</td>\n",
       "      <td>-5.00</td>\n",
       "      <td>0.0</td>\n",
       "      <td>0.0</td>\n",
       "      <td>-10.0</td>\n",
       "      <td>-10.0</td>\n",
       "      <td>0.0</td>\n",
       "      <td>-280.0</td>\n",
       "    </tr>\n",
       "  </tbody>\n",
       "</table>\n",
       "</div>"
      ],
      "text/plain": [
       "        x1    x2   x3   s1    s2    s3   s4    RHS\n",
       "s1     0.0 -2.00  0.0  1.0   2.0  -8.0  0.0   24.0\n",
       "x3     0.0 -2.00  1.0  0.0   2.0  -4.0  0.0    8.0\n",
       "x1     1.0  1.25  0.0  0.0  -0.5   1.5  0.0    2.0\n",
       "s4     0.0  1.00  0.0  0.0   0.0   0.0  1.0    5.0\n",
       "C - Z  0.0 -5.00  0.0  0.0 -10.0 -10.0  0.0 -280.0"
      ]
     },
     "metadata": {},
     "output_type": "display_data"
    },
    {
     "name": "stdout",
     "output_type": "stream",
     "text": [
      "\n",
      "=== RESULT ===\n",
      "Status: optimal\n",
      "Objective value: 280.0\n",
      "Solution: {'x1': np.float64(2.0), 'x2': 0.0, 'x3': np.float64(8.0)}\n",
      "Iterations: 2\n"
     ]
    }
   ],
   "source": [
    "# Example (change these to your own problem)\n",
    "sense = 'max'  # 'max' or 'min'\n",
    "c = [60, 30, 20]     # maximize 3x1 + 2x2\n",
    "A = [\n",
    "    [8, 6, 1],\n",
    "    [4, 2, 1.5],\n",
    "    [2, 1.5, 0.5],\n",
    "    [0, 1, 0]\n",
    "    \n",
    "]\n",
    "b = [48, 20, 8, 5]\n",
    "cons = ['<=', '<=', '<=', '<=']\n",
    "\n",
    "Mode = 'TwoPhase'\n",
    "\n",
    "run_and_show(sense, c, A, b, cons, Mode, M=1e5)\n"
   ]
  },
  {
   "cell_type": "markdown",
   "id": "ee89ff09",
   "metadata": {},
   "source": [
    "### ปุ๋ยเคมี NPK(6)"
   ]
  },
  {
   "cell_type": "code",
   "execution_count": null,
   "id": "e7978fc5",
   "metadata": {},
   "outputs": [
    {
     "name": "stderr",
     "output_type": "stream",
     "text": [
      "C:\\Users\\Admin\\AppData\\Local\\Temp\\ipykernel_2104\\2753902525.py:172: RuntimeWarning: divide by zero encountered in divide\n",
      "  ratios = np.where(mask, rhs / col, np.inf)\n"
     ]
    },
    {
     "data": {
      "text/markdown": [
       "### Phase 1 — Initial C - Z row"
      ],
      "text/plain": [
       "<IPython.core.display.Markdown object>"
      ]
     },
     "metadata": {},
     "output_type": "display_data"
    },
    {
     "data": {
      "text/html": [
       "<div>\n",
       "<style scoped>\n",
       "    .dataframe tbody tr th:only-of-type {\n",
       "        vertical-align: middle;\n",
       "    }\n",
       "\n",
       "    .dataframe tbody tr th {\n",
       "        vertical-align: top;\n",
       "    }\n",
       "\n",
       "    .dataframe thead th {\n",
       "        text-align: right;\n",
       "    }\n",
       "</style>\n",
       "<table border=\"1\" class=\"dataframe\">\n",
       "  <thead>\n",
       "    <tr style=\"text-align: right;\">\n",
       "      <th></th>\n",
       "      <th>x1</th>\n",
       "      <th>x2</th>\n",
       "      <th>x3</th>\n",
       "      <th>s1</th>\n",
       "      <th>t2</th>\n",
       "      <th>a2</th>\n",
       "      <th>s3</th>\n",
       "      <th>t4</th>\n",
       "      <th>a4</th>\n",
       "      <th>RHS</th>\n",
       "    </tr>\n",
       "  </thead>\n",
       "  <tbody>\n",
       "    <tr>\n",
       "      <th>s1</th>\n",
       "      <td>1.0</td>\n",
       "      <td>1.0</td>\n",
       "      <td>1.0</td>\n",
       "      <td>1.0</td>\n",
       "      <td>0.0</td>\n",
       "      <td>0.0</td>\n",
       "      <td>0.0</td>\n",
       "      <td>0.0</td>\n",
       "      <td>0.0</td>\n",
       "      <td>1000.0</td>\n",
       "    </tr>\n",
       "    <tr>\n",
       "      <th>a2</th>\n",
       "      <td>1.0</td>\n",
       "      <td>0.0</td>\n",
       "      <td>0.0</td>\n",
       "      <td>0.0</td>\n",
       "      <td>-1.0</td>\n",
       "      <td>1.0</td>\n",
       "      <td>0.0</td>\n",
       "      <td>0.0</td>\n",
       "      <td>0.0</td>\n",
       "      <td>200.0</td>\n",
       "    </tr>\n",
       "    <tr>\n",
       "      <th>s3</th>\n",
       "      <td>0.0</td>\n",
       "      <td>1.0</td>\n",
       "      <td>0.0</td>\n",
       "      <td>0.0</td>\n",
       "      <td>0.0</td>\n",
       "      <td>0.0</td>\n",
       "      <td>1.0</td>\n",
       "      <td>0.0</td>\n",
       "      <td>0.0</td>\n",
       "      <td>400.0</td>\n",
       "    </tr>\n",
       "    <tr>\n",
       "      <th>a4</th>\n",
       "      <td>0.0</td>\n",
       "      <td>0.0</td>\n",
       "      <td>1.0</td>\n",
       "      <td>0.0</td>\n",
       "      <td>0.0</td>\n",
       "      <td>0.0</td>\n",
       "      <td>0.0</td>\n",
       "      <td>-1.0</td>\n",
       "      <td>1.0</td>\n",
       "      <td>100.0</td>\n",
       "    </tr>\n",
       "    <tr>\n",
       "      <th>C - Z</th>\n",
       "      <td>1.0</td>\n",
       "      <td>0.0</td>\n",
       "      <td>1.0</td>\n",
       "      <td>0.0</td>\n",
       "      <td>-1.0</td>\n",
       "      <td>0.0</td>\n",
       "      <td>0.0</td>\n",
       "      <td>-1.0</td>\n",
       "      <td>0.0</td>\n",
       "      <td>300.0</td>\n",
       "    </tr>\n",
       "  </tbody>\n",
       "</table>\n",
       "</div>"
      ],
      "text/plain": [
       "        x1   x2   x3   s1   t2   a2   s3   t4   a4     RHS\n",
       "s1     1.0  1.0  1.0  1.0  0.0  0.0  0.0  0.0  0.0  1000.0\n",
       "a2     1.0  0.0  0.0  0.0 -1.0  1.0  0.0  0.0  0.0   200.0\n",
       "s3     0.0  1.0  0.0  0.0  0.0  0.0  1.0  0.0  0.0   400.0\n",
       "a4     0.0  0.0  1.0  0.0  0.0  0.0  0.0 -1.0  1.0   100.0\n",
       "C - Z  1.0  0.0  1.0  0.0 -1.0  0.0  0.0 -1.0  0.0   300.0"
      ]
     },
     "metadata": {},
     "output_type": "display_data"
    },
    {
     "data": {
      "text/markdown": [
       "Iteration 1 (Phase 1): Enter = x1, Leave = a2"
      ],
      "text/plain": [
       "<IPython.core.display.Markdown object>"
      ]
     },
     "metadata": {},
     "output_type": "display_data"
    },
    {
     "data": {
      "text/markdown": [
       "### After pivot #1"
      ],
      "text/plain": [
       "<IPython.core.display.Markdown object>"
      ]
     },
     "metadata": {},
     "output_type": "display_data"
    },
    {
     "data": {
      "text/html": [
       "<div>\n",
       "<style scoped>\n",
       "    .dataframe tbody tr th:only-of-type {\n",
       "        vertical-align: middle;\n",
       "    }\n",
       "\n",
       "    .dataframe tbody tr th {\n",
       "        vertical-align: top;\n",
       "    }\n",
       "\n",
       "    .dataframe thead th {\n",
       "        text-align: right;\n",
       "    }\n",
       "</style>\n",
       "<table border=\"1\" class=\"dataframe\">\n",
       "  <thead>\n",
       "    <tr style=\"text-align: right;\">\n",
       "      <th></th>\n",
       "      <th>x1</th>\n",
       "      <th>x2</th>\n",
       "      <th>x3</th>\n",
       "      <th>s1</th>\n",
       "      <th>t2</th>\n",
       "      <th>a2</th>\n",
       "      <th>s3</th>\n",
       "      <th>t4</th>\n",
       "      <th>a4</th>\n",
       "      <th>RHS</th>\n",
       "    </tr>\n",
       "  </thead>\n",
       "  <tbody>\n",
       "    <tr>\n",
       "      <th>s1</th>\n",
       "      <td>0.0</td>\n",
       "      <td>1.0</td>\n",
       "      <td>1.0</td>\n",
       "      <td>1.0</td>\n",
       "      <td>1.0</td>\n",
       "      <td>-1.0</td>\n",
       "      <td>0.0</td>\n",
       "      <td>0.0</td>\n",
       "      <td>0.0</td>\n",
       "      <td>800.0</td>\n",
       "    </tr>\n",
       "    <tr>\n",
       "      <th>x1</th>\n",
       "      <td>1.0</td>\n",
       "      <td>0.0</td>\n",
       "      <td>0.0</td>\n",
       "      <td>0.0</td>\n",
       "      <td>-1.0</td>\n",
       "      <td>1.0</td>\n",
       "      <td>0.0</td>\n",
       "      <td>0.0</td>\n",
       "      <td>0.0</td>\n",
       "      <td>200.0</td>\n",
       "    </tr>\n",
       "    <tr>\n",
       "      <th>s3</th>\n",
       "      <td>0.0</td>\n",
       "      <td>1.0</td>\n",
       "      <td>0.0</td>\n",
       "      <td>0.0</td>\n",
       "      <td>0.0</td>\n",
       "      <td>0.0</td>\n",
       "      <td>1.0</td>\n",
       "      <td>0.0</td>\n",
       "      <td>0.0</td>\n",
       "      <td>400.0</td>\n",
       "    </tr>\n",
       "    <tr>\n",
       "      <th>a4</th>\n",
       "      <td>0.0</td>\n",
       "      <td>0.0</td>\n",
       "      <td>1.0</td>\n",
       "      <td>0.0</td>\n",
       "      <td>0.0</td>\n",
       "      <td>0.0</td>\n",
       "      <td>0.0</td>\n",
       "      <td>-1.0</td>\n",
       "      <td>1.0</td>\n",
       "      <td>100.0</td>\n",
       "    </tr>\n",
       "    <tr>\n",
       "      <th>C - Z</th>\n",
       "      <td>0.0</td>\n",
       "      <td>0.0</td>\n",
       "      <td>1.0</td>\n",
       "      <td>0.0</td>\n",
       "      <td>0.0</td>\n",
       "      <td>-1.0</td>\n",
       "      <td>0.0</td>\n",
       "      <td>-1.0</td>\n",
       "      <td>0.0</td>\n",
       "      <td>100.0</td>\n",
       "    </tr>\n",
       "  </tbody>\n",
       "</table>\n",
       "</div>"
      ],
      "text/plain": [
       "        x1   x2   x3   s1   t2   a2   s3   t4   a4    RHS\n",
       "s1     0.0  1.0  1.0  1.0  1.0 -1.0  0.0  0.0  0.0  800.0\n",
       "x1     1.0  0.0  0.0  0.0 -1.0  1.0  0.0  0.0  0.0  200.0\n",
       "s3     0.0  1.0  0.0  0.0  0.0  0.0  1.0  0.0  0.0  400.0\n",
       "a4     0.0  0.0  1.0  0.0  0.0  0.0  0.0 -1.0  1.0  100.0\n",
       "C - Z  0.0  0.0  1.0  0.0  0.0 -1.0  0.0 -1.0  0.0  100.0"
      ]
     },
     "metadata": {},
     "output_type": "display_data"
    },
    {
     "data": {
      "text/markdown": [
       "Iteration 2 (Phase 1): Enter = x3, Leave = a4"
      ],
      "text/plain": [
       "<IPython.core.display.Markdown object>"
      ]
     },
     "metadata": {},
     "output_type": "display_data"
    },
    {
     "data": {
      "text/markdown": [
       "### After pivot #2"
      ],
      "text/plain": [
       "<IPython.core.display.Markdown object>"
      ]
     },
     "metadata": {},
     "output_type": "display_data"
    },
    {
     "data": {
      "text/html": [
       "<div>\n",
       "<style scoped>\n",
       "    .dataframe tbody tr th:only-of-type {\n",
       "        vertical-align: middle;\n",
       "    }\n",
       "\n",
       "    .dataframe tbody tr th {\n",
       "        vertical-align: top;\n",
       "    }\n",
       "\n",
       "    .dataframe thead th {\n",
       "        text-align: right;\n",
       "    }\n",
       "</style>\n",
       "<table border=\"1\" class=\"dataframe\">\n",
       "  <thead>\n",
       "    <tr style=\"text-align: right;\">\n",
       "      <th></th>\n",
       "      <th>x1</th>\n",
       "      <th>x2</th>\n",
       "      <th>x3</th>\n",
       "      <th>s1</th>\n",
       "      <th>t2</th>\n",
       "      <th>a2</th>\n",
       "      <th>s3</th>\n",
       "      <th>t4</th>\n",
       "      <th>a4</th>\n",
       "      <th>RHS</th>\n",
       "    </tr>\n",
       "  </thead>\n",
       "  <tbody>\n",
       "    <tr>\n",
       "      <th>s1</th>\n",
       "      <td>0.0</td>\n",
       "      <td>1.0</td>\n",
       "      <td>0.0</td>\n",
       "      <td>1.0</td>\n",
       "      <td>1.0</td>\n",
       "      <td>-1.0</td>\n",
       "      <td>0.0</td>\n",
       "      <td>1.0</td>\n",
       "      <td>-1.0</td>\n",
       "      <td>700.0</td>\n",
       "    </tr>\n",
       "    <tr>\n",
       "      <th>x1</th>\n",
       "      <td>1.0</td>\n",
       "      <td>0.0</td>\n",
       "      <td>0.0</td>\n",
       "      <td>0.0</td>\n",
       "      <td>-1.0</td>\n",
       "      <td>1.0</td>\n",
       "      <td>0.0</td>\n",
       "      <td>0.0</td>\n",
       "      <td>0.0</td>\n",
       "      <td>200.0</td>\n",
       "    </tr>\n",
       "    <tr>\n",
       "      <th>s3</th>\n",
       "      <td>0.0</td>\n",
       "      <td>1.0</td>\n",
       "      <td>0.0</td>\n",
       "      <td>0.0</td>\n",
       "      <td>0.0</td>\n",
       "      <td>0.0</td>\n",
       "      <td>1.0</td>\n",
       "      <td>0.0</td>\n",
       "      <td>0.0</td>\n",
       "      <td>400.0</td>\n",
       "    </tr>\n",
       "    <tr>\n",
       "      <th>x3</th>\n",
       "      <td>0.0</td>\n",
       "      <td>0.0</td>\n",
       "      <td>1.0</td>\n",
       "      <td>0.0</td>\n",
       "      <td>0.0</td>\n",
       "      <td>0.0</td>\n",
       "      <td>0.0</td>\n",
       "      <td>-1.0</td>\n",
       "      <td>1.0</td>\n",
       "      <td>100.0</td>\n",
       "    </tr>\n",
       "    <tr>\n",
       "      <th>C - Z</th>\n",
       "      <td>0.0</td>\n",
       "      <td>0.0</td>\n",
       "      <td>0.0</td>\n",
       "      <td>0.0</td>\n",
       "      <td>0.0</td>\n",
       "      <td>-1.0</td>\n",
       "      <td>0.0</td>\n",
       "      <td>0.0</td>\n",
       "      <td>-1.0</td>\n",
       "      <td>0.0</td>\n",
       "    </tr>\n",
       "  </tbody>\n",
       "</table>\n",
       "</div>"
      ],
      "text/plain": [
       "        x1   x2   x3   s1   t2   a2   s3   t4   a4    RHS\n",
       "s1     0.0  1.0  0.0  1.0  1.0 -1.0  0.0  1.0 -1.0  700.0\n",
       "x1     1.0  0.0  0.0  0.0 -1.0  1.0  0.0  0.0  0.0  200.0\n",
       "s3     0.0  1.0  0.0  0.0  0.0  0.0  1.0  0.0  0.0  400.0\n",
       "x3     0.0  0.0  1.0  0.0  0.0  0.0  0.0 -1.0  1.0  100.0\n",
       "C - Z  0.0  0.0  0.0  0.0  0.0 -1.0  0.0  0.0 -1.0    0.0"
      ]
     },
     "metadata": {},
     "output_type": "display_data"
    },
    {
     "data": {
      "text/markdown": [
       "### Phase 1 — Optimal (no positive C-Z). Objective = -0.000000"
      ],
      "text/plain": [
       "<IPython.core.display.Markdown object>"
      ]
     },
     "metadata": {},
     "output_type": "display_data"
    },
    {
     "data": {
      "text/html": [
       "<div>\n",
       "<style scoped>\n",
       "    .dataframe tbody tr th:only-of-type {\n",
       "        vertical-align: middle;\n",
       "    }\n",
       "\n",
       "    .dataframe tbody tr th {\n",
       "        vertical-align: top;\n",
       "    }\n",
       "\n",
       "    .dataframe thead th {\n",
       "        text-align: right;\n",
       "    }\n",
       "</style>\n",
       "<table border=\"1\" class=\"dataframe\">\n",
       "  <thead>\n",
       "    <tr style=\"text-align: right;\">\n",
       "      <th></th>\n",
       "      <th>x1</th>\n",
       "      <th>x2</th>\n",
       "      <th>x3</th>\n",
       "      <th>s1</th>\n",
       "      <th>t2</th>\n",
       "      <th>a2</th>\n",
       "      <th>s3</th>\n",
       "      <th>t4</th>\n",
       "      <th>a4</th>\n",
       "      <th>RHS</th>\n",
       "    </tr>\n",
       "  </thead>\n",
       "  <tbody>\n",
       "    <tr>\n",
       "      <th>s1</th>\n",
       "      <td>0.0</td>\n",
       "      <td>1.0</td>\n",
       "      <td>0.0</td>\n",
       "      <td>1.0</td>\n",
       "      <td>1.0</td>\n",
       "      <td>-1.0</td>\n",
       "      <td>0.0</td>\n",
       "      <td>1.0</td>\n",
       "      <td>-1.0</td>\n",
       "      <td>700.0</td>\n",
       "    </tr>\n",
       "    <tr>\n",
       "      <th>x1</th>\n",
       "      <td>1.0</td>\n",
       "      <td>0.0</td>\n",
       "      <td>0.0</td>\n",
       "      <td>0.0</td>\n",
       "      <td>-1.0</td>\n",
       "      <td>1.0</td>\n",
       "      <td>0.0</td>\n",
       "      <td>0.0</td>\n",
       "      <td>0.0</td>\n",
       "      <td>200.0</td>\n",
       "    </tr>\n",
       "    <tr>\n",
       "      <th>s3</th>\n",
       "      <td>0.0</td>\n",
       "      <td>1.0</td>\n",
       "      <td>0.0</td>\n",
       "      <td>0.0</td>\n",
       "      <td>0.0</td>\n",
       "      <td>0.0</td>\n",
       "      <td>1.0</td>\n",
       "      <td>0.0</td>\n",
       "      <td>0.0</td>\n",
       "      <td>400.0</td>\n",
       "    </tr>\n",
       "    <tr>\n",
       "      <th>x3</th>\n",
       "      <td>0.0</td>\n",
       "      <td>0.0</td>\n",
       "      <td>1.0</td>\n",
       "      <td>0.0</td>\n",
       "      <td>0.0</td>\n",
       "      <td>0.0</td>\n",
       "      <td>0.0</td>\n",
       "      <td>-1.0</td>\n",
       "      <td>1.0</td>\n",
       "      <td>100.0</td>\n",
       "    </tr>\n",
       "    <tr>\n",
       "      <th>C - Z</th>\n",
       "      <td>0.0</td>\n",
       "      <td>0.0</td>\n",
       "      <td>0.0</td>\n",
       "      <td>0.0</td>\n",
       "      <td>0.0</td>\n",
       "      <td>-1.0</td>\n",
       "      <td>0.0</td>\n",
       "      <td>0.0</td>\n",
       "      <td>-1.0</td>\n",
       "      <td>0.0</td>\n",
       "    </tr>\n",
       "  </tbody>\n",
       "</table>\n",
       "</div>"
      ],
      "text/plain": [
       "        x1   x2   x3   s1   t2   a2   s3   t4   a4    RHS\n",
       "s1     0.0  1.0  0.0  1.0  1.0 -1.0  0.0  1.0 -1.0  700.0\n",
       "x1     1.0  0.0  0.0  0.0 -1.0  1.0  0.0  0.0  0.0  200.0\n",
       "s3     0.0  1.0  0.0  0.0  0.0  0.0  1.0  0.0  0.0  400.0\n",
       "x3     0.0  0.0  1.0  0.0  0.0  0.0  0.0 -1.0  1.0  100.0\n",
       "C - Z  0.0  0.0  0.0  0.0  0.0 -1.0  0.0  0.0 -1.0    0.0"
      ]
     },
     "metadata": {},
     "output_type": "display_data"
    },
    {
     "data": {
      "text/markdown": [
       "### Phase 2 — Initial C - Z row"
      ],
      "text/plain": [
       "<IPython.core.display.Markdown object>"
      ]
     },
     "metadata": {},
     "output_type": "display_data"
    },
    {
     "data": {
      "text/html": [
       "<div>\n",
       "<style scoped>\n",
       "    .dataframe tbody tr th:only-of-type {\n",
       "        vertical-align: middle;\n",
       "    }\n",
       "\n",
       "    .dataframe tbody tr th {\n",
       "        vertical-align: top;\n",
       "    }\n",
       "\n",
       "    .dataframe thead th {\n",
       "        text-align: right;\n",
       "    }\n",
       "</style>\n",
       "<table border=\"1\" class=\"dataframe\">\n",
       "  <thead>\n",
       "    <tr style=\"text-align: right;\">\n",
       "      <th></th>\n",
       "      <th>x1</th>\n",
       "      <th>x2</th>\n",
       "      <th>x3</th>\n",
       "      <th>s1</th>\n",
       "      <th>t2</th>\n",
       "      <th>s3</th>\n",
       "      <th>t4</th>\n",
       "      <th>RHS</th>\n",
       "    </tr>\n",
       "  </thead>\n",
       "  <tbody>\n",
       "    <tr>\n",
       "      <th>s1</th>\n",
       "      <td>0.0</td>\n",
       "      <td>1.0</td>\n",
       "      <td>0.0</td>\n",
       "      <td>1.0</td>\n",
       "      <td>1.0</td>\n",
       "      <td>0.0</td>\n",
       "      <td>1.0</td>\n",
       "      <td>700.0</td>\n",
       "    </tr>\n",
       "    <tr>\n",
       "      <th>x1</th>\n",
       "      <td>1.0</td>\n",
       "      <td>0.0</td>\n",
       "      <td>0.0</td>\n",
       "      <td>0.0</td>\n",
       "      <td>-1.0</td>\n",
       "      <td>0.0</td>\n",
       "      <td>0.0</td>\n",
       "      <td>200.0</td>\n",
       "    </tr>\n",
       "    <tr>\n",
       "      <th>s3</th>\n",
       "      <td>0.0</td>\n",
       "      <td>1.0</td>\n",
       "      <td>0.0</td>\n",
       "      <td>0.0</td>\n",
       "      <td>0.0</td>\n",
       "      <td>1.0</td>\n",
       "      <td>0.0</td>\n",
       "      <td>400.0</td>\n",
       "    </tr>\n",
       "    <tr>\n",
       "      <th>x3</th>\n",
       "      <td>0.0</td>\n",
       "      <td>0.0</td>\n",
       "      <td>1.0</td>\n",
       "      <td>0.0</td>\n",
       "      <td>0.0</td>\n",
       "      <td>0.0</td>\n",
       "      <td>-1.0</td>\n",
       "      <td>100.0</td>\n",
       "    </tr>\n",
       "    <tr>\n",
       "      <th>C - Z</th>\n",
       "      <td>0.0</td>\n",
       "      <td>-3.0</td>\n",
       "      <td>0.0</td>\n",
       "      <td>0.0</td>\n",
       "      <td>-2.0</td>\n",
       "      <td>0.0</td>\n",
       "      <td>-4.0</td>\n",
       "      <td>800.0</td>\n",
       "    </tr>\n",
       "  </tbody>\n",
       "</table>\n",
       "</div>"
      ],
      "text/plain": [
       "        x1   x2   x3   s1   t2   s3   t4    RHS\n",
       "s1     0.0  1.0  0.0  1.0  1.0  0.0  1.0  700.0\n",
       "x1     1.0  0.0  0.0  0.0 -1.0  0.0  0.0  200.0\n",
       "s3     0.0  1.0  0.0  0.0  0.0  1.0  0.0  400.0\n",
       "x3     0.0  0.0  1.0  0.0  0.0  0.0 -1.0  100.0\n",
       "C - Z  0.0 -3.0  0.0  0.0 -2.0  0.0 -4.0  800.0"
      ]
     },
     "metadata": {},
     "output_type": "display_data"
    },
    {
     "data": {
      "text/markdown": [
       "### Phase 2 — Optimal (no positive C-Z). Objective = -800.000000"
      ],
      "text/plain": [
       "<IPython.core.display.Markdown object>"
      ]
     },
     "metadata": {},
     "output_type": "display_data"
    },
    {
     "data": {
      "text/html": [
       "<div>\n",
       "<style scoped>\n",
       "    .dataframe tbody tr th:only-of-type {\n",
       "        vertical-align: middle;\n",
       "    }\n",
       "\n",
       "    .dataframe tbody tr th {\n",
       "        vertical-align: top;\n",
       "    }\n",
       "\n",
       "    .dataframe thead th {\n",
       "        text-align: right;\n",
       "    }\n",
       "</style>\n",
       "<table border=\"1\" class=\"dataframe\">\n",
       "  <thead>\n",
       "    <tr style=\"text-align: right;\">\n",
       "      <th></th>\n",
       "      <th>x1</th>\n",
       "      <th>x2</th>\n",
       "      <th>x3</th>\n",
       "      <th>s1</th>\n",
       "      <th>t2</th>\n",
       "      <th>s3</th>\n",
       "      <th>t4</th>\n",
       "      <th>RHS</th>\n",
       "    </tr>\n",
       "  </thead>\n",
       "  <tbody>\n",
       "    <tr>\n",
       "      <th>s1</th>\n",
       "      <td>0.0</td>\n",
       "      <td>1.0</td>\n",
       "      <td>0.0</td>\n",
       "      <td>1.0</td>\n",
       "      <td>1.0</td>\n",
       "      <td>0.0</td>\n",
       "      <td>1.0</td>\n",
       "      <td>700.0</td>\n",
       "    </tr>\n",
       "    <tr>\n",
       "      <th>x1</th>\n",
       "      <td>1.0</td>\n",
       "      <td>0.0</td>\n",
       "      <td>0.0</td>\n",
       "      <td>0.0</td>\n",
       "      <td>-1.0</td>\n",
       "      <td>0.0</td>\n",
       "      <td>0.0</td>\n",
       "      <td>200.0</td>\n",
       "    </tr>\n",
       "    <tr>\n",
       "      <th>s3</th>\n",
       "      <td>0.0</td>\n",
       "      <td>1.0</td>\n",
       "      <td>0.0</td>\n",
       "      <td>0.0</td>\n",
       "      <td>0.0</td>\n",
       "      <td>1.0</td>\n",
       "      <td>0.0</td>\n",
       "      <td>400.0</td>\n",
       "    </tr>\n",
       "    <tr>\n",
       "      <th>x3</th>\n",
       "      <td>0.0</td>\n",
       "      <td>0.0</td>\n",
       "      <td>1.0</td>\n",
       "      <td>0.0</td>\n",
       "      <td>0.0</td>\n",
       "      <td>0.0</td>\n",
       "      <td>-1.0</td>\n",
       "      <td>100.0</td>\n",
       "    </tr>\n",
       "    <tr>\n",
       "      <th>C - Z</th>\n",
       "      <td>0.0</td>\n",
       "      <td>-3.0</td>\n",
       "      <td>0.0</td>\n",
       "      <td>0.0</td>\n",
       "      <td>-2.0</td>\n",
       "      <td>0.0</td>\n",
       "      <td>-4.0</td>\n",
       "      <td>800.0</td>\n",
       "    </tr>\n",
       "  </tbody>\n",
       "</table>\n",
       "</div>"
      ],
      "text/plain": [
       "        x1   x2   x3   s1   t2   s3   t4    RHS\n",
       "s1     0.0  1.0  0.0  1.0  1.0  0.0  1.0  700.0\n",
       "x1     1.0  0.0  0.0  0.0 -1.0  0.0  0.0  200.0\n",
       "s3     0.0  1.0  0.0  0.0  0.0  1.0  0.0  400.0\n",
       "x3     0.0  0.0  1.0  0.0  0.0  0.0 -1.0  100.0\n",
       "C - Z  0.0 -3.0  0.0  0.0 -2.0  0.0 -4.0  800.0"
      ]
     },
     "metadata": {},
     "output_type": "display_data"
    },
    {
     "name": "stdout",
     "output_type": "stream",
     "text": [
      "\n",
      "=== RESULT ===\n",
      "Status: optimal\n",
      "Objective value: 800.0\n",
      "Solution: {'x1': np.float64(200.0), 'x2': 0.0, 'x3': np.float64(100.0)}\n",
      "Iterations: 2\n"
     ]
    }
   ],
   "source": [
    "# Example (change these to your own problem)\n",
    "sense = 'min'  # 'max' or 'min'\n",
    "c = [2, 3, 4]     # maximize 3x1 + 2x2\n",
    "A = [\n",
    "    [1, 1, 1],\n",
    "    [1, 0, 0],\n",
    "    [0, 1, 0],\n",
    "    [0, 0, 1]\n",
    "    \n",
    "]\n",
    "b = [1000, 200, 400, 100]\n",
    "cons = ['<=', '>=', '<=', '>=']\n",
    "\n",
    "Mode = 'TwoPhase'\n",
    "\n",
    "run_and_show(sense, c, A, b, cons, Mode, M=1e5)\n"
   ]
  },
  {
   "cell_type": "markdown",
   "id": "bc38a35e",
   "metadata": {},
   "source": [
    "### หน้า 18"
   ]
  },
  {
   "cell_type": "code",
   "execution_count": null,
   "id": "aa761d44",
   "metadata": {},
   "outputs": [
    {
     "name": "stderr",
     "output_type": "stream",
     "text": [
      "C:\\Users\\Admin\\AppData\\Local\\Temp\\ipykernel_2104\\2753902525.py:172: RuntimeWarning: divide by zero encountered in divide\n",
      "  ratios = np.where(mask, rhs / col, np.inf)\n"
     ]
    },
    {
     "data": {
      "text/markdown": [
       "### Phase 2 — Initial C - Z row"
      ],
      "text/plain": [
       "<IPython.core.display.Markdown object>"
      ]
     },
     "metadata": {},
     "output_type": "display_data"
    },
    {
     "data": {
      "text/html": [
       "<div>\n",
       "<style scoped>\n",
       "    .dataframe tbody tr th:only-of-type {\n",
       "        vertical-align: middle;\n",
       "    }\n",
       "\n",
       "    .dataframe tbody tr th {\n",
       "        vertical-align: top;\n",
       "    }\n",
       "\n",
       "    .dataframe thead th {\n",
       "        text-align: right;\n",
       "    }\n",
       "</style>\n",
       "<table border=\"1\" class=\"dataframe\">\n",
       "  <thead>\n",
       "    <tr style=\"text-align: right;\">\n",
       "      <th></th>\n",
       "      <th>x1</th>\n",
       "      <th>x2</th>\n",
       "      <th>x3</th>\n",
       "      <th>s1</th>\n",
       "      <th>s2</th>\n",
       "      <th>s3</th>\n",
       "      <th>s4</th>\n",
       "      <th>RHS</th>\n",
       "    </tr>\n",
       "  </thead>\n",
       "  <tbody>\n",
       "    <tr>\n",
       "      <th>s1</th>\n",
       "      <td>8.0</td>\n",
       "      <td>6.0</td>\n",
       "      <td>1.0</td>\n",
       "      <td>1.0</td>\n",
       "      <td>0.0</td>\n",
       "      <td>0.0</td>\n",
       "      <td>0.0</td>\n",
       "      <td>48.0</td>\n",
       "    </tr>\n",
       "    <tr>\n",
       "      <th>s2</th>\n",
       "      <td>4.0</td>\n",
       "      <td>2.0</td>\n",
       "      <td>1.5</td>\n",
       "      <td>0.0</td>\n",
       "      <td>1.0</td>\n",
       "      <td>0.0</td>\n",
       "      <td>0.0</td>\n",
       "      <td>20.0</td>\n",
       "    </tr>\n",
       "    <tr>\n",
       "      <th>s3</th>\n",
       "      <td>2.0</td>\n",
       "      <td>1.5</td>\n",
       "      <td>0.5</td>\n",
       "      <td>0.0</td>\n",
       "      <td>0.0</td>\n",
       "      <td>1.0</td>\n",
       "      <td>0.0</td>\n",
       "      <td>8.0</td>\n",
       "    </tr>\n",
       "    <tr>\n",
       "      <th>s4</th>\n",
       "      <td>0.0</td>\n",
       "      <td>1.0</td>\n",
       "      <td>0.0</td>\n",
       "      <td>0.0</td>\n",
       "      <td>0.0</td>\n",
       "      <td>0.0</td>\n",
       "      <td>1.0</td>\n",
       "      <td>5.0</td>\n",
       "    </tr>\n",
       "    <tr>\n",
       "      <th>C - Z</th>\n",
       "      <td>60.0</td>\n",
       "      <td>30.0</td>\n",
       "      <td>20.0</td>\n",
       "      <td>0.0</td>\n",
       "      <td>0.0</td>\n",
       "      <td>0.0</td>\n",
       "      <td>0.0</td>\n",
       "      <td>0.0</td>\n",
       "    </tr>\n",
       "  </tbody>\n",
       "</table>\n",
       "</div>"
      ],
      "text/plain": [
       "         x1    x2    x3   s1   s2   s3   s4   RHS\n",
       "s1      8.0   6.0   1.0  1.0  0.0  0.0  0.0  48.0\n",
       "s2      4.0   2.0   1.5  0.0  1.0  0.0  0.0  20.0\n",
       "s3      2.0   1.5   0.5  0.0  0.0  1.0  0.0   8.0\n",
       "s4      0.0   1.0   0.0  0.0  0.0  0.0  1.0   5.0\n",
       "C - Z  60.0  30.0  20.0  0.0  0.0  0.0  0.0   0.0"
      ]
     },
     "metadata": {},
     "output_type": "display_data"
    },
    {
     "data": {
      "text/markdown": [
       "Iteration 1 (Phase 2): Enter = x1, Leave = s3"
      ],
      "text/plain": [
       "<IPython.core.display.Markdown object>"
      ]
     },
     "metadata": {},
     "output_type": "display_data"
    },
    {
     "data": {
      "text/markdown": [
       "### After pivot #1"
      ],
      "text/plain": [
       "<IPython.core.display.Markdown object>"
      ]
     },
     "metadata": {},
     "output_type": "display_data"
    },
    {
     "data": {
      "text/html": [
       "<div>\n",
       "<style scoped>\n",
       "    .dataframe tbody tr th:only-of-type {\n",
       "        vertical-align: middle;\n",
       "    }\n",
       "\n",
       "    .dataframe tbody tr th {\n",
       "        vertical-align: top;\n",
       "    }\n",
       "\n",
       "    .dataframe thead th {\n",
       "        text-align: right;\n",
       "    }\n",
       "</style>\n",
       "<table border=\"1\" class=\"dataframe\">\n",
       "  <thead>\n",
       "    <tr style=\"text-align: right;\">\n",
       "      <th></th>\n",
       "      <th>x1</th>\n",
       "      <th>x2</th>\n",
       "      <th>x3</th>\n",
       "      <th>s1</th>\n",
       "      <th>s2</th>\n",
       "      <th>s3</th>\n",
       "      <th>s4</th>\n",
       "      <th>RHS</th>\n",
       "    </tr>\n",
       "  </thead>\n",
       "  <tbody>\n",
       "    <tr>\n",
       "      <th>s1</th>\n",
       "      <td>0.0</td>\n",
       "      <td>0.00</td>\n",
       "      <td>-1.00</td>\n",
       "      <td>1.0</td>\n",
       "      <td>0.0</td>\n",
       "      <td>-4.0</td>\n",
       "      <td>0.0</td>\n",
       "      <td>16.0</td>\n",
       "    </tr>\n",
       "    <tr>\n",
       "      <th>s2</th>\n",
       "      <td>0.0</td>\n",
       "      <td>-1.00</td>\n",
       "      <td>0.50</td>\n",
       "      <td>0.0</td>\n",
       "      <td>1.0</td>\n",
       "      <td>-2.0</td>\n",
       "      <td>0.0</td>\n",
       "      <td>4.0</td>\n",
       "    </tr>\n",
       "    <tr>\n",
       "      <th>x1</th>\n",
       "      <td>1.0</td>\n",
       "      <td>0.75</td>\n",
       "      <td>0.25</td>\n",
       "      <td>0.0</td>\n",
       "      <td>0.0</td>\n",
       "      <td>0.5</td>\n",
       "      <td>0.0</td>\n",
       "      <td>4.0</td>\n",
       "    </tr>\n",
       "    <tr>\n",
       "      <th>s4</th>\n",
       "      <td>0.0</td>\n",
       "      <td>1.00</td>\n",
       "      <td>0.00</td>\n",
       "      <td>0.0</td>\n",
       "      <td>0.0</td>\n",
       "      <td>0.0</td>\n",
       "      <td>1.0</td>\n",
       "      <td>5.0</td>\n",
       "    </tr>\n",
       "    <tr>\n",
       "      <th>C - Z</th>\n",
       "      <td>0.0</td>\n",
       "      <td>-15.00</td>\n",
       "      <td>5.00</td>\n",
       "      <td>0.0</td>\n",
       "      <td>0.0</td>\n",
       "      <td>-30.0</td>\n",
       "      <td>0.0</td>\n",
       "      <td>-240.0</td>\n",
       "    </tr>\n",
       "  </tbody>\n",
       "</table>\n",
       "</div>"
      ],
      "text/plain": [
       "        x1     x2    x3   s1   s2    s3   s4    RHS\n",
       "s1     0.0   0.00 -1.00  1.0  0.0  -4.0  0.0   16.0\n",
       "s2     0.0  -1.00  0.50  0.0  1.0  -2.0  0.0    4.0\n",
       "x1     1.0   0.75  0.25  0.0  0.0   0.5  0.0    4.0\n",
       "s4     0.0   1.00  0.00  0.0  0.0   0.0  1.0    5.0\n",
       "C - Z  0.0 -15.00  5.00  0.0  0.0 -30.0  0.0 -240.0"
      ]
     },
     "metadata": {},
     "output_type": "display_data"
    },
    {
     "data": {
      "text/markdown": [
       "Iteration 2 (Phase 2): Enter = x3, Leave = s2"
      ],
      "text/plain": [
       "<IPython.core.display.Markdown object>"
      ]
     },
     "metadata": {},
     "output_type": "display_data"
    },
    {
     "data": {
      "text/markdown": [
       "### After pivot #2"
      ],
      "text/plain": [
       "<IPython.core.display.Markdown object>"
      ]
     },
     "metadata": {},
     "output_type": "display_data"
    },
    {
     "data": {
      "text/html": [
       "<div>\n",
       "<style scoped>\n",
       "    .dataframe tbody tr th:only-of-type {\n",
       "        vertical-align: middle;\n",
       "    }\n",
       "\n",
       "    .dataframe tbody tr th {\n",
       "        vertical-align: top;\n",
       "    }\n",
       "\n",
       "    .dataframe thead th {\n",
       "        text-align: right;\n",
       "    }\n",
       "</style>\n",
       "<table border=\"1\" class=\"dataframe\">\n",
       "  <thead>\n",
       "    <tr style=\"text-align: right;\">\n",
       "      <th></th>\n",
       "      <th>x1</th>\n",
       "      <th>x2</th>\n",
       "      <th>x3</th>\n",
       "      <th>s1</th>\n",
       "      <th>s2</th>\n",
       "      <th>s3</th>\n",
       "      <th>s4</th>\n",
       "      <th>RHS</th>\n",
       "    </tr>\n",
       "  </thead>\n",
       "  <tbody>\n",
       "    <tr>\n",
       "      <th>s1</th>\n",
       "      <td>0.0</td>\n",
       "      <td>-2.00</td>\n",
       "      <td>0.0</td>\n",
       "      <td>1.0</td>\n",
       "      <td>2.0</td>\n",
       "      <td>-8.0</td>\n",
       "      <td>0.0</td>\n",
       "      <td>24.0</td>\n",
       "    </tr>\n",
       "    <tr>\n",
       "      <th>x3</th>\n",
       "      <td>0.0</td>\n",
       "      <td>-2.00</td>\n",
       "      <td>1.0</td>\n",
       "      <td>0.0</td>\n",
       "      <td>2.0</td>\n",
       "      <td>-4.0</td>\n",
       "      <td>0.0</td>\n",
       "      <td>8.0</td>\n",
       "    </tr>\n",
       "    <tr>\n",
       "      <th>x1</th>\n",
       "      <td>1.0</td>\n",
       "      <td>1.25</td>\n",
       "      <td>0.0</td>\n",
       "      <td>0.0</td>\n",
       "      <td>-0.5</td>\n",
       "      <td>1.5</td>\n",
       "      <td>0.0</td>\n",
       "      <td>2.0</td>\n",
       "    </tr>\n",
       "    <tr>\n",
       "      <th>s4</th>\n",
       "      <td>0.0</td>\n",
       "      <td>1.00</td>\n",
       "      <td>0.0</td>\n",
       "      <td>0.0</td>\n",
       "      <td>0.0</td>\n",
       "      <td>0.0</td>\n",
       "      <td>1.0</td>\n",
       "      <td>5.0</td>\n",
       "    </tr>\n",
       "    <tr>\n",
       "      <th>C - Z</th>\n",
       "      <td>0.0</td>\n",
       "      <td>-5.00</td>\n",
       "      <td>0.0</td>\n",
       "      <td>0.0</td>\n",
       "      <td>-10.0</td>\n",
       "      <td>-10.0</td>\n",
       "      <td>0.0</td>\n",
       "      <td>-280.0</td>\n",
       "    </tr>\n",
       "  </tbody>\n",
       "</table>\n",
       "</div>"
      ],
      "text/plain": [
       "        x1    x2   x3   s1    s2    s3   s4    RHS\n",
       "s1     0.0 -2.00  0.0  1.0   2.0  -8.0  0.0   24.0\n",
       "x3     0.0 -2.00  1.0  0.0   2.0  -4.0  0.0    8.0\n",
       "x1     1.0  1.25  0.0  0.0  -0.5   1.5  0.0    2.0\n",
       "s4     0.0  1.00  0.0  0.0   0.0   0.0  1.0    5.0\n",
       "C - Z  0.0 -5.00  0.0  0.0 -10.0 -10.0  0.0 -280.0"
      ]
     },
     "metadata": {},
     "output_type": "display_data"
    },
    {
     "data": {
      "text/markdown": [
       "### Phase 2 — Optimal (no positive C-Z). Objective = 280.000000"
      ],
      "text/plain": [
       "<IPython.core.display.Markdown object>"
      ]
     },
     "metadata": {},
     "output_type": "display_data"
    },
    {
     "data": {
      "text/html": [
       "<div>\n",
       "<style scoped>\n",
       "    .dataframe tbody tr th:only-of-type {\n",
       "        vertical-align: middle;\n",
       "    }\n",
       "\n",
       "    .dataframe tbody tr th {\n",
       "        vertical-align: top;\n",
       "    }\n",
       "\n",
       "    .dataframe thead th {\n",
       "        text-align: right;\n",
       "    }\n",
       "</style>\n",
       "<table border=\"1\" class=\"dataframe\">\n",
       "  <thead>\n",
       "    <tr style=\"text-align: right;\">\n",
       "      <th></th>\n",
       "      <th>x1</th>\n",
       "      <th>x2</th>\n",
       "      <th>x3</th>\n",
       "      <th>s1</th>\n",
       "      <th>s2</th>\n",
       "      <th>s3</th>\n",
       "      <th>s4</th>\n",
       "      <th>RHS</th>\n",
       "    </tr>\n",
       "  </thead>\n",
       "  <tbody>\n",
       "    <tr>\n",
       "      <th>s1</th>\n",
       "      <td>0.0</td>\n",
       "      <td>-2.00</td>\n",
       "      <td>0.0</td>\n",
       "      <td>1.0</td>\n",
       "      <td>2.0</td>\n",
       "      <td>-8.0</td>\n",
       "      <td>0.0</td>\n",
       "      <td>24.0</td>\n",
       "    </tr>\n",
       "    <tr>\n",
       "      <th>x3</th>\n",
       "      <td>0.0</td>\n",
       "      <td>-2.00</td>\n",
       "      <td>1.0</td>\n",
       "      <td>0.0</td>\n",
       "      <td>2.0</td>\n",
       "      <td>-4.0</td>\n",
       "      <td>0.0</td>\n",
       "      <td>8.0</td>\n",
       "    </tr>\n",
       "    <tr>\n",
       "      <th>x1</th>\n",
       "      <td>1.0</td>\n",
       "      <td>1.25</td>\n",
       "      <td>0.0</td>\n",
       "      <td>0.0</td>\n",
       "      <td>-0.5</td>\n",
       "      <td>1.5</td>\n",
       "      <td>0.0</td>\n",
       "      <td>2.0</td>\n",
       "    </tr>\n",
       "    <tr>\n",
       "      <th>s4</th>\n",
       "      <td>0.0</td>\n",
       "      <td>1.00</td>\n",
       "      <td>0.0</td>\n",
       "      <td>0.0</td>\n",
       "      <td>0.0</td>\n",
       "      <td>0.0</td>\n",
       "      <td>1.0</td>\n",
       "      <td>5.0</td>\n",
       "    </tr>\n",
       "    <tr>\n",
       "      <th>C - Z</th>\n",
       "      <td>0.0</td>\n",
       "      <td>-5.00</td>\n",
       "      <td>0.0</td>\n",
       "      <td>0.0</td>\n",
       "      <td>-10.0</td>\n",
       "      <td>-10.0</td>\n",
       "      <td>0.0</td>\n",
       "      <td>-280.0</td>\n",
       "    </tr>\n",
       "  </tbody>\n",
       "</table>\n",
       "</div>"
      ],
      "text/plain": [
       "        x1    x2   x3   s1    s2    s3   s4    RHS\n",
       "s1     0.0 -2.00  0.0  1.0   2.0  -8.0  0.0   24.0\n",
       "x3     0.0 -2.00  1.0  0.0   2.0  -4.0  0.0    8.0\n",
       "x1     1.0  1.25  0.0  0.0  -0.5   1.5  0.0    2.0\n",
       "s4     0.0  1.00  0.0  0.0   0.0   0.0  1.0    5.0\n",
       "C - Z  0.0 -5.00  0.0  0.0 -10.0 -10.0  0.0 -280.0"
      ]
     },
     "metadata": {},
     "output_type": "display_data"
    },
    {
     "name": "stdout",
     "output_type": "stream",
     "text": [
      "\n",
      "=== RESULT ===\n",
      "Status: optimal\n",
      "Objective value: 280.0\n",
      "Solution: {'x1': np.float64(2.0), 'x2': 0.0, 'x3': np.float64(8.0)}\n",
      "Iterations: 2\n"
     ]
    }
   ],
   "source": [
    "# Example (change these to your own problem)\n",
    "sense = 'max'  # 'max' or 'min'\n",
    "c = [60, 30, 20]     # maximize 3x1 + 2x2\n",
    "A = [\n",
    "    [8, 6, 1],\n",
    "    [4, 2, 1.5],\n",
    "    [2, 1.5, 0.5],\n",
    "    [0,1, 0]\n",
    "]\n",
    "b = [48, 20, 8, 5]\n",
    "cons = ['<=', '<=', '<=', '<=']\n",
    "\n",
    "Mode = 'TwoPhase'\n",
    "\n",
    "run_and_show(sense, c, A, b, cons, Mode, M=1e5)\n"
   ]
  },
  {
   "cell_type": "markdown",
   "id": "2cd99447",
   "metadata": {},
   "source": [
    "### หน้า 20"
   ]
  },
  {
   "cell_type": "code",
   "execution_count": null,
   "id": "f93d1641",
   "metadata": {},
   "outputs": [
    {
     "data": {
      "text/markdown": [
       "### Phase 1 — Initial C - Z row"
      ],
      "text/plain": [
       "<IPython.core.display.Markdown object>"
      ]
     },
     "metadata": {},
     "output_type": "display_data"
    },
    {
     "data": {
      "text/html": [
       "<div>\n",
       "<style scoped>\n",
       "    .dataframe tbody tr th:only-of-type {\n",
       "        vertical-align: middle;\n",
       "    }\n",
       "\n",
       "    .dataframe tbody tr th {\n",
       "        vertical-align: top;\n",
       "    }\n",
       "\n",
       "    .dataframe thead th {\n",
       "        text-align: right;\n",
       "    }\n",
       "</style>\n",
       "<table border=\"1\" class=\"dataframe\">\n",
       "  <thead>\n",
       "    <tr style=\"text-align: right;\">\n",
       "      <th></th>\n",
       "      <th>x1</th>\n",
       "      <th>x2</th>\n",
       "      <th>s1</th>\n",
       "      <th>a2</th>\n",
       "      <th>t3</th>\n",
       "      <th>a3</th>\n",
       "      <th>RHS</th>\n",
       "    </tr>\n",
       "  </thead>\n",
       "  <tbody>\n",
       "    <tr>\n",
       "      <th>s1</th>\n",
       "      <td>0.3</td>\n",
       "      <td>0.1</td>\n",
       "      <td>1.0</td>\n",
       "      <td>0.0</td>\n",
       "      <td>0.0</td>\n",
       "      <td>0.0</td>\n",
       "      <td>2.7</td>\n",
       "    </tr>\n",
       "    <tr>\n",
       "      <th>a2</th>\n",
       "      <td>0.5</td>\n",
       "      <td>0.5</td>\n",
       "      <td>0.0</td>\n",
       "      <td>1.0</td>\n",
       "      <td>0.0</td>\n",
       "      <td>0.0</td>\n",
       "      <td>6.0</td>\n",
       "    </tr>\n",
       "    <tr>\n",
       "      <th>a3</th>\n",
       "      <td>0.6</td>\n",
       "      <td>0.4</td>\n",
       "      <td>0.0</td>\n",
       "      <td>0.0</td>\n",
       "      <td>-1.0</td>\n",
       "      <td>1.0</td>\n",
       "      <td>6.0</td>\n",
       "    </tr>\n",
       "    <tr>\n",
       "      <th>C - Z</th>\n",
       "      <td>1.1</td>\n",
       "      <td>0.9</td>\n",
       "      <td>0.0</td>\n",
       "      <td>0.0</td>\n",
       "      <td>-1.0</td>\n",
       "      <td>0.0</td>\n",
       "      <td>12.0</td>\n",
       "    </tr>\n",
       "  </tbody>\n",
       "</table>\n",
       "</div>"
      ],
      "text/plain": [
       "        x1   x2   s1   a2   t3   a3   RHS\n",
       "s1     0.3  0.1  1.0  0.0  0.0  0.0   2.7\n",
       "a2     0.5  0.5  0.0  1.0  0.0  0.0   6.0\n",
       "a3     0.6  0.4  0.0  0.0 -1.0  1.0   6.0\n",
       "C - Z  1.1  0.9  0.0  0.0 -1.0  0.0  12.0"
      ]
     },
     "metadata": {},
     "output_type": "display_data"
    },
    {
     "data": {
      "text/markdown": [
       "Iteration 1 (Phase 1): Enter = x1, Leave = s1"
      ],
      "text/plain": [
       "<IPython.core.display.Markdown object>"
      ]
     },
     "metadata": {},
     "output_type": "display_data"
    },
    {
     "data": {
      "text/markdown": [
       "### After pivot #1"
      ],
      "text/plain": [
       "<IPython.core.display.Markdown object>"
      ]
     },
     "metadata": {},
     "output_type": "display_data"
    },
    {
     "data": {
      "text/html": [
       "<div>\n",
       "<style scoped>\n",
       "    .dataframe tbody tr th:only-of-type {\n",
       "        vertical-align: middle;\n",
       "    }\n",
       "\n",
       "    .dataframe tbody tr th {\n",
       "        vertical-align: top;\n",
       "    }\n",
       "\n",
       "    .dataframe thead th {\n",
       "        text-align: right;\n",
       "    }\n",
       "</style>\n",
       "<table border=\"1\" class=\"dataframe\">\n",
       "  <thead>\n",
       "    <tr style=\"text-align: right;\">\n",
       "      <th></th>\n",
       "      <th>x1</th>\n",
       "      <th>x2</th>\n",
       "      <th>s1</th>\n",
       "      <th>a2</th>\n",
       "      <th>t3</th>\n",
       "      <th>a3</th>\n",
       "      <th>RHS</th>\n",
       "    </tr>\n",
       "  </thead>\n",
       "  <tbody>\n",
       "    <tr>\n",
       "      <th>x1</th>\n",
       "      <td>1.0</td>\n",
       "      <td>0.333333</td>\n",
       "      <td>3.333333</td>\n",
       "      <td>0.0</td>\n",
       "      <td>0.0</td>\n",
       "      <td>0.0</td>\n",
       "      <td>9.0</td>\n",
       "    </tr>\n",
       "    <tr>\n",
       "      <th>a2</th>\n",
       "      <td>0.0</td>\n",
       "      <td>0.333333</td>\n",
       "      <td>-1.666667</td>\n",
       "      <td>1.0</td>\n",
       "      <td>0.0</td>\n",
       "      <td>0.0</td>\n",
       "      <td>1.5</td>\n",
       "    </tr>\n",
       "    <tr>\n",
       "      <th>a3</th>\n",
       "      <td>0.0</td>\n",
       "      <td>0.200000</td>\n",
       "      <td>-2.000000</td>\n",
       "      <td>0.0</td>\n",
       "      <td>-1.0</td>\n",
       "      <td>1.0</td>\n",
       "      <td>0.6</td>\n",
       "    </tr>\n",
       "    <tr>\n",
       "      <th>C - Z</th>\n",
       "      <td>0.0</td>\n",
       "      <td>0.533333</td>\n",
       "      <td>-3.666667</td>\n",
       "      <td>0.0</td>\n",
       "      <td>-1.0</td>\n",
       "      <td>0.0</td>\n",
       "      <td>2.1</td>\n",
       "    </tr>\n",
       "  </tbody>\n",
       "</table>\n",
       "</div>"
      ],
      "text/plain": [
       "        x1        x2        s1   a2   t3   a3  RHS\n",
       "x1     1.0  0.333333  3.333333  0.0  0.0  0.0  9.0\n",
       "a2     0.0  0.333333 -1.666667  1.0  0.0  0.0  1.5\n",
       "a3     0.0  0.200000 -2.000000  0.0 -1.0  1.0  0.6\n",
       "C - Z  0.0  0.533333 -3.666667  0.0 -1.0  0.0  2.1"
      ]
     },
     "metadata": {},
     "output_type": "display_data"
    },
    {
     "data": {
      "text/markdown": [
       "Iteration 2 (Phase 1): Enter = x2, Leave = a3"
      ],
      "text/plain": [
       "<IPython.core.display.Markdown object>"
      ]
     },
     "metadata": {},
     "output_type": "display_data"
    },
    {
     "data": {
      "text/markdown": [
       "### After pivot #2"
      ],
      "text/plain": [
       "<IPython.core.display.Markdown object>"
      ]
     },
     "metadata": {},
     "output_type": "display_data"
    },
    {
     "data": {
      "text/html": [
       "<div>\n",
       "<style scoped>\n",
       "    .dataframe tbody tr th:only-of-type {\n",
       "        vertical-align: middle;\n",
       "    }\n",
       "\n",
       "    .dataframe tbody tr th {\n",
       "        vertical-align: top;\n",
       "    }\n",
       "\n",
       "    .dataframe thead th {\n",
       "        text-align: right;\n",
       "    }\n",
       "</style>\n",
       "<table border=\"1\" class=\"dataframe\">\n",
       "  <thead>\n",
       "    <tr style=\"text-align: right;\">\n",
       "      <th></th>\n",
       "      <th>x1</th>\n",
       "      <th>x2</th>\n",
       "      <th>s1</th>\n",
       "      <th>a2</th>\n",
       "      <th>t3</th>\n",
       "      <th>a3</th>\n",
       "      <th>RHS</th>\n",
       "    </tr>\n",
       "  </thead>\n",
       "  <tbody>\n",
       "    <tr>\n",
       "      <th>x1</th>\n",
       "      <td>1.0</td>\n",
       "      <td>0.0</td>\n",
       "      <td>6.666667</td>\n",
       "      <td>0.0</td>\n",
       "      <td>1.666667</td>\n",
       "      <td>-1.666667</td>\n",
       "      <td>8.0</td>\n",
       "    </tr>\n",
       "    <tr>\n",
       "      <th>a2</th>\n",
       "      <td>0.0</td>\n",
       "      <td>0.0</td>\n",
       "      <td>1.666667</td>\n",
       "      <td>1.0</td>\n",
       "      <td>1.666667</td>\n",
       "      <td>-1.666667</td>\n",
       "      <td>0.5</td>\n",
       "    </tr>\n",
       "    <tr>\n",
       "      <th>x2</th>\n",
       "      <td>0.0</td>\n",
       "      <td>1.0</td>\n",
       "      <td>-10.000000</td>\n",
       "      <td>0.0</td>\n",
       "      <td>-5.000000</td>\n",
       "      <td>5.000000</td>\n",
       "      <td>3.0</td>\n",
       "    </tr>\n",
       "    <tr>\n",
       "      <th>C - Z</th>\n",
       "      <td>0.0</td>\n",
       "      <td>0.0</td>\n",
       "      <td>1.666667</td>\n",
       "      <td>0.0</td>\n",
       "      <td>1.666667</td>\n",
       "      <td>-2.666667</td>\n",
       "      <td>0.5</td>\n",
       "    </tr>\n",
       "  </tbody>\n",
       "</table>\n",
       "</div>"
      ],
      "text/plain": [
       "        x1   x2         s1   a2        t3        a3  RHS\n",
       "x1     1.0  0.0   6.666667  0.0  1.666667 -1.666667  8.0\n",
       "a2     0.0  0.0   1.666667  1.0  1.666667 -1.666667  0.5\n",
       "x2     0.0  1.0 -10.000000  0.0 -5.000000  5.000000  3.0\n",
       "C - Z  0.0  0.0   1.666667  0.0  1.666667 -2.666667  0.5"
      ]
     },
     "metadata": {},
     "output_type": "display_data"
    },
    {
     "data": {
      "text/markdown": [
       "Iteration 3 (Phase 1): Enter = s1, Leave = a2"
      ],
      "text/plain": [
       "<IPython.core.display.Markdown object>"
      ]
     },
     "metadata": {},
     "output_type": "display_data"
    },
    {
     "data": {
      "text/markdown": [
       "### After pivot #3"
      ],
      "text/plain": [
       "<IPython.core.display.Markdown object>"
      ]
     },
     "metadata": {},
     "output_type": "display_data"
    },
    {
     "data": {
      "text/html": [
       "<div>\n",
       "<style scoped>\n",
       "    .dataframe tbody tr th:only-of-type {\n",
       "        vertical-align: middle;\n",
       "    }\n",
       "\n",
       "    .dataframe tbody tr th {\n",
       "        vertical-align: top;\n",
       "    }\n",
       "\n",
       "    .dataframe thead th {\n",
       "        text-align: right;\n",
       "    }\n",
       "</style>\n",
       "<table border=\"1\" class=\"dataframe\">\n",
       "  <thead>\n",
       "    <tr style=\"text-align: right;\">\n",
       "      <th></th>\n",
       "      <th>x1</th>\n",
       "      <th>x2</th>\n",
       "      <th>s1</th>\n",
       "      <th>a2</th>\n",
       "      <th>t3</th>\n",
       "      <th>a3</th>\n",
       "      <th>RHS</th>\n",
       "    </tr>\n",
       "  </thead>\n",
       "  <tbody>\n",
       "    <tr>\n",
       "      <th>x1</th>\n",
       "      <td>1.0</td>\n",
       "      <td>0.0</td>\n",
       "      <td>0.0</td>\n",
       "      <td>-4.0</td>\n",
       "      <td>-5.0</td>\n",
       "      <td>5.0</td>\n",
       "      <td>6.0</td>\n",
       "    </tr>\n",
       "    <tr>\n",
       "      <th>s1</th>\n",
       "      <td>0.0</td>\n",
       "      <td>0.0</td>\n",
       "      <td>1.0</td>\n",
       "      <td>0.6</td>\n",
       "      <td>1.0</td>\n",
       "      <td>-1.0</td>\n",
       "      <td>0.3</td>\n",
       "    </tr>\n",
       "    <tr>\n",
       "      <th>x2</th>\n",
       "      <td>0.0</td>\n",
       "      <td>1.0</td>\n",
       "      <td>0.0</td>\n",
       "      <td>6.0</td>\n",
       "      <td>5.0</td>\n",
       "      <td>-5.0</td>\n",
       "      <td>6.0</td>\n",
       "    </tr>\n",
       "    <tr>\n",
       "      <th>C - Z</th>\n",
       "      <td>0.0</td>\n",
       "      <td>0.0</td>\n",
       "      <td>0.0</td>\n",
       "      <td>-1.0</td>\n",
       "      <td>0.0</td>\n",
       "      <td>-1.0</td>\n",
       "      <td>0.0</td>\n",
       "    </tr>\n",
       "  </tbody>\n",
       "</table>\n",
       "</div>"
      ],
      "text/plain": [
       "        x1   x2   s1   a2   t3   a3  RHS\n",
       "x1     1.0  0.0  0.0 -4.0 -5.0  5.0  6.0\n",
       "s1     0.0  0.0  1.0  0.6  1.0 -1.0  0.3\n",
       "x2     0.0  1.0  0.0  6.0  5.0 -5.0  6.0\n",
       "C - Z  0.0  0.0  0.0 -1.0  0.0 -1.0  0.0"
      ]
     },
     "metadata": {},
     "output_type": "display_data"
    },
    {
     "data": {
      "text/markdown": [
       "### Phase 1 — Optimal (no positive C-Z). Objective = -0.000000"
      ],
      "text/plain": [
       "<IPython.core.display.Markdown object>"
      ]
     },
     "metadata": {},
     "output_type": "display_data"
    },
    {
     "data": {
      "text/html": [
       "<div>\n",
       "<style scoped>\n",
       "    .dataframe tbody tr th:only-of-type {\n",
       "        vertical-align: middle;\n",
       "    }\n",
       "\n",
       "    .dataframe tbody tr th {\n",
       "        vertical-align: top;\n",
       "    }\n",
       "\n",
       "    .dataframe thead th {\n",
       "        text-align: right;\n",
       "    }\n",
       "</style>\n",
       "<table border=\"1\" class=\"dataframe\">\n",
       "  <thead>\n",
       "    <tr style=\"text-align: right;\">\n",
       "      <th></th>\n",
       "      <th>x1</th>\n",
       "      <th>x2</th>\n",
       "      <th>s1</th>\n",
       "      <th>a2</th>\n",
       "      <th>t3</th>\n",
       "      <th>a3</th>\n",
       "      <th>RHS</th>\n",
       "    </tr>\n",
       "  </thead>\n",
       "  <tbody>\n",
       "    <tr>\n",
       "      <th>x1</th>\n",
       "      <td>1.0</td>\n",
       "      <td>0.0</td>\n",
       "      <td>0.0</td>\n",
       "      <td>-4.0</td>\n",
       "      <td>-5.0</td>\n",
       "      <td>5.0</td>\n",
       "      <td>6.0</td>\n",
       "    </tr>\n",
       "    <tr>\n",
       "      <th>s1</th>\n",
       "      <td>0.0</td>\n",
       "      <td>0.0</td>\n",
       "      <td>1.0</td>\n",
       "      <td>0.6</td>\n",
       "      <td>1.0</td>\n",
       "      <td>-1.0</td>\n",
       "      <td>0.3</td>\n",
       "    </tr>\n",
       "    <tr>\n",
       "      <th>x2</th>\n",
       "      <td>0.0</td>\n",
       "      <td>1.0</td>\n",
       "      <td>0.0</td>\n",
       "      <td>6.0</td>\n",
       "      <td>5.0</td>\n",
       "      <td>-5.0</td>\n",
       "      <td>6.0</td>\n",
       "    </tr>\n",
       "    <tr>\n",
       "      <th>C - Z</th>\n",
       "      <td>0.0</td>\n",
       "      <td>0.0</td>\n",
       "      <td>0.0</td>\n",
       "      <td>-1.0</td>\n",
       "      <td>0.0</td>\n",
       "      <td>-1.0</td>\n",
       "      <td>0.0</td>\n",
       "    </tr>\n",
       "  </tbody>\n",
       "</table>\n",
       "</div>"
      ],
      "text/plain": [
       "        x1   x2   s1   a2   t3   a3  RHS\n",
       "x1     1.0  0.0  0.0 -4.0 -5.0  5.0  6.0\n",
       "s1     0.0  0.0  1.0  0.6  1.0 -1.0  0.3\n",
       "x2     0.0  1.0  0.0  6.0  5.0 -5.0  6.0\n",
       "C - Z  0.0  0.0  0.0 -1.0  0.0 -1.0  0.0"
      ]
     },
     "metadata": {},
     "output_type": "display_data"
    },
    {
     "data": {
      "text/markdown": [
       "### Phase 2 — Initial C - Z row"
      ],
      "text/plain": [
       "<IPython.core.display.Markdown object>"
      ]
     },
     "metadata": {},
     "output_type": "display_data"
    },
    {
     "data": {
      "text/html": [
       "<div>\n",
       "<style scoped>\n",
       "    .dataframe tbody tr th:only-of-type {\n",
       "        vertical-align: middle;\n",
       "    }\n",
       "\n",
       "    .dataframe tbody tr th {\n",
       "        vertical-align: top;\n",
       "    }\n",
       "\n",
       "    .dataframe thead th {\n",
       "        text-align: right;\n",
       "    }\n",
       "</style>\n",
       "<table border=\"1\" class=\"dataframe\">\n",
       "  <thead>\n",
       "    <tr style=\"text-align: right;\">\n",
       "      <th></th>\n",
       "      <th>x1</th>\n",
       "      <th>x2</th>\n",
       "      <th>s1</th>\n",
       "      <th>t3</th>\n",
       "      <th>RHS</th>\n",
       "    </tr>\n",
       "  </thead>\n",
       "  <tbody>\n",
       "    <tr>\n",
       "      <th>x1</th>\n",
       "      <td>1.0</td>\n",
       "      <td>0.0</td>\n",
       "      <td>0.0</td>\n",
       "      <td>-5.0</td>\n",
       "      <td>6.0</td>\n",
       "    </tr>\n",
       "    <tr>\n",
       "      <th>s1</th>\n",
       "      <td>0.0</td>\n",
       "      <td>0.0</td>\n",
       "      <td>1.0</td>\n",
       "      <td>1.0</td>\n",
       "      <td>0.3</td>\n",
       "    </tr>\n",
       "    <tr>\n",
       "      <th>x2</th>\n",
       "      <td>0.0</td>\n",
       "      <td>1.0</td>\n",
       "      <td>0.0</td>\n",
       "      <td>5.0</td>\n",
       "      <td>6.0</td>\n",
       "    </tr>\n",
       "    <tr>\n",
       "      <th>C - Z</th>\n",
       "      <td>0.0</td>\n",
       "      <td>0.0</td>\n",
       "      <td>0.0</td>\n",
       "      <td>0.5</td>\n",
       "      <td>5.4</td>\n",
       "    </tr>\n",
       "  </tbody>\n",
       "</table>\n",
       "</div>"
      ],
      "text/plain": [
       "        x1   x2   s1   t3  RHS\n",
       "x1     1.0  0.0  0.0 -5.0  6.0\n",
       "s1     0.0  0.0  1.0  1.0  0.3\n",
       "x2     0.0  1.0  0.0  5.0  6.0\n",
       "C - Z  0.0  0.0  0.0  0.5  5.4"
      ]
     },
     "metadata": {},
     "output_type": "display_data"
    },
    {
     "data": {
      "text/markdown": [
       "Iteration 4 (Phase 2): Enter = t3, Leave = s1"
      ],
      "text/plain": [
       "<IPython.core.display.Markdown object>"
      ]
     },
     "metadata": {},
     "output_type": "display_data"
    },
    {
     "data": {
      "text/markdown": [
       "### After pivot #4"
      ],
      "text/plain": [
       "<IPython.core.display.Markdown object>"
      ]
     },
     "metadata": {},
     "output_type": "display_data"
    },
    {
     "data": {
      "text/html": [
       "<div>\n",
       "<style scoped>\n",
       "    .dataframe tbody tr th:only-of-type {\n",
       "        vertical-align: middle;\n",
       "    }\n",
       "\n",
       "    .dataframe tbody tr th {\n",
       "        vertical-align: top;\n",
       "    }\n",
       "\n",
       "    .dataframe thead th {\n",
       "        text-align: right;\n",
       "    }\n",
       "</style>\n",
       "<table border=\"1\" class=\"dataframe\">\n",
       "  <thead>\n",
       "    <tr style=\"text-align: right;\">\n",
       "      <th></th>\n",
       "      <th>x1</th>\n",
       "      <th>x2</th>\n",
       "      <th>s1</th>\n",
       "      <th>t3</th>\n",
       "      <th>RHS</th>\n",
       "    </tr>\n",
       "  </thead>\n",
       "  <tbody>\n",
       "    <tr>\n",
       "      <th>x1</th>\n",
       "      <td>1.0</td>\n",
       "      <td>0.0</td>\n",
       "      <td>5.0</td>\n",
       "      <td>0.0</td>\n",
       "      <td>7.50</td>\n",
       "    </tr>\n",
       "    <tr>\n",
       "      <th>t3</th>\n",
       "      <td>0.0</td>\n",
       "      <td>0.0</td>\n",
       "      <td>1.0</td>\n",
       "      <td>1.0</td>\n",
       "      <td>0.30</td>\n",
       "    </tr>\n",
       "    <tr>\n",
       "      <th>x2</th>\n",
       "      <td>0.0</td>\n",
       "      <td>1.0</td>\n",
       "      <td>-5.0</td>\n",
       "      <td>0.0</td>\n",
       "      <td>4.50</td>\n",
       "    </tr>\n",
       "    <tr>\n",
       "      <th>C - Z</th>\n",
       "      <td>0.0</td>\n",
       "      <td>0.0</td>\n",
       "      <td>-0.5</td>\n",
       "      <td>0.0</td>\n",
       "      <td>5.25</td>\n",
       "    </tr>\n",
       "  </tbody>\n",
       "</table>\n",
       "</div>"
      ],
      "text/plain": [
       "        x1   x2   s1   t3   RHS\n",
       "x1     1.0  0.0  5.0  0.0  7.50\n",
       "t3     0.0  0.0  1.0  1.0  0.30\n",
       "x2     0.0  1.0 -5.0  0.0  4.50\n",
       "C - Z  0.0  0.0 -0.5  0.0  5.25"
      ]
     },
     "metadata": {},
     "output_type": "display_data"
    },
    {
     "data": {
      "text/markdown": [
       "### Phase 2 — Optimal (no positive C-Z). Objective = -5.250000"
      ],
      "text/plain": [
       "<IPython.core.display.Markdown object>"
      ]
     },
     "metadata": {},
     "output_type": "display_data"
    },
    {
     "data": {
      "text/html": [
       "<div>\n",
       "<style scoped>\n",
       "    .dataframe tbody tr th:only-of-type {\n",
       "        vertical-align: middle;\n",
       "    }\n",
       "\n",
       "    .dataframe tbody tr th {\n",
       "        vertical-align: top;\n",
       "    }\n",
       "\n",
       "    .dataframe thead th {\n",
       "        text-align: right;\n",
       "    }\n",
       "</style>\n",
       "<table border=\"1\" class=\"dataframe\">\n",
       "  <thead>\n",
       "    <tr style=\"text-align: right;\">\n",
       "      <th></th>\n",
       "      <th>x1</th>\n",
       "      <th>x2</th>\n",
       "      <th>s1</th>\n",
       "      <th>t3</th>\n",
       "      <th>RHS</th>\n",
       "    </tr>\n",
       "  </thead>\n",
       "  <tbody>\n",
       "    <tr>\n",
       "      <th>x1</th>\n",
       "      <td>1.0</td>\n",
       "      <td>0.0</td>\n",
       "      <td>5.0</td>\n",
       "      <td>0.0</td>\n",
       "      <td>7.50</td>\n",
       "    </tr>\n",
       "    <tr>\n",
       "      <th>t3</th>\n",
       "      <td>0.0</td>\n",
       "      <td>0.0</td>\n",
       "      <td>1.0</td>\n",
       "      <td>1.0</td>\n",
       "      <td>0.30</td>\n",
       "    </tr>\n",
       "    <tr>\n",
       "      <th>x2</th>\n",
       "      <td>0.0</td>\n",
       "      <td>1.0</td>\n",
       "      <td>-5.0</td>\n",
       "      <td>0.0</td>\n",
       "      <td>4.50</td>\n",
       "    </tr>\n",
       "    <tr>\n",
       "      <th>C - Z</th>\n",
       "      <td>0.0</td>\n",
       "      <td>0.0</td>\n",
       "      <td>-0.5</td>\n",
       "      <td>0.0</td>\n",
       "      <td>5.25</td>\n",
       "    </tr>\n",
       "  </tbody>\n",
       "</table>\n",
       "</div>"
      ],
      "text/plain": [
       "        x1   x2   s1   t3   RHS\n",
       "x1     1.0  0.0  5.0  0.0  7.50\n",
       "t3     0.0  0.0  1.0  1.0  0.30\n",
       "x2     0.0  1.0 -5.0  0.0  4.50\n",
       "C - Z  0.0  0.0 -0.5  0.0  5.25"
      ]
     },
     "metadata": {},
     "output_type": "display_data"
    },
    {
     "name": "stdout",
     "output_type": "stream",
     "text": [
      "\n",
      "=== RESULT ===\n",
      "Status: optimal\n",
      "Objective value: 5.25\n",
      "Solution: {'x1': np.float64(7.500000000000003), 'x2': np.float64(4.499999999999997)}\n",
      "Iterations: 4\n"
     ]
    }
   ],
   "source": [
    "# Example (change these to your own problem)\n",
    "sense = 'min'  # 'max' or 'min'\n",
    "c = [0.4, 0.5]     # maximize 3x1 + 2x2\n",
    "A = [\n",
    "    [0.3, 0.1],\n",
    "    [0.5, 0.5],\n",
    "    [0.6, 0.4]\n",
    "\n",
    "]\n",
    "b = [2.7, 6, 6]\n",
    "cons = ['<=', '=', '>=']\n",
    "\n",
    "Mode = 'TwoPhase'\n",
    "\n",
    "run_and_show(sense, c, A, b, cons, Mode, M=1e5)\n"
   ]
  },
  {
   "cell_type": "markdown",
   "id": "c3e60fbd",
   "metadata": {},
   "source": [
    "### เล่มบทที่ 2 "
   ]
  },
  {
   "cell_type": "markdown",
   "id": "c3dd9b9d",
   "metadata": {},
   "source": [
    "50"
   ]
  },
  {
   "cell_type": "code",
   "execution_count": null,
   "id": "adfba7c6",
   "metadata": {},
   "outputs": [
    {
     "data": {
      "text/markdown": [
       "### Phase 1 — Initial C - Z row"
      ],
      "text/plain": [
       "<IPython.core.display.Markdown object>"
      ]
     },
     "metadata": {},
     "output_type": "display_data"
    },
    {
     "data": {
      "text/html": [
       "<div>\n",
       "<style scoped>\n",
       "    .dataframe tbody tr th:only-of-type {\n",
       "        vertical-align: middle;\n",
       "    }\n",
       "\n",
       "    .dataframe tbody tr th {\n",
       "        vertical-align: top;\n",
       "    }\n",
       "\n",
       "    .dataframe thead th {\n",
       "        text-align: right;\n",
       "    }\n",
       "</style>\n",
       "<table border=\"1\" class=\"dataframe\">\n",
       "  <thead>\n",
       "    <tr style=\"text-align: right;\">\n",
       "      <th></th>\n",
       "      <th>x1</th>\n",
       "      <th>x2</th>\n",
       "      <th>s1</th>\n",
       "      <th>a2</th>\n",
       "      <th>t3</th>\n",
       "      <th>a3</th>\n",
       "      <th>RHS</th>\n",
       "    </tr>\n",
       "  </thead>\n",
       "  <tbody>\n",
       "    <tr>\n",
       "      <th>s1</th>\n",
       "      <td>0.3</td>\n",
       "      <td>0.1</td>\n",
       "      <td>1.0</td>\n",
       "      <td>0.0</td>\n",
       "      <td>0.0</td>\n",
       "      <td>0.0</td>\n",
       "      <td>2.7</td>\n",
       "    </tr>\n",
       "    <tr>\n",
       "      <th>a2</th>\n",
       "      <td>0.5</td>\n",
       "      <td>0.5</td>\n",
       "      <td>0.0</td>\n",
       "      <td>1.0</td>\n",
       "      <td>0.0</td>\n",
       "      <td>0.0</td>\n",
       "      <td>6.0</td>\n",
       "    </tr>\n",
       "    <tr>\n",
       "      <th>a3</th>\n",
       "      <td>0.6</td>\n",
       "      <td>0.4</td>\n",
       "      <td>0.0</td>\n",
       "      <td>0.0</td>\n",
       "      <td>-1.0</td>\n",
       "      <td>1.0</td>\n",
       "      <td>6.0</td>\n",
       "    </tr>\n",
       "    <tr>\n",
       "      <th>C - Z</th>\n",
       "      <td>1.1</td>\n",
       "      <td>0.9</td>\n",
       "      <td>0.0</td>\n",
       "      <td>0.0</td>\n",
       "      <td>-1.0</td>\n",
       "      <td>0.0</td>\n",
       "      <td>12.0</td>\n",
       "    </tr>\n",
       "  </tbody>\n",
       "</table>\n",
       "</div>"
      ],
      "text/plain": [
       "        x1   x2   s1   a2   t3   a3   RHS\n",
       "s1     0.3  0.1  1.0  0.0  0.0  0.0   2.7\n",
       "a2     0.5  0.5  0.0  1.0  0.0  0.0   6.0\n",
       "a3     0.6  0.4  0.0  0.0 -1.0  1.0   6.0\n",
       "C - Z  1.1  0.9  0.0  0.0 -1.0  0.0  12.0"
      ]
     },
     "metadata": {},
     "output_type": "display_data"
    },
    {
     "data": {
      "text/markdown": [
       "Iteration 1 (Phase 1): Enter = x1, Leave = s1"
      ],
      "text/plain": [
       "<IPython.core.display.Markdown object>"
      ]
     },
     "metadata": {},
     "output_type": "display_data"
    },
    {
     "data": {
      "text/markdown": [
       "### After pivot #1"
      ],
      "text/plain": [
       "<IPython.core.display.Markdown object>"
      ]
     },
     "metadata": {},
     "output_type": "display_data"
    },
    {
     "data": {
      "text/html": [
       "<div>\n",
       "<style scoped>\n",
       "    .dataframe tbody tr th:only-of-type {\n",
       "        vertical-align: middle;\n",
       "    }\n",
       "\n",
       "    .dataframe tbody tr th {\n",
       "        vertical-align: top;\n",
       "    }\n",
       "\n",
       "    .dataframe thead th {\n",
       "        text-align: right;\n",
       "    }\n",
       "</style>\n",
       "<table border=\"1\" class=\"dataframe\">\n",
       "  <thead>\n",
       "    <tr style=\"text-align: right;\">\n",
       "      <th></th>\n",
       "      <th>x1</th>\n",
       "      <th>x2</th>\n",
       "      <th>s1</th>\n",
       "      <th>a2</th>\n",
       "      <th>t3</th>\n",
       "      <th>a3</th>\n",
       "      <th>RHS</th>\n",
       "    </tr>\n",
       "  </thead>\n",
       "  <tbody>\n",
       "    <tr>\n",
       "      <th>x1</th>\n",
       "      <td>1.0</td>\n",
       "      <td>0.333333</td>\n",
       "      <td>3.333333</td>\n",
       "      <td>0.0</td>\n",
       "      <td>0.0</td>\n",
       "      <td>0.0</td>\n",
       "      <td>9.0</td>\n",
       "    </tr>\n",
       "    <tr>\n",
       "      <th>a2</th>\n",
       "      <td>0.0</td>\n",
       "      <td>0.333333</td>\n",
       "      <td>-1.666667</td>\n",
       "      <td>1.0</td>\n",
       "      <td>0.0</td>\n",
       "      <td>0.0</td>\n",
       "      <td>1.5</td>\n",
       "    </tr>\n",
       "    <tr>\n",
       "      <th>a3</th>\n",
       "      <td>0.0</td>\n",
       "      <td>0.200000</td>\n",
       "      <td>-2.000000</td>\n",
       "      <td>0.0</td>\n",
       "      <td>-1.0</td>\n",
       "      <td>1.0</td>\n",
       "      <td>0.6</td>\n",
       "    </tr>\n",
       "    <tr>\n",
       "      <th>C - Z</th>\n",
       "      <td>0.0</td>\n",
       "      <td>0.533333</td>\n",
       "      <td>-3.666667</td>\n",
       "      <td>0.0</td>\n",
       "      <td>-1.0</td>\n",
       "      <td>0.0</td>\n",
       "      <td>2.1</td>\n",
       "    </tr>\n",
       "  </tbody>\n",
       "</table>\n",
       "</div>"
      ],
      "text/plain": [
       "        x1        x2        s1   a2   t3   a3  RHS\n",
       "x1     1.0  0.333333  3.333333  0.0  0.0  0.0  9.0\n",
       "a2     0.0  0.333333 -1.666667  1.0  0.0  0.0  1.5\n",
       "a3     0.0  0.200000 -2.000000  0.0 -1.0  1.0  0.6\n",
       "C - Z  0.0  0.533333 -3.666667  0.0 -1.0  0.0  2.1"
      ]
     },
     "metadata": {},
     "output_type": "display_data"
    },
    {
     "data": {
      "text/markdown": [
       "Iteration 2 (Phase 1): Enter = x2, Leave = a3"
      ],
      "text/plain": [
       "<IPython.core.display.Markdown object>"
      ]
     },
     "metadata": {},
     "output_type": "display_data"
    },
    {
     "data": {
      "text/markdown": [
       "### After pivot #2"
      ],
      "text/plain": [
       "<IPython.core.display.Markdown object>"
      ]
     },
     "metadata": {},
     "output_type": "display_data"
    },
    {
     "data": {
      "text/html": [
       "<div>\n",
       "<style scoped>\n",
       "    .dataframe tbody tr th:only-of-type {\n",
       "        vertical-align: middle;\n",
       "    }\n",
       "\n",
       "    .dataframe tbody tr th {\n",
       "        vertical-align: top;\n",
       "    }\n",
       "\n",
       "    .dataframe thead th {\n",
       "        text-align: right;\n",
       "    }\n",
       "</style>\n",
       "<table border=\"1\" class=\"dataframe\">\n",
       "  <thead>\n",
       "    <tr style=\"text-align: right;\">\n",
       "      <th></th>\n",
       "      <th>x1</th>\n",
       "      <th>x2</th>\n",
       "      <th>s1</th>\n",
       "      <th>a2</th>\n",
       "      <th>t3</th>\n",
       "      <th>a3</th>\n",
       "      <th>RHS</th>\n",
       "    </tr>\n",
       "  </thead>\n",
       "  <tbody>\n",
       "    <tr>\n",
       "      <th>x1</th>\n",
       "      <td>1.0</td>\n",
       "      <td>0.0</td>\n",
       "      <td>6.666667</td>\n",
       "      <td>0.0</td>\n",
       "      <td>1.666667</td>\n",
       "      <td>-1.666667</td>\n",
       "      <td>8.0</td>\n",
       "    </tr>\n",
       "    <tr>\n",
       "      <th>a2</th>\n",
       "      <td>0.0</td>\n",
       "      <td>0.0</td>\n",
       "      <td>1.666667</td>\n",
       "      <td>1.0</td>\n",
       "      <td>1.666667</td>\n",
       "      <td>-1.666667</td>\n",
       "      <td>0.5</td>\n",
       "    </tr>\n",
       "    <tr>\n",
       "      <th>x2</th>\n",
       "      <td>0.0</td>\n",
       "      <td>1.0</td>\n",
       "      <td>-10.000000</td>\n",
       "      <td>0.0</td>\n",
       "      <td>-5.000000</td>\n",
       "      <td>5.000000</td>\n",
       "      <td>3.0</td>\n",
       "    </tr>\n",
       "    <tr>\n",
       "      <th>C - Z</th>\n",
       "      <td>0.0</td>\n",
       "      <td>0.0</td>\n",
       "      <td>1.666667</td>\n",
       "      <td>0.0</td>\n",
       "      <td>1.666667</td>\n",
       "      <td>-2.666667</td>\n",
       "      <td>0.5</td>\n",
       "    </tr>\n",
       "  </tbody>\n",
       "</table>\n",
       "</div>"
      ],
      "text/plain": [
       "        x1   x2         s1   a2        t3        a3  RHS\n",
       "x1     1.0  0.0   6.666667  0.0  1.666667 -1.666667  8.0\n",
       "a2     0.0  0.0   1.666667  1.0  1.666667 -1.666667  0.5\n",
       "x2     0.0  1.0 -10.000000  0.0 -5.000000  5.000000  3.0\n",
       "C - Z  0.0  0.0   1.666667  0.0  1.666667 -2.666667  0.5"
      ]
     },
     "metadata": {},
     "output_type": "display_data"
    },
    {
     "data": {
      "text/markdown": [
       "Iteration 3 (Phase 1): Enter = s1, Leave = a2"
      ],
      "text/plain": [
       "<IPython.core.display.Markdown object>"
      ]
     },
     "metadata": {},
     "output_type": "display_data"
    },
    {
     "data": {
      "text/markdown": [
       "### After pivot #3"
      ],
      "text/plain": [
       "<IPython.core.display.Markdown object>"
      ]
     },
     "metadata": {},
     "output_type": "display_data"
    },
    {
     "data": {
      "text/html": [
       "<div>\n",
       "<style scoped>\n",
       "    .dataframe tbody tr th:only-of-type {\n",
       "        vertical-align: middle;\n",
       "    }\n",
       "\n",
       "    .dataframe tbody tr th {\n",
       "        vertical-align: top;\n",
       "    }\n",
       "\n",
       "    .dataframe thead th {\n",
       "        text-align: right;\n",
       "    }\n",
       "</style>\n",
       "<table border=\"1\" class=\"dataframe\">\n",
       "  <thead>\n",
       "    <tr style=\"text-align: right;\">\n",
       "      <th></th>\n",
       "      <th>x1</th>\n",
       "      <th>x2</th>\n",
       "      <th>s1</th>\n",
       "      <th>a2</th>\n",
       "      <th>t3</th>\n",
       "      <th>a3</th>\n",
       "      <th>RHS</th>\n",
       "    </tr>\n",
       "  </thead>\n",
       "  <tbody>\n",
       "    <tr>\n",
       "      <th>x1</th>\n",
       "      <td>1.0</td>\n",
       "      <td>0.0</td>\n",
       "      <td>0.0</td>\n",
       "      <td>-4.0</td>\n",
       "      <td>-5.0</td>\n",
       "      <td>5.0</td>\n",
       "      <td>6.0</td>\n",
       "    </tr>\n",
       "    <tr>\n",
       "      <th>s1</th>\n",
       "      <td>0.0</td>\n",
       "      <td>0.0</td>\n",
       "      <td>1.0</td>\n",
       "      <td>0.6</td>\n",
       "      <td>1.0</td>\n",
       "      <td>-1.0</td>\n",
       "      <td>0.3</td>\n",
       "    </tr>\n",
       "    <tr>\n",
       "      <th>x2</th>\n",
       "      <td>0.0</td>\n",
       "      <td>1.0</td>\n",
       "      <td>0.0</td>\n",
       "      <td>6.0</td>\n",
       "      <td>5.0</td>\n",
       "      <td>-5.0</td>\n",
       "      <td>6.0</td>\n",
       "    </tr>\n",
       "    <tr>\n",
       "      <th>C - Z</th>\n",
       "      <td>0.0</td>\n",
       "      <td>0.0</td>\n",
       "      <td>0.0</td>\n",
       "      <td>-1.0</td>\n",
       "      <td>0.0</td>\n",
       "      <td>-1.0</td>\n",
       "      <td>0.0</td>\n",
       "    </tr>\n",
       "  </tbody>\n",
       "</table>\n",
       "</div>"
      ],
      "text/plain": [
       "        x1   x2   s1   a2   t3   a3  RHS\n",
       "x1     1.0  0.0  0.0 -4.0 -5.0  5.0  6.0\n",
       "s1     0.0  0.0  1.0  0.6  1.0 -1.0  0.3\n",
       "x2     0.0  1.0  0.0  6.0  5.0 -5.0  6.0\n",
       "C - Z  0.0  0.0  0.0 -1.0  0.0 -1.0  0.0"
      ]
     },
     "metadata": {},
     "output_type": "display_data"
    },
    {
     "data": {
      "text/markdown": [
       "### Phase 1 — Optimal (no positive C-Z). Objective = -0.000000"
      ],
      "text/plain": [
       "<IPython.core.display.Markdown object>"
      ]
     },
     "metadata": {},
     "output_type": "display_data"
    },
    {
     "data": {
      "text/html": [
       "<div>\n",
       "<style scoped>\n",
       "    .dataframe tbody tr th:only-of-type {\n",
       "        vertical-align: middle;\n",
       "    }\n",
       "\n",
       "    .dataframe tbody tr th {\n",
       "        vertical-align: top;\n",
       "    }\n",
       "\n",
       "    .dataframe thead th {\n",
       "        text-align: right;\n",
       "    }\n",
       "</style>\n",
       "<table border=\"1\" class=\"dataframe\">\n",
       "  <thead>\n",
       "    <tr style=\"text-align: right;\">\n",
       "      <th></th>\n",
       "      <th>x1</th>\n",
       "      <th>x2</th>\n",
       "      <th>s1</th>\n",
       "      <th>a2</th>\n",
       "      <th>t3</th>\n",
       "      <th>a3</th>\n",
       "      <th>RHS</th>\n",
       "    </tr>\n",
       "  </thead>\n",
       "  <tbody>\n",
       "    <tr>\n",
       "      <th>x1</th>\n",
       "      <td>1.0</td>\n",
       "      <td>0.0</td>\n",
       "      <td>0.0</td>\n",
       "      <td>-4.0</td>\n",
       "      <td>-5.0</td>\n",
       "      <td>5.0</td>\n",
       "      <td>6.0</td>\n",
       "    </tr>\n",
       "    <tr>\n",
       "      <th>s1</th>\n",
       "      <td>0.0</td>\n",
       "      <td>0.0</td>\n",
       "      <td>1.0</td>\n",
       "      <td>0.6</td>\n",
       "      <td>1.0</td>\n",
       "      <td>-1.0</td>\n",
       "      <td>0.3</td>\n",
       "    </tr>\n",
       "    <tr>\n",
       "      <th>x2</th>\n",
       "      <td>0.0</td>\n",
       "      <td>1.0</td>\n",
       "      <td>0.0</td>\n",
       "      <td>6.0</td>\n",
       "      <td>5.0</td>\n",
       "      <td>-5.0</td>\n",
       "      <td>6.0</td>\n",
       "    </tr>\n",
       "    <tr>\n",
       "      <th>C - Z</th>\n",
       "      <td>0.0</td>\n",
       "      <td>0.0</td>\n",
       "      <td>0.0</td>\n",
       "      <td>-1.0</td>\n",
       "      <td>0.0</td>\n",
       "      <td>-1.0</td>\n",
       "      <td>0.0</td>\n",
       "    </tr>\n",
       "  </tbody>\n",
       "</table>\n",
       "</div>"
      ],
      "text/plain": [
       "        x1   x2   s1   a2   t3   a3  RHS\n",
       "x1     1.0  0.0  0.0 -4.0 -5.0  5.0  6.0\n",
       "s1     0.0  0.0  1.0  0.6  1.0 -1.0  0.3\n",
       "x2     0.0  1.0  0.0  6.0  5.0 -5.0  6.0\n",
       "C - Z  0.0  0.0  0.0 -1.0  0.0 -1.0  0.0"
      ]
     },
     "metadata": {},
     "output_type": "display_data"
    },
    {
     "data": {
      "text/markdown": [
       "### Phase 2 — Initial C - Z row"
      ],
      "text/plain": [
       "<IPython.core.display.Markdown object>"
      ]
     },
     "metadata": {},
     "output_type": "display_data"
    },
    {
     "data": {
      "text/html": [
       "<div>\n",
       "<style scoped>\n",
       "    .dataframe tbody tr th:only-of-type {\n",
       "        vertical-align: middle;\n",
       "    }\n",
       "\n",
       "    .dataframe tbody tr th {\n",
       "        vertical-align: top;\n",
       "    }\n",
       "\n",
       "    .dataframe thead th {\n",
       "        text-align: right;\n",
       "    }\n",
       "</style>\n",
       "<table border=\"1\" class=\"dataframe\">\n",
       "  <thead>\n",
       "    <tr style=\"text-align: right;\">\n",
       "      <th></th>\n",
       "      <th>x1</th>\n",
       "      <th>x2</th>\n",
       "      <th>s1</th>\n",
       "      <th>t3</th>\n",
       "      <th>RHS</th>\n",
       "    </tr>\n",
       "  </thead>\n",
       "  <tbody>\n",
       "    <tr>\n",
       "      <th>x1</th>\n",
       "      <td>1.0</td>\n",
       "      <td>0.0</td>\n",
       "      <td>0.0</td>\n",
       "      <td>-5.0</td>\n",
       "      <td>6.0</td>\n",
       "    </tr>\n",
       "    <tr>\n",
       "      <th>s1</th>\n",
       "      <td>0.0</td>\n",
       "      <td>0.0</td>\n",
       "      <td>1.0</td>\n",
       "      <td>1.0</td>\n",
       "      <td>0.3</td>\n",
       "    </tr>\n",
       "    <tr>\n",
       "      <th>x2</th>\n",
       "      <td>0.0</td>\n",
       "      <td>1.0</td>\n",
       "      <td>0.0</td>\n",
       "      <td>5.0</td>\n",
       "      <td>6.0</td>\n",
       "    </tr>\n",
       "    <tr>\n",
       "      <th>C - Z</th>\n",
       "      <td>0.0</td>\n",
       "      <td>0.0</td>\n",
       "      <td>0.0</td>\n",
       "      <td>0.5</td>\n",
       "      <td>5.4</td>\n",
       "    </tr>\n",
       "  </tbody>\n",
       "</table>\n",
       "</div>"
      ],
      "text/plain": [
       "        x1   x2   s1   t3  RHS\n",
       "x1     1.0  0.0  0.0 -5.0  6.0\n",
       "s1     0.0  0.0  1.0  1.0  0.3\n",
       "x2     0.0  1.0  0.0  5.0  6.0\n",
       "C - Z  0.0  0.0  0.0  0.5  5.4"
      ]
     },
     "metadata": {},
     "output_type": "display_data"
    },
    {
     "data": {
      "text/markdown": [
       "Iteration 4 (Phase 2): Enter = t3, Leave = s1"
      ],
      "text/plain": [
       "<IPython.core.display.Markdown object>"
      ]
     },
     "metadata": {},
     "output_type": "display_data"
    },
    {
     "data": {
      "text/markdown": [
       "### After pivot #4"
      ],
      "text/plain": [
       "<IPython.core.display.Markdown object>"
      ]
     },
     "metadata": {},
     "output_type": "display_data"
    },
    {
     "data": {
      "text/html": [
       "<div>\n",
       "<style scoped>\n",
       "    .dataframe tbody tr th:only-of-type {\n",
       "        vertical-align: middle;\n",
       "    }\n",
       "\n",
       "    .dataframe tbody tr th {\n",
       "        vertical-align: top;\n",
       "    }\n",
       "\n",
       "    .dataframe thead th {\n",
       "        text-align: right;\n",
       "    }\n",
       "</style>\n",
       "<table border=\"1\" class=\"dataframe\">\n",
       "  <thead>\n",
       "    <tr style=\"text-align: right;\">\n",
       "      <th></th>\n",
       "      <th>x1</th>\n",
       "      <th>x2</th>\n",
       "      <th>s1</th>\n",
       "      <th>t3</th>\n",
       "      <th>RHS</th>\n",
       "    </tr>\n",
       "  </thead>\n",
       "  <tbody>\n",
       "    <tr>\n",
       "      <th>x1</th>\n",
       "      <td>1.0</td>\n",
       "      <td>0.0</td>\n",
       "      <td>5.0</td>\n",
       "      <td>0.0</td>\n",
       "      <td>7.50</td>\n",
       "    </tr>\n",
       "    <tr>\n",
       "      <th>t3</th>\n",
       "      <td>0.0</td>\n",
       "      <td>0.0</td>\n",
       "      <td>1.0</td>\n",
       "      <td>1.0</td>\n",
       "      <td>0.30</td>\n",
       "    </tr>\n",
       "    <tr>\n",
       "      <th>x2</th>\n",
       "      <td>0.0</td>\n",
       "      <td>1.0</td>\n",
       "      <td>-5.0</td>\n",
       "      <td>0.0</td>\n",
       "      <td>4.50</td>\n",
       "    </tr>\n",
       "    <tr>\n",
       "      <th>C - Z</th>\n",
       "      <td>0.0</td>\n",
       "      <td>0.0</td>\n",
       "      <td>-0.5</td>\n",
       "      <td>0.0</td>\n",
       "      <td>5.25</td>\n",
       "    </tr>\n",
       "  </tbody>\n",
       "</table>\n",
       "</div>"
      ],
      "text/plain": [
       "        x1   x2   s1   t3   RHS\n",
       "x1     1.0  0.0  5.0  0.0  7.50\n",
       "t3     0.0  0.0  1.0  1.0  0.30\n",
       "x2     0.0  1.0 -5.0  0.0  4.50\n",
       "C - Z  0.0  0.0 -0.5  0.0  5.25"
      ]
     },
     "metadata": {},
     "output_type": "display_data"
    },
    {
     "data": {
      "text/markdown": [
       "### Phase 2 — Optimal (no positive C-Z). Objective = -5.250000"
      ],
      "text/plain": [
       "<IPython.core.display.Markdown object>"
      ]
     },
     "metadata": {},
     "output_type": "display_data"
    },
    {
     "data": {
      "text/html": [
       "<div>\n",
       "<style scoped>\n",
       "    .dataframe tbody tr th:only-of-type {\n",
       "        vertical-align: middle;\n",
       "    }\n",
       "\n",
       "    .dataframe tbody tr th {\n",
       "        vertical-align: top;\n",
       "    }\n",
       "\n",
       "    .dataframe thead th {\n",
       "        text-align: right;\n",
       "    }\n",
       "</style>\n",
       "<table border=\"1\" class=\"dataframe\">\n",
       "  <thead>\n",
       "    <tr style=\"text-align: right;\">\n",
       "      <th></th>\n",
       "      <th>x1</th>\n",
       "      <th>x2</th>\n",
       "      <th>s1</th>\n",
       "      <th>t3</th>\n",
       "      <th>RHS</th>\n",
       "    </tr>\n",
       "  </thead>\n",
       "  <tbody>\n",
       "    <tr>\n",
       "      <th>x1</th>\n",
       "      <td>1.0</td>\n",
       "      <td>0.0</td>\n",
       "      <td>5.0</td>\n",
       "      <td>0.0</td>\n",
       "      <td>7.50</td>\n",
       "    </tr>\n",
       "    <tr>\n",
       "      <th>t3</th>\n",
       "      <td>0.0</td>\n",
       "      <td>0.0</td>\n",
       "      <td>1.0</td>\n",
       "      <td>1.0</td>\n",
       "      <td>0.30</td>\n",
       "    </tr>\n",
       "    <tr>\n",
       "      <th>x2</th>\n",
       "      <td>0.0</td>\n",
       "      <td>1.0</td>\n",
       "      <td>-5.0</td>\n",
       "      <td>0.0</td>\n",
       "      <td>4.50</td>\n",
       "    </tr>\n",
       "    <tr>\n",
       "      <th>C - Z</th>\n",
       "      <td>0.0</td>\n",
       "      <td>0.0</td>\n",
       "      <td>-0.5</td>\n",
       "      <td>0.0</td>\n",
       "      <td>5.25</td>\n",
       "    </tr>\n",
       "  </tbody>\n",
       "</table>\n",
       "</div>"
      ],
      "text/plain": [
       "        x1   x2   s1   t3   RHS\n",
       "x1     1.0  0.0  5.0  0.0  7.50\n",
       "t3     0.0  0.0  1.0  1.0  0.30\n",
       "x2     0.0  1.0 -5.0  0.0  4.50\n",
       "C - Z  0.0  0.0 -0.5  0.0  5.25"
      ]
     },
     "metadata": {},
     "output_type": "display_data"
    },
    {
     "name": "stdout",
     "output_type": "stream",
     "text": [
      "\n",
      "=== RESULT ===\n",
      "Status: optimal\n",
      "Objective value: 5.25\n",
      "Solution: {'x1': np.float64(7.500000000000003), 'x2': np.float64(4.499999999999997)}\n",
      "Iterations: 4\n"
     ]
    },
    {
     "ename": "",
     "evalue": "",
     "output_type": "error",
     "traceback": [
      "\u001b[1;31mThe Kernel crashed while executing code in the current cell or a previous cell. \n",
      "\u001b[1;31mPlease review the code in the cell(s) to identify a possible cause of the failure. \n",
      "\u001b[1;31mClick <a href='https://aka.ms/vscodeJupyterKernelCrash'>here</a> for more info. \n",
      "\u001b[1;31mView Jupyter <a href='command:jupyter.viewOutput'>log</a> for further details."
     ]
    }
   ],
   "source": [
    "# Example (change these to your own problem)\n",
    "sense = 'min'  # 'max' or 'min'\n",
    "c = [0.4, 0.5]     # maximize 3x1 + 2x2\n",
    "A = [\n",
    "    [0.3, 0.1],\n",
    "    [0.5, 0.5],\n",
    "    [0.6, 0.4]\n",
    "\n",
    "]\n",
    "b = [2.7, 6, 6]\n",
    "cons = ['<=', '=', '>=']\n",
    "\n",
    "Mode = 'TwoPhase'\n",
    "\n",
    "run_and_show(sense, c, A, b, cons, Mode, M=1e5)\n"
   ]
  },
  {
   "cell_type": "markdown",
   "id": "e5b24d4f",
   "metadata": {},
   "source": [
    "### BigM"
   ]
  },
  {
   "cell_type": "code",
   "execution_count": null,
   "id": "068e6a32",
   "metadata": {},
   "outputs": [],
   "source": [
    "# Example (change these to your own problem)\n",
    "sense = 'max'  # 'max' or 'min'\n",
    "c = [3, 5]     # maximize 3x1 + 2x2\n",
    "A = [\n",
    "    [1, 0],\n",
    "    [0, 2],\n",
    "    [3, 2]\n",
    "\n",
    "]\n",
    "b = [4, 12, 18]\n",
    "cons = ['<=', '<=', '=']\n",
    "\n",
    "Mode = 'BigM'\n",
    "\n",
    "run_and_show(sense, c, A, b, cons, Mode, M=1e5)"
   ]
  },
  {
   "cell_type": "markdown",
   "id": "67c07b15",
   "metadata": {},
   "source": [
    "### Two-Phase Method"
   ]
  },
  {
   "cell_type": "code",
   "execution_count": 16,
   "id": "4f21b25d",
   "metadata": {},
   "outputs": [
    {
     "name": "stdout",
     "output_type": "stream",
     "text": [
      "\n",
      "=== Mode ===\n",
      "Mode: TwoPhase\n"
     ]
    },
    {
     "data": {
      "text/markdown": [
       "### Phase 1 — Initial C - Z row"
      ],
      "text/plain": [
       "<IPython.core.display.Markdown object>"
      ]
     },
     "metadata": {},
     "output_type": "display_data"
    },
    {
     "data": {
      "text/html": [
       "<div>\n",
       "<style scoped>\n",
       "    .dataframe tbody tr th:only-of-type {\n",
       "        vertical-align: middle;\n",
       "    }\n",
       "\n",
       "    .dataframe tbody tr th {\n",
       "        vertical-align: top;\n",
       "    }\n",
       "\n",
       "    .dataframe thead th {\n",
       "        text-align: right;\n",
       "    }\n",
       "</style>\n",
       "<table border=\"1\" class=\"dataframe\">\n",
       "  <thead>\n",
       "    <tr style=\"text-align: right;\">\n",
       "      <th></th>\n",
       "      <th>x1</th>\n",
       "      <th>x2</th>\n",
       "      <th>s1</th>\n",
       "      <th>a2</th>\n",
       "      <th>t3</th>\n",
       "      <th>a3</th>\n",
       "      <th>RHS</th>\n",
       "    </tr>\n",
       "  </thead>\n",
       "  <tbody>\n",
       "    <tr>\n",
       "      <th>s1</th>\n",
       "      <td>0.3</td>\n",
       "      <td>0.1</td>\n",
       "      <td>1.0</td>\n",
       "      <td>0.0</td>\n",
       "      <td>0.0</td>\n",
       "      <td>0.0</td>\n",
       "      <td>2.7</td>\n",
       "    </tr>\n",
       "    <tr>\n",
       "      <th>a2</th>\n",
       "      <td>0.5</td>\n",
       "      <td>0.5</td>\n",
       "      <td>0.0</td>\n",
       "      <td>1.0</td>\n",
       "      <td>0.0</td>\n",
       "      <td>0.0</td>\n",
       "      <td>6.0</td>\n",
       "    </tr>\n",
       "    <tr>\n",
       "      <th>a3</th>\n",
       "      <td>0.6</td>\n",
       "      <td>0.4</td>\n",
       "      <td>0.0</td>\n",
       "      <td>0.0</td>\n",
       "      <td>-1.0</td>\n",
       "      <td>1.0</td>\n",
       "      <td>6.0</td>\n",
       "    </tr>\n",
       "    <tr>\n",
       "      <th>C - Z</th>\n",
       "      <td>1.1</td>\n",
       "      <td>0.9</td>\n",
       "      <td>0.0</td>\n",
       "      <td>0.0</td>\n",
       "      <td>-1.0</td>\n",
       "      <td>0.0</td>\n",
       "      <td>12.0</td>\n",
       "    </tr>\n",
       "  </tbody>\n",
       "</table>\n",
       "</div>"
      ],
      "text/plain": [
       "        x1   x2   s1   a2   t3   a3   RHS\n",
       "s1     0.3  0.1  1.0  0.0  0.0  0.0   2.7\n",
       "a2     0.5  0.5  0.0  1.0  0.0  0.0   6.0\n",
       "a3     0.6  0.4  0.0  0.0 -1.0  1.0   6.0\n",
       "C - Z  1.1  0.9  0.0  0.0 -1.0  0.0  12.0"
      ]
     },
     "metadata": {},
     "output_type": "display_data"
    },
    {
     "data": {
      "text/markdown": [
       "Iteration 1 (Phase 1): Enter = x1, Leave = s1"
      ],
      "text/plain": [
       "<IPython.core.display.Markdown object>"
      ]
     },
     "metadata": {},
     "output_type": "display_data"
    },
    {
     "data": {
      "text/markdown": [
       "### After pivot #1"
      ],
      "text/plain": [
       "<IPython.core.display.Markdown object>"
      ]
     },
     "metadata": {},
     "output_type": "display_data"
    },
    {
     "data": {
      "text/html": [
       "<div>\n",
       "<style scoped>\n",
       "    .dataframe tbody tr th:only-of-type {\n",
       "        vertical-align: middle;\n",
       "    }\n",
       "\n",
       "    .dataframe tbody tr th {\n",
       "        vertical-align: top;\n",
       "    }\n",
       "\n",
       "    .dataframe thead th {\n",
       "        text-align: right;\n",
       "    }\n",
       "</style>\n",
       "<table border=\"1\" class=\"dataframe\">\n",
       "  <thead>\n",
       "    <tr style=\"text-align: right;\">\n",
       "      <th></th>\n",
       "      <th>x1</th>\n",
       "      <th>x2</th>\n",
       "      <th>s1</th>\n",
       "      <th>a2</th>\n",
       "      <th>t3</th>\n",
       "      <th>a3</th>\n",
       "      <th>RHS</th>\n",
       "    </tr>\n",
       "  </thead>\n",
       "  <tbody>\n",
       "    <tr>\n",
       "      <th>x1</th>\n",
       "      <td>1.0</td>\n",
       "      <td>0.333333</td>\n",
       "      <td>3.333333</td>\n",
       "      <td>0.0</td>\n",
       "      <td>0.0</td>\n",
       "      <td>0.0</td>\n",
       "      <td>9.0</td>\n",
       "    </tr>\n",
       "    <tr>\n",
       "      <th>a2</th>\n",
       "      <td>0.0</td>\n",
       "      <td>0.333333</td>\n",
       "      <td>-1.666667</td>\n",
       "      <td>1.0</td>\n",
       "      <td>0.0</td>\n",
       "      <td>0.0</td>\n",
       "      <td>1.5</td>\n",
       "    </tr>\n",
       "    <tr>\n",
       "      <th>a3</th>\n",
       "      <td>0.0</td>\n",
       "      <td>0.200000</td>\n",
       "      <td>-2.000000</td>\n",
       "      <td>0.0</td>\n",
       "      <td>-1.0</td>\n",
       "      <td>1.0</td>\n",
       "      <td>0.6</td>\n",
       "    </tr>\n",
       "    <tr>\n",
       "      <th>C - Z</th>\n",
       "      <td>0.0</td>\n",
       "      <td>0.533333</td>\n",
       "      <td>-3.666667</td>\n",
       "      <td>0.0</td>\n",
       "      <td>-1.0</td>\n",
       "      <td>0.0</td>\n",
       "      <td>2.1</td>\n",
       "    </tr>\n",
       "  </tbody>\n",
       "</table>\n",
       "</div>"
      ],
      "text/plain": [
       "        x1        x2        s1   a2   t3   a3  RHS\n",
       "x1     1.0  0.333333  3.333333  0.0  0.0  0.0  9.0\n",
       "a2     0.0  0.333333 -1.666667  1.0  0.0  0.0  1.5\n",
       "a3     0.0  0.200000 -2.000000  0.0 -1.0  1.0  0.6\n",
       "C - Z  0.0  0.533333 -3.666667  0.0 -1.0  0.0  2.1"
      ]
     },
     "metadata": {},
     "output_type": "display_data"
    },
    {
     "data": {
      "text/markdown": [
       "Iteration 2 (Phase 1): Enter = x2, Leave = a3"
      ],
      "text/plain": [
       "<IPython.core.display.Markdown object>"
      ]
     },
     "metadata": {},
     "output_type": "display_data"
    },
    {
     "data": {
      "text/markdown": [
       "### After pivot #2"
      ],
      "text/plain": [
       "<IPython.core.display.Markdown object>"
      ]
     },
     "metadata": {},
     "output_type": "display_data"
    },
    {
     "data": {
      "text/html": [
       "<div>\n",
       "<style scoped>\n",
       "    .dataframe tbody tr th:only-of-type {\n",
       "        vertical-align: middle;\n",
       "    }\n",
       "\n",
       "    .dataframe tbody tr th {\n",
       "        vertical-align: top;\n",
       "    }\n",
       "\n",
       "    .dataframe thead th {\n",
       "        text-align: right;\n",
       "    }\n",
       "</style>\n",
       "<table border=\"1\" class=\"dataframe\">\n",
       "  <thead>\n",
       "    <tr style=\"text-align: right;\">\n",
       "      <th></th>\n",
       "      <th>x1</th>\n",
       "      <th>x2</th>\n",
       "      <th>s1</th>\n",
       "      <th>a2</th>\n",
       "      <th>t3</th>\n",
       "      <th>a3</th>\n",
       "      <th>RHS</th>\n",
       "    </tr>\n",
       "  </thead>\n",
       "  <tbody>\n",
       "    <tr>\n",
       "      <th>x1</th>\n",
       "      <td>1.0</td>\n",
       "      <td>0.0</td>\n",
       "      <td>6.666667</td>\n",
       "      <td>0.0</td>\n",
       "      <td>1.666667</td>\n",
       "      <td>-1.666667</td>\n",
       "      <td>8.0</td>\n",
       "    </tr>\n",
       "    <tr>\n",
       "      <th>a2</th>\n",
       "      <td>0.0</td>\n",
       "      <td>0.0</td>\n",
       "      <td>1.666667</td>\n",
       "      <td>1.0</td>\n",
       "      <td>1.666667</td>\n",
       "      <td>-1.666667</td>\n",
       "      <td>0.5</td>\n",
       "    </tr>\n",
       "    <tr>\n",
       "      <th>x2</th>\n",
       "      <td>0.0</td>\n",
       "      <td>1.0</td>\n",
       "      <td>-10.000000</td>\n",
       "      <td>0.0</td>\n",
       "      <td>-5.000000</td>\n",
       "      <td>5.000000</td>\n",
       "      <td>3.0</td>\n",
       "    </tr>\n",
       "    <tr>\n",
       "      <th>C - Z</th>\n",
       "      <td>0.0</td>\n",
       "      <td>0.0</td>\n",
       "      <td>1.666667</td>\n",
       "      <td>0.0</td>\n",
       "      <td>1.666667</td>\n",
       "      <td>-2.666667</td>\n",
       "      <td>0.5</td>\n",
       "    </tr>\n",
       "  </tbody>\n",
       "</table>\n",
       "</div>"
      ],
      "text/plain": [
       "        x1   x2         s1   a2        t3        a3  RHS\n",
       "x1     1.0  0.0   6.666667  0.0  1.666667 -1.666667  8.0\n",
       "a2     0.0  0.0   1.666667  1.0  1.666667 -1.666667  0.5\n",
       "x2     0.0  1.0 -10.000000  0.0 -5.000000  5.000000  3.0\n",
       "C - Z  0.0  0.0   1.666667  0.0  1.666667 -2.666667  0.5"
      ]
     },
     "metadata": {},
     "output_type": "display_data"
    },
    {
     "data": {
      "text/markdown": [
       "Iteration 3 (Phase 1): Enter = s1, Leave = a2"
      ],
      "text/plain": [
       "<IPython.core.display.Markdown object>"
      ]
     },
     "metadata": {},
     "output_type": "display_data"
    },
    {
     "data": {
      "text/markdown": [
       "### After pivot #3"
      ],
      "text/plain": [
       "<IPython.core.display.Markdown object>"
      ]
     },
     "metadata": {},
     "output_type": "display_data"
    },
    {
     "data": {
      "text/html": [
       "<div>\n",
       "<style scoped>\n",
       "    .dataframe tbody tr th:only-of-type {\n",
       "        vertical-align: middle;\n",
       "    }\n",
       "\n",
       "    .dataframe tbody tr th {\n",
       "        vertical-align: top;\n",
       "    }\n",
       "\n",
       "    .dataframe thead th {\n",
       "        text-align: right;\n",
       "    }\n",
       "</style>\n",
       "<table border=\"1\" class=\"dataframe\">\n",
       "  <thead>\n",
       "    <tr style=\"text-align: right;\">\n",
       "      <th></th>\n",
       "      <th>x1</th>\n",
       "      <th>x2</th>\n",
       "      <th>s1</th>\n",
       "      <th>a2</th>\n",
       "      <th>t3</th>\n",
       "      <th>a3</th>\n",
       "      <th>RHS</th>\n",
       "    </tr>\n",
       "  </thead>\n",
       "  <tbody>\n",
       "    <tr>\n",
       "      <th>x1</th>\n",
       "      <td>1.0</td>\n",
       "      <td>0.0</td>\n",
       "      <td>0.0</td>\n",
       "      <td>-4.0</td>\n",
       "      <td>-5.0</td>\n",
       "      <td>5.0</td>\n",
       "      <td>6.0</td>\n",
       "    </tr>\n",
       "    <tr>\n",
       "      <th>s1</th>\n",
       "      <td>0.0</td>\n",
       "      <td>0.0</td>\n",
       "      <td>1.0</td>\n",
       "      <td>0.6</td>\n",
       "      <td>1.0</td>\n",
       "      <td>-1.0</td>\n",
       "      <td>0.3</td>\n",
       "    </tr>\n",
       "    <tr>\n",
       "      <th>x2</th>\n",
       "      <td>0.0</td>\n",
       "      <td>1.0</td>\n",
       "      <td>0.0</td>\n",
       "      <td>6.0</td>\n",
       "      <td>5.0</td>\n",
       "      <td>-5.0</td>\n",
       "      <td>6.0</td>\n",
       "    </tr>\n",
       "    <tr>\n",
       "      <th>C - Z</th>\n",
       "      <td>0.0</td>\n",
       "      <td>0.0</td>\n",
       "      <td>0.0</td>\n",
       "      <td>-1.0</td>\n",
       "      <td>0.0</td>\n",
       "      <td>-1.0</td>\n",
       "      <td>0.0</td>\n",
       "    </tr>\n",
       "  </tbody>\n",
       "</table>\n",
       "</div>"
      ],
      "text/plain": [
       "        x1   x2   s1   a2   t3   a3  RHS\n",
       "x1     1.0  0.0  0.0 -4.0 -5.0  5.0  6.0\n",
       "s1     0.0  0.0  1.0  0.6  1.0 -1.0  0.3\n",
       "x2     0.0  1.0  0.0  6.0  5.0 -5.0  6.0\n",
       "C - Z  0.0  0.0  0.0 -1.0  0.0 -1.0  0.0"
      ]
     },
     "metadata": {},
     "output_type": "display_data"
    },
    {
     "data": {
      "text/markdown": [
       "### Phase 1 — Optimal (no positive C-Z). Objective = -0.000000"
      ],
      "text/plain": [
       "<IPython.core.display.Markdown object>"
      ]
     },
     "metadata": {},
     "output_type": "display_data"
    },
    {
     "data": {
      "text/html": [
       "<div>\n",
       "<style scoped>\n",
       "    .dataframe tbody tr th:only-of-type {\n",
       "        vertical-align: middle;\n",
       "    }\n",
       "\n",
       "    .dataframe tbody tr th {\n",
       "        vertical-align: top;\n",
       "    }\n",
       "\n",
       "    .dataframe thead th {\n",
       "        text-align: right;\n",
       "    }\n",
       "</style>\n",
       "<table border=\"1\" class=\"dataframe\">\n",
       "  <thead>\n",
       "    <tr style=\"text-align: right;\">\n",
       "      <th></th>\n",
       "      <th>x1</th>\n",
       "      <th>x2</th>\n",
       "      <th>s1</th>\n",
       "      <th>a2</th>\n",
       "      <th>t3</th>\n",
       "      <th>a3</th>\n",
       "      <th>RHS</th>\n",
       "    </tr>\n",
       "  </thead>\n",
       "  <tbody>\n",
       "    <tr>\n",
       "      <th>x1</th>\n",
       "      <td>1.0</td>\n",
       "      <td>0.0</td>\n",
       "      <td>0.0</td>\n",
       "      <td>-4.0</td>\n",
       "      <td>-5.0</td>\n",
       "      <td>5.0</td>\n",
       "      <td>6.0</td>\n",
       "    </tr>\n",
       "    <tr>\n",
       "      <th>s1</th>\n",
       "      <td>0.0</td>\n",
       "      <td>0.0</td>\n",
       "      <td>1.0</td>\n",
       "      <td>0.6</td>\n",
       "      <td>1.0</td>\n",
       "      <td>-1.0</td>\n",
       "      <td>0.3</td>\n",
       "    </tr>\n",
       "    <tr>\n",
       "      <th>x2</th>\n",
       "      <td>0.0</td>\n",
       "      <td>1.0</td>\n",
       "      <td>0.0</td>\n",
       "      <td>6.0</td>\n",
       "      <td>5.0</td>\n",
       "      <td>-5.0</td>\n",
       "      <td>6.0</td>\n",
       "    </tr>\n",
       "    <tr>\n",
       "      <th>C - Z</th>\n",
       "      <td>0.0</td>\n",
       "      <td>0.0</td>\n",
       "      <td>0.0</td>\n",
       "      <td>-1.0</td>\n",
       "      <td>0.0</td>\n",
       "      <td>-1.0</td>\n",
       "      <td>0.0</td>\n",
       "    </tr>\n",
       "  </tbody>\n",
       "</table>\n",
       "</div>"
      ],
      "text/plain": [
       "        x1   x2   s1   a2   t3   a3  RHS\n",
       "x1     1.0  0.0  0.0 -4.0 -5.0  5.0  6.0\n",
       "s1     0.0  0.0  1.0  0.6  1.0 -1.0  0.3\n",
       "x2     0.0  1.0  0.0  6.0  5.0 -5.0  6.0\n",
       "C - Z  0.0  0.0  0.0 -1.0  0.0 -1.0  0.0"
      ]
     },
     "metadata": {},
     "output_type": "display_data"
    },
    {
     "data": {
      "text/markdown": [
       "### Phase 2 — Initial C - Z row"
      ],
      "text/plain": [
       "<IPython.core.display.Markdown object>"
      ]
     },
     "metadata": {},
     "output_type": "display_data"
    },
    {
     "data": {
      "text/html": [
       "<div>\n",
       "<style scoped>\n",
       "    .dataframe tbody tr th:only-of-type {\n",
       "        vertical-align: middle;\n",
       "    }\n",
       "\n",
       "    .dataframe tbody tr th {\n",
       "        vertical-align: top;\n",
       "    }\n",
       "\n",
       "    .dataframe thead th {\n",
       "        text-align: right;\n",
       "    }\n",
       "</style>\n",
       "<table border=\"1\" class=\"dataframe\">\n",
       "  <thead>\n",
       "    <tr style=\"text-align: right;\">\n",
       "      <th></th>\n",
       "      <th>x1</th>\n",
       "      <th>x2</th>\n",
       "      <th>s1</th>\n",
       "      <th>t3</th>\n",
       "      <th>RHS</th>\n",
       "    </tr>\n",
       "  </thead>\n",
       "  <tbody>\n",
       "    <tr>\n",
       "      <th>x1</th>\n",
       "      <td>1.0</td>\n",
       "      <td>0.0</td>\n",
       "      <td>0.0</td>\n",
       "      <td>-5.0</td>\n",
       "      <td>6.0</td>\n",
       "    </tr>\n",
       "    <tr>\n",
       "      <th>s1</th>\n",
       "      <td>0.0</td>\n",
       "      <td>0.0</td>\n",
       "      <td>1.0</td>\n",
       "      <td>1.0</td>\n",
       "      <td>0.3</td>\n",
       "    </tr>\n",
       "    <tr>\n",
       "      <th>x2</th>\n",
       "      <td>0.0</td>\n",
       "      <td>1.0</td>\n",
       "      <td>0.0</td>\n",
       "      <td>5.0</td>\n",
       "      <td>6.0</td>\n",
       "    </tr>\n",
       "    <tr>\n",
       "      <th>C - Z</th>\n",
       "      <td>0.0</td>\n",
       "      <td>0.0</td>\n",
       "      <td>0.0</td>\n",
       "      <td>0.5</td>\n",
       "      <td>5.4</td>\n",
       "    </tr>\n",
       "  </tbody>\n",
       "</table>\n",
       "</div>"
      ],
      "text/plain": [
       "        x1   x2   s1   t3  RHS\n",
       "x1     1.0  0.0  0.0 -5.0  6.0\n",
       "s1     0.0  0.0  1.0  1.0  0.3\n",
       "x2     0.0  1.0  0.0  5.0  6.0\n",
       "C - Z  0.0  0.0  0.0  0.5  5.4"
      ]
     },
     "metadata": {},
     "output_type": "display_data"
    },
    {
     "data": {
      "text/markdown": [
       "Iteration 4 (Phase 2): Enter = t3, Leave = s1"
      ],
      "text/plain": [
       "<IPython.core.display.Markdown object>"
      ]
     },
     "metadata": {},
     "output_type": "display_data"
    },
    {
     "data": {
      "text/markdown": [
       "### After pivot #4"
      ],
      "text/plain": [
       "<IPython.core.display.Markdown object>"
      ]
     },
     "metadata": {},
     "output_type": "display_data"
    },
    {
     "data": {
      "text/html": [
       "<div>\n",
       "<style scoped>\n",
       "    .dataframe tbody tr th:only-of-type {\n",
       "        vertical-align: middle;\n",
       "    }\n",
       "\n",
       "    .dataframe tbody tr th {\n",
       "        vertical-align: top;\n",
       "    }\n",
       "\n",
       "    .dataframe thead th {\n",
       "        text-align: right;\n",
       "    }\n",
       "</style>\n",
       "<table border=\"1\" class=\"dataframe\">\n",
       "  <thead>\n",
       "    <tr style=\"text-align: right;\">\n",
       "      <th></th>\n",
       "      <th>x1</th>\n",
       "      <th>x2</th>\n",
       "      <th>s1</th>\n",
       "      <th>t3</th>\n",
       "      <th>RHS</th>\n",
       "    </tr>\n",
       "  </thead>\n",
       "  <tbody>\n",
       "    <tr>\n",
       "      <th>x1</th>\n",
       "      <td>1.0</td>\n",
       "      <td>0.0</td>\n",
       "      <td>5.0</td>\n",
       "      <td>0.0</td>\n",
       "      <td>7.50</td>\n",
       "    </tr>\n",
       "    <tr>\n",
       "      <th>t3</th>\n",
       "      <td>0.0</td>\n",
       "      <td>0.0</td>\n",
       "      <td>1.0</td>\n",
       "      <td>1.0</td>\n",
       "      <td>0.30</td>\n",
       "    </tr>\n",
       "    <tr>\n",
       "      <th>x2</th>\n",
       "      <td>0.0</td>\n",
       "      <td>1.0</td>\n",
       "      <td>-5.0</td>\n",
       "      <td>0.0</td>\n",
       "      <td>4.50</td>\n",
       "    </tr>\n",
       "    <tr>\n",
       "      <th>C - Z</th>\n",
       "      <td>0.0</td>\n",
       "      <td>0.0</td>\n",
       "      <td>-0.5</td>\n",
       "      <td>0.0</td>\n",
       "      <td>5.25</td>\n",
       "    </tr>\n",
       "  </tbody>\n",
       "</table>\n",
       "</div>"
      ],
      "text/plain": [
       "        x1   x2   s1   t3   RHS\n",
       "x1     1.0  0.0  5.0  0.0  7.50\n",
       "t3     0.0  0.0  1.0  1.0  0.30\n",
       "x2     0.0  1.0 -5.0  0.0  4.50\n",
       "C - Z  0.0  0.0 -0.5  0.0  5.25"
      ]
     },
     "metadata": {},
     "output_type": "display_data"
    },
    {
     "data": {
      "text/markdown": [
       "### Phase 2 — Optimal (no positive C-Z). Objective = -5.250000"
      ],
      "text/plain": [
       "<IPython.core.display.Markdown object>"
      ]
     },
     "metadata": {},
     "output_type": "display_data"
    },
    {
     "data": {
      "text/html": [
       "<div>\n",
       "<style scoped>\n",
       "    .dataframe tbody tr th:only-of-type {\n",
       "        vertical-align: middle;\n",
       "    }\n",
       "\n",
       "    .dataframe tbody tr th {\n",
       "        vertical-align: top;\n",
       "    }\n",
       "\n",
       "    .dataframe thead th {\n",
       "        text-align: right;\n",
       "    }\n",
       "</style>\n",
       "<table border=\"1\" class=\"dataframe\">\n",
       "  <thead>\n",
       "    <tr style=\"text-align: right;\">\n",
       "      <th></th>\n",
       "      <th>x1</th>\n",
       "      <th>x2</th>\n",
       "      <th>s1</th>\n",
       "      <th>t3</th>\n",
       "      <th>RHS</th>\n",
       "    </tr>\n",
       "  </thead>\n",
       "  <tbody>\n",
       "    <tr>\n",
       "      <th>x1</th>\n",
       "      <td>1.0</td>\n",
       "      <td>0.0</td>\n",
       "      <td>5.0</td>\n",
       "      <td>0.0</td>\n",
       "      <td>7.50</td>\n",
       "    </tr>\n",
       "    <tr>\n",
       "      <th>t3</th>\n",
       "      <td>0.0</td>\n",
       "      <td>0.0</td>\n",
       "      <td>1.0</td>\n",
       "      <td>1.0</td>\n",
       "      <td>0.30</td>\n",
       "    </tr>\n",
       "    <tr>\n",
       "      <th>x2</th>\n",
       "      <td>0.0</td>\n",
       "      <td>1.0</td>\n",
       "      <td>-5.0</td>\n",
       "      <td>0.0</td>\n",
       "      <td>4.50</td>\n",
       "    </tr>\n",
       "    <tr>\n",
       "      <th>C - Z</th>\n",
       "      <td>0.0</td>\n",
       "      <td>0.0</td>\n",
       "      <td>-0.5</td>\n",
       "      <td>0.0</td>\n",
       "      <td>5.25</td>\n",
       "    </tr>\n",
       "  </tbody>\n",
       "</table>\n",
       "</div>"
      ],
      "text/plain": [
       "        x1   x2   s1   t3   RHS\n",
       "x1     1.0  0.0  5.0  0.0  7.50\n",
       "t3     0.0  0.0  1.0  1.0  0.30\n",
       "x2     0.0  1.0 -5.0  0.0  4.50\n",
       "C - Z  0.0  0.0 -0.5  0.0  5.25"
      ]
     },
     "metadata": {},
     "output_type": "display_data"
    },
    {
     "name": "stdout",
     "output_type": "stream",
     "text": [
      "\n",
      "=== RESULT ===\n",
      "Status: optimal\n",
      "Objective value: 5.25\n",
      "Solution: {'x1': np.float64(7.500000000000003), 'x2': np.float64(4.499999999999997)}\n",
      "Iterations: 4\n"
     ]
    }
   ],
   "source": [
    "# Example (change these to your own problem)\n",
    "sense = 'min'  # 'max' or 'min'\n",
    "c = [0.4, 0.5]     # maximize 3x1 + 2x2\n",
    "A = [\n",
    "    [0.3, 0.1],\n",
    "    [0.5, 0.5],\n",
    "    [0.6, 0.4]\n",
    "]\n",
    "b = [2.7, 6, 6]\n",
    "cons = ['<=', '=', '>=']\n",
    "\n",
    "Mode = 'TwoPhase'\n",
    "\n",
    "run_and_show(sense, c, A, b, cons, Mode, M=1e5)"
   ]
  },
  {
   "cell_type": "markdown",
   "id": "46f1175b",
   "metadata": {},
   "source": [
    "# EX"
   ]
  },
  {
   "cell_type": "markdown",
   "id": "3eeb34aa",
   "metadata": {},
   "source": [
    "\n",
    "## Example 2 — Two-Phase (with \">=\" and \"=\")\n",
    "\n",
    "This example requires artificial variables in Phase I.\n"
   ]
  },
  {
   "cell_type": "code",
   "execution_count": 8,
   "id": "26834d0e",
   "metadata": {},
   "outputs": [
    {
     "data": {
      "text/markdown": [
       "### Phase 1 — Initial C - Z row"
      ],
      "text/plain": [
       "<IPython.core.display.Markdown object>"
      ]
     },
     "metadata": {},
     "output_type": "display_data"
    },
    {
     "data": {
      "text/html": [
       "<div>\n",
       "<style scoped>\n",
       "    .dataframe tbody tr th:only-of-type {\n",
       "        vertical-align: middle;\n",
       "    }\n",
       "\n",
       "    .dataframe tbody tr th {\n",
       "        vertical-align: top;\n",
       "    }\n",
       "\n",
       "    .dataframe thead th {\n",
       "        text-align: right;\n",
       "    }\n",
       "</style>\n",
       "<table border=\"1\" class=\"dataframe\">\n",
       "  <thead>\n",
       "    <tr style=\"text-align: right;\">\n",
       "      <th></th>\n",
       "      <th>x1</th>\n",
       "      <th>x2</th>\n",
       "      <th>t1</th>\n",
       "      <th>a1</th>\n",
       "      <th>a2</th>\n",
       "      <th>RHS</th>\n",
       "    </tr>\n",
       "  </thead>\n",
       "  <tbody>\n",
       "    <tr>\n",
       "      <th>a1</th>\n",
       "      <td>-1.0</td>\n",
       "      <td>1.0</td>\n",
       "      <td>-1.0</td>\n",
       "      <td>1.0</td>\n",
       "      <td>0.0</td>\n",
       "      <td>1.0</td>\n",
       "    </tr>\n",
       "    <tr>\n",
       "      <th>a2</th>\n",
       "      <td>1.0</td>\n",
       "      <td>1.0</td>\n",
       "      <td>0.0</td>\n",
       "      <td>0.0</td>\n",
       "      <td>1.0</td>\n",
       "      <td>3.0</td>\n",
       "    </tr>\n",
       "    <tr>\n",
       "      <th>C - Z</th>\n",
       "      <td>0.0</td>\n",
       "      <td>2.0</td>\n",
       "      <td>-1.0</td>\n",
       "      <td>0.0</td>\n",
       "      <td>0.0</td>\n",
       "      <td>4.0</td>\n",
       "    </tr>\n",
       "  </tbody>\n",
       "</table>\n",
       "</div>"
      ],
      "text/plain": [
       "        x1   x2   t1   a1   a2  RHS\n",
       "a1    -1.0  1.0 -1.0  1.0  0.0  1.0\n",
       "a2     1.0  1.0  0.0  0.0  1.0  3.0\n",
       "C - Z  0.0  2.0 -1.0  0.0  0.0  4.0"
      ]
     },
     "metadata": {},
     "output_type": "display_data"
    },
    {
     "data": {
      "text/markdown": [
       "Iteration 1 (Phase 1): Enter = x2, Leave = a1"
      ],
      "text/plain": [
       "<IPython.core.display.Markdown object>"
      ]
     },
     "metadata": {},
     "output_type": "display_data"
    },
    {
     "data": {
      "text/markdown": [
       "### After pivot #1"
      ],
      "text/plain": [
       "<IPython.core.display.Markdown object>"
      ]
     },
     "metadata": {},
     "output_type": "display_data"
    },
    {
     "data": {
      "text/html": [
       "<div>\n",
       "<style scoped>\n",
       "    .dataframe tbody tr th:only-of-type {\n",
       "        vertical-align: middle;\n",
       "    }\n",
       "\n",
       "    .dataframe tbody tr th {\n",
       "        vertical-align: top;\n",
       "    }\n",
       "\n",
       "    .dataframe thead th {\n",
       "        text-align: right;\n",
       "    }\n",
       "</style>\n",
       "<table border=\"1\" class=\"dataframe\">\n",
       "  <thead>\n",
       "    <tr style=\"text-align: right;\">\n",
       "      <th></th>\n",
       "      <th>x1</th>\n",
       "      <th>x2</th>\n",
       "      <th>t1</th>\n",
       "      <th>a1</th>\n",
       "      <th>a2</th>\n",
       "      <th>RHS</th>\n",
       "    </tr>\n",
       "  </thead>\n",
       "  <tbody>\n",
       "    <tr>\n",
       "      <th>x2</th>\n",
       "      <td>-1.0</td>\n",
       "      <td>1.0</td>\n",
       "      <td>-1.0</td>\n",
       "      <td>1.0</td>\n",
       "      <td>0.0</td>\n",
       "      <td>1.0</td>\n",
       "    </tr>\n",
       "    <tr>\n",
       "      <th>a2</th>\n",
       "      <td>2.0</td>\n",
       "      <td>0.0</td>\n",
       "      <td>1.0</td>\n",
       "      <td>-1.0</td>\n",
       "      <td>1.0</td>\n",
       "      <td>2.0</td>\n",
       "    </tr>\n",
       "    <tr>\n",
       "      <th>C - Z</th>\n",
       "      <td>2.0</td>\n",
       "      <td>0.0</td>\n",
       "      <td>1.0</td>\n",
       "      <td>-2.0</td>\n",
       "      <td>0.0</td>\n",
       "      <td>2.0</td>\n",
       "    </tr>\n",
       "  </tbody>\n",
       "</table>\n",
       "</div>"
      ],
      "text/plain": [
       "        x1   x2   t1   a1   a2  RHS\n",
       "x2    -1.0  1.0 -1.0  1.0  0.0  1.0\n",
       "a2     2.0  0.0  1.0 -1.0  1.0  2.0\n",
       "C - Z  2.0  0.0  1.0 -2.0  0.0  2.0"
      ]
     },
     "metadata": {},
     "output_type": "display_data"
    },
    {
     "data": {
      "text/markdown": [
       "Iteration 2 (Phase 1): Enter = x1, Leave = a2"
      ],
      "text/plain": [
       "<IPython.core.display.Markdown object>"
      ]
     },
     "metadata": {},
     "output_type": "display_data"
    },
    {
     "data": {
      "text/markdown": [
       "### After pivot #2"
      ],
      "text/plain": [
       "<IPython.core.display.Markdown object>"
      ]
     },
     "metadata": {},
     "output_type": "display_data"
    },
    {
     "data": {
      "text/html": [
       "<div>\n",
       "<style scoped>\n",
       "    .dataframe tbody tr th:only-of-type {\n",
       "        vertical-align: middle;\n",
       "    }\n",
       "\n",
       "    .dataframe tbody tr th {\n",
       "        vertical-align: top;\n",
       "    }\n",
       "\n",
       "    .dataframe thead th {\n",
       "        text-align: right;\n",
       "    }\n",
       "</style>\n",
       "<table border=\"1\" class=\"dataframe\">\n",
       "  <thead>\n",
       "    <tr style=\"text-align: right;\">\n",
       "      <th></th>\n",
       "      <th>x1</th>\n",
       "      <th>x2</th>\n",
       "      <th>t1</th>\n",
       "      <th>a1</th>\n",
       "      <th>a2</th>\n",
       "      <th>RHS</th>\n",
       "    </tr>\n",
       "  </thead>\n",
       "  <tbody>\n",
       "    <tr>\n",
       "      <th>x2</th>\n",
       "      <td>0.0</td>\n",
       "      <td>1.0</td>\n",
       "      <td>-0.5</td>\n",
       "      <td>0.5</td>\n",
       "      <td>0.5</td>\n",
       "      <td>2.0</td>\n",
       "    </tr>\n",
       "    <tr>\n",
       "      <th>x1</th>\n",
       "      <td>1.0</td>\n",
       "      <td>0.0</td>\n",
       "      <td>0.5</td>\n",
       "      <td>-0.5</td>\n",
       "      <td>0.5</td>\n",
       "      <td>1.0</td>\n",
       "    </tr>\n",
       "    <tr>\n",
       "      <th>C - Z</th>\n",
       "      <td>0.0</td>\n",
       "      <td>0.0</td>\n",
       "      <td>0.0</td>\n",
       "      <td>-1.0</td>\n",
       "      <td>-1.0</td>\n",
       "      <td>0.0</td>\n",
       "    </tr>\n",
       "  </tbody>\n",
       "</table>\n",
       "</div>"
      ],
      "text/plain": [
       "        x1   x2   t1   a1   a2  RHS\n",
       "x2     0.0  1.0 -0.5  0.5  0.5  2.0\n",
       "x1     1.0  0.0  0.5 -0.5  0.5  1.0\n",
       "C - Z  0.0  0.0  0.0 -1.0 -1.0  0.0"
      ]
     },
     "metadata": {},
     "output_type": "display_data"
    },
    {
     "data": {
      "text/markdown": [
       "### Phase 1 — Optimal (no positive C-Z). Objective = -0.000000"
      ],
      "text/plain": [
       "<IPython.core.display.Markdown object>"
      ]
     },
     "metadata": {},
     "output_type": "display_data"
    },
    {
     "data": {
      "text/html": [
       "<div>\n",
       "<style scoped>\n",
       "    .dataframe tbody tr th:only-of-type {\n",
       "        vertical-align: middle;\n",
       "    }\n",
       "\n",
       "    .dataframe tbody tr th {\n",
       "        vertical-align: top;\n",
       "    }\n",
       "\n",
       "    .dataframe thead th {\n",
       "        text-align: right;\n",
       "    }\n",
       "</style>\n",
       "<table border=\"1\" class=\"dataframe\">\n",
       "  <thead>\n",
       "    <tr style=\"text-align: right;\">\n",
       "      <th></th>\n",
       "      <th>x1</th>\n",
       "      <th>x2</th>\n",
       "      <th>t1</th>\n",
       "      <th>a1</th>\n",
       "      <th>a2</th>\n",
       "      <th>RHS</th>\n",
       "    </tr>\n",
       "  </thead>\n",
       "  <tbody>\n",
       "    <tr>\n",
       "      <th>x2</th>\n",
       "      <td>0.0</td>\n",
       "      <td>1.0</td>\n",
       "      <td>-0.5</td>\n",
       "      <td>0.5</td>\n",
       "      <td>0.5</td>\n",
       "      <td>2.0</td>\n",
       "    </tr>\n",
       "    <tr>\n",
       "      <th>x1</th>\n",
       "      <td>1.0</td>\n",
       "      <td>0.0</td>\n",
       "      <td>0.5</td>\n",
       "      <td>-0.5</td>\n",
       "      <td>0.5</td>\n",
       "      <td>1.0</td>\n",
       "    </tr>\n",
       "    <tr>\n",
       "      <th>C - Z</th>\n",
       "      <td>0.0</td>\n",
       "      <td>0.0</td>\n",
       "      <td>0.0</td>\n",
       "      <td>-1.0</td>\n",
       "      <td>-1.0</td>\n",
       "      <td>0.0</td>\n",
       "    </tr>\n",
       "  </tbody>\n",
       "</table>\n",
       "</div>"
      ],
      "text/plain": [
       "        x1   x2   t1   a1   a2  RHS\n",
       "x2     0.0  1.0 -0.5  0.5  0.5  2.0\n",
       "x1     1.0  0.0  0.5 -0.5  0.5  1.0\n",
       "C - Z  0.0  0.0  0.0 -1.0 -1.0  0.0"
      ]
     },
     "metadata": {},
     "output_type": "display_data"
    },
    {
     "data": {
      "text/markdown": [
       "### Phase 2 — Initial C - Z row"
      ],
      "text/plain": [
       "<IPython.core.display.Markdown object>"
      ]
     },
     "metadata": {},
     "output_type": "display_data"
    },
    {
     "data": {
      "text/html": [
       "<div>\n",
       "<style scoped>\n",
       "    .dataframe tbody tr th:only-of-type {\n",
       "        vertical-align: middle;\n",
       "    }\n",
       "\n",
       "    .dataframe tbody tr th {\n",
       "        vertical-align: top;\n",
       "    }\n",
       "\n",
       "    .dataframe thead th {\n",
       "        text-align: right;\n",
       "    }\n",
       "</style>\n",
       "<table border=\"1\" class=\"dataframe\">\n",
       "  <thead>\n",
       "    <tr style=\"text-align: right;\">\n",
       "      <th></th>\n",
       "      <th>x1</th>\n",
       "      <th>x2</th>\n",
       "      <th>t1</th>\n",
       "      <th>RHS</th>\n",
       "    </tr>\n",
       "  </thead>\n",
       "  <tbody>\n",
       "    <tr>\n",
       "      <th>x2</th>\n",
       "      <td>0.0</td>\n",
       "      <td>1.0</td>\n",
       "      <td>-0.5</td>\n",
       "      <td>2.0</td>\n",
       "    </tr>\n",
       "    <tr>\n",
       "      <th>x1</th>\n",
       "      <td>1.0</td>\n",
       "      <td>0.0</td>\n",
       "      <td>0.5</td>\n",
       "      <td>1.0</td>\n",
       "    </tr>\n",
       "    <tr>\n",
       "      <th>C - Z</th>\n",
       "      <td>0.0</td>\n",
       "      <td>0.0</td>\n",
       "      <td>0.0</td>\n",
       "      <td>-3.0</td>\n",
       "    </tr>\n",
       "  </tbody>\n",
       "</table>\n",
       "</div>"
      ],
      "text/plain": [
       "        x1   x2   t1  RHS\n",
       "x2     0.0  1.0 -0.5  2.0\n",
       "x1     1.0  0.0  0.5  1.0\n",
       "C - Z  0.0  0.0  0.0 -3.0"
      ]
     },
     "metadata": {},
     "output_type": "display_data"
    },
    {
     "data": {
      "text/markdown": [
       "### Phase 2 — Optimal (no positive C-Z). Objective = 3.000000"
      ],
      "text/plain": [
       "<IPython.core.display.Markdown object>"
      ]
     },
     "metadata": {},
     "output_type": "display_data"
    },
    {
     "data": {
      "text/html": [
       "<div>\n",
       "<style scoped>\n",
       "    .dataframe tbody tr th:only-of-type {\n",
       "        vertical-align: middle;\n",
       "    }\n",
       "\n",
       "    .dataframe tbody tr th {\n",
       "        vertical-align: top;\n",
       "    }\n",
       "\n",
       "    .dataframe thead th {\n",
       "        text-align: right;\n",
       "    }\n",
       "</style>\n",
       "<table border=\"1\" class=\"dataframe\">\n",
       "  <thead>\n",
       "    <tr style=\"text-align: right;\">\n",
       "      <th></th>\n",
       "      <th>x1</th>\n",
       "      <th>x2</th>\n",
       "      <th>t1</th>\n",
       "      <th>RHS</th>\n",
       "    </tr>\n",
       "  </thead>\n",
       "  <tbody>\n",
       "    <tr>\n",
       "      <th>x2</th>\n",
       "      <td>0.0</td>\n",
       "      <td>1.0</td>\n",
       "      <td>-0.5</td>\n",
       "      <td>2.0</td>\n",
       "    </tr>\n",
       "    <tr>\n",
       "      <th>x1</th>\n",
       "      <td>1.0</td>\n",
       "      <td>0.0</td>\n",
       "      <td>0.5</td>\n",
       "      <td>1.0</td>\n",
       "    </tr>\n",
       "    <tr>\n",
       "      <th>C - Z</th>\n",
       "      <td>0.0</td>\n",
       "      <td>0.0</td>\n",
       "      <td>0.0</td>\n",
       "      <td>-3.0</td>\n",
       "    </tr>\n",
       "  </tbody>\n",
       "</table>\n",
       "</div>"
      ],
      "text/plain": [
       "        x1   x2   t1  RHS\n",
       "x2     0.0  1.0 -0.5  2.0\n",
       "x1     1.0  0.0  0.5  1.0\n",
       "C - Z  0.0  0.0  0.0 -3.0"
      ]
     },
     "metadata": {},
     "output_type": "display_data"
    },
    {
     "name": "stdout",
     "output_type": "stream",
     "text": [
      "\n",
      "=== RESULT ===\n",
      "Status: optimal\n",
      "Objective value: 3.0\n",
      "Solution: {'x1': np.float64(1.0), 'x2': np.float64(2.0)}\n",
      "Iterations: 2\n"
     ]
    }
   ],
   "source": [
    "\n",
    "# Maximize z = x1 + x2\n",
    "# s.t.\n",
    "#   -x1 +   x2 >= 1\n",
    "#    x1 +   x2  = 3\n",
    "#    x1, x2 >= 0\n",
    "sense = 'max'\n",
    "c = [1, 1]\n",
    "A = [\n",
    "    [-1, 1],\n",
    "    [ 1, 1],\n",
    "]\n",
    "b = [1, 3]\n",
    "cons = ['>=', '=']\n",
    "\n",
    "Mode = 'TwoPhase'\n",
    "\n",
    "run_and_show(sense, c, A, b, cons, Mode, M=1e5)\n"
   ]
  },
  {
   "cell_type": "markdown",
   "id": "8113a5df",
   "metadata": {},
   "source": [
    "\n",
    "## Example 3 — Infeasible problem\n",
    "\n",
    "This one has no feasible solution.\n"
   ]
  },
  {
   "cell_type": "code",
   "execution_count": null,
   "id": "653e51fc",
   "metadata": {},
   "outputs": [
    {
     "data": {
      "text/markdown": [
       "### Phase 1 — Initial C - Z row"
      ],
      "text/plain": [
       "<IPython.core.display.Markdown object>"
      ]
     },
     "metadata": {},
     "output_type": "display_data"
    },
    {
     "data": {
      "text/html": [
       "<div>\n",
       "<style scoped>\n",
       "    .dataframe tbody tr th:only-of-type {\n",
       "        vertical-align: middle;\n",
       "    }\n",
       "\n",
       "    .dataframe tbody tr th {\n",
       "        vertical-align: top;\n",
       "    }\n",
       "\n",
       "    .dataframe thead th {\n",
       "        text-align: right;\n",
       "    }\n",
       "</style>\n",
       "<table border=\"1\" class=\"dataframe\">\n",
       "  <thead>\n",
       "    <tr style=\"text-align: right;\">\n",
       "      <th></th>\n",
       "      <th>x1</th>\n",
       "      <th>x2</th>\n",
       "      <th>s1</th>\n",
       "      <th>t2</th>\n",
       "      <th>a2</th>\n",
       "      <th>RHS</th>\n",
       "    </tr>\n",
       "  </thead>\n",
       "  <tbody>\n",
       "    <tr>\n",
       "      <th>s1</th>\n",
       "      <td>1.0</td>\n",
       "      <td>1.0</td>\n",
       "      <td>1.0</td>\n",
       "      <td>0.0</td>\n",
       "      <td>0.0</td>\n",
       "      <td>1.0</td>\n",
       "    </tr>\n",
       "    <tr>\n",
       "      <th>a2</th>\n",
       "      <td>1.0</td>\n",
       "      <td>1.0</td>\n",
       "      <td>0.0</td>\n",
       "      <td>-1.0</td>\n",
       "      <td>1.0</td>\n",
       "      <td>3.0</td>\n",
       "    </tr>\n",
       "    <tr>\n",
       "      <th>C - Z</th>\n",
       "      <td>1.0</td>\n",
       "      <td>1.0</td>\n",
       "      <td>0.0</td>\n",
       "      <td>-1.0</td>\n",
       "      <td>0.0</td>\n",
       "      <td>3.0</td>\n",
       "    </tr>\n",
       "  </tbody>\n",
       "</table>\n",
       "</div>"
      ],
      "text/plain": [
       "        x1   x2   s1   t2   a2  RHS\n",
       "s1     1.0  1.0  1.0  0.0  0.0  1.0\n",
       "a2     1.0  1.0  0.0 -1.0  1.0  3.0\n",
       "C - Z  1.0  1.0  0.0 -1.0  0.0  3.0"
      ]
     },
     "metadata": {},
     "output_type": "display_data"
    },
    {
     "data": {
      "text/markdown": [
       "Iteration 1 (Phase 1): Enter = x1, Leave = s1"
      ],
      "text/plain": [
       "<IPython.core.display.Markdown object>"
      ]
     },
     "metadata": {},
     "output_type": "display_data"
    },
    {
     "data": {
      "text/markdown": [
       "### After pivot #1"
      ],
      "text/plain": [
       "<IPython.core.display.Markdown object>"
      ]
     },
     "metadata": {},
     "output_type": "display_data"
    },
    {
     "data": {
      "text/html": [
       "<div>\n",
       "<style scoped>\n",
       "    .dataframe tbody tr th:only-of-type {\n",
       "        vertical-align: middle;\n",
       "    }\n",
       "\n",
       "    .dataframe tbody tr th {\n",
       "        vertical-align: top;\n",
       "    }\n",
       "\n",
       "    .dataframe thead th {\n",
       "        text-align: right;\n",
       "    }\n",
       "</style>\n",
       "<table border=\"1\" class=\"dataframe\">\n",
       "  <thead>\n",
       "    <tr style=\"text-align: right;\">\n",
       "      <th></th>\n",
       "      <th>x1</th>\n",
       "      <th>x2</th>\n",
       "      <th>s1</th>\n",
       "      <th>t2</th>\n",
       "      <th>a2</th>\n",
       "      <th>RHS</th>\n",
       "    </tr>\n",
       "  </thead>\n",
       "  <tbody>\n",
       "    <tr>\n",
       "      <th>x1</th>\n",
       "      <td>1.0</td>\n",
       "      <td>1.0</td>\n",
       "      <td>1.0</td>\n",
       "      <td>0.0</td>\n",
       "      <td>0.0</td>\n",
       "      <td>1.0</td>\n",
       "    </tr>\n",
       "    <tr>\n",
       "      <th>a2</th>\n",
       "      <td>0.0</td>\n",
       "      <td>0.0</td>\n",
       "      <td>-1.0</td>\n",
       "      <td>-1.0</td>\n",
       "      <td>1.0</td>\n",
       "      <td>2.0</td>\n",
       "    </tr>\n",
       "    <tr>\n",
       "      <th>C - Z</th>\n",
       "      <td>0.0</td>\n",
       "      <td>0.0</td>\n",
       "      <td>-1.0</td>\n",
       "      <td>-1.0</td>\n",
       "      <td>0.0</td>\n",
       "      <td>2.0</td>\n",
       "    </tr>\n",
       "  </tbody>\n",
       "</table>\n",
       "</div>"
      ],
      "text/plain": [
       "        x1   x2   s1   t2   a2  RHS\n",
       "x1     1.0  1.0  1.0  0.0  0.0  1.0\n",
       "a2     0.0  0.0 -1.0 -1.0  1.0  2.0\n",
       "C - Z  0.0  0.0 -1.0 -1.0  0.0  2.0"
      ]
     },
     "metadata": {},
     "output_type": "display_data"
    },
    {
     "data": {
      "text/markdown": [
       "### Phase 1 — Optimal (no positive C-Z). Objective = -2.000000"
      ],
      "text/plain": [
       "<IPython.core.display.Markdown object>"
      ]
     },
     "metadata": {},
     "output_type": "display_data"
    },
    {
     "data": {
      "text/html": [
       "<div>\n",
       "<style scoped>\n",
       "    .dataframe tbody tr th:only-of-type {\n",
       "        vertical-align: middle;\n",
       "    }\n",
       "\n",
       "    .dataframe tbody tr th {\n",
       "        vertical-align: top;\n",
       "    }\n",
       "\n",
       "    .dataframe thead th {\n",
       "        text-align: right;\n",
       "    }\n",
       "</style>\n",
       "<table border=\"1\" class=\"dataframe\">\n",
       "  <thead>\n",
       "    <tr style=\"text-align: right;\">\n",
       "      <th></th>\n",
       "      <th>x1</th>\n",
       "      <th>x2</th>\n",
       "      <th>s1</th>\n",
       "      <th>t2</th>\n",
       "      <th>a2</th>\n",
       "      <th>RHS</th>\n",
       "    </tr>\n",
       "  </thead>\n",
       "  <tbody>\n",
       "    <tr>\n",
       "      <th>x1</th>\n",
       "      <td>1.0</td>\n",
       "      <td>1.0</td>\n",
       "      <td>1.0</td>\n",
       "      <td>0.0</td>\n",
       "      <td>0.0</td>\n",
       "      <td>1.0</td>\n",
       "    </tr>\n",
       "    <tr>\n",
       "      <th>a2</th>\n",
       "      <td>0.0</td>\n",
       "      <td>0.0</td>\n",
       "      <td>-1.0</td>\n",
       "      <td>-1.0</td>\n",
       "      <td>1.0</td>\n",
       "      <td>2.0</td>\n",
       "    </tr>\n",
       "    <tr>\n",
       "      <th>C - Z</th>\n",
       "      <td>0.0</td>\n",
       "      <td>0.0</td>\n",
       "      <td>-1.0</td>\n",
       "      <td>-1.0</td>\n",
       "      <td>0.0</td>\n",
       "      <td>2.0</td>\n",
       "    </tr>\n",
       "  </tbody>\n",
       "</table>\n",
       "</div>"
      ],
      "text/plain": [
       "        x1   x2   s1   t2   a2  RHS\n",
       "x1     1.0  1.0  1.0  0.0  0.0  1.0\n",
       "a2     0.0  0.0 -1.0 -1.0  1.0  2.0\n",
       "C - Z  0.0  0.0 -1.0 -1.0  0.0  2.0"
      ]
     },
     "metadata": {},
     "output_type": "display_data"
    },
    {
     "name": "stdout",
     "output_type": "stream",
     "text": [
      "\n",
      "=== RESULT ===\n",
      "Status: infeasible\n",
      "Objective value: nan\n",
      "Solution: {}\n",
      "Iterations: 1\n"
     ]
    }
   ],
   "source": [
    "\n",
    "# Maximize z = x1 + x2\n",
    "# s.t.\n",
    "#   x1 + x2 <= 1\n",
    "#   x1 + x2 >= 3   (impossible simultaneously with <= 1)\n",
    "#   x1, x2 >= 0\n",
    "sense = 'max'\n",
    "c = [1, 1]\n",
    "A = [\n",
    "    [1, 1],\n",
    "    [1, 1],\n",
    "]\n",
    "b = [1, 3]\n",
    "cons = ['<=', '>=']\n",
    "Mode = 'TwoPhase'\n",
    "\n",
    "run_and_show(sense, c, A, b, cons, Mode, M=1e5)\n"
   ]
  },
  {
   "cell_type": "markdown",
   "id": "a16df95e",
   "metadata": {},
   "source": [
    "\n",
    "## Example 4 — Unbounded problem\n"
   ]
  },
  {
   "cell_type": "code",
   "execution_count": null,
   "id": "b41b0561",
   "metadata": {},
   "outputs": [
    {
     "name": "stderr",
     "output_type": "stream",
     "text": [
      "C:\\Users\\Admin\\AppData\\Local\\Temp\\ipykernel_2104\\2753902525.py:172: RuntimeWarning: invalid value encountered in divide\n",
      "  ratios = np.where(mask, rhs / col, np.inf)\n"
     ]
    },
    {
     "data": {
      "text/markdown": [
       "### Phase 1 — Initial C - Z row"
      ],
      "text/plain": [
       "<IPython.core.display.Markdown object>"
      ]
     },
     "metadata": {},
     "output_type": "display_data"
    },
    {
     "data": {
      "text/html": [
       "<div>\n",
       "<style scoped>\n",
       "    .dataframe tbody tr th:only-of-type {\n",
       "        vertical-align: middle;\n",
       "    }\n",
       "\n",
       "    .dataframe tbody tr th {\n",
       "        vertical-align: top;\n",
       "    }\n",
       "\n",
       "    .dataframe thead th {\n",
       "        text-align: right;\n",
       "    }\n",
       "</style>\n",
       "<table border=\"1\" class=\"dataframe\">\n",
       "  <thead>\n",
       "    <tr style=\"text-align: right;\">\n",
       "      <th></th>\n",
       "      <th>x1</th>\n",
       "      <th>x2</th>\n",
       "      <th>t1</th>\n",
       "      <th>a1</th>\n",
       "      <th>t2</th>\n",
       "      <th>a2</th>\n",
       "      <th>RHS</th>\n",
       "    </tr>\n",
       "  </thead>\n",
       "  <tbody>\n",
       "    <tr>\n",
       "      <th>a1</th>\n",
       "      <td>1.0</td>\n",
       "      <td>-1.0</td>\n",
       "      <td>-1.0</td>\n",
       "      <td>1.0</td>\n",
       "      <td>0.0</td>\n",
       "      <td>0.0</td>\n",
       "      <td>0.0</td>\n",
       "    </tr>\n",
       "    <tr>\n",
       "      <th>a2</th>\n",
       "      <td>0.0</td>\n",
       "      <td>1.0</td>\n",
       "      <td>0.0</td>\n",
       "      <td>0.0</td>\n",
       "      <td>-1.0</td>\n",
       "      <td>1.0</td>\n",
       "      <td>0.0</td>\n",
       "    </tr>\n",
       "    <tr>\n",
       "      <th>C - Z</th>\n",
       "      <td>1.0</td>\n",
       "      <td>0.0</td>\n",
       "      <td>-1.0</td>\n",
       "      <td>0.0</td>\n",
       "      <td>-1.0</td>\n",
       "      <td>0.0</td>\n",
       "      <td>0.0</td>\n",
       "    </tr>\n",
       "  </tbody>\n",
       "</table>\n",
       "</div>"
      ],
      "text/plain": [
       "        x1   x2   t1   a1   t2   a2  RHS\n",
       "a1     1.0 -1.0 -1.0  1.0  0.0  0.0  0.0\n",
       "a2     0.0  1.0  0.0  0.0 -1.0  1.0  0.0\n",
       "C - Z  1.0  0.0 -1.0  0.0 -1.0  0.0  0.0"
      ]
     },
     "metadata": {},
     "output_type": "display_data"
    },
    {
     "data": {
      "text/markdown": [
       "Iteration 1 (Phase 1): Enter = x1, Leave = a1"
      ],
      "text/plain": [
       "<IPython.core.display.Markdown object>"
      ]
     },
     "metadata": {},
     "output_type": "display_data"
    },
    {
     "data": {
      "text/markdown": [
       "### After pivot #1"
      ],
      "text/plain": [
       "<IPython.core.display.Markdown object>"
      ]
     },
     "metadata": {},
     "output_type": "display_data"
    },
    {
     "data": {
      "text/html": [
       "<div>\n",
       "<style scoped>\n",
       "    .dataframe tbody tr th:only-of-type {\n",
       "        vertical-align: middle;\n",
       "    }\n",
       "\n",
       "    .dataframe tbody tr th {\n",
       "        vertical-align: top;\n",
       "    }\n",
       "\n",
       "    .dataframe thead th {\n",
       "        text-align: right;\n",
       "    }\n",
       "</style>\n",
       "<table border=\"1\" class=\"dataframe\">\n",
       "  <thead>\n",
       "    <tr style=\"text-align: right;\">\n",
       "      <th></th>\n",
       "      <th>x1</th>\n",
       "      <th>x2</th>\n",
       "      <th>t1</th>\n",
       "      <th>a1</th>\n",
       "      <th>t2</th>\n",
       "      <th>a2</th>\n",
       "      <th>RHS</th>\n",
       "    </tr>\n",
       "  </thead>\n",
       "  <tbody>\n",
       "    <tr>\n",
       "      <th>x1</th>\n",
       "      <td>1.0</td>\n",
       "      <td>-1.0</td>\n",
       "      <td>-1.0</td>\n",
       "      <td>1.0</td>\n",
       "      <td>0.0</td>\n",
       "      <td>0.0</td>\n",
       "      <td>0.0</td>\n",
       "    </tr>\n",
       "    <tr>\n",
       "      <th>a2</th>\n",
       "      <td>0.0</td>\n",
       "      <td>1.0</td>\n",
       "      <td>0.0</td>\n",
       "      <td>0.0</td>\n",
       "      <td>-1.0</td>\n",
       "      <td>1.0</td>\n",
       "      <td>0.0</td>\n",
       "    </tr>\n",
       "    <tr>\n",
       "      <th>C - Z</th>\n",
       "      <td>0.0</td>\n",
       "      <td>1.0</td>\n",
       "      <td>0.0</td>\n",
       "      <td>-1.0</td>\n",
       "      <td>-1.0</td>\n",
       "      <td>0.0</td>\n",
       "      <td>0.0</td>\n",
       "    </tr>\n",
       "  </tbody>\n",
       "</table>\n",
       "</div>"
      ],
      "text/plain": [
       "        x1   x2   t1   a1   t2   a2  RHS\n",
       "x1     1.0 -1.0 -1.0  1.0  0.0  0.0  0.0\n",
       "a2     0.0  1.0  0.0  0.0 -1.0  1.0  0.0\n",
       "C - Z  0.0  1.0  0.0 -1.0 -1.0  0.0  0.0"
      ]
     },
     "metadata": {},
     "output_type": "display_data"
    },
    {
     "data": {
      "text/markdown": [
       "Iteration 2 (Phase 1): Enter = x2, Leave = a2"
      ],
      "text/plain": [
       "<IPython.core.display.Markdown object>"
      ]
     },
     "metadata": {},
     "output_type": "display_data"
    },
    {
     "data": {
      "text/markdown": [
       "### After pivot #2"
      ],
      "text/plain": [
       "<IPython.core.display.Markdown object>"
      ]
     },
     "metadata": {},
     "output_type": "display_data"
    },
    {
     "data": {
      "text/html": [
       "<div>\n",
       "<style scoped>\n",
       "    .dataframe tbody tr th:only-of-type {\n",
       "        vertical-align: middle;\n",
       "    }\n",
       "\n",
       "    .dataframe tbody tr th {\n",
       "        vertical-align: top;\n",
       "    }\n",
       "\n",
       "    .dataframe thead th {\n",
       "        text-align: right;\n",
       "    }\n",
       "</style>\n",
       "<table border=\"1\" class=\"dataframe\">\n",
       "  <thead>\n",
       "    <tr style=\"text-align: right;\">\n",
       "      <th></th>\n",
       "      <th>x1</th>\n",
       "      <th>x2</th>\n",
       "      <th>t1</th>\n",
       "      <th>a1</th>\n",
       "      <th>t2</th>\n",
       "      <th>a2</th>\n",
       "      <th>RHS</th>\n",
       "    </tr>\n",
       "  </thead>\n",
       "  <tbody>\n",
       "    <tr>\n",
       "      <th>x1</th>\n",
       "      <td>1.0</td>\n",
       "      <td>0.0</td>\n",
       "      <td>-1.0</td>\n",
       "      <td>1.0</td>\n",
       "      <td>-1.0</td>\n",
       "      <td>1.0</td>\n",
       "      <td>0.0</td>\n",
       "    </tr>\n",
       "    <tr>\n",
       "      <th>x2</th>\n",
       "      <td>0.0</td>\n",
       "      <td>1.0</td>\n",
       "      <td>0.0</td>\n",
       "      <td>0.0</td>\n",
       "      <td>-1.0</td>\n",
       "      <td>1.0</td>\n",
       "      <td>0.0</td>\n",
       "    </tr>\n",
       "    <tr>\n",
       "      <th>C - Z</th>\n",
       "      <td>0.0</td>\n",
       "      <td>0.0</td>\n",
       "      <td>0.0</td>\n",
       "      <td>-1.0</td>\n",
       "      <td>0.0</td>\n",
       "      <td>-1.0</td>\n",
       "      <td>0.0</td>\n",
       "    </tr>\n",
       "  </tbody>\n",
       "</table>\n",
       "</div>"
      ],
      "text/plain": [
       "        x1   x2   t1   a1   t2   a2  RHS\n",
       "x1     1.0  0.0 -1.0  1.0 -1.0  1.0  0.0\n",
       "x2     0.0  1.0  0.0  0.0 -1.0  1.0  0.0\n",
       "C - Z  0.0  0.0  0.0 -1.0  0.0 -1.0  0.0"
      ]
     },
     "metadata": {},
     "output_type": "display_data"
    },
    {
     "data": {
      "text/markdown": [
       "### Phase 1 — Optimal (no positive C-Z). Objective = -0.000000"
      ],
      "text/plain": [
       "<IPython.core.display.Markdown object>"
      ]
     },
     "metadata": {},
     "output_type": "display_data"
    },
    {
     "data": {
      "text/html": [
       "<div>\n",
       "<style scoped>\n",
       "    .dataframe tbody tr th:only-of-type {\n",
       "        vertical-align: middle;\n",
       "    }\n",
       "\n",
       "    .dataframe tbody tr th {\n",
       "        vertical-align: top;\n",
       "    }\n",
       "\n",
       "    .dataframe thead th {\n",
       "        text-align: right;\n",
       "    }\n",
       "</style>\n",
       "<table border=\"1\" class=\"dataframe\">\n",
       "  <thead>\n",
       "    <tr style=\"text-align: right;\">\n",
       "      <th></th>\n",
       "      <th>x1</th>\n",
       "      <th>x2</th>\n",
       "      <th>t1</th>\n",
       "      <th>a1</th>\n",
       "      <th>t2</th>\n",
       "      <th>a2</th>\n",
       "      <th>RHS</th>\n",
       "    </tr>\n",
       "  </thead>\n",
       "  <tbody>\n",
       "    <tr>\n",
       "      <th>x1</th>\n",
       "      <td>1.0</td>\n",
       "      <td>0.0</td>\n",
       "      <td>-1.0</td>\n",
       "      <td>1.0</td>\n",
       "      <td>-1.0</td>\n",
       "      <td>1.0</td>\n",
       "      <td>0.0</td>\n",
       "    </tr>\n",
       "    <tr>\n",
       "      <th>x2</th>\n",
       "      <td>0.0</td>\n",
       "      <td>1.0</td>\n",
       "      <td>0.0</td>\n",
       "      <td>0.0</td>\n",
       "      <td>-1.0</td>\n",
       "      <td>1.0</td>\n",
       "      <td>0.0</td>\n",
       "    </tr>\n",
       "    <tr>\n",
       "      <th>C - Z</th>\n",
       "      <td>0.0</td>\n",
       "      <td>0.0</td>\n",
       "      <td>0.0</td>\n",
       "      <td>-1.0</td>\n",
       "      <td>0.0</td>\n",
       "      <td>-1.0</td>\n",
       "      <td>0.0</td>\n",
       "    </tr>\n",
       "  </tbody>\n",
       "</table>\n",
       "</div>"
      ],
      "text/plain": [
       "        x1   x2   t1   a1   t2   a2  RHS\n",
       "x1     1.0  0.0 -1.0  1.0 -1.0  1.0  0.0\n",
       "x2     0.0  1.0  0.0  0.0 -1.0  1.0  0.0\n",
       "C - Z  0.0  0.0  0.0 -1.0  0.0 -1.0  0.0"
      ]
     },
     "metadata": {},
     "output_type": "display_data"
    },
    {
     "data": {
      "text/markdown": [
       "### Phase 2 — Initial C - Z row"
      ],
      "text/plain": [
       "<IPython.core.display.Markdown object>"
      ]
     },
     "metadata": {},
     "output_type": "display_data"
    },
    {
     "data": {
      "text/html": [
       "<div>\n",
       "<style scoped>\n",
       "    .dataframe tbody tr th:only-of-type {\n",
       "        vertical-align: middle;\n",
       "    }\n",
       "\n",
       "    .dataframe tbody tr th {\n",
       "        vertical-align: top;\n",
       "    }\n",
       "\n",
       "    .dataframe thead th {\n",
       "        text-align: right;\n",
       "    }\n",
       "</style>\n",
       "<table border=\"1\" class=\"dataframe\">\n",
       "  <thead>\n",
       "    <tr style=\"text-align: right;\">\n",
       "      <th></th>\n",
       "      <th>x1</th>\n",
       "      <th>x2</th>\n",
       "      <th>t1</th>\n",
       "      <th>t2</th>\n",
       "      <th>RHS</th>\n",
       "    </tr>\n",
       "  </thead>\n",
       "  <tbody>\n",
       "    <tr>\n",
       "      <th>x1</th>\n",
       "      <td>1.0</td>\n",
       "      <td>0.0</td>\n",
       "      <td>-1.0</td>\n",
       "      <td>-1.0</td>\n",
       "      <td>0.0</td>\n",
       "    </tr>\n",
       "    <tr>\n",
       "      <th>x2</th>\n",
       "      <td>0.0</td>\n",
       "      <td>1.0</td>\n",
       "      <td>0.0</td>\n",
       "      <td>-1.0</td>\n",
       "      <td>0.0</td>\n",
       "    </tr>\n",
       "    <tr>\n",
       "      <th>C - Z</th>\n",
       "      <td>0.0</td>\n",
       "      <td>0.0</td>\n",
       "      <td>1.0</td>\n",
       "      <td>2.0</td>\n",
       "      <td>0.0</td>\n",
       "    </tr>\n",
       "  </tbody>\n",
       "</table>\n",
       "</div>"
      ],
      "text/plain": [
       "        x1   x2   t1   t2  RHS\n",
       "x1     1.0  0.0 -1.0 -1.0  0.0\n",
       "x2     0.0  1.0  0.0 -1.0  0.0\n",
       "C - Z  0.0  0.0  1.0  2.0  0.0"
      ]
     },
     "metadata": {},
     "output_type": "display_data"
    },
    {
     "data": {
      "text/markdown": [
       "### Phase 2 — Unbounded in entering t1"
      ],
      "text/plain": [
       "<IPython.core.display.Markdown object>"
      ]
     },
     "metadata": {},
     "output_type": "display_data"
    },
    {
     "data": {
      "text/html": [
       "<div>\n",
       "<style scoped>\n",
       "    .dataframe tbody tr th:only-of-type {\n",
       "        vertical-align: middle;\n",
       "    }\n",
       "\n",
       "    .dataframe tbody tr th {\n",
       "        vertical-align: top;\n",
       "    }\n",
       "\n",
       "    .dataframe thead th {\n",
       "        text-align: right;\n",
       "    }\n",
       "</style>\n",
       "<table border=\"1\" class=\"dataframe\">\n",
       "  <thead>\n",
       "    <tr style=\"text-align: right;\">\n",
       "      <th></th>\n",
       "      <th>x1</th>\n",
       "      <th>x2</th>\n",
       "      <th>t1</th>\n",
       "      <th>t2</th>\n",
       "      <th>RHS</th>\n",
       "    </tr>\n",
       "  </thead>\n",
       "  <tbody>\n",
       "    <tr>\n",
       "      <th>x1</th>\n",
       "      <td>1.0</td>\n",
       "      <td>0.0</td>\n",
       "      <td>-1.0</td>\n",
       "      <td>-1.0</td>\n",
       "      <td>0.0</td>\n",
       "    </tr>\n",
       "    <tr>\n",
       "      <th>x2</th>\n",
       "      <td>0.0</td>\n",
       "      <td>1.0</td>\n",
       "      <td>0.0</td>\n",
       "      <td>-1.0</td>\n",
       "      <td>0.0</td>\n",
       "    </tr>\n",
       "    <tr>\n",
       "      <th>C - Z</th>\n",
       "      <td>0.0</td>\n",
       "      <td>0.0</td>\n",
       "      <td>1.0</td>\n",
       "      <td>2.0</td>\n",
       "      <td>0.0</td>\n",
       "    </tr>\n",
       "  </tbody>\n",
       "</table>\n",
       "</div>"
      ],
      "text/plain": [
       "        x1   x2   t1   t2  RHS\n",
       "x1     1.0  0.0 -1.0 -1.0  0.0\n",
       "x2     0.0  1.0  0.0 -1.0  0.0\n",
       "C - Z  0.0  0.0  1.0  2.0  0.0"
      ]
     },
     "metadata": {},
     "output_type": "display_data"
    },
    {
     "name": "stdout",
     "output_type": "stream",
     "text": [
      "\n",
      "=== RESULT ===\n",
      "Status: unbounded\n",
      "Objective value: inf\n",
      "Solution: {}\n",
      "Iterations: 2\n"
     ]
    }
   ],
   "source": [
    "\n",
    "# Maximize z = x1 + x2\n",
    "# s.t.\n",
    "#    x1 - x2 >= 0\n",
    "#          x2 >= 0\n",
    "# (No upper bound on x1, so objective tends to infinity)\n",
    "sense = 'max'\n",
    "c = [1, 1]\n",
    "A = [\n",
    "    [1, -1],\n",
    "    [0,  1],\n",
    "]\n",
    "b = [0, 0]\n",
    "cons = ['>=', '>=']\n",
    "\n",
    "Mode = 'TwoPhase'\n",
    "\n",
    "run_and_show(sense, c, A, b, cons, Mode, M=1e5)\n"
   ]
  }
 ],
 "metadata": {
  "kernelspec": {
   "display_name": "Python 3",
   "language": "python",
   "name": "python3"
  },
  "language_info": {
   "codemirror_mode": {
    "name": "ipython",
    "version": 3
   },
   "file_extension": ".py",
   "mimetype": "text/x-python",
   "name": "python",
   "nbconvert_exporter": "python",
   "pygments_lexer": "ipython3",
   "version": "3.13.5"
  }
 },
 "nbformat": 4,
 "nbformat_minor": 5
}
